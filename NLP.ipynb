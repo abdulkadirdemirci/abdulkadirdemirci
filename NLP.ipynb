{
  "nbformat": 4,
  "nbformat_minor": 0,
  "metadata": {
    "colab": {
      "provenance": [],
      "toc_visible": true,
      "mount_file_id": "1BVVdt_9eMNGERC3CsuAyJmogr7J8E8h6",
      "authorship_tag": "ABX9TyOQjbrTzetEmRPkglFw4OJz",
      "include_colab_link": true
    },
    "kernelspec": {
      "name": "python3",
      "display_name": "Python 3"
    },
    "language_info": {
      "name": "python"
    }
  },
  "cells": [
    {
      "cell_type": "markdown",
      "metadata": {
        "id": "view-in-github",
        "colab_type": "text"
      },
      "source": [
        "<a href=\"https://colab.research.google.com/github/abdulkadirdemirci/abdulkadirdemirci/blob/main/NLP.ipynb\" target=\"_parent\"><img src=\"https://colab.research.google.com/assets/colab-badge.svg\" alt=\"Open In Colab\"/></a>"
      ]
    },
    {
      "cell_type": "markdown",
      "source": [
        "# BASIT STRING İSLEMLERİ"
      ],
      "metadata": {
        "id": "XK2-HUbvzV2V"
      }
    },
    {
      "cell_type": "code",
      "source": [
        "isim=\"abdulkadir demirci\""
      ],
      "metadata": {
        "id": "zntbKbikbTIw"
      },
      "execution_count": 5,
      "outputs": []
    },
    {
      "cell_type": "code",
      "source": [
        "isim*2"
      ],
      "metadata": {
        "colab": {
          "base_uri": "https://localhost:8080/",
          "height": 36
        },
        "id": "HV1xz2efzf8a",
        "outputId": "14766c4b-6f7b-4508-dac4-52856c71dae8"
      },
      "execution_count": 6,
      "outputs": [
        {
          "output_type": "execute_result",
          "data": {
            "text/plain": [
              "'abdulkadir demirciabdulkadir demirci'"
            ],
            "application/vnd.google.colaboratory.intrinsic+json": {
              "type": "string"
            }
          },
          "metadata": {},
          "execution_count": 6
        }
      ]
    },
    {
      "cell_type": "code",
      "source": [
        "isim + \"istanbul\""
      ],
      "metadata": {
        "colab": {
          "base_uri": "https://localhost:8080/",
          "height": 36
        },
        "id": "EEDM5pL8zijP",
        "outputId": "ac466df1-5727-4ee8-877d-6edce81ec415"
      },
      "execution_count": 7,
      "outputs": [
        {
          "output_type": "execute_result",
          "data": {
            "text/plain": [
              "'abdulkadir demirciistanbul'"
            ],
            "application/vnd.google.colaboratory.intrinsic+json": {
              "type": "string"
            }
          },
          "metadata": {},
          "execution_count": 7
        }
      ]
    },
    {
      "cell_type": "code",
      "source": [
        "\"O\"+isim[2:]"
      ],
      "metadata": {
        "colab": {
          "base_uri": "https://localhost:8080/",
          "height": 36
        },
        "id": "GmFGePyGzrMA",
        "outputId": "f548bcb1-bb5c-4c04-a0f7-a9cc5501917b"
      },
      "execution_count": 12,
      "outputs": [
        {
          "output_type": "execute_result",
          "data": {
            "text/plain": [
              "'Odulkadir demirci'"
            ],
            "application/vnd.google.colaboratory.intrinsic+json": {
              "type": "string"
            }
          },
          "metadata": {},
          "execution_count": 12
        }
      ]
    },
    {
      "cell_type": "code",
      "source": [
        "isim[2:]"
      ],
      "metadata": {
        "colab": {
          "base_uri": "https://localhost:8080/",
          "height": 36
        },
        "id": "_4duPx0Lzy21",
        "outputId": "304dfc66-953e-426c-f453-4d91c9230c50"
      },
      "execution_count": 13,
      "outputs": [
        {
          "output_type": "execute_result",
          "data": {
            "text/plain": [
              "'dulkadir demirci'"
            ],
            "application/vnd.google.colaboratory.intrinsic+json": {
              "type": "string"
            }
          },
          "metadata": {},
          "execution_count": 13
        }
      ]
    },
    {
      "cell_type": "code",
      "source": [
        "isimler=[\"ali\",\"veli\",\"ayse\"]\n",
        "for i in isimler:\n",
        "  print(\"isim:\",i,sep=\"===\")"
      ],
      "metadata": {
        "colab": {
          "base_uri": "https://localhost:8080/"
        },
        "id": "CUEX4zY2z9OD",
        "outputId": "9ed85b50-8606-43dc-af7c-dfa265b4e630"
      },
      "execution_count": 15,
      "outputs": [
        {
          "output_type": "stream",
          "name": "stdout",
          "text": [
            "isim:===ali\n",
            "isim:===veli\n",
            "isim:===ayse\n"
          ]
        }
      ]
    },
    {
      "cell_type": "code",
      "source": [
        "for i in isimler:\n",
        "  print(\"_\"+i[0:])"
      ],
      "metadata": {
        "colab": {
          "base_uri": "https://localhost:8080/"
        },
        "id": "EwsMCLWT0CVv",
        "outputId": "b7eab5dc-8e6c-4d54-8f8b-3185e8541c91"
      },
      "execution_count": 16,
      "outputs": [
        {
          "output_type": "stream",
          "name": "stdout",
          "text": [
            "_ali\n",
            "_veli\n",
            "_ayse\n"
          ]
        }
      ]
    },
    {
      "cell_type": "markdown",
      "source": [
        "## Numaralandırma fonksiyonu (*enumerate() kralının kullanımı*)"
      ],
      "metadata": {
        "id": "qqkZ8jAl0tTV"
      }
    },
    {
      "cell_type": "markdown",
      "source": [
        "enumerate() nonetype object oluşturur. bu yüzden çıktısını gözlemlemek için list() fonk. kullanılabilir."
      ],
      "metadata": {
        "id": "-OgAsmnC1TaL"
      }
    },
    {
      "cell_type": "code",
      "source": [
        "print(list(enumerate(isimler)))"
      ],
      "metadata": {
        "colab": {
          "base_uri": "https://localhost:8080/"
        },
        "id": "jk4ubZSs0nGt",
        "outputId": "f82a70f7-9245-4105-cfb9-604eda086ac8"
      },
      "execution_count": 20,
      "outputs": [
        {
          "output_type": "stream",
          "name": "stdout",
          "text": [
            "[(0, 'ali'), (1, 'veli'), (2, 'ayse')]\n"
          ]
        }
      ]
    },
    {
      "cell_type": "code",
      "source": [
        "print(*enumerate(isimler))"
      ],
      "metadata": {
        "colab": {
          "base_uri": "https://localhost:8080/"
        },
        "id": "Z_WXOE2_0nB0",
        "outputId": "0d2cfea5-f0a3-49b4-f8d4-b970f07557db"
      },
      "execution_count": 25,
      "outputs": [
        {
          "output_type": "stream",
          "name": "stdout",
          "text": [
            "(0, 'ali') (1, 'veli') (2, 'ayse')\n"
          ]
        }
      ]
    },
    {
      "cell_type": "code",
      "source": [
        "for i in enumerate(isimler):\n",
        "  print(i)"
      ],
      "metadata": {
        "colab": {
          "base_uri": "https://localhost:8080/"
        },
        "id": "pwBunsf-0m9k",
        "outputId": "b1759958-12b6-434d-8b9c-9fd362445f6e"
      },
      "execution_count": 26,
      "outputs": [
        {
          "output_type": "stream",
          "name": "stdout",
          "text": [
            "(0, 'ali')\n",
            "(1, 'veli')\n",
            "(2, 'ayse')\n"
          ]
        }
      ]
    },
    {
      "cell_type": "code",
      "source": [
        "for i in enumerate(\"isimler\",45):\n",
        "  print(i)"
      ],
      "metadata": {
        "colab": {
          "base_uri": "https://localhost:8080/"
        },
        "id": "YgQursRY0m3j",
        "outputId": "c5ffdcbb-2f61-4537-a331-b413a62fc0b1"
      },
      "execution_count": 28,
      "outputs": [
        {
          "output_type": "stream",
          "name": "stdout",
          "text": [
            "(45, 'i')\n",
            "(46, 's')\n",
            "(47, 'i')\n",
            "(48, 'm')\n",
            "(49, 'l')\n",
            "(50, 'e')\n",
            "(51, 'r')\n"
          ]
        }
      ]
    },
    {
      "cell_type": "markdown",
      "source": [
        "## Dizi İçi Tip Sorgulama"
      ],
      "metadata": {
        "id": "SyW8NIE5674p"
      }
    },
    {
      "cell_type": "markdown",
      "source": [
        "alfabetik mi sayısal mı yoksa hem alfa. hem de sayısal mı"
      ],
      "metadata": {
        "id": "MGmtJIbE7HXm"
      }
    },
    {
      "cell_type": "code",
      "source": [
        "\"abdulkadirdemirci\".isalpha()"
      ],
      "metadata": {
        "colab": {
          "base_uri": "https://localhost:8080/"
        },
        "id": "eJt-RVf50CQ3",
        "outputId": "ae61f17f-cb9f-475d-9da1-d4e9b1dfc418"
      },
      "execution_count": 30,
      "outputs": [
        {
          "output_type": "execute_result",
          "data": {
            "text/plain": [
              "True"
            ]
          },
          "metadata": {},
          "execution_count": 30
        }
      ]
    },
    {
      "cell_type": "code",
      "source": [
        "\"4j4j4j4j4j\".isalnum()   # alfa-numerak hemsayı hem harf"
      ],
      "metadata": {
        "colab": {
          "base_uri": "https://localhost:8080/"
        },
        "id": "Zrgt30yZ0CM4",
        "outputId": "9dac3a42-6371-45c7-924a-00b03ae699e0"
      },
      "execution_count": 31,
      "outputs": [
        {
          "output_type": "execute_result",
          "data": {
            "text/plain": [
              "True"
            ]
          },
          "metadata": {},
          "execution_count": 31
        }
      ]
    },
    {
      "cell_type": "code",
      "source": [
        "\"34343\".isdecimal()"
      ],
      "metadata": {
        "colab": {
          "base_uri": "https://localhost:8080/"
        },
        "id": "wisz1Jsj67kk",
        "outputId": "0d90c700-ca48-4839-ec15-496ad301ce8f"
      },
      "execution_count": 32,
      "outputs": [
        {
          "output_type": "execute_result",
          "data": {
            "text/plain": [
              "True"
            ]
          },
          "metadata": {},
          "execution_count": 32
        }
      ]
    },
    {
      "cell_type": "code",
      "source": [
        "\"frfrf\".isdigit()"
      ],
      "metadata": {
        "colab": {
          "base_uri": "https://localhost:8080/"
        },
        "id": "2vbxnAM767dQ",
        "outputId": "b12397bd-6e91-48bb-fad1-3996dc21d944"
      },
      "execution_count": 33,
      "outputs": [
        {
          "output_type": "execute_result",
          "data": {
            "text/plain": [
              "False"
            ]
          },
          "metadata": {},
          "execution_count": 33
        }
      ]
    },
    {
      "cell_type": "code",
      "source": [
        "\"222\".isdigit()"
      ],
      "metadata": {
        "colab": {
          "base_uri": "https://localhost:8080/"
        },
        "id": "DGxcuhAt67UM",
        "outputId": "c8eb5483-31bc-4199-9200-581e2148e9a0"
      },
      "execution_count": 34,
      "outputs": [
        {
          "output_type": "execute_result",
          "data": {
            "text/plain": [
              "True"
            ]
          },
          "metadata": {},
          "execution_count": 34
        }
      ]
    },
    {
      "cell_type": "code",
      "source": [
        "\"kj23\".isascii()"
      ],
      "metadata": {
        "colab": {
          "base_uri": "https://localhost:8080/"
        },
        "id": "W__Vhh7t67Jy",
        "outputId": "132b90f4-6553-4f2f-d4d8-0a1a984f62d4"
      },
      "execution_count": 35,
      "outputs": [
        {
          "output_type": "execute_result",
          "data": {
            "text/plain": [
              "True"
            ]
          },
          "metadata": {},
          "execution_count": 35
        }
      ]
    },
    {
      "cell_type": "code",
      "source": [
        "\"Ğ\".isascii()"
      ],
      "metadata": {
        "colab": {
          "base_uri": "https://localhost:8080/"
        },
        "id": "0xMnhaOG67Ew",
        "outputId": "3da572be-ffd0-4041-9321-2cd7041b8216"
      },
      "execution_count": 36,
      "outputs": [
        {
          "output_type": "execute_result",
          "data": {
            "text/plain": [
              "False"
            ]
          },
          "metadata": {},
          "execution_count": 36
        }
      ]
    },
    {
      "cell_type": "code",
      "source": [
        "\"alsdkaıı\".isidentifier()"
      ],
      "metadata": {
        "colab": {
          "base_uri": "https://localhost:8080/"
        },
        "id": "nSH1SWLA67AZ",
        "outputId": "63542858-3046-4916-abed-bb51e9904158"
      },
      "execution_count": 37,
      "outputs": [
        {
          "output_type": "execute_result",
          "data": {
            "text/plain": [
              "True"
            ]
          },
          "metadata": {},
          "execution_count": 37
        }
      ]
    },
    {
      "cell_type": "markdown",
      "source": [
        "## Elemanlara ve Eleman İndexlarine Ulaşmak"
      ],
      "metadata": {
        "id": "iwRd9hUp8PLu"
      }
    },
    {
      "cell_type": "code",
      "source": [
        "isim=\"abdulkadirdemirci\""
      ],
      "metadata": {
        "id": "vKK2z0za668Z"
      },
      "execution_count": 38,
      "outputs": []
    },
    {
      "cell_type": "code",
      "source": [
        "isim.index(\"l\")"
      ],
      "metadata": {
        "colab": {
          "base_uri": "https://localhost:8080/"
        },
        "id": "6AlnACFpFI47",
        "outputId": "342e67ed-3446-4b2f-abf2-8cb2328f283f"
      },
      "execution_count": 39,
      "outputs": [
        {
          "output_type": "execute_result",
          "data": {
            "text/plain": [
              "4"
            ]
          },
          "metadata": {},
          "execution_count": 39
        }
      ]
    },
    {
      "cell_type": "code",
      "source": [
        "isim[2:9]"
      ],
      "metadata": {
        "colab": {
          "base_uri": "https://localhost:8080/",
          "height": 36
        },
        "id": "XQo44tAnFI1B",
        "outputId": "b412d8fe-6546-4441-daae-a2f97311ea9e"
      },
      "execution_count": 40,
      "outputs": [
        {
          "output_type": "execute_result",
          "data": {
            "text/plain": [
              "'dulkadi'"
            ],
            "application/vnd.google.colaboratory.intrinsic+json": {
              "type": "string"
            }
          },
          "metadata": {},
          "execution_count": 40
        }
      ]
    },
    {
      "cell_type": "code",
      "source": [
        "isim.index(\"i\",)\n",
        "isim.index(\"i\",9)"
      ],
      "metadata": {
        "colab": {
          "base_uri": "https://localhost:8080/"
        },
        "id": "SFs59vXpFK8u",
        "outputId": "a153773f-3a2d-4532-f1b2-5499d32a8cff"
      },
      "execution_count": 42,
      "outputs": [
        {
          "output_type": "execute_result",
          "data": {
            "text/plain": [
              "13"
            ]
          },
          "metadata": {},
          "execution_count": 42
        }
      ]
    },
    {
      "cell_type": "code",
      "source": [
        "isim.startswith(\"a\")"
      ],
      "metadata": {
        "colab": {
          "base_uri": "https://localhost:8080/"
        },
        "id": "DvmFqDDnFK2H",
        "outputId": "d87a279e-234c-4bc7-a110-097097ef44b3"
      },
      "execution_count": 43,
      "outputs": [
        {
          "output_type": "execute_result",
          "data": {
            "text/plain": [
              "True"
            ]
          },
          "metadata": {},
          "execution_count": 43
        }
      ]
    },
    {
      "cell_type": "code",
      "source": [
        "isim.endswith(\"i\")"
      ],
      "metadata": {
        "colab": {
          "base_uri": "https://localhost:8080/"
        },
        "id": "D7u9mUE_FKyr",
        "outputId": "c2939a7d-c0eb-4806-93c0-a07ed2ee3bd8"
      },
      "execution_count": 44,
      "outputs": [
        {
          "output_type": "execute_result",
          "data": {
            "text/plain": [
              "True"
            ]
          },
          "metadata": {},
          "execution_count": 44
        }
      ]
    },
    {
      "cell_type": "markdown",
      "source": [
        "## Eleman Saydırma"
      ],
      "metadata": {
        "id": "GizrzrEhF1Ul"
      }
    },
    {
      "cell_type": "code",
      "source": [
        "isim.count(\"i\")"
      ],
      "metadata": {
        "colab": {
          "base_uri": "https://localhost:8080/"
        },
        "id": "KUW-3Sb1FKaM",
        "outputId": "ef3807a5-da9a-4e3b-d532-08a14992bb6e"
      },
      "execution_count": 45,
      "outputs": [
        {
          "output_type": "execute_result",
          "data": {
            "text/plain": [
              "3"
            ]
          },
          "metadata": {},
          "execution_count": 45
        }
      ]
    },
    {
      "cell_type": "code",
      "source": [
        "sorted(isim)"
      ],
      "metadata": {
        "id": "-5vztN9aFKV9"
      },
      "execution_count": null,
      "outputs": []
    },
    {
      "cell_type": "code",
      "source": [
        "type(print(*sorted(isim),sep=\"\"))"
      ],
      "metadata": {
        "colab": {
          "base_uri": "https://localhost:8080/"
        },
        "id": "PtLvxw9QFKRk",
        "outputId": "1ee7a7ec-b091-4e26-81da-5d882e2fcebe"
      },
      "execution_count": 52,
      "outputs": [
        {
          "output_type": "stream",
          "name": "stdout",
          "text": [
            "aabcdddeiiiklmrru\n"
          ]
        },
        {
          "output_type": "execute_result",
          "data": {
            "text/plain": [
              "NoneType"
            ]
          },
          "metadata": {},
          "execution_count": 52
        }
      ]
    },
    {
      "cell_type": "code",
      "source": [
        "type(print(sorted(isim),sep=\"\"))"
      ],
      "metadata": {
        "colab": {
          "base_uri": "https://localhost:8080/"
        },
        "id": "XePE4wNGFzaV",
        "outputId": "e5dae7ef-2399-486b-8f9c-8e836199f2e5"
      },
      "execution_count": 54,
      "outputs": [
        {
          "output_type": "stream",
          "name": "stdout",
          "text": [
            "['a', 'a', 'b', 'c', 'd', 'd', 'd', 'e', 'i', 'i', 'i', 'k', 'l', 'm', 'r', 'r', 'u']\n"
          ]
        },
        {
          "output_type": "execute_result",
          "data": {
            "text/plain": [
              "NoneType"
            ]
          },
          "metadata": {},
          "execution_count": 54
        }
      ]
    },
    {
      "cell_type": "markdown",
      "source": [
        "## Karakterleri Bölmek"
      ],
      "metadata": {
        "id": "p1QnskM6GkUj"
      }
    },
    {
      "cell_type": "code",
      "source": [
        "isim=\"abdulkadir demirci\""
      ],
      "metadata": {
        "id": "0wHJzSonFzNr"
      },
      "execution_count": 59,
      "outputs": []
    },
    {
      "cell_type": "code",
      "source": [
        "isim.split()"
      ],
      "metadata": {
        "colab": {
          "base_uri": "https://localhost:8080/"
        },
        "id": "q8faMqQ1FzBF",
        "outputId": "3a8d5b34-1276-4e72-e9bf-3ab0740f5668"
      },
      "execution_count": 60,
      "outputs": [
        {
          "output_type": "execute_result",
          "data": {
            "text/plain": [
              "['abdulkadir', 'demirci']"
            ]
          },
          "metadata": {},
          "execution_count": 60
        }
      ]
    },
    {
      "cell_type": "code",
      "source": [
        "isim=\"abdulkadir_demirci\""
      ],
      "metadata": {
        "id": "r9ICpzldFys9"
      },
      "execution_count": null,
      "outputs": []
    },
    {
      "cell_type": "code",
      "source": [
        "isim.split(\"_\")"
      ],
      "metadata": {
        "colab": {
          "base_uri": "https://localhost:8080/"
        },
        "id": "5qDGechZFypi",
        "outputId": "2e89f966-9357-4b26-de54-9f18202f205b"
      },
      "execution_count": 61,
      "outputs": [
        {
          "output_type": "execute_result",
          "data": {
            "text/plain": [
              "['abdulkadir demirci']"
            ]
          },
          "metadata": {},
          "execution_count": 61
        }
      ]
    },
    {
      "cell_type": "markdown",
      "source": [
        "## Büyük Küçük Harf İşlemleri"
      ],
      "metadata": {
        "id": "mg5g6LsfKtVM"
      }
    },
    {
      "cell_type": "code",
      "source": [
        "isim.upper()"
      ],
      "metadata": {
        "colab": {
          "base_uri": "https://localhost:8080/",
          "height": 36
        },
        "id": "nM3UZ-0cFymb",
        "outputId": "8ae76ecc-4547-4da8-e290-028f9da71389"
      },
      "execution_count": 62,
      "outputs": [
        {
          "output_type": "execute_result",
          "data": {
            "text/plain": [
              "'ABDULKADIR DEMIRCI'"
            ],
            "application/vnd.google.colaboratory.intrinsic+json": {
              "type": "string"
            }
          },
          "metadata": {},
          "execution_count": 62
        }
      ]
    },
    {
      "cell_type": "code",
      "source": [
        "isim.lower()"
      ],
      "metadata": {
        "colab": {
          "base_uri": "https://localhost:8080/",
          "height": 36
        },
        "id": "hZrwwj_QFyiw",
        "outputId": "bb0af175-0af7-4907-f63a-9311839fc088"
      },
      "execution_count": 63,
      "outputs": [
        {
          "output_type": "execute_result",
          "data": {
            "text/plain": [
              "'abdulkadir demirci'"
            ],
            "application/vnd.google.colaboratory.intrinsic+json": {
              "type": "string"
            }
          },
          "metadata": {},
          "execution_count": 63
        }
      ]
    },
    {
      "cell_type": "code",
      "source": [
        "isim_b=isim.upper()"
      ],
      "metadata": {
        "id": "GEUCH_b-Fydg"
      },
      "execution_count": 64,
      "outputs": []
    },
    {
      "cell_type": "code",
      "source": [
        "isim_b.isupper()"
      ],
      "metadata": {
        "colab": {
          "base_uri": "https://localhost:8080/"
        },
        "id": "aRmxRxjvFyab",
        "outputId": "1efe73d4-c38c-4bc4-9a3b-60904ebae479"
      },
      "execution_count": 66,
      "outputs": [
        {
          "output_type": "execute_result",
          "data": {
            "text/plain": [
              "True"
            ]
          },
          "metadata": {},
          "execution_count": 66
        }
      ]
    },
    {
      "cell_type": "markdown",
      "source": [
        "### capitalize"
      ],
      "metadata": {
        "id": "uiOESUCKLSJh"
      }
    },
    {
      "cell_type": "code",
      "source": [
        "isim.capitalize()"
      ],
      "metadata": {
        "colab": {
          "base_uri": "https://localhost:8080/",
          "height": 36
        },
        "id": "5vyNkYjQLEQO",
        "outputId": "ff3e9a10-541a-4fc4-8c92-354c0b5ab38f"
      },
      "execution_count": 67,
      "outputs": [
        {
          "output_type": "execute_result",
          "data": {
            "text/plain": [
              "'Abdulkadir demirci'"
            ],
            "application/vnd.google.colaboratory.intrinsic+json": {
              "type": "string"
            }
          },
          "metadata": {},
          "execution_count": 67
        }
      ]
    },
    {
      "cell_type": "markdown",
      "source": [
        "### title"
      ],
      "metadata": {
        "id": "ESJghLQcLZ8p"
      }
    },
    {
      "cell_type": "code",
      "source": [
        "isim.title()"
      ],
      "metadata": {
        "colab": {
          "base_uri": "https://localhost:8080/",
          "height": 36
        },
        "id": "hd4yhUlyLXk7",
        "outputId": "89b88973-c5ce-4410-8aae-a3d55ff2e572"
      },
      "execution_count": 69,
      "outputs": [
        {
          "output_type": "execute_result",
          "data": {
            "text/plain": [
              "'Abdulkadir Demirci'"
            ],
            "application/vnd.google.colaboratory.intrinsic+json": {
              "type": "string"
            }
          },
          "metadata": {},
          "execution_count": 69
        }
      ]
    },
    {
      "cell_type": "code",
      "source": [],
      "metadata": {
        "id": "9ww76qAvLcii"
      },
      "execution_count": null,
      "outputs": []
    },
    {
      "cell_type": "markdown",
      "source": [
        "### swapcase"
      ],
      "metadata": {
        "id": "7n5J2M4qLep7"
      }
    },
    {
      "cell_type": "code",
      "source": [
        "isim=\"mustafa VAHİT keskin SDDFK  lkdşls\""
      ],
      "metadata": {
        "id": "PTBrUrvtLg69"
      },
      "execution_count": 70,
      "outputs": []
    },
    {
      "cell_type": "code",
      "source": [],
      "metadata": {
        "id": "4PGVP6TBL8C2"
      },
      "execution_count": null,
      "outputs": []
    },
    {
      "cell_type": "code",
      "source": [
        "isim.swapcase()"
      ],
      "metadata": {
        "colab": {
          "base_uri": "https://localhost:8080/",
          "height": 36
        },
        "id": "DPgs-K1wLpBR",
        "outputId": "d6012e3a-1926-4c60-b283-2a9a055b5f6d"
      },
      "execution_count": 71,
      "outputs": [
        {
          "output_type": "execute_result",
          "data": {
            "text/plain": [
              "'MUSTAFA vahi̇t KESKIN sddfk  LKDŞLS'"
            ],
            "application/vnd.google.colaboratory.intrinsic+json": {
              "type": "string"
            }
          },
          "metadata": {},
          "execution_count": 71
        }
      ]
    },
    {
      "cell_type": "markdown",
      "source": [
        "## İstenmeyen Karakterleri Kırpmak"
      ],
      "metadata": {
        "id": "xMnllFJtL4WF"
      }
    },
    {
      "cell_type": "code",
      "source": [
        "isim=\" şhellos \""
      ],
      "metadata": {
        "id": "S6VrnBxOL9Dz"
      },
      "execution_count": 72,
      "outputs": []
    },
    {
      "cell_type": "code",
      "source": [
        "isim.strip()"
      ],
      "metadata": {
        "colab": {
          "base_uri": "https://localhost:8080/",
          "height": 36
        },
        "id": "fRsidBsaL894",
        "outputId": "aeea0c35-804d-4857-d051-9606beb32e62"
      },
      "execution_count": 73,
      "outputs": [
        {
          "output_type": "execute_result",
          "data": {
            "text/plain": [
              "'şhellos'"
            ],
            "application/vnd.google.colaboratory.intrinsic+json": {
              "type": "string"
            }
          },
          "metadata": {},
          "execution_count": 73
        }
      ]
    },
    {
      "cell_type": "code",
      "source": [
        "isim.lstrip(\" ş\")"
      ],
      "metadata": {
        "colab": {
          "base_uri": "https://localhost:8080/",
          "height": 36
        },
        "id": "i1JKrm2fL84w",
        "outputId": "425c7610-2fd6-44a7-c8ec-d27d11578906"
      },
      "execution_count": 74,
      "outputs": [
        {
          "output_type": "execute_result",
          "data": {
            "text/plain": [
              "'hellos '"
            ],
            "application/vnd.google.colaboratory.intrinsic+json": {
              "type": "string"
            }
          },
          "metadata": {},
          "execution_count": 74
        }
      ]
    },
    {
      "cell_type": "code",
      "source": [
        "isim.rstrip(\"s \")"
      ],
      "metadata": {
        "colab": {
          "base_uri": "https://localhost:8080/",
          "height": 36
        },
        "id": "Qf5NHeHUL80j",
        "outputId": "89f8f68a-7021-4306-e504-f5341c0652f0"
      },
      "execution_count": 75,
      "outputs": [
        {
          "output_type": "execute_result",
          "data": {
            "text/plain": [
              "' şhello'"
            ],
            "application/vnd.google.colaboratory.intrinsic+json": {
              "type": "string"
            }
          },
          "metadata": {},
          "execution_count": 75
        }
      ]
    },
    {
      "cell_type": "markdown",
      "source": [
        "## Bölünmüş ya da Zaten Bölük Olan İfadelerin Birleştirilmesi"
      ],
      "metadata": {
        "id": "fq0XFzoaMSgV"
      }
    },
    {
      "cell_type": "markdown",
      "source": [
        "### join()"
      ],
      "metadata": {
        "id": "7rLXou9xMgLH"
      }
    },
    {
      "cell_type": "code",
      "source": [
        "isim=\"asdas asd asd fs d fd f d fd f sdfsdfsd sdşş\""
      ],
      "metadata": {
        "id": "ikJaVegSL8we"
      },
      "execution_count": 76,
      "outputs": []
    },
    {
      "cell_type": "code",
      "source": [
        "ayrik=isim.split()"
      ],
      "metadata": {
        "id": "XqBNPomNL8dX"
      },
      "execution_count": 77,
      "outputs": []
    },
    {
      "cell_type": "code",
      "source": [
        "joiner=\" \""
      ],
      "metadata": {
        "id": "i9tB5KCdLrj3"
      },
      "execution_count": 80,
      "outputs": []
    },
    {
      "cell_type": "code",
      "source": [
        "joiner.join(ayrik)"
      ],
      "metadata": {
        "colab": {
          "base_uri": "https://localhost:8080/",
          "height": 36
        },
        "id": "3i8RneNTNY64",
        "outputId": "01f2ecfe-5b02-4e17-f656-614bab0b7796"
      },
      "execution_count": 81,
      "outputs": [
        {
          "output_type": "execute_result",
          "data": {
            "text/plain": [
              "'asdas asd asd fs d fd f d fd f sdfsdfsd sdşş'"
            ],
            "application/vnd.google.colaboratory.intrinsic+json": {
              "type": "string"
            }
          },
          "metadata": {},
          "execution_count": 81
        }
      ]
    },
    {
      "cell_type": "code",
      "source": [
        "joiner=\"***\""
      ],
      "metadata": {
        "id": "fwCEB7R-Nhvf"
      },
      "execution_count": 83,
      "outputs": []
    },
    {
      "cell_type": "code",
      "source": [
        "joiner.join(ayrik)"
      ],
      "metadata": {
        "colab": {
          "base_uri": "https://localhost:8080/",
          "height": 36
        },
        "id": "X8V1o4F2NpwW",
        "outputId": "ec39ef9a-1400-4cf1-c5a0-16c793ade8e4"
      },
      "execution_count": 84,
      "outputs": [
        {
          "output_type": "execute_result",
          "data": {
            "text/plain": [
              "'asdas***asd***asd***fs***d***fd***f***d***fd***f***sdfsdfsd***sdşş'"
            ],
            "application/vnd.google.colaboratory.intrinsic+json": {
              "type": "string"
            }
          },
          "metadata": {},
          "execution_count": 84
        }
      ]
    },
    {
      "cell_type": "markdown",
      "source": [
        "## Eleman Birleştirme"
      ],
      "metadata": {
        "id": "x1E9EUbuNv-w"
      }
    },
    {
      "cell_type": "markdown",
      "source": [
        "### replace()"
      ],
      "metadata": {
        "id": "G5OfaNMtN0qQ"
      }
    },
    {
      "cell_type": "code",
      "source": [
        "isim"
      ],
      "metadata": {
        "colab": {
          "base_uri": "https://localhost:8080/",
          "height": 36
        },
        "id": "iW7Wb1HoODlW",
        "outputId": "52379b63-1815-4428-e071-a3ab2fe4666a"
      },
      "execution_count": 85,
      "outputs": [
        {
          "output_type": "execute_result",
          "data": {
            "text/plain": [
              "'asdas asd asd fs d fd f d fd f sdfsdfsd sdşş'"
            ],
            "application/vnd.google.colaboratory.intrinsic+json": {
              "type": "string"
            }
          },
          "metadata": {},
          "execution_count": 85
        }
      ]
    },
    {
      "cell_type": "code",
      "source": [
        "isim.replace(\"a\",\"X\")"
      ],
      "metadata": {
        "colab": {
          "base_uri": "https://localhost:8080/",
          "height": 36
        },
        "id": "J5_py-mqOGwq",
        "outputId": "d9f54463-b5c7-4bdd-966a-45714a7bf56d"
      },
      "execution_count": 86,
      "outputs": [
        {
          "output_type": "execute_result",
          "data": {
            "text/plain": [
              "'XsdXs Xsd Xsd fs d fd f d fd f sdfsdfsd sdşş'"
            ],
            "application/vnd.google.colaboratory.intrinsic+json": {
              "type": "string"
            }
          },
          "metadata": {},
          "execution_count": 86
        }
      ]
    },
    {
      "cell_type": "code",
      "source": [
        "isim.replace(\"fd\",\"XXXXX\")"
      ],
      "metadata": {
        "colab": {
          "base_uri": "https://localhost:8080/",
          "height": 36
        },
        "id": "PvMFQqn_OGuD",
        "outputId": "d0b804df-271a-41e9-ce30-b9eaf9a39dc5"
      },
      "execution_count": 87,
      "outputs": [
        {
          "output_type": "execute_result",
          "data": {
            "text/plain": [
              "'asdas asd asd fs d XXXXX f d XXXXX f sdfsdfsd sdşş'"
            ],
            "application/vnd.google.colaboratory.intrinsic+json": {
              "type": "string"
            }
          },
          "metadata": {},
          "execution_count": 87
        }
      ]
    },
    {
      "cell_type": "markdown",
      "source": [
        "### str.maketrans() ve translate()"
      ],
      "metadata": {
        "id": "uXL_8fw_N67B"
      }
    },
    {
      "cell_type": "code",
      "source": [
        "ifade=\"Bu ifade İçerisİnde düzeltilecek tÜrkÇe karakterler vardİr\"\n",
        "düzeltilecek_karakterler=\"çÇğĞıİöÖşŞüÜ\"\n",
        "düzeltilmiş_karakterler=\"cCgGıIoOsSuU\""
      ],
      "metadata": {
        "id": "AZtFIhDWOGlw"
      },
      "execution_count": 92,
      "outputs": []
    },
    {
      "cell_type": "code",
      "source": [
        "alfabe_düzeltme=str.maketrans(düzeltilecek_karakterler,düzeltilmiş_karakterler)"
      ],
      "metadata": {
        "id": "I7Yrm212OGi6"
      },
      "execution_count": 91,
      "outputs": []
    },
    {
      "cell_type": "code",
      "source": [
        "ifade.translate(alfabe_düzeltme)"
      ],
      "metadata": {
        "colab": {
          "base_uri": "https://localhost:8080/",
          "height": 36
        },
        "id": "54eDPiFoOGps",
        "outputId": "8b9e02ca-6ae6-444a-f90d-b1a1a4834b6e"
      },
      "execution_count": 93,
      "outputs": [
        {
          "output_type": "execute_result",
          "data": {
            "text/plain": [
              "'Bu ifade IcerisInde duzeltilecek tUrkCe karakterler vardIr'"
            ],
            "application/vnd.google.colaboratory.intrinsic+json": {
              "type": "string"
            }
          },
          "metadata": {},
          "execution_count": 93
        }
      ]
    },
    {
      "cell_type": "markdown",
      "source": [
        "### contains()"
      ],
      "metadata": {
        "id": "8m9tI5gpOADO"
      }
    },
    {
      "cell_type": "code",
      "source": [
        "import pandas as pd\n",
        "isimler=[\"ayse\",\"Ayse\",\"ali\",\"Aali\",\"aali\",\"AAli\",\"veli\",\"Bberkcan\"]\n",
        "v=pd.Series(isimler)"
      ],
      "metadata": {
        "id": "ykLUFIhJNr74"
      },
      "execution_count": 99,
      "outputs": []
    },
    {
      "cell_type": "code",
      "source": [
        "v.str.contains(\"al\")"
      ],
      "metadata": {
        "colab": {
          "base_uri": "https://localhost:8080/"
        },
        "id": "UyR3FZfITCBp",
        "outputId": "eeb20d0f-4b0e-4b43-c4bb-3537ce9b2165"
      },
      "execution_count": 100,
      "outputs": [
        {
          "output_type": "execute_result",
          "data": {
            "text/plain": [
              "0    False\n",
              "1    False\n",
              "2     True\n",
              "3     True\n",
              "4     True\n",
              "5    False\n",
              "6    False\n",
              "7    False\n",
              "dtype: bool"
            ]
          },
          "metadata": {},
          "execution_count": 100
        }
      ]
    },
    {
      "cell_type": "code",
      "source": [
        "v.str.contains(\"[Aa]li\")"
      ],
      "metadata": {
        "colab": {
          "base_uri": "https://localhost:8080/"
        },
        "id": "xWTOPicITB-L",
        "outputId": "eab0b8c4-4895-40eb-c8b0-b909712cd34e"
      },
      "execution_count": 101,
      "outputs": [
        {
          "output_type": "execute_result",
          "data": {
            "text/plain": [
              "0    False\n",
              "1    False\n",
              "2     True\n",
              "3     True\n",
              "4     True\n",
              "5     True\n",
              "6    False\n",
              "7    False\n",
              "dtype: bool"
            ]
          },
          "metadata": {},
          "execution_count": 101
        }
      ]
    },
    {
      "cell_type": "code",
      "source": [
        "v[v.str.contains(\"[aA]l\")]"
      ],
      "metadata": {
        "colab": {
          "base_uri": "https://localhost:8080/"
        },
        "id": "J3hMh5ZvTB7t",
        "outputId": "19bba847-68da-4a1a-e218-2809552298d2"
      },
      "execution_count": 102,
      "outputs": [
        {
          "output_type": "execute_result",
          "data": {
            "text/plain": [
              "2     ali\n",
              "3    Aali\n",
              "4    aali\n",
              "5    AAli\n",
              "dtype: object"
            ]
          },
          "metadata": {},
          "execution_count": 102
        }
      ]
    },
    {
      "cell_type": "code",
      "source": [
        "v.str.contains(\"[aA]l\").sum()"
      ],
      "metadata": {
        "colab": {
          "base_uri": "https://localhost:8080/"
        },
        "id": "o0hFkg__TB5U",
        "outputId": "3ada385d-7d01-48a4-fbe2-8179a373a1db"
      },
      "execution_count": 103,
      "outputs": [
        {
          "output_type": "execute_result",
          "data": {
            "text/plain": [
              "4"
            ]
          },
          "metadata": {},
          "execution_count": 103
        }
      ]
    }
  ]
}