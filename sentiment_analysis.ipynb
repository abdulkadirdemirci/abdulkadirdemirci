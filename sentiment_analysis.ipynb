{
  "nbformat": 4,
  "nbformat_minor": 0,
  "metadata": {
    "colab": {
      "provenance": [],
      "collapsed_sections": [],
      "toc_visible": true,
      "mount_file_id": "1idmP0uIIw3mBzlXA_7g1Q5wDxWzhnrhl",
      "authorship_tag": "ABX9TyPgPG9okFeqgwt3g7skcahO",
      "include_colab_link": true
    },
    "kernelspec": {
      "name": "python3",
      "display_name": "Python 3"
    },
    "language_info": {
      "name": "python"
    }
  },
  "cells": [
    {
      "cell_type": "markdown",
      "metadata": {
        "id": "view-in-github",
        "colab_type": "text"
      },
      "source": [
        "<a href=\"https://colab.research.google.com/github/abdulkadirdemirci/abdulkadirdemirci/blob/main/sentiment_analysis.ipynb\" target=\"_parent\"><img src=\"https://colab.research.google.com/assets/colab-badge.svg\" alt=\"Open In Colab\"/></a>"
      ]
    },
    {
      "cell_type": "markdown",
      "source": [
        "# sentment analizi ve sınıflandırma modelleri"
      ],
      "metadata": {
        "id": "CTIuTvczZ4eU"
      }
    },
    {
      "cell_type": "markdown",
      "source": [
        "# kütüphaneler"
      ],
      "metadata": {
        "id": "yZzmepdrZ2QI"
      }
    },
    {
      "cell_type": "code",
      "execution_count": 18,
      "metadata": {
        "id": "fAyLyPPJYEqI"
      },
      "outputs": [],
      "source": [
        "from textblob import TextBlob\n",
        "from sklearn import model_selection,preprocessing,linear_model,naive_bayes,metrics\n",
        "from sklearn.feature_extraction.text import TfidfVectorizer,CountVectorizer\n",
        "from sklearn import decomposition, ensemble\n",
        "\n",
        "import pandas ,xgboost,numpy,textblob,string\n",
        "from keras.preprocessing import text,sequence\n",
        "from keras import layers,models,optimizers"
      ]
    },
    {
      "cell_type": "code",
      "source": [
        "import pandas as pd\n",
        "data1=pd.read_csv(\"/content/drive/MyDrive/veriler/metin_madenciligi/train.tsv\",sep=\"\\t\")\n",
        "data1.head()"
      ],
      "metadata": {
        "colab": {
          "base_uri": "https://localhost:8080/",
          "height": 206
        },
        "id": "SDE9DpSXYNKs",
        "outputId": "c90dff2e-0ca2-48a4-b89d-7c7d5cce7df3"
      },
      "execution_count": 4,
      "outputs": [
        {
          "output_type": "execute_result",
          "data": {
            "text/plain": [
              "   PhraseId  SentenceId                                             Phrase  \\\n",
              "0         1           1  A series of escapades demonstrating the adage ...   \n",
              "1         2           1  A series of escapades demonstrating the adage ...   \n",
              "2         3           1                                           A series   \n",
              "3         4           1                                                  A   \n",
              "4         5           1                                             series   \n",
              "\n",
              "   Sentiment  \n",
              "0          1  \n",
              "1          2  \n",
              "2          2  \n",
              "3          2  \n",
              "4          2  "
            ],
            "text/html": [
              "\n",
              "  <div id=\"df-0cc7a379-cb87-4180-b0bc-cbb531b89340\">\n",
              "    <div class=\"colab-df-container\">\n",
              "      <div>\n",
              "<style scoped>\n",
              "    .dataframe tbody tr th:only-of-type {\n",
              "        vertical-align: middle;\n",
              "    }\n",
              "\n",
              "    .dataframe tbody tr th {\n",
              "        vertical-align: top;\n",
              "    }\n",
              "\n",
              "    .dataframe thead th {\n",
              "        text-align: right;\n",
              "    }\n",
              "</style>\n",
              "<table border=\"1\" class=\"dataframe\">\n",
              "  <thead>\n",
              "    <tr style=\"text-align: right;\">\n",
              "      <th></th>\n",
              "      <th>PhraseId</th>\n",
              "      <th>SentenceId</th>\n",
              "      <th>Phrase</th>\n",
              "      <th>Sentiment</th>\n",
              "    </tr>\n",
              "  </thead>\n",
              "  <tbody>\n",
              "    <tr>\n",
              "      <th>0</th>\n",
              "      <td>1</td>\n",
              "      <td>1</td>\n",
              "      <td>A series of escapades demonstrating the adage ...</td>\n",
              "      <td>1</td>\n",
              "    </tr>\n",
              "    <tr>\n",
              "      <th>1</th>\n",
              "      <td>2</td>\n",
              "      <td>1</td>\n",
              "      <td>A series of escapades demonstrating the adage ...</td>\n",
              "      <td>2</td>\n",
              "    </tr>\n",
              "    <tr>\n",
              "      <th>2</th>\n",
              "      <td>3</td>\n",
              "      <td>1</td>\n",
              "      <td>A series</td>\n",
              "      <td>2</td>\n",
              "    </tr>\n",
              "    <tr>\n",
              "      <th>3</th>\n",
              "      <td>4</td>\n",
              "      <td>1</td>\n",
              "      <td>A</td>\n",
              "      <td>2</td>\n",
              "    </tr>\n",
              "    <tr>\n",
              "      <th>4</th>\n",
              "      <td>5</td>\n",
              "      <td>1</td>\n",
              "      <td>series</td>\n",
              "      <td>2</td>\n",
              "    </tr>\n",
              "  </tbody>\n",
              "</table>\n",
              "</div>\n",
              "      <button class=\"colab-df-convert\" onclick=\"convertToInteractive('df-0cc7a379-cb87-4180-b0bc-cbb531b89340')\"\n",
              "              title=\"Convert this dataframe to an interactive table.\"\n",
              "              style=\"display:none;\">\n",
              "        \n",
              "  <svg xmlns=\"http://www.w3.org/2000/svg\" height=\"24px\"viewBox=\"0 0 24 24\"\n",
              "       width=\"24px\">\n",
              "    <path d=\"M0 0h24v24H0V0z\" fill=\"none\"/>\n",
              "    <path d=\"M18.56 5.44l.94 2.06.94-2.06 2.06-.94-2.06-.94-.94-2.06-.94 2.06-2.06.94zm-11 1L8.5 8.5l.94-2.06 2.06-.94-2.06-.94L8.5 2.5l-.94 2.06-2.06.94zm10 10l.94 2.06.94-2.06 2.06-.94-2.06-.94-.94-2.06-.94 2.06-2.06.94z\"/><path d=\"M17.41 7.96l-1.37-1.37c-.4-.4-.92-.59-1.43-.59-.52 0-1.04.2-1.43.59L10.3 9.45l-7.72 7.72c-.78.78-.78 2.05 0 2.83L4 21.41c.39.39.9.59 1.41.59.51 0 1.02-.2 1.41-.59l7.78-7.78 2.81-2.81c.8-.78.8-2.07 0-2.86zM5.41 20L4 18.59l7.72-7.72 1.47 1.35L5.41 20z\"/>\n",
              "  </svg>\n",
              "      </button>\n",
              "      \n",
              "  <style>\n",
              "    .colab-df-container {\n",
              "      display:flex;\n",
              "      flex-wrap:wrap;\n",
              "      gap: 12px;\n",
              "    }\n",
              "\n",
              "    .colab-df-convert {\n",
              "      background-color: #E8F0FE;\n",
              "      border: none;\n",
              "      border-radius: 50%;\n",
              "      cursor: pointer;\n",
              "      display: none;\n",
              "      fill: #1967D2;\n",
              "      height: 32px;\n",
              "      padding: 0 0 0 0;\n",
              "      width: 32px;\n",
              "    }\n",
              "\n",
              "    .colab-df-convert:hover {\n",
              "      background-color: #E2EBFA;\n",
              "      box-shadow: 0px 1px 2px rgba(60, 64, 67, 0.3), 0px 1px 3px 1px rgba(60, 64, 67, 0.15);\n",
              "      fill: #174EA6;\n",
              "    }\n",
              "\n",
              "    [theme=dark] .colab-df-convert {\n",
              "      background-color: #3B4455;\n",
              "      fill: #D2E3FC;\n",
              "    }\n",
              "\n",
              "    [theme=dark] .colab-df-convert:hover {\n",
              "      background-color: #434B5C;\n",
              "      box-shadow: 0px 1px 3px 1px rgba(0, 0, 0, 0.15);\n",
              "      filter: drop-shadow(0px 1px 2px rgba(0, 0, 0, 0.3));\n",
              "      fill: #FFFFFF;\n",
              "    }\n",
              "  </style>\n",
              "\n",
              "      <script>\n",
              "        const buttonEl =\n",
              "          document.querySelector('#df-0cc7a379-cb87-4180-b0bc-cbb531b89340 button.colab-df-convert');\n",
              "        buttonEl.style.display =\n",
              "          google.colab.kernel.accessAllowed ? 'block' : 'none';\n",
              "\n",
              "        async function convertToInteractive(key) {\n",
              "          const element = document.querySelector('#df-0cc7a379-cb87-4180-b0bc-cbb531b89340');\n",
              "          const dataTable =\n",
              "            await google.colab.kernel.invokeFunction('convertToInteractive',\n",
              "                                                     [key], {});\n",
              "          if (!dataTable) return;\n",
              "\n",
              "          const docLinkHtml = 'Like what you see? Visit the ' +\n",
              "            '<a target=\"_blank\" href=https://colab.research.google.com/notebooks/data_table.ipynb>data table notebook</a>'\n",
              "            + ' to learn more about interactive tables.';\n",
              "          element.innerHTML = '';\n",
              "          dataTable['output_type'] = 'display_data';\n",
              "          await google.colab.output.renderOutput(dataTable, element);\n",
              "          const docLink = document.createElement('div');\n",
              "          docLink.innerHTML = docLinkHtml;\n",
              "          element.appendChild(docLink);\n",
              "        }\n",
              "      </script>\n",
              "    </div>\n",
              "  </div>\n",
              "  "
            ]
          },
          "metadata": {},
          "execution_count": 4
        }
      ]
    },
    {
      "cell_type": "markdown",
      "source": [
        "sentiment bir etiket ama biz mevcut olanları görmezden gelicez çünkü biz binary sınıflandırma yapıcaz. mevcut veride 01234 seklinde etiketlenmiş 0-1 negatif yorumlar 2 orta 3-4 ise pozitif yorumlar, biz 0-1 neg. 3-4 pozi. alıcaz 2 olanları silicez"
      ],
      "metadata": {
        "id": "CW4uM_4SYQDb"
      }
    },
    {
      "cell_type": "code",
      "source": [
        "data1[\"Sentiment\"].replace(0,\"negatif\",inplace=True)\n",
        "data1[\"Sentiment\"].replace(1,\"negatif\",inplace=True)\n",
        "\n",
        "data1[\"Sentiment\"].replace(3,\"pozitif\",inplace=True)\n",
        "data1[\"Sentiment\"].replace(4,\"pozitif\",inplace=True)\n",
        "\n",
        "data1=data1[ (data1.Sentiment==\"pozitif\") | (data1.Sentiment==\"negatif\") ]\n",
        "data1.head()"
      ],
      "metadata": {
        "colab": {
          "base_uri": "https://localhost:8080/",
          "height": 206
        },
        "id": "mgLlUCb4YRmH",
        "outputId": "a972f784-8704-4aba-ecf7-c13ab52997a4"
      },
      "execution_count": 5,
      "outputs": [
        {
          "output_type": "execute_result",
          "data": {
            "text/plain": [
              "    PhraseId  SentenceId                                             Phrase  \\\n",
              "0          1           1  A series of escapades demonstrating the adage ...   \n",
              "21        22           1                                 good for the goose   \n",
              "22        23           1                                               good   \n",
              "33        34           1  the gander , some of which occasionally amuses...   \n",
              "46        47           1                                             amuses   \n",
              "\n",
              "   Sentiment  \n",
              "0    negatif  \n",
              "21   pozitif  \n",
              "22   pozitif  \n",
              "33   negatif  \n",
              "46   pozitif  "
            ],
            "text/html": [
              "\n",
              "  <div id=\"df-b9993249-52c2-4a03-b60a-3ce3967cb190\">\n",
              "    <div class=\"colab-df-container\">\n",
              "      <div>\n",
              "<style scoped>\n",
              "    .dataframe tbody tr th:only-of-type {\n",
              "        vertical-align: middle;\n",
              "    }\n",
              "\n",
              "    .dataframe tbody tr th {\n",
              "        vertical-align: top;\n",
              "    }\n",
              "\n",
              "    .dataframe thead th {\n",
              "        text-align: right;\n",
              "    }\n",
              "</style>\n",
              "<table border=\"1\" class=\"dataframe\">\n",
              "  <thead>\n",
              "    <tr style=\"text-align: right;\">\n",
              "      <th></th>\n",
              "      <th>PhraseId</th>\n",
              "      <th>SentenceId</th>\n",
              "      <th>Phrase</th>\n",
              "      <th>Sentiment</th>\n",
              "    </tr>\n",
              "  </thead>\n",
              "  <tbody>\n",
              "    <tr>\n",
              "      <th>0</th>\n",
              "      <td>1</td>\n",
              "      <td>1</td>\n",
              "      <td>A series of escapades demonstrating the adage ...</td>\n",
              "      <td>negatif</td>\n",
              "    </tr>\n",
              "    <tr>\n",
              "      <th>21</th>\n",
              "      <td>22</td>\n",
              "      <td>1</td>\n",
              "      <td>good for the goose</td>\n",
              "      <td>pozitif</td>\n",
              "    </tr>\n",
              "    <tr>\n",
              "      <th>22</th>\n",
              "      <td>23</td>\n",
              "      <td>1</td>\n",
              "      <td>good</td>\n",
              "      <td>pozitif</td>\n",
              "    </tr>\n",
              "    <tr>\n",
              "      <th>33</th>\n",
              "      <td>34</td>\n",
              "      <td>1</td>\n",
              "      <td>the gander , some of which occasionally amuses...</td>\n",
              "      <td>negatif</td>\n",
              "    </tr>\n",
              "    <tr>\n",
              "      <th>46</th>\n",
              "      <td>47</td>\n",
              "      <td>1</td>\n",
              "      <td>amuses</td>\n",
              "      <td>pozitif</td>\n",
              "    </tr>\n",
              "  </tbody>\n",
              "</table>\n",
              "</div>\n",
              "      <button class=\"colab-df-convert\" onclick=\"convertToInteractive('df-b9993249-52c2-4a03-b60a-3ce3967cb190')\"\n",
              "              title=\"Convert this dataframe to an interactive table.\"\n",
              "              style=\"display:none;\">\n",
              "        \n",
              "  <svg xmlns=\"http://www.w3.org/2000/svg\" height=\"24px\"viewBox=\"0 0 24 24\"\n",
              "       width=\"24px\">\n",
              "    <path d=\"M0 0h24v24H0V0z\" fill=\"none\"/>\n",
              "    <path d=\"M18.56 5.44l.94 2.06.94-2.06 2.06-.94-2.06-.94-.94-2.06-.94 2.06-2.06.94zm-11 1L8.5 8.5l.94-2.06 2.06-.94-2.06-.94L8.5 2.5l-.94 2.06-2.06.94zm10 10l.94 2.06.94-2.06 2.06-.94-2.06-.94-.94-2.06-.94 2.06-2.06.94z\"/><path d=\"M17.41 7.96l-1.37-1.37c-.4-.4-.92-.59-1.43-.59-.52 0-1.04.2-1.43.59L10.3 9.45l-7.72 7.72c-.78.78-.78 2.05 0 2.83L4 21.41c.39.39.9.59 1.41.59.51 0 1.02-.2 1.41-.59l7.78-7.78 2.81-2.81c.8-.78.8-2.07 0-2.86zM5.41 20L4 18.59l7.72-7.72 1.47 1.35L5.41 20z\"/>\n",
              "  </svg>\n",
              "      </button>\n",
              "      \n",
              "  <style>\n",
              "    .colab-df-container {\n",
              "      display:flex;\n",
              "      flex-wrap:wrap;\n",
              "      gap: 12px;\n",
              "    }\n",
              "\n",
              "    .colab-df-convert {\n",
              "      background-color: #E8F0FE;\n",
              "      border: none;\n",
              "      border-radius: 50%;\n",
              "      cursor: pointer;\n",
              "      display: none;\n",
              "      fill: #1967D2;\n",
              "      height: 32px;\n",
              "      padding: 0 0 0 0;\n",
              "      width: 32px;\n",
              "    }\n",
              "\n",
              "    .colab-df-convert:hover {\n",
              "      background-color: #E2EBFA;\n",
              "      box-shadow: 0px 1px 2px rgba(60, 64, 67, 0.3), 0px 1px 3px 1px rgba(60, 64, 67, 0.15);\n",
              "      fill: #174EA6;\n",
              "    }\n",
              "\n",
              "    [theme=dark] .colab-df-convert {\n",
              "      background-color: #3B4455;\n",
              "      fill: #D2E3FC;\n",
              "    }\n",
              "\n",
              "    [theme=dark] .colab-df-convert:hover {\n",
              "      background-color: #434B5C;\n",
              "      box-shadow: 0px 1px 3px 1px rgba(0, 0, 0, 0.15);\n",
              "      filter: drop-shadow(0px 1px 2px rgba(0, 0, 0, 0.3));\n",
              "      fill: #FFFFFF;\n",
              "    }\n",
              "  </style>\n",
              "\n",
              "      <script>\n",
              "        const buttonEl =\n",
              "          document.querySelector('#df-b9993249-52c2-4a03-b60a-3ce3967cb190 button.colab-df-convert');\n",
              "        buttonEl.style.display =\n",
              "          google.colab.kernel.accessAllowed ? 'block' : 'none';\n",
              "\n",
              "        async function convertToInteractive(key) {\n",
              "          const element = document.querySelector('#df-b9993249-52c2-4a03-b60a-3ce3967cb190');\n",
              "          const dataTable =\n",
              "            await google.colab.kernel.invokeFunction('convertToInteractive',\n",
              "                                                     [key], {});\n",
              "          if (!dataTable) return;\n",
              "\n",
              "          const docLinkHtml = 'Like what you see? Visit the ' +\n",
              "            '<a target=\"_blank\" href=https://colab.research.google.com/notebooks/data_table.ipynb>data table notebook</a>'\n",
              "            + ' to learn more about interactive tables.';\n",
              "          element.innerHTML = '';\n",
              "          dataTable['output_type'] = 'display_data';\n",
              "          await google.colab.output.renderOutput(dataTable, element);\n",
              "          const docLink = document.createElement('div');\n",
              "          docLink.innerHTML = docLinkHtml;\n",
              "          element.appendChild(docLink);\n",
              "        }\n",
              "      </script>\n",
              "    </div>\n",
              "  </div>\n",
              "  "
            ]
          },
          "metadata": {},
          "execution_count": 5
        }
      ]
    },
    {
      "cell_type": "code",
      "source": [
        "data1.groupby(\"Sentiment\").count()"
      ],
      "metadata": {
        "colab": {
          "base_uri": "https://localhost:8080/",
          "height": 144
        },
        "id": "sbnpaDwJYT4s",
        "outputId": "8a4bc1db-110f-4fd7-f031-82562ca6cbd0"
      },
      "execution_count": 6,
      "outputs": [
        {
          "output_type": "execute_result",
          "data": {
            "text/plain": [
              "           PhraseId  SentenceId  Phrase\n",
              "Sentiment                              \n",
              "negatif       34345       34345   34345\n",
              "pozitif       42133       42133   42133"
            ],
            "text/html": [
              "\n",
              "  <div id=\"df-5edf8485-87a8-4e10-a9a1-ca6e1068efad\">\n",
              "    <div class=\"colab-df-container\">\n",
              "      <div>\n",
              "<style scoped>\n",
              "    .dataframe tbody tr th:only-of-type {\n",
              "        vertical-align: middle;\n",
              "    }\n",
              "\n",
              "    .dataframe tbody tr th {\n",
              "        vertical-align: top;\n",
              "    }\n",
              "\n",
              "    .dataframe thead th {\n",
              "        text-align: right;\n",
              "    }\n",
              "</style>\n",
              "<table border=\"1\" class=\"dataframe\">\n",
              "  <thead>\n",
              "    <tr style=\"text-align: right;\">\n",
              "      <th></th>\n",
              "      <th>PhraseId</th>\n",
              "      <th>SentenceId</th>\n",
              "      <th>Phrase</th>\n",
              "    </tr>\n",
              "    <tr>\n",
              "      <th>Sentiment</th>\n",
              "      <th></th>\n",
              "      <th></th>\n",
              "      <th></th>\n",
              "    </tr>\n",
              "  </thead>\n",
              "  <tbody>\n",
              "    <tr>\n",
              "      <th>negatif</th>\n",
              "      <td>34345</td>\n",
              "      <td>34345</td>\n",
              "      <td>34345</td>\n",
              "    </tr>\n",
              "    <tr>\n",
              "      <th>pozitif</th>\n",
              "      <td>42133</td>\n",
              "      <td>42133</td>\n",
              "      <td>42133</td>\n",
              "    </tr>\n",
              "  </tbody>\n",
              "</table>\n",
              "</div>\n",
              "      <button class=\"colab-df-convert\" onclick=\"convertToInteractive('df-5edf8485-87a8-4e10-a9a1-ca6e1068efad')\"\n",
              "              title=\"Convert this dataframe to an interactive table.\"\n",
              "              style=\"display:none;\">\n",
              "        \n",
              "  <svg xmlns=\"http://www.w3.org/2000/svg\" height=\"24px\"viewBox=\"0 0 24 24\"\n",
              "       width=\"24px\">\n",
              "    <path d=\"M0 0h24v24H0V0z\" fill=\"none\"/>\n",
              "    <path d=\"M18.56 5.44l.94 2.06.94-2.06 2.06-.94-2.06-.94-.94-2.06-.94 2.06-2.06.94zm-11 1L8.5 8.5l.94-2.06 2.06-.94-2.06-.94L8.5 2.5l-.94 2.06-2.06.94zm10 10l.94 2.06.94-2.06 2.06-.94-2.06-.94-.94-2.06-.94 2.06-2.06.94z\"/><path d=\"M17.41 7.96l-1.37-1.37c-.4-.4-.92-.59-1.43-.59-.52 0-1.04.2-1.43.59L10.3 9.45l-7.72 7.72c-.78.78-.78 2.05 0 2.83L4 21.41c.39.39.9.59 1.41.59.51 0 1.02-.2 1.41-.59l7.78-7.78 2.81-2.81c.8-.78.8-2.07 0-2.86zM5.41 20L4 18.59l7.72-7.72 1.47 1.35L5.41 20z\"/>\n",
              "  </svg>\n",
              "      </button>\n",
              "      \n",
              "  <style>\n",
              "    .colab-df-container {\n",
              "      display:flex;\n",
              "      flex-wrap:wrap;\n",
              "      gap: 12px;\n",
              "    }\n",
              "\n",
              "    .colab-df-convert {\n",
              "      background-color: #E8F0FE;\n",
              "      border: none;\n",
              "      border-radius: 50%;\n",
              "      cursor: pointer;\n",
              "      display: none;\n",
              "      fill: #1967D2;\n",
              "      height: 32px;\n",
              "      padding: 0 0 0 0;\n",
              "      width: 32px;\n",
              "    }\n",
              "\n",
              "    .colab-df-convert:hover {\n",
              "      background-color: #E2EBFA;\n",
              "      box-shadow: 0px 1px 2px rgba(60, 64, 67, 0.3), 0px 1px 3px 1px rgba(60, 64, 67, 0.15);\n",
              "      fill: #174EA6;\n",
              "    }\n",
              "\n",
              "    [theme=dark] .colab-df-convert {\n",
              "      background-color: #3B4455;\n",
              "      fill: #D2E3FC;\n",
              "    }\n",
              "\n",
              "    [theme=dark] .colab-df-convert:hover {\n",
              "      background-color: #434B5C;\n",
              "      box-shadow: 0px 1px 3px 1px rgba(0, 0, 0, 0.15);\n",
              "      filter: drop-shadow(0px 1px 2px rgba(0, 0, 0, 0.3));\n",
              "      fill: #FFFFFF;\n",
              "    }\n",
              "  </style>\n",
              "\n",
              "      <script>\n",
              "        const buttonEl =\n",
              "          document.querySelector('#df-5edf8485-87a8-4e10-a9a1-ca6e1068efad button.colab-df-convert');\n",
              "        buttonEl.style.display =\n",
              "          google.colab.kernel.accessAllowed ? 'block' : 'none';\n",
              "\n",
              "        async function convertToInteractive(key) {\n",
              "          const element = document.querySelector('#df-5edf8485-87a8-4e10-a9a1-ca6e1068efad');\n",
              "          const dataTable =\n",
              "            await google.colab.kernel.invokeFunction('convertToInteractive',\n",
              "                                                     [key], {});\n",
              "          if (!dataTable) return;\n",
              "\n",
              "          const docLinkHtml = 'Like what you see? Visit the ' +\n",
              "            '<a target=\"_blank\" href=https://colab.research.google.com/notebooks/data_table.ipynb>data table notebook</a>'\n",
              "            + ' to learn more about interactive tables.';\n",
              "          element.innerHTML = '';\n",
              "          dataTable['output_type'] = 'display_data';\n",
              "          await google.colab.output.renderOutput(dataTable, element);\n",
              "          const docLink = document.createElement('div');\n",
              "          docLink.innerHTML = docLinkHtml;\n",
              "          element.appendChild(docLink);\n",
              "        }\n",
              "      </script>\n",
              "    </div>\n",
              "  </div>\n",
              "  "
            ]
          },
          "metadata": {},
          "execution_count": 6
        }
      ]
    },
    {
      "cell_type": "code",
      "source": [
        "df=pd.DataFrame()\n",
        "df[\"text\"]=data1[\"Phrase\"]\n",
        "df[\"labels\"]=data1[\"Sentiment\"]\n",
        "df.head()"
      ],
      "metadata": {
        "colab": {
          "base_uri": "https://localhost:8080/",
          "height": 206
        },
        "id": "GRj2T2_yYT2b",
        "outputId": "5eedc26d-79f9-4250-f871-7bda1e99d807"
      },
      "execution_count": 7,
      "outputs": [
        {
          "output_type": "execute_result",
          "data": {
            "text/plain": [
              "                                                 text   labels\n",
              "0   A series of escapades demonstrating the adage ...  negatif\n",
              "21                                 good for the goose  pozitif\n",
              "22                                               good  pozitif\n",
              "33  the gander , some of which occasionally amuses...  negatif\n",
              "46                                             amuses  pozitif"
            ],
            "text/html": [
              "\n",
              "  <div id=\"df-aa4bdb84-51c4-41ab-9863-d6fe7480edeb\">\n",
              "    <div class=\"colab-df-container\">\n",
              "      <div>\n",
              "<style scoped>\n",
              "    .dataframe tbody tr th:only-of-type {\n",
              "        vertical-align: middle;\n",
              "    }\n",
              "\n",
              "    .dataframe tbody tr th {\n",
              "        vertical-align: top;\n",
              "    }\n",
              "\n",
              "    .dataframe thead th {\n",
              "        text-align: right;\n",
              "    }\n",
              "</style>\n",
              "<table border=\"1\" class=\"dataframe\">\n",
              "  <thead>\n",
              "    <tr style=\"text-align: right;\">\n",
              "      <th></th>\n",
              "      <th>text</th>\n",
              "      <th>labels</th>\n",
              "    </tr>\n",
              "  </thead>\n",
              "  <tbody>\n",
              "    <tr>\n",
              "      <th>0</th>\n",
              "      <td>A series of escapades demonstrating the adage ...</td>\n",
              "      <td>negatif</td>\n",
              "    </tr>\n",
              "    <tr>\n",
              "      <th>21</th>\n",
              "      <td>good for the goose</td>\n",
              "      <td>pozitif</td>\n",
              "    </tr>\n",
              "    <tr>\n",
              "      <th>22</th>\n",
              "      <td>good</td>\n",
              "      <td>pozitif</td>\n",
              "    </tr>\n",
              "    <tr>\n",
              "      <th>33</th>\n",
              "      <td>the gander , some of which occasionally amuses...</td>\n",
              "      <td>negatif</td>\n",
              "    </tr>\n",
              "    <tr>\n",
              "      <th>46</th>\n",
              "      <td>amuses</td>\n",
              "      <td>pozitif</td>\n",
              "    </tr>\n",
              "  </tbody>\n",
              "</table>\n",
              "</div>\n",
              "      <button class=\"colab-df-convert\" onclick=\"convertToInteractive('df-aa4bdb84-51c4-41ab-9863-d6fe7480edeb')\"\n",
              "              title=\"Convert this dataframe to an interactive table.\"\n",
              "              style=\"display:none;\">\n",
              "        \n",
              "  <svg xmlns=\"http://www.w3.org/2000/svg\" height=\"24px\"viewBox=\"0 0 24 24\"\n",
              "       width=\"24px\">\n",
              "    <path d=\"M0 0h24v24H0V0z\" fill=\"none\"/>\n",
              "    <path d=\"M18.56 5.44l.94 2.06.94-2.06 2.06-.94-2.06-.94-.94-2.06-.94 2.06-2.06.94zm-11 1L8.5 8.5l.94-2.06 2.06-.94-2.06-.94L8.5 2.5l-.94 2.06-2.06.94zm10 10l.94 2.06.94-2.06 2.06-.94-2.06-.94-.94-2.06-.94 2.06-2.06.94z\"/><path d=\"M17.41 7.96l-1.37-1.37c-.4-.4-.92-.59-1.43-.59-.52 0-1.04.2-1.43.59L10.3 9.45l-7.72 7.72c-.78.78-.78 2.05 0 2.83L4 21.41c.39.39.9.59 1.41.59.51 0 1.02-.2 1.41-.59l7.78-7.78 2.81-2.81c.8-.78.8-2.07 0-2.86zM5.41 20L4 18.59l7.72-7.72 1.47 1.35L5.41 20z\"/>\n",
              "  </svg>\n",
              "      </button>\n",
              "      \n",
              "  <style>\n",
              "    .colab-df-container {\n",
              "      display:flex;\n",
              "      flex-wrap:wrap;\n",
              "      gap: 12px;\n",
              "    }\n",
              "\n",
              "    .colab-df-convert {\n",
              "      background-color: #E8F0FE;\n",
              "      border: none;\n",
              "      border-radius: 50%;\n",
              "      cursor: pointer;\n",
              "      display: none;\n",
              "      fill: #1967D2;\n",
              "      height: 32px;\n",
              "      padding: 0 0 0 0;\n",
              "      width: 32px;\n",
              "    }\n",
              "\n",
              "    .colab-df-convert:hover {\n",
              "      background-color: #E2EBFA;\n",
              "      box-shadow: 0px 1px 2px rgba(60, 64, 67, 0.3), 0px 1px 3px 1px rgba(60, 64, 67, 0.15);\n",
              "      fill: #174EA6;\n",
              "    }\n",
              "\n",
              "    [theme=dark] .colab-df-convert {\n",
              "      background-color: #3B4455;\n",
              "      fill: #D2E3FC;\n",
              "    }\n",
              "\n",
              "    [theme=dark] .colab-df-convert:hover {\n",
              "      background-color: #434B5C;\n",
              "      box-shadow: 0px 1px 3px 1px rgba(0, 0, 0, 0.15);\n",
              "      filter: drop-shadow(0px 1px 2px rgba(0, 0, 0, 0.3));\n",
              "      fill: #FFFFFF;\n",
              "    }\n",
              "  </style>\n",
              "\n",
              "      <script>\n",
              "        const buttonEl =\n",
              "          document.querySelector('#df-aa4bdb84-51c4-41ab-9863-d6fe7480edeb button.colab-df-convert');\n",
              "        buttonEl.style.display =\n",
              "          google.colab.kernel.accessAllowed ? 'block' : 'none';\n",
              "\n",
              "        async function convertToInteractive(key) {\n",
              "          const element = document.querySelector('#df-aa4bdb84-51c4-41ab-9863-d6fe7480edeb');\n",
              "          const dataTable =\n",
              "            await google.colab.kernel.invokeFunction('convertToInteractive',\n",
              "                                                     [key], {});\n",
              "          if (!dataTable) return;\n",
              "\n",
              "          const docLinkHtml = 'Like what you see? Visit the ' +\n",
              "            '<a target=\"_blank\" href=https://colab.research.google.com/notebooks/data_table.ipynb>data table notebook</a>'\n",
              "            + ' to learn more about interactive tables.';\n",
              "          element.innerHTML = '';\n",
              "          dataTable['output_type'] = 'display_data';\n",
              "          await google.colab.output.renderOutput(dataTable, element);\n",
              "          const docLink = document.createElement('div');\n",
              "          docLink.innerHTML = docLinkHtml;\n",
              "          element.appendChild(docLink);\n",
              "        }\n",
              "      </script>\n",
              "    </div>\n",
              "  </div>\n",
              "  "
            ]
          },
          "metadata": {},
          "execution_count": 7
        }
      ]
    },
    {
      "cell_type": "markdown",
      "source": [
        "#metin ön işleme"
      ],
      "metadata": {
        "id": "iigtlZhfZma-"
      }
    },
    {
      "cell_type": "code",
      "source": [
        "import nltk\n",
        "nltk.download(\"stopwords\")\n",
        "from nltk.corpus import stopwords\n",
        "sw=stopwords.words(\"english\")\n",
        "from textblob import Word\n",
        "import pandas as pd\n",
        "!pip install nltk\n",
        "import nltk\n",
        "!pip install textblob\n",
        "import textblob\n",
        "from textblob import TextBlob\n",
        "from nltk.stem import PorterStemmer\n",
        "st=PorterStemmer()\n",
        "from textblob import Word\n",
        "nltk.download(\"wordnet\")\n",
        "nltk.download('omw-1.4')"
      ],
      "metadata": {
        "colab": {
          "base_uri": "https://localhost:8080/"
        },
        "id": "EkYxaxfuaad6",
        "outputId": "c7f237c5-19da-45aa-86c8-2af0755aee09"
      },
      "execution_count": 8,
      "outputs": [
        {
          "output_type": "stream",
          "name": "stderr",
          "text": [
            "[nltk_data] Downloading package stopwords to /root/nltk_data...\n",
            "[nltk_data]   Package stopwords is already up-to-date!\n"
          ]
        },
        {
          "output_type": "stream",
          "name": "stdout",
          "text": [
            "Looking in indexes: https://pypi.org/simple, https://us-python.pkg.dev/colab-wheels/public/simple/\n",
            "Requirement already satisfied: nltk in /usr/local/lib/python3.7/dist-packages (3.7)\n",
            "Requirement already satisfied: click in /usr/local/lib/python3.7/dist-packages (from nltk) (7.1.2)\n",
            "Requirement already satisfied: tqdm in /usr/local/lib/python3.7/dist-packages (from nltk) (4.64.0)\n",
            "Requirement already satisfied: joblib in /usr/local/lib/python3.7/dist-packages (from nltk) (1.1.0)\n",
            "Requirement already satisfied: regex>=2021.8.3 in /usr/local/lib/python3.7/dist-packages (from nltk) (2022.6.2)\n",
            "Looking in indexes: https://pypi.org/simple, https://us-python.pkg.dev/colab-wheels/public/simple/\n",
            "Requirement already satisfied: textblob in /usr/local/lib/python3.7/dist-packages (0.15.3)\n",
            "Requirement already satisfied: nltk>=3.1 in /usr/local/lib/python3.7/dist-packages (from textblob) (3.7)\n",
            "Requirement already satisfied: tqdm in /usr/local/lib/python3.7/dist-packages (from nltk>=3.1->textblob) (4.64.0)\n",
            "Requirement already satisfied: joblib in /usr/local/lib/python3.7/dist-packages (from nltk>=3.1->textblob) (1.1.0)\n",
            "Requirement already satisfied: click in /usr/local/lib/python3.7/dist-packages (from nltk>=3.1->textblob) (7.1.2)\n",
            "Requirement already satisfied: regex>=2021.8.3 in /usr/local/lib/python3.7/dist-packages (from nltk>=3.1->textblob) (2022.6.2)\n"
          ]
        },
        {
          "output_type": "stream",
          "name": "stderr",
          "text": [
            "[nltk_data] Downloading package wordnet to /root/nltk_data...\n",
            "[nltk_data]   Package wordnet is already up-to-date!\n",
            "[nltk_data] Downloading package omw-1.4 to /root/nltk_data...\n",
            "[nltk_data]   Package omw-1.4 is already up-to-date!\n"
          ]
        },
        {
          "output_type": "execute_result",
          "data": {
            "text/plain": [
              "True"
            ]
          },
          "metadata": {},
          "execution_count": 8
        }
      ]
    },
    {
      "cell_type": "code",
      "source": [
        "# küçük buyuk dönüşümü\n",
        "df[\"text\"]=df[\"text\"].apply(lambda x : \" \".join(x.lower() for x in x.split()))\n",
        "# noktalama işaretleri\n",
        "df[\"text\"]=df[\"text\"].str.replace(\"[^\\w\\s]\",\"\")\n",
        "# sayılar\n",
        "df[\"text\"]=df[\"text\"].str.replace(\"\\d\",\"\")\n",
        "# stopwords işlemi\n",
        "df[\"text\"]=df[\"text\"].apply(lambda x : \" \".join(x for x in x.split() if x not in sw))\n",
        "# seyrekleri silinmesi\n",
        "silinecek=pd.Series(\" \".join(df[\"text\"]).split()).value_counts()[-1000:]\n",
        "df[\"text\"]=df[\"text\"].apply(lambda x : \" \".join(x for x in x.split() if x not in silinecek ))\n",
        "# kelime kökler\n",
        "df[\"text\"].apply(lambda x : \" \".join(Word(word).lemmatize() for word in x.split()))\n",
        "df.head(20)"
      ],
      "metadata": {
        "colab": {
          "base_uri": "https://localhost:8080/",
          "height": 746
        },
        "id": "F7szIKHpYaAC",
        "outputId": "3cbc2319-418d-46ca-8333-ef2dca31df3f"
      },
      "execution_count": 9,
      "outputs": [
        {
          "output_type": "stream",
          "name": "stderr",
          "text": [
            "/usr/local/lib/python3.7/dist-packages/ipykernel_launcher.py:4: FutureWarning: The default value of regex will change from True to False in a future version.\n",
            "  after removing the cwd from sys.path.\n",
            "/usr/local/lib/python3.7/dist-packages/ipykernel_launcher.py:6: FutureWarning: The default value of regex will change from True to False in a future version.\n",
            "  \n"
          ]
        },
        {
          "output_type": "execute_result",
          "data": {
            "text/plain": [
              "                                                 text   labels\n",
              "0   series demonstrating adage good goose also goo...  negatif\n",
              "21                                         good goose  pozitif\n",
              "22                                               good  pozitif\n",
              "33  gander occasionally amuses none amounts much s...  negatif\n",
              "46                                             amuses  pozitif\n",
              "47                            none amounts much story  negatif\n",
              "49                            none amounts much story  negatif\n",
              "63  quiet introspective entertaining independent w...  pozitif\n",
              "64       quiet introspective entertaining independent  pozitif\n",
              "66       quiet introspective entertaining independent  pozitif\n",
              "67                   quiet introspective entertaining  pozitif\n",
              "69                         introspective entertaining  pozitif\n",
              "70                         introspective entertaining  pozitif\n",
              "71                                      introspective  pozitif\n",
              "74                                       entertaining  pozitif\n",
              "76                                      worth seeking  pozitif\n",
              "77                                      worth seeking  pozitif\n",
              "81  even fans merchant work suspect would hard tim...  negatif\n",
              "85                                               fans  pozitif\n",
              "94                suspect would hard time sitting one  negatif"
            ],
            "text/html": [
              "\n",
              "  <div id=\"df-7c9e4f3b-1670-4adf-ad73-8e4223c527ab\">\n",
              "    <div class=\"colab-df-container\">\n",
              "      <div>\n",
              "<style scoped>\n",
              "    .dataframe tbody tr th:only-of-type {\n",
              "        vertical-align: middle;\n",
              "    }\n",
              "\n",
              "    .dataframe tbody tr th {\n",
              "        vertical-align: top;\n",
              "    }\n",
              "\n",
              "    .dataframe thead th {\n",
              "        text-align: right;\n",
              "    }\n",
              "</style>\n",
              "<table border=\"1\" class=\"dataframe\">\n",
              "  <thead>\n",
              "    <tr style=\"text-align: right;\">\n",
              "      <th></th>\n",
              "      <th>text</th>\n",
              "      <th>labels</th>\n",
              "    </tr>\n",
              "  </thead>\n",
              "  <tbody>\n",
              "    <tr>\n",
              "      <th>0</th>\n",
              "      <td>series demonstrating adage good goose also goo...</td>\n",
              "      <td>negatif</td>\n",
              "    </tr>\n",
              "    <tr>\n",
              "      <th>21</th>\n",
              "      <td>good goose</td>\n",
              "      <td>pozitif</td>\n",
              "    </tr>\n",
              "    <tr>\n",
              "      <th>22</th>\n",
              "      <td>good</td>\n",
              "      <td>pozitif</td>\n",
              "    </tr>\n",
              "    <tr>\n",
              "      <th>33</th>\n",
              "      <td>gander occasionally amuses none amounts much s...</td>\n",
              "      <td>negatif</td>\n",
              "    </tr>\n",
              "    <tr>\n",
              "      <th>46</th>\n",
              "      <td>amuses</td>\n",
              "      <td>pozitif</td>\n",
              "    </tr>\n",
              "    <tr>\n",
              "      <th>47</th>\n",
              "      <td>none amounts much story</td>\n",
              "      <td>negatif</td>\n",
              "    </tr>\n",
              "    <tr>\n",
              "      <th>49</th>\n",
              "      <td>none amounts much story</td>\n",
              "      <td>negatif</td>\n",
              "    </tr>\n",
              "    <tr>\n",
              "      <th>63</th>\n",
              "      <td>quiet introspective entertaining independent w...</td>\n",
              "      <td>pozitif</td>\n",
              "    </tr>\n",
              "    <tr>\n",
              "      <th>64</th>\n",
              "      <td>quiet introspective entertaining independent</td>\n",
              "      <td>pozitif</td>\n",
              "    </tr>\n",
              "    <tr>\n",
              "      <th>66</th>\n",
              "      <td>quiet introspective entertaining independent</td>\n",
              "      <td>pozitif</td>\n",
              "    </tr>\n",
              "    <tr>\n",
              "      <th>67</th>\n",
              "      <td>quiet introspective entertaining</td>\n",
              "      <td>pozitif</td>\n",
              "    </tr>\n",
              "    <tr>\n",
              "      <th>69</th>\n",
              "      <td>introspective entertaining</td>\n",
              "      <td>pozitif</td>\n",
              "    </tr>\n",
              "    <tr>\n",
              "      <th>70</th>\n",
              "      <td>introspective entertaining</td>\n",
              "      <td>pozitif</td>\n",
              "    </tr>\n",
              "    <tr>\n",
              "      <th>71</th>\n",
              "      <td>introspective</td>\n",
              "      <td>pozitif</td>\n",
              "    </tr>\n",
              "    <tr>\n",
              "      <th>74</th>\n",
              "      <td>entertaining</td>\n",
              "      <td>pozitif</td>\n",
              "    </tr>\n",
              "    <tr>\n",
              "      <th>76</th>\n",
              "      <td>worth seeking</td>\n",
              "      <td>pozitif</td>\n",
              "    </tr>\n",
              "    <tr>\n",
              "      <th>77</th>\n",
              "      <td>worth seeking</td>\n",
              "      <td>pozitif</td>\n",
              "    </tr>\n",
              "    <tr>\n",
              "      <th>81</th>\n",
              "      <td>even fans merchant work suspect would hard tim...</td>\n",
              "      <td>negatif</td>\n",
              "    </tr>\n",
              "    <tr>\n",
              "      <th>85</th>\n",
              "      <td>fans</td>\n",
              "      <td>pozitif</td>\n",
              "    </tr>\n",
              "    <tr>\n",
              "      <th>94</th>\n",
              "      <td>suspect would hard time sitting one</td>\n",
              "      <td>negatif</td>\n",
              "    </tr>\n",
              "  </tbody>\n",
              "</table>\n",
              "</div>\n",
              "      <button class=\"colab-df-convert\" onclick=\"convertToInteractive('df-7c9e4f3b-1670-4adf-ad73-8e4223c527ab')\"\n",
              "              title=\"Convert this dataframe to an interactive table.\"\n",
              "              style=\"display:none;\">\n",
              "        \n",
              "  <svg xmlns=\"http://www.w3.org/2000/svg\" height=\"24px\"viewBox=\"0 0 24 24\"\n",
              "       width=\"24px\">\n",
              "    <path d=\"M0 0h24v24H0V0z\" fill=\"none\"/>\n",
              "    <path d=\"M18.56 5.44l.94 2.06.94-2.06 2.06-.94-2.06-.94-.94-2.06-.94 2.06-2.06.94zm-11 1L8.5 8.5l.94-2.06 2.06-.94-2.06-.94L8.5 2.5l-.94 2.06-2.06.94zm10 10l.94 2.06.94-2.06 2.06-.94-2.06-.94-.94-2.06-.94 2.06-2.06.94z\"/><path d=\"M17.41 7.96l-1.37-1.37c-.4-.4-.92-.59-1.43-.59-.52 0-1.04.2-1.43.59L10.3 9.45l-7.72 7.72c-.78.78-.78 2.05 0 2.83L4 21.41c.39.39.9.59 1.41.59.51 0 1.02-.2 1.41-.59l7.78-7.78 2.81-2.81c.8-.78.8-2.07 0-2.86zM5.41 20L4 18.59l7.72-7.72 1.47 1.35L5.41 20z\"/>\n",
              "  </svg>\n",
              "      </button>\n",
              "      \n",
              "  <style>\n",
              "    .colab-df-container {\n",
              "      display:flex;\n",
              "      flex-wrap:wrap;\n",
              "      gap: 12px;\n",
              "    }\n",
              "\n",
              "    .colab-df-convert {\n",
              "      background-color: #E8F0FE;\n",
              "      border: none;\n",
              "      border-radius: 50%;\n",
              "      cursor: pointer;\n",
              "      display: none;\n",
              "      fill: #1967D2;\n",
              "      height: 32px;\n",
              "      padding: 0 0 0 0;\n",
              "      width: 32px;\n",
              "    }\n",
              "\n",
              "    .colab-df-convert:hover {\n",
              "      background-color: #E2EBFA;\n",
              "      box-shadow: 0px 1px 2px rgba(60, 64, 67, 0.3), 0px 1px 3px 1px rgba(60, 64, 67, 0.15);\n",
              "      fill: #174EA6;\n",
              "    }\n",
              "\n",
              "    [theme=dark] .colab-df-convert {\n",
              "      background-color: #3B4455;\n",
              "      fill: #D2E3FC;\n",
              "    }\n",
              "\n",
              "    [theme=dark] .colab-df-convert:hover {\n",
              "      background-color: #434B5C;\n",
              "      box-shadow: 0px 1px 3px 1px rgba(0, 0, 0, 0.15);\n",
              "      filter: drop-shadow(0px 1px 2px rgba(0, 0, 0, 0.3));\n",
              "      fill: #FFFFFF;\n",
              "    }\n",
              "  </style>\n",
              "\n",
              "      <script>\n",
              "        const buttonEl =\n",
              "          document.querySelector('#df-7c9e4f3b-1670-4adf-ad73-8e4223c527ab button.colab-df-convert');\n",
              "        buttonEl.style.display =\n",
              "          google.colab.kernel.accessAllowed ? 'block' : 'none';\n",
              "\n",
              "        async function convertToInteractive(key) {\n",
              "          const element = document.querySelector('#df-7c9e4f3b-1670-4adf-ad73-8e4223c527ab');\n",
              "          const dataTable =\n",
              "            await google.colab.kernel.invokeFunction('convertToInteractive',\n",
              "                                                     [key], {});\n",
              "          if (!dataTable) return;\n",
              "\n",
              "          const docLinkHtml = 'Like what you see? Visit the ' +\n",
              "            '<a target=\"_blank\" href=https://colab.research.google.com/notebooks/data_table.ipynb>data table notebook</a>'\n",
              "            + ' to learn more about interactive tables.';\n",
              "          element.innerHTML = '';\n",
              "          dataTable['output_type'] = 'display_data';\n",
              "          await google.colab.output.renderOutput(dataTable, element);\n",
              "          const docLink = document.createElement('div');\n",
              "          docLink.innerHTML = docLinkHtml;\n",
              "          element.appendChild(docLink);\n",
              "        }\n",
              "      </script>\n",
              "    </div>\n",
              "  </div>\n",
              "  "
            ]
          },
          "metadata": {},
          "execution_count": 9
        }
      ]
    },
    {
      "cell_type": "markdown",
      "source": [
        "# feature engineering"
      ],
      "metadata": {
        "id": "T4ovWTDJZfZU"
      }
    },
    {
      "cell_type": "markdown",
      "source": [
        "\n",
        "1.   **count vectors**: tüm metinde geçen unique kelimeleri bulup bunları yeni sutunlar olarak veriye ekliyoruz sonra herbir satırdaki cümle yorum vs içinde gecen unique kelimeler aynı adı tasıyon sutunlarda kac kez gectiyse o degeri alıyor.\n",
        "2.   **TF_IDF VECTORS**(words,charakters,n-grams):\n",
        "\n",
        "\n",
        ">> TF(t): (bir terimin bir dökümanda gözlenme frekansı) / (dökümandaki toplam terim sayısı)\n",
        "\n",
        ">> IDF(t): log_e(toplam döküman sayısı / içinde t terimi olan balge sayısı)\n",
        "\n",
        "3.    Word Embeddings"
      ],
      "metadata": {
        "id": "4P_mxtcpYds-"
      }
    },
    {
      "cell_type": "markdown",
      "source": [
        "## train test seti oluşturmak"
      ],
      "metadata": {
        "id": "-_v_KQBvZZcG"
      }
    },
    {
      "cell_type": "code",
      "source": [
        "X_train,X_test,y_train,y_test=model_selection.train_test_split(df[\"text\"],df[\"labels\"],random_state=1)"
      ],
      "metadata": {
        "id": "N6Kv9oC-YhHf"
      },
      "execution_count": 39,
      "outputs": []
    },
    {
      "cell_type": "code",
      "source": [
        "X_train.head()"
      ],
      "metadata": {
        "colab": {
          "base_uri": "https://localhost:8080/"
        },
        "id": "L_NdbJduYhU-",
        "outputId": "7d574287-3112-4ab6-8750-4b7d5909df4f"
      },
      "execution_count": 40,
      "outputs": [
        {
          "output_type": "execute_result",
          "data": {
            "text/plain": [
              "118788    presents fascinating glimpse urban life class ...\n",
              "89514     hey everybody wanna watch movie guy dressed ch...\n",
              "86857                             incredible number stories\n",
              "140626                         ultimately disappoint action\n",
              "153243                                              unified\n",
              "Name: text, dtype: object"
            ]
          },
          "metadata": {},
          "execution_count": 40
        }
      ]
    },
    {
      "cell_type": "markdown",
      "source": [
        "## encoding"
      ],
      "metadata": {
        "id": "PcFJJuoHZSxN"
      }
    },
    {
      "cell_type": "code",
      "source": [
        "encoder= preprocessing.LabelEncoder()"
      ],
      "metadata": {
        "id": "vx6tgBklYhSn"
      },
      "execution_count": 41,
      "outputs": []
    },
    {
      "cell_type": "code",
      "source": [
        "y_train=encoder.fit_transform(y_train)\n",
        "y_test=encoder.fit_transform(y_test)"
      ],
      "metadata": {
        "id": "1QD_S1w-YhPz"
      },
      "execution_count": 42,
      "outputs": []
    },
    {
      "cell_type": "code",
      "source": [
        "y_train[:10]\n",
        "y_test[:10]"
      ],
      "metadata": {
        "colab": {
          "base_uri": "https://localhost:8080/"
        },
        "id": "x2tuewr5YhNJ",
        "outputId": "c36e4508-8ad2-42ba-c1d9-c2cfa1826519"
      },
      "execution_count": 43,
      "outputs": [
        {
          "output_type": "execute_result",
          "data": {
            "text/plain": [
              "array([1, 0, 1, 0, 0, 0, 0, 1, 0, 1])"
            ]
          },
          "metadata": {},
          "execution_count": 43
        }
      ]
    },
    {
      "cell_type": "markdown",
      "source": [
        "## count vectors"
      ],
      "metadata": {
        "id": "QLiYSZqYZKJM"
      }
    },
    {
      "cell_type": "code",
      "source": [
        "vectorizer=CountVectorizer()\n",
        "vectorizer.fit(X_train)"
      ],
      "metadata": {
        "colab": {
          "base_uri": "https://localhost:8080/"
        },
        "id": "CrYnTmnyYhKw",
        "outputId": "851c96a0-8f49-4f6f-a6d0-0a5b00768ffc"
      },
      "execution_count": 44,
      "outputs": [
        {
          "output_type": "execute_result",
          "data": {
            "text/plain": [
              "CountVectorizer()"
            ]
          },
          "metadata": {},
          "execution_count": 44
        }
      ]
    },
    {
      "cell_type": "markdown",
      "source": [
        "count vector methodu ile x_train ve x_test verileri luşturuldu"
      ],
      "metadata": {
        "id": "vmZnryt-ZJDX"
      }
    },
    {
      "cell_type": "code",
      "source": [
        "x_train_count=vectorizer.transform(X_train)\n",
        "x_test_count=vectorizer.transform(X_test)"
      ],
      "metadata": {
        "id": "YqErtG7TYpWH"
      },
      "execution_count": 45,
      "outputs": []
    },
    {
      "cell_type": "code",
      "source": [
        "vectorizer.get_feature_names()[:10]"
      ],
      "metadata": {
        "colab": {
          "base_uri": "https://localhost:8080/"
        },
        "id": "fxBU5xWyYpTc",
        "outputId": "5614ebfc-9c99-44c3-e157-a0bf103730d6"
      },
      "execution_count": 25,
      "outputs": [
        {
          "output_type": "stream",
          "name": "stderr",
          "text": [
            "/usr/local/lib/python3.7/dist-packages/sklearn/utils/deprecation.py:87: FutureWarning: Function get_feature_names is deprecated; get_feature_names is deprecated in 1.0 and will be removed in 1.2. Please use get_feature_names_out instead.\n",
            "  warnings.warn(msg, category=FutureWarning)\n"
          ]
        },
        {
          "output_type": "execute_result",
          "data": {
            "text/plain": [
              "['aaliyah',\n",
              " 'abandon',\n",
              " 'abandoned',\n",
              " 'abc',\n",
              " 'abel',\n",
              " 'abhorrent',\n",
              " 'abhors',\n",
              " 'abiding',\n",
              " 'ability',\n",
              " 'abject']"
            ]
          },
          "metadata": {},
          "execution_count": 25
        }
      ]
    },
    {
      "cell_type": "code",
      "source": [
        "x_train_count.toarray()"
      ],
      "metadata": {
        "colab": {
          "base_uri": "https://localhost:8080/"
        },
        "id": "A4ryjzasYpQd",
        "outputId": "933a0022-b802-4c18-b7d2-40e71fa8179b"
      },
      "execution_count": 26,
      "outputs": [
        {
          "output_type": "execute_result",
          "data": {
            "text/plain": [
              "array([[0, 0, 0, ..., 0, 0, 0],\n",
              "       [0, 0, 0, ..., 0, 0, 0],\n",
              "       [0, 0, 0, ..., 0, 0, 0],\n",
              "       ...,\n",
              "       [0, 0, 0, ..., 0, 0, 0],\n",
              "       [0, 0, 0, ..., 0, 0, 0],\n",
              "       [0, 0, 0, ..., 0, 0, 0]])"
            ]
          },
          "metadata": {},
          "execution_count": 26
        }
      ]
    },
    {
      "cell_type": "code",
      "source": [
        "x_test_count.toarray()"
      ],
      "metadata": {
        "colab": {
          "base_uri": "https://localhost:8080/"
        },
        "id": "tAkbFxlyYpN3",
        "outputId": "0d7ae276-3f47-4329-d2f0-58cb28132f5f"
      },
      "execution_count": 27,
      "outputs": [
        {
          "output_type": "execute_result",
          "data": {
            "text/plain": [
              "array([[0, 0, 0, ..., 0, 0, 0],\n",
              "       [0, 0, 0, ..., 0, 0, 0],\n",
              "       [0, 0, 0, ..., 0, 0, 0],\n",
              "       ...,\n",
              "       [0, 0, 0, ..., 0, 0, 0],\n",
              "       [0, 0, 0, ..., 0, 0, 0],\n",
              "       [0, 0, 0, ..., 0, 0, 0]])"
            ]
          },
          "metadata": {},
          "execution_count": 27
        }
      ]
    },
    {
      "cell_type": "markdown",
      "source": [
        "## TF_İDF"
      ],
      "metadata": {
        "id": "UjR0a_TOY9XZ"
      }
    },
    {
      "cell_type": "markdown",
      "source": [
        "### word level"
      ],
      "metadata": {
        "id": "JjBkZ90ubirc"
      }
    },
    {
      "cell_type": "code",
      "source": [
        "tf_idf_word_vectorizer=TfidfVectorizer()"
      ],
      "metadata": {
        "id": "xH8G3xmKYx4j"
      },
      "execution_count": 46,
      "outputs": []
    },
    {
      "cell_type": "code",
      "source": [
        "tf_idf_word_vectorizer.fit(X_train)"
      ],
      "metadata": {
        "colab": {
          "base_uri": "https://localhost:8080/"
        },
        "id": "53h3h1AmYx1_",
        "outputId": "757deba1-fa11-43ed-875f-1a48865b7aab"
      },
      "execution_count": 47,
      "outputs": [
        {
          "output_type": "execute_result",
          "data": {
            "text/plain": [
              "TfidfVectorizer()"
            ]
          },
          "metadata": {},
          "execution_count": 47
        }
      ]
    },
    {
      "cell_type": "code",
      "source": [
        "x_train_tf_idf_word=tf_idf_word_vectorizer.transform(X_train)\n",
        "x_test_tf_idf_word=tf_idf_word_vectorizer.transform(X_test)"
      ],
      "metadata": {
        "id": "VRQ0ZJ3fYxzY"
      },
      "execution_count": 48,
      "outputs": []
    },
    {
      "cell_type": "code",
      "source": [
        "tf_idf_word_vectorizer.get_feature_names()[:10]"
      ],
      "metadata": {
        "colab": {
          "base_uri": "https://localhost:8080/"
        },
        "id": "_n9Mrj-nYxxC",
        "outputId": "dd515fb4-1d75-4f1c-b866-12ce287b06e1"
      },
      "execution_count": 49,
      "outputs": [
        {
          "output_type": "stream",
          "name": "stderr",
          "text": [
            "/usr/local/lib/python3.7/dist-packages/sklearn/utils/deprecation.py:87: FutureWarning: Function get_feature_names is deprecated; get_feature_names is deprecated in 1.0 and will be removed in 1.2. Please use get_feature_names_out instead.\n",
            "  warnings.warn(msg, category=FutureWarning)\n"
          ]
        },
        {
          "output_type": "execute_result",
          "data": {
            "text/plain": [
              "['aaa',\n",
              " 'aaliyah',\n",
              " 'abagnale',\n",
              " 'abandon',\n",
              " 'abandoned',\n",
              " 'abbass',\n",
              " 'abbott',\n",
              " 'abbreviated',\n",
              " 'abc',\n",
              " 'abdul']"
            ]
          },
          "metadata": {},
          "execution_count": 49
        }
      ]
    },
    {
      "cell_type": "code",
      "source": [
        "x_train_tf_idf_word.toarray()"
      ],
      "metadata": {
        "id": "2dspvdeGYxuc"
      },
      "execution_count": null,
      "outputs": []
    },
    {
      "cell_type": "markdown",
      "source": [
        "### ngram level"
      ],
      "metadata": {
        "id": "9ehvHd04bnTp"
      }
    },
    {
      "cell_type": "code",
      "source": [
        "tf_idf_ngram_vectorizer= TfidfVectorizer(ngram_range=(2,3))\n",
        "tf_idf_ngram_vectorizer.fit(X_train)"
      ],
      "metadata": {
        "colab": {
          "base_uri": "https://localhost:8080/"
        },
        "id": "BjWi5UMqYxrl",
        "outputId": "67038bd2-02de-4c09-aa1f-fb5febcf0b75"
      },
      "execution_count": 50,
      "outputs": [
        {
          "output_type": "execute_result",
          "data": {
            "text/plain": [
              "TfidfVectorizer(ngram_range=(2, 3))"
            ]
          },
          "metadata": {},
          "execution_count": 50
        }
      ]
    },
    {
      "cell_type": "code",
      "source": [
        "x_train_tf_idf_ngram=tf_idf_ngram_vectorizer.transform(X_train)\n",
        "x_test_tf_idf_ngram=tf_idf_ngram_vectorizer.transform(X_test)"
      ],
      "metadata": {
        "id": "WL5nwWqWcpTW"
      },
      "execution_count": 51,
      "outputs": []
    },
    {
      "cell_type": "markdown",
      "source": [
        "### charakter level"
      ],
      "metadata": {
        "id": "nWlGOKthdAvO"
      }
    },
    {
      "cell_type": "code",
      "source": [
        "tf_idf_char_vectorizer=TfidfVectorizer(analyzer=\"char\",ngram_range=(2,3))\n",
        "tf_idf_char_vectorizer.fit(X_train)"
      ],
      "metadata": {
        "colab": {
          "base_uri": "https://localhost:8080/"
        },
        "id": "9I2bN5F8dEiW",
        "outputId": "5c241835-a37e-47fd-a382-5a79b45c954d"
      },
      "execution_count": 52,
      "outputs": [
        {
          "output_type": "execute_result",
          "data": {
            "text/plain": [
              "TfidfVectorizer(analyzer='char', ngram_range=(2, 3))"
            ]
          },
          "metadata": {},
          "execution_count": 52
        }
      ]
    },
    {
      "cell_type": "code",
      "source": [
        "x_train_tf_idf_char=tf_idf_char_vectorizer.transform(X_train)\n",
        "x_test_tf_idf_char=tf_idf_char_vectorizer.transform(X_test)"
      ],
      "metadata": {
        "id": "gbqBCKIvdtzZ"
      },
      "execution_count": 53,
      "outputs": []
    },
    {
      "cell_type": "markdown",
      "source": [
        "#MAKİNE ÖĞRENMESİ İLE SENTİMENT SINIFLANDIRMASI"
      ],
      "metadata": {
        "id": "uI9g6E9MecLW"
      }
    },
    {
      "cell_type": "markdown",
      "source": [
        "## LOJİSTİK REG."
      ],
      "metadata": {
        "id": "6gM0gVTgelvm"
      }
    },
    {
      "cell_type": "markdown",
      "source": [
        "### count vectors method"
      ],
      "metadata": {
        "id": "6MHLzvengK8a"
      }
    },
    {
      "cell_type": "code",
      "source": [
        "loj=linear_model.LogisticRegression()\n",
        "loj_model=loj.fit(x_train_count,y_train)"
      ],
      "metadata": {
        "colab": {
          "base_uri": "https://localhost:8080/"
        },
        "id": "Vvgfiz5yeqL7",
        "outputId": "740c5cfa-0eff-4abf-a3f8-2cbc38c8e4c5"
      },
      "execution_count": 82,
      "outputs": [
        {
          "output_type": "stream",
          "name": "stderr",
          "text": [
            "/usr/local/lib/python3.7/dist-packages/sklearn/linear_model/_logistic.py:818: ConvergenceWarning: lbfgs failed to converge (status=1):\n",
            "STOP: TOTAL NO. of ITERATIONS REACHED LIMIT.\n",
            "\n",
            "Increase the number of iterations (max_iter) or scale the data as shown in:\n",
            "    https://scikit-learn.org/stable/modules/preprocessing.html\n",
            "Please also refer to the documentation for alternative solver options:\n",
            "    https://scikit-learn.org/stable/modules/linear_model.html#logistic-regression\n",
            "  extra_warning_msg=_LOGISTIC_SOLVER_CONVERGENCE_MSG,\n"
          ]
        }
      ]
    },
    {
      "cell_type": "code",
      "source": [
        "accuracy=model_selection.cross_val_score(loj_model,\n",
        "                                         x_test_count,\n",
        "                                         y_test,\n",
        "                                         cv=10).mean()"
      ],
      "metadata": {
        "id": "MFGWucpzfM-G"
      },
      "execution_count": 83,
      "outputs": []
    },
    {
      "cell_type": "code",
      "source": [
        "print(\"count vectors dogruluk oranı:\",accuracy)"
      ],
      "metadata": {
        "colab": {
          "base_uri": "https://localhost:8080/"
        },
        "id": "i6WHzCeveqJn",
        "outputId": "339dff1a-88be-4cf8-f25e-cf16481cdd33"
      },
      "execution_count": 56,
      "outputs": [
        {
          "output_type": "stream",
          "name": "stdout",
          "text": [
            "count vectors dogruluk oranı: 0.8388075313807531\n"
          ]
        }
      ]
    },
    {
      "cell_type": "markdown",
      "source": [
        "### tf-idf word method"
      ],
      "metadata": {
        "id": "bmfDmEuXgGUA"
      }
    },
    {
      "cell_type": "code",
      "source": [
        "loj=linear_model.LogisticRegression()\n",
        "loj_model=loj.fit(x_train_tf_idf_word,y_train)\n",
        "accuracy=model_selection.cross_val_score(loj_model,\n",
        "                                         x_test_tf_idf_word,\n",
        "                                         y_test,\n",
        "                                         cv=10).mean()\n",
        "\n",
        "print(\"tf_idf word level dogruluk oranı:\",accuracy)"
      ],
      "metadata": {
        "colab": {
          "base_uri": "https://localhost:8080/"
        },
        "id": "3QZweIbceqGo",
        "outputId": "81887721-4df4-4786-c96b-881e6467d457"
      },
      "execution_count": 57,
      "outputs": [
        {
          "output_type": "stream",
          "name": "stderr",
          "text": [
            "/usr/local/lib/python3.7/dist-packages/sklearn/linear_model/_logistic.py:818: ConvergenceWarning: lbfgs failed to converge (status=1):\n",
            "STOP: TOTAL NO. of ITERATIONS REACHED LIMIT.\n",
            "\n",
            "Increase the number of iterations (max_iter) or scale the data as shown in:\n",
            "    https://scikit-learn.org/stable/modules/preprocessing.html\n",
            "Please also refer to the documentation for alternative solver options:\n",
            "    https://scikit-learn.org/stable/modules/linear_model.html#logistic-regression\n",
            "  extra_warning_msg=_LOGISTIC_SOLVER_CONVERGENCE_MSG,\n"
          ]
        },
        {
          "output_type": "stream",
          "name": "stdout",
          "text": [
            "tf_idf word level dogruluk oranı: 0.8353556485355649\n"
          ]
        }
      ]
    },
    {
      "cell_type": "markdown",
      "source": [
        "### th-idf ngram method"
      ],
      "metadata": {
        "id": "N1UFRLoIhGta"
      }
    },
    {
      "cell_type": "code",
      "source": [
        "loj=linear_model.LogisticRegression()\n",
        "loj_model=loj.fit(x_train_tf_idf_ngram,y_train)\n",
        "accuracy=model_selection.cross_val_score(loj_model,\n",
        "                                         x_test_tf_idf_ngram,\n",
        "                                         y_test,\n",
        "                                         cv=10).mean()\n",
        "\n",
        "print(\"tf_idf ngram level dogruluk oranı:\",accuracy)"
      ],
      "metadata": {
        "colab": {
          "base_uri": "https://localhost:8080/"
        },
        "id": "1jVFdSFFeqD3",
        "outputId": "16030d58-5daf-4c0e-92f1-5ac3180f34fd"
      },
      "execution_count": 58,
      "outputs": [
        {
          "output_type": "stream",
          "name": "stdout",
          "text": [
            "tf_idf ngram level dogruluk oranı: 0.7473849372384936\n"
          ]
        }
      ]
    },
    {
      "cell_type": "markdown",
      "source": [
        "### tf-idf character method"
      ],
      "metadata": {
        "id": "gn9LdJ_IhVzx"
      }
    },
    {
      "cell_type": "code",
      "source": [
        "loj=linear_model.LogisticRegression()\n",
        "loj_model=loj.fit(x_train_tf_idf_char,y_train)\n",
        "accuracy=model_selection.cross_val_score(loj_model,\n",
        "                                         x_test_tf_idf_char,\n",
        "                                         y_test,\n",
        "                                         cv=10).mean()\n",
        "\n",
        "print(\"tf_idf char level dogruluk oranı:\",accuracy)"
      ],
      "metadata": {
        "colab": {
          "base_uri": "https://localhost:8080/"
        },
        "id": "ZMTZnMRfep_2",
        "outputId": "f5758040-7f56-45b3-a12b-424fe2743ef3"
      },
      "execution_count": 59,
      "outputs": [
        {
          "output_type": "stream",
          "name": "stderr",
          "text": [
            "/usr/local/lib/python3.7/dist-packages/sklearn/linear_model/_logistic.py:818: ConvergenceWarning: lbfgs failed to converge (status=1):\n",
            "STOP: TOTAL NO. of ITERATIONS REACHED LIMIT.\n",
            "\n",
            "Increase the number of iterations (max_iter) or scale the data as shown in:\n",
            "    https://scikit-learn.org/stable/modules/preprocessing.html\n",
            "Please also refer to the documentation for alternative solver options:\n",
            "    https://scikit-learn.org/stable/modules/linear_model.html#logistic-regression\n",
            "  extra_warning_msg=_LOGISTIC_SOLVER_CONVERGENCE_MSG,\n",
            "/usr/local/lib/python3.7/dist-packages/sklearn/linear_model/_logistic.py:818: ConvergenceWarning: lbfgs failed to converge (status=1):\n",
            "STOP: TOTAL NO. of ITERATIONS REACHED LIMIT.\n",
            "\n",
            "Increase the number of iterations (max_iter) or scale the data as shown in:\n",
            "    https://scikit-learn.org/stable/modules/preprocessing.html\n",
            "Please also refer to the documentation for alternative solver options:\n",
            "    https://scikit-learn.org/stable/modules/linear_model.html#logistic-regression\n",
            "  extra_warning_msg=_LOGISTIC_SOLVER_CONVERGENCE_MSG,\n"
          ]
        },
        {
          "output_type": "stream",
          "name": "stdout",
          "text": [
            "tf_idf char level dogruluk oranı: 0.7846757322175733\n"
          ]
        }
      ]
    },
    {
      "cell_type": "markdown",
      "source": [
        "## NAİVE BAYES"
      ],
      "metadata": {
        "id": "tU-SmvjAiSmN"
      }
    },
    {
      "cell_type": "markdown",
      "source": [
        "### count vectors  method"
      ],
      "metadata": {
        "id": "f04Fsvi3jbUk"
      }
    },
    {
      "cell_type": "code",
      "source": [
        "nb=naive_bayes.MultinomialNB()\n",
        "nb_model=nb.fit(x_train_count,y_train)\n",
        "accuracy=model_selection.cross_val_score(nb_model,\n",
        "                                         x_test_count,\n",
        "                                         y_test,\n",
        "                                         cv=10).mean()\n",
        "\n",
        "print(\"count vectors accuracy oranı: \",accuracy)"
      ],
      "metadata": {
        "colab": {
          "base_uri": "https://localhost:8080/"
        },
        "id": "1puozkKwjayX",
        "outputId": "5d729ff3-642a-4ef8-d169-e5fc4d07eea4"
      },
      "execution_count": 64,
      "outputs": [
        {
          "output_type": "stream",
          "name": "stdout",
          "text": [
            "count vectors accuracy oranı:  0.8339435146443515\n"
          ]
        }
      ]
    },
    {
      "cell_type": "markdown",
      "source": [
        "### tf-idf word method"
      ],
      "metadata": {
        "id": "Sl-wF_8NirEZ"
      }
    },
    {
      "cell_type": "code",
      "source": [
        "nb=naive_bayes.MultinomialNB()\n",
        "nb_model=nb.fit(x_train_tf_idf_word,y_train)\n",
        "accuracy=model_selection.cross_val_score(nb_model,\n",
        "                                         x_test_tf_idf_word,\n",
        "                                         y_test,\n",
        "                                         cv=10).mean()\n",
        "\n",
        "print(\"naive bayes tf_idf word accuracy oranı: \",accuracy)\n",
        "\n"
      ],
      "metadata": {
        "colab": {
          "base_uri": "https://localhost:8080/"
        },
        "id": "3Re_KQ2mep7d",
        "outputId": "52cc1c29-d184-473c-ffe3-dcbdb47a7b6f"
      },
      "execution_count": 65,
      "outputs": [
        {
          "output_type": "stream",
          "name": "stdout",
          "text": [
            "naive bayes tf_idf word accuracy oranı:  0.835826359832636\n"
          ]
        }
      ]
    },
    {
      "cell_type": "markdown",
      "source": [
        "### tf-idf ngrams method"
      ],
      "metadata": {
        "id": "5Jlfn1yJjvND"
      }
    },
    {
      "cell_type": "code",
      "source": [
        "nb=naive_bayes.MultinomialNB()\n",
        "nb_model=nb.fit(x_train_tf_idf_ngram,y_train)\n",
        "accuracy=model_selection.cross_val_score(nb_model,\n",
        "                                         x_test_tf_idf_ngram,\n",
        "                                         y_test,\n",
        "                                         cv=10).mean()\n",
        "\n",
        "print(\"naive bayes tf_idf ngram accuracy oranı: \",accuracy)"
      ],
      "metadata": {
        "colab": {
          "base_uri": "https://localhost:8080/"
        },
        "id": "AiKtL8hbj7b0",
        "outputId": "afaeb34c-f46b-4dde-be20-0cada3e0f0f1"
      },
      "execution_count": 66,
      "outputs": [
        {
          "output_type": "stream",
          "name": "stdout",
          "text": [
            "naive bayes tf_idf ngram accuracy oranı:  0.7669456066945608\n"
          ]
        }
      ]
    },
    {
      "cell_type": "markdown",
      "source": [
        "###tf-idf char method"
      ],
      "metadata": {
        "id": "vZmS3G7yjuxF"
      }
    },
    {
      "cell_type": "code",
      "source": [
        "nb=naive_bayes.MultinomialNB()\n",
        "nb_model=nb.fit(x_train_tf_idf_char,y_train)\n",
        "accuracy=model_selection.cross_val_score(nb_model,\n",
        "                                         x_test_tf_idf_char,\n",
        "                                         y_test,\n",
        "                                         cv=10).mean()\n",
        "\n",
        "print(\"naive bayes tf_idf char accuracy oranı: \",accuracy)"
      ],
      "metadata": {
        "colab": {
          "base_uri": "https://localhost:8080/"
        },
        "id": "n0QjYcr4ilIi",
        "outputId": "95c24b48-5671-4253-8d85-99e8c2490e66"
      },
      "execution_count": 67,
      "outputs": [
        {
          "output_type": "stream",
          "name": "stdout",
          "text": [
            "naive bayes tf_idf char accuracy oranı:  0.7568514644351465\n"
          ]
        }
      ]
    },
    {
      "cell_type": "markdown",
      "source": [
        "## RANDOM FORESTS"
      ],
      "metadata": {
        "id": "8ZumWE18kk6M"
      }
    },
    {
      "cell_type": "markdown",
      "source": [
        "### count method"
      ],
      "metadata": {
        "id": "_Ch3a26Kzbth"
      }
    },
    {
      "cell_type": "code",
      "source": [
        "rf=ensemble.RandomForestClassifier()\n",
        "rf_model=rf.fit(x_train_count,y_train)\n",
        "accuracy=model_selection.cross_val_score(rf_model,\n",
        "                                         x_test_count,\n",
        "                                         y_test,\n",
        "                                         cv=10).mean()\n",
        "\n",
        "print(\"rf count method accuracy oranı:\",accuracy)"
      ],
      "metadata": {
        "id": "7VmzebvNkL7Y"
      },
      "execution_count": null,
      "outputs": []
    },
    {
      "cell_type": "markdown",
      "source": [
        "###tf-idf word method"
      ],
      "metadata": {
        "id": "3gMdeW9vzfQ3"
      }
    },
    {
      "cell_type": "code",
      "source": [
        "rf=ensemble.RandomForestClassifier()\n",
        "rf_model=rf.fit(x_train_tf_idf_word,y_train)\n",
        "accuracy=model_selection.cross_val_score(rf_model,\n",
        "                                         x_test_tf_idf_word,\n",
        "                                         y_test,\n",
        "                                         cv=10).mean()\n",
        "\n",
        "print(\"rf tf-idf word method accuracy oranı:\",accuracy)"
      ],
      "metadata": {
        "id": "u3ZpRyd9z7g5"
      },
      "execution_count": null,
      "outputs": []
    },
    {
      "cell_type": "markdown",
      "source": [
        "###tf-idf ngram method"
      ],
      "metadata": {
        "id": "kmhdJZ1dzyci"
      }
    },
    {
      "cell_type": "code",
      "source": [
        "rf=ensemble.RandomForestClassifier()\n",
        "rf_model=rf.fit(x_train_tf_idf_ngram,y_train)\n",
        "accuracy=model_selection.cross_val_score(rf_model,\n",
        "                                         x_test_tf_idf_ngram,\n",
        "                                         y_test,\n",
        "                                         cv=10).mean()\n",
        "\n",
        "print(\"rf tf-idf ngram method accuracy oranı:\",accuracy)"
      ],
      "metadata": {
        "id": "_e6OePWoz8AM"
      },
      "execution_count": null,
      "outputs": []
    },
    {
      "cell_type": "markdown",
      "source": [
        "###tf-idf char method"
      ],
      "metadata": {
        "id": "LOqeg4sOz2u5"
      }
    },
    {
      "cell_type": "code",
      "source": [
        "rf=ensemble.RandomForestClassifier()\n",
        "rf_model=rf.fit(x_train_tf_idf_char,y_train)\n",
        "accuracy=model_selection.cross_val_score(rf_model,\n",
        "                                         x_test_tf_idf_char,\n",
        "                                         y_test,\n",
        "                                         cv=10).mean()\n",
        "\n",
        "print(\"rf tf-idf char method accuracy oranı:\",accuracy)"
      ],
      "metadata": {
        "id": "tpwqzpeAvgTl"
      },
      "execution_count": null,
      "outputs": []
    },
    {
      "cell_type": "markdown",
      "source": [
        "## xgboost"
      ],
      "metadata": {
        "id": "k_gRQEH-Dd_5"
      }
    },
    {
      "cell_type": "markdown",
      "source": [
        "###count method"
      ],
      "metadata": {
        "id": "BvvE2PrNDgbt"
      }
    },
    {
      "cell_type": "code",
      "source": [
        "xgb=xgboost.XGBClassifier()\n",
        "xgb_model=xgb.fit(x_train_count,y_train)\n",
        "accuracy=model_selection.cross_val_score(xgb_model,\n",
        "                                         x_test_count,\n",
        "                                         y_test,\n",
        "                                         cv=5).mean()\n",
        "print(\"xgboot count method accuracy oranı:\",accuracy)"
      ],
      "metadata": {
        "colab": {
          "base_uri": "https://localhost:8080/"
        },
        "id": "tiVsFJZaD65b",
        "outputId": "de59ab0d-6ceb-42ab-9f17-0108de76d098"
      },
      "execution_count": 78,
      "outputs": [
        {
          "output_type": "stream",
          "name": "stdout",
          "text": [
            "xgboot count method accuracy oranı: 0.6300732217573222\n"
          ]
        }
      ]
    },
    {
      "cell_type": "markdown",
      "source": [
        "tf_idf word method"
      ],
      "metadata": {
        "id": "epJYRJS8DjSR"
      }
    },
    {
      "cell_type": "code",
      "source": [
        "xgb=xgboost.XGBClassifier()\n",
        "xgb_model=xgb.fit(x_train_tf_idf_word,y_train)\n",
        "accuracy=model_selection.cross_val_score(xgb_model,\n",
        "                                         x_test_tf_idf_word,\n",
        "                                         y_test,\n",
        "                                         cv=5).mean()\n",
        "print(\"xgboot count method accuracy oranı:\",accuracy)"
      ],
      "metadata": {
        "colab": {
          "base_uri": "https://localhost:8080/"
        },
        "id": "CsrGtG4vEh02",
        "outputId": "a485a7ee-b3f2-4911-8192-4b8b00420665"
      },
      "execution_count": 79,
      "outputs": [
        {
          "output_type": "stream",
          "name": "stdout",
          "text": [
            "xgboot count method accuracy oranı: 0.631276150627615\n"
          ]
        }
      ]
    },
    {
      "cell_type": "markdown",
      "source": [
        "### tf_idf char method"
      ],
      "metadata": {
        "id": "aeIw-ViKDlpl"
      }
    },
    {
      "cell_type": "code",
      "source": [
        "xgb=xgboost.XGBClassifier()\n",
        "xgb_model=xgb.fit(x_train_tf_idf_char,y_train)\n",
        "accuracy=model_selection.cross_val_score(xgb_model,\n",
        "                                         x_test_tf_idf_char,\n",
        "                                         y_test,\n",
        "                                         cv=5).mean()\n",
        "print(\"xgboot tf_idf char method accuracy oranı:\",accuracy)"
      ],
      "metadata": {
        "colab": {
          "base_uri": "https://localhost:8080/"
        },
        "id": "XK8fA9EMEjPV",
        "outputId": "7fcf7a42-4d71-403e-a285-a1ba28d48af0"
      },
      "execution_count": 80,
      "outputs": [
        {
          "output_type": "stream",
          "name": "stdout",
          "text": [
            "xgboot tf_idf char method accuracy oranı: 0.6861924686192469\n"
          ]
        }
      ]
    },
    {
      "cell_type": "markdown",
      "source": [
        "### tf_idf ngrams method"
      ],
      "metadata": {
        "id": "XkYCaLwNDoca"
      }
    },
    {
      "cell_type": "code",
      "source": [
        "xgb=xgboost.XGBClassifier()\n",
        "xgb_model=xgb.fit(x_train_tf_idf_ngram,y_train)\n",
        "accuracy=model_selection.cross_val_score(xgb_model,\n",
        "                                         x_test_tf_idf_ngram,\n",
        "                                         y_test,\n",
        "                                         cv=5).mean()\n",
        "print(\"xgboot tf-idf ngrams method accuracy oranı:\",accuracy)"
      ],
      "metadata": {
        "colab": {
          "base_uri": "https://localhost:8080/"
        },
        "id": "NVfdauGJEkrN",
        "outputId": "25a15ef8-24b4-4e17-e9bc-7a92402c72dc"
      },
      "execution_count": 81,
      "outputs": [
        {
          "output_type": "stream",
          "name": "stdout",
          "text": [
            "xgboot tf-idf ngrams method accuracy oranı: 0.5636506276150628\n"
          ]
        }
      ]
    },
    {
      "cell_type": "markdown",
      "source": [
        "## prediction "
      ],
      "metadata": {
        "id": "Ia1NfwGrGzYn"
      }
    },
    {
      "cell_type": "markdown",
      "source": [
        "yeni yorumu direkt modele veremeyiz modelin beslendii train verisi gibi yeni yorumlar da countvectorizer() dan geçmeli.\n",
        "* tehmin işlemini logistic regresyonda uygulayacagız\n",
        "*linear logistic reg. count methodu en iyi sonuc veren yöntem gibi duruyor 8388 en son o modeli tekrar çalıştırıp tahmine başlıyoruz\n"
      ],
      "metadata": {
        "id": "SqX5sd4-G3Kp"
      }
    },
    {
      "cell_type": "code",
      "source": [
        "loj_model.predict(\"nice good i like it so much\")\n",
        "# hata çünkü vektörize edilmedi"
      ],
      "metadata": {
        "colab": {
          "base_uri": "https://localhost:8080/",
          "height": 363
        },
        "id": "StfYdy7zHG0_",
        "outputId": "2899b1fe-9b2e-4946-f077-f3eb2d39c09c"
      },
      "execution_count": 84,
      "outputs": [
        {
          "output_type": "error",
          "ename": "ValueError",
          "evalue": "ignored",
          "traceback": [
            "\u001b[0;31m---------------------------------------------------------------------------\u001b[0m",
            "\u001b[0;31mValueError\u001b[0m                                Traceback (most recent call last)",
            "\u001b[0;32m<ipython-input-84-0391dcf5abc8>\u001b[0m in \u001b[0;36m<module>\u001b[0;34m\u001b[0m\n\u001b[0;32m----> 1\u001b[0;31m \u001b[0mloj_model\u001b[0m\u001b[0;34m.\u001b[0m\u001b[0mpredict\u001b[0m\u001b[0;34m(\u001b[0m\u001b[0;34m\"nice good i like it so much\"\u001b[0m\u001b[0;34m)\u001b[0m\u001b[0;34m\u001b[0m\u001b[0;34m\u001b[0m\u001b[0m\n\u001b[0m",
            "\u001b[0;32m/usr/local/lib/python3.7/dist-packages/sklearn/linear_model/_base.py\u001b[0m in \u001b[0;36mpredict\u001b[0;34m(self, X)\u001b[0m\n\u001b[1;32m    423\u001b[0m             \u001b[0mVector\u001b[0m \u001b[0mcontaining\u001b[0m \u001b[0mthe\u001b[0m \u001b[0;32mclass\u001b[0m \u001b[0mlabels\u001b[0m \u001b[0;32mfor\u001b[0m \u001b[0meach\u001b[0m \u001b[0msample\u001b[0m\u001b[0;34m.\u001b[0m\u001b[0;34m\u001b[0m\u001b[0;34m\u001b[0m\u001b[0m\n\u001b[1;32m    424\u001b[0m         \"\"\"\n\u001b[0;32m--> 425\u001b[0;31m         \u001b[0mscores\u001b[0m \u001b[0;34m=\u001b[0m \u001b[0mself\u001b[0m\u001b[0;34m.\u001b[0m\u001b[0mdecision_function\u001b[0m\u001b[0;34m(\u001b[0m\u001b[0mX\u001b[0m\u001b[0;34m)\u001b[0m\u001b[0;34m\u001b[0m\u001b[0;34m\u001b[0m\u001b[0m\n\u001b[0m\u001b[1;32m    426\u001b[0m         \u001b[0;32mif\u001b[0m \u001b[0mlen\u001b[0m\u001b[0;34m(\u001b[0m\u001b[0mscores\u001b[0m\u001b[0;34m.\u001b[0m\u001b[0mshape\u001b[0m\u001b[0;34m)\u001b[0m \u001b[0;34m==\u001b[0m \u001b[0;36m1\u001b[0m\u001b[0;34m:\u001b[0m\u001b[0;34m\u001b[0m\u001b[0;34m\u001b[0m\u001b[0m\n\u001b[1;32m    427\u001b[0m             \u001b[0mindices\u001b[0m \u001b[0;34m=\u001b[0m \u001b[0;34m(\u001b[0m\u001b[0mscores\u001b[0m \u001b[0;34m>\u001b[0m \u001b[0;36m0\u001b[0m\u001b[0;34m)\u001b[0m\u001b[0;34m.\u001b[0m\u001b[0mastype\u001b[0m\u001b[0;34m(\u001b[0m\u001b[0mint\u001b[0m\u001b[0;34m)\u001b[0m\u001b[0;34m\u001b[0m\u001b[0;34m\u001b[0m\u001b[0m\n",
            "\u001b[0;32m/usr/local/lib/python3.7/dist-packages/sklearn/linear_model/_base.py\u001b[0m in \u001b[0;36mdecision_function\u001b[0;34m(self, X)\u001b[0m\n\u001b[1;32m    405\u001b[0m         \u001b[0mcheck_is_fitted\u001b[0m\u001b[0;34m(\u001b[0m\u001b[0mself\u001b[0m\u001b[0;34m)\u001b[0m\u001b[0;34m\u001b[0m\u001b[0;34m\u001b[0m\u001b[0m\n\u001b[1;32m    406\u001b[0m \u001b[0;34m\u001b[0m\u001b[0m\n\u001b[0;32m--> 407\u001b[0;31m         \u001b[0mX\u001b[0m \u001b[0;34m=\u001b[0m \u001b[0mself\u001b[0m\u001b[0;34m.\u001b[0m\u001b[0m_validate_data\u001b[0m\u001b[0;34m(\u001b[0m\u001b[0mX\u001b[0m\u001b[0;34m,\u001b[0m \u001b[0maccept_sparse\u001b[0m\u001b[0;34m=\u001b[0m\u001b[0;34m\"csr\"\u001b[0m\u001b[0;34m,\u001b[0m \u001b[0mreset\u001b[0m\u001b[0;34m=\u001b[0m\u001b[0;32mFalse\u001b[0m\u001b[0;34m)\u001b[0m\u001b[0;34m\u001b[0m\u001b[0;34m\u001b[0m\u001b[0m\n\u001b[0m\u001b[1;32m    408\u001b[0m         \u001b[0mscores\u001b[0m \u001b[0;34m=\u001b[0m \u001b[0msafe_sparse_dot\u001b[0m\u001b[0;34m(\u001b[0m\u001b[0mX\u001b[0m\u001b[0;34m,\u001b[0m \u001b[0mself\u001b[0m\u001b[0;34m.\u001b[0m\u001b[0mcoef_\u001b[0m\u001b[0;34m.\u001b[0m\u001b[0mT\u001b[0m\u001b[0;34m,\u001b[0m \u001b[0mdense_output\u001b[0m\u001b[0;34m=\u001b[0m\u001b[0;32mTrue\u001b[0m\u001b[0;34m)\u001b[0m \u001b[0;34m+\u001b[0m \u001b[0mself\u001b[0m\u001b[0;34m.\u001b[0m\u001b[0mintercept_\u001b[0m\u001b[0;34m\u001b[0m\u001b[0;34m\u001b[0m\u001b[0m\n\u001b[1;32m    409\u001b[0m         \u001b[0;32mreturn\u001b[0m \u001b[0mscores\u001b[0m\u001b[0;34m.\u001b[0m\u001b[0mravel\u001b[0m\u001b[0;34m(\u001b[0m\u001b[0;34m)\u001b[0m \u001b[0;32mif\u001b[0m \u001b[0mscores\u001b[0m\u001b[0;34m.\u001b[0m\u001b[0mshape\u001b[0m\u001b[0;34m[\u001b[0m\u001b[0;36m1\u001b[0m\u001b[0;34m]\u001b[0m \u001b[0;34m==\u001b[0m \u001b[0;36m1\u001b[0m \u001b[0;32melse\u001b[0m \u001b[0mscores\u001b[0m\u001b[0;34m\u001b[0m\u001b[0;34m\u001b[0m\u001b[0m\n",
            "\u001b[0;32m/usr/local/lib/python3.7/dist-packages/sklearn/base.py\u001b[0m in \u001b[0;36m_validate_data\u001b[0;34m(self, X, y, reset, validate_separately, **check_params)\u001b[0m\n\u001b[1;32m    564\u001b[0m             \u001b[0;32mraise\u001b[0m \u001b[0mValueError\u001b[0m\u001b[0;34m(\u001b[0m\u001b[0;34m\"Validation should be done on X, y or both.\"\u001b[0m\u001b[0;34m)\u001b[0m\u001b[0;34m\u001b[0m\u001b[0;34m\u001b[0m\u001b[0m\n\u001b[1;32m    565\u001b[0m         \u001b[0;32melif\u001b[0m \u001b[0;32mnot\u001b[0m \u001b[0mno_val_X\u001b[0m \u001b[0;32mand\u001b[0m \u001b[0mno_val_y\u001b[0m\u001b[0;34m:\u001b[0m\u001b[0;34m\u001b[0m\u001b[0;34m\u001b[0m\u001b[0m\n\u001b[0;32m--> 566\u001b[0;31m             \u001b[0mX\u001b[0m \u001b[0;34m=\u001b[0m \u001b[0mcheck_array\u001b[0m\u001b[0;34m(\u001b[0m\u001b[0mX\u001b[0m\u001b[0;34m,\u001b[0m \u001b[0;34m**\u001b[0m\u001b[0mcheck_params\u001b[0m\u001b[0;34m)\u001b[0m\u001b[0;34m\u001b[0m\u001b[0;34m\u001b[0m\u001b[0m\n\u001b[0m\u001b[1;32m    567\u001b[0m             \u001b[0mout\u001b[0m \u001b[0;34m=\u001b[0m \u001b[0mX\u001b[0m\u001b[0;34m\u001b[0m\u001b[0;34m\u001b[0m\u001b[0m\n\u001b[1;32m    568\u001b[0m         \u001b[0;32melif\u001b[0m \u001b[0mno_val_X\u001b[0m \u001b[0;32mand\u001b[0m \u001b[0;32mnot\u001b[0m \u001b[0mno_val_y\u001b[0m\u001b[0;34m:\u001b[0m\u001b[0;34m\u001b[0m\u001b[0;34m\u001b[0m\u001b[0m\n",
            "\u001b[0;32m/usr/local/lib/python3.7/dist-packages/sklearn/utils/validation.py\u001b[0m in \u001b[0;36mcheck_array\u001b[0;34m(array, accept_sparse, accept_large_sparse, dtype, order, copy, force_all_finite, ensure_2d, allow_nd, ensure_min_samples, ensure_min_features, estimator)\u001b[0m\n\u001b[1;32m    763\u001b[0m                     \u001b[0;34m\"Reshape your data either using array.reshape(-1, 1) if \"\u001b[0m\u001b[0;34m\u001b[0m\u001b[0;34m\u001b[0m\u001b[0m\n\u001b[1;32m    764\u001b[0m                     \u001b[0;34m\"your data has a single feature or array.reshape(1, -1) \"\u001b[0m\u001b[0;34m\u001b[0m\u001b[0;34m\u001b[0m\u001b[0m\n\u001b[0;32m--> 765\u001b[0;31m                     \u001b[0;34m\"if it contains a single sample.\"\u001b[0m\u001b[0;34m.\u001b[0m\u001b[0mformat\u001b[0m\u001b[0;34m(\u001b[0m\u001b[0marray\u001b[0m\u001b[0;34m)\u001b[0m\u001b[0;34m\u001b[0m\u001b[0;34m\u001b[0m\u001b[0m\n\u001b[0m\u001b[1;32m    766\u001b[0m                 )\n\u001b[1;32m    767\u001b[0m             \u001b[0;31m# If input is 1D raise error\u001b[0m\u001b[0;34m\u001b[0m\u001b[0;34m\u001b[0m\u001b[0;34m\u001b[0m\u001b[0m\n",
            "\u001b[0;31mValueError\u001b[0m: Expected 2D array, got scalar array instead:\narray=nice good i like it so much.\nReshape your data either using array.reshape(-1, 1) if your data has a single feature or array.reshape(1, -1) if it contains a single sample."
          ]
        }
      ]
    },
    {
      "cell_type": "code",
      "source": [
        "yeni_yorum=\"i lie it nice it is very fun\""
      ],
      "metadata": {
        "id": "oygvk_vUJAoq"
      },
      "execution_count": 98,
      "outputs": []
    },
    {
      "cell_type": "code",
      "source": [
        "yeni_yorum=pd.Series(\"i lie it nice it is very fun\")\n",
        "yorum2=pd.Series(\"this shit is awsome \")\n",
        "yorum3=pd.Series(\"what a hilorius fuck\")\n",
        "yorum4=pd.Series(\"amazing film\")\n",
        "yorum5=pd.Series(\"no no no way i haven't see a film better than that\")\n"
      ],
      "metadata": {
        "id": "knvAaKuDJqTx"
      },
      "execution_count": 165,
      "outputs": []
    },
    {
      "cell_type": "code",
      "source": [
        "vectorizer=CountVectorizer()"
      ],
      "metadata": {
        "id": "40FR5ZoIJKAt"
      },
      "execution_count": 166,
      "outputs": []
    },
    {
      "cell_type": "code",
      "source": [
        "vectorizer.fit(X_train)"
      ],
      "metadata": {
        "colab": {
          "base_uri": "https://localhost:8080/"
        },
        "id": "5Gx0gugsJPp2",
        "outputId": "f56e83a2-02db-4376-e814-9818792ae041"
      },
      "execution_count": 167,
      "outputs": [
        {
          "output_type": "execute_result",
          "data": {
            "text/plain": [
              "CountVectorizer()"
            ]
          },
          "metadata": {},
          "execution_count": 167
        }
      ]
    },
    {
      "cell_type": "code",
      "source": [
        "yorum5=vectorizer.transform(yorum5)"
      ],
      "metadata": {
        "id": "wE2xBG5cJXU7"
      },
      "execution_count": 168,
      "outputs": []
    },
    {
      "cell_type": "code",
      "source": [
        "loj_model.predict(yorum5)"
      ],
      "metadata": {
        "colab": {
          "base_uri": "https://localhost:8080/"
        },
        "id": "Br5NtJtwJkyc",
        "outputId": "5e086fa3-c648-4601-f8f1-cfa3a25567eb"
      },
      "execution_count": 169,
      "outputs": [
        {
          "output_type": "execute_result",
          "data": {
            "text/plain": [
              "array([1])"
            ]
          },
          "metadata": {},
          "execution_count": 169
        }
      ]
    },
    {
      "cell_type": "code",
      "source": [],
      "metadata": {
        "id": "kXv0Ni8sKB4g"
      },
      "execution_count": null,
      "outputs": []
    }
  ]
}