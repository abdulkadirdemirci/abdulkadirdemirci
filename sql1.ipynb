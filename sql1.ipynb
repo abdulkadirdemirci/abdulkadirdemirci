{
  "nbformat": 4,
  "nbformat_minor": 0,
  "metadata": {
    "colab": {
      "provenance": [],
      "collapsed_sections": [],
      "mount_file_id": "14PNhtg6raOOFoo2Zi62nSi96oQ8XNT8L",
      "authorship_tag": "ABX9TyP7nIqeW1TrVT4TnUPoEIgG",
      "include_colab_link": true
    },
    "kernelspec": {
      "name": "python3",
      "display_name": "Python 3"
    },
    "language_info": {
      "name": "python"
    }
  },
  "cells": [
    {
      "cell_type": "markdown",
      "metadata": {
        "id": "view-in-github",
        "colab_type": "text"
      },
      "source": [
        "<a href=\"https://colab.research.google.com/github/abdulkadirdemirci/abdulkadirdemirci/blob/main/sql1.ipynb\" target=\"_parent\"><img src=\"https://colab.research.google.com/assets/colab-badge.svg\" alt=\"Open In Colab\"/></a>"
      ]
    },
    {
      "cell_type": "code",
      "execution_count": 4,
      "metadata": {
        "id": "enePwZp0Yt0Q",
        "colab": {
          "base_uri": "https://localhost:8080/"
        },
        "outputId": "78bf6f8e-d75b-4465-e0cf-8f5aaed952e1"
      },
      "outputs": [
        {
          "output_type": "execute_result",
          "data": {
            "text/plain": [
              "['Looking in indexes: https://pypi.org/simple, https://us-python.pkg.dev/colab-wheels/public/simple/',\n",
              " 'Requirement already satisfied: ipython-sql in /usr/local/lib/python3.7/dist-packages (0.3.9)',\n",
              " 'Requirement already satisfied: prettytable in /usr/local/lib/python3.7/dist-packages (from ipython-sql) (3.4.1)',\n",
              " 'Requirement already satisfied: ipython-genutils>=0.1.0 in /usr/local/lib/python3.7/dist-packages (from ipython-sql) (0.2.0)',\n",
              " 'Requirement already satisfied: sqlalchemy>=0.6.7 in /usr/local/lib/python3.7/dist-packages (from ipython-sql) (1.4.41)',\n",
              " 'Requirement already satisfied: ipython>=1.0 in /usr/local/lib/python3.7/dist-packages (from ipython-sql) (7.9.0)',\n",
              " 'Requirement already satisfied: six in /usr/local/lib/python3.7/dist-packages (from ipython-sql) (1.15.0)',\n",
              " 'Requirement already satisfied: sqlparse in /usr/local/lib/python3.7/dist-packages (from ipython-sql) (0.4.2)',\n",
              " 'Requirement already satisfied: traitlets>=4.2 in /usr/local/lib/python3.7/dist-packages (from ipython>=1.0->ipython-sql) (5.1.1)',\n",
              " 'Requirement already satisfied: setuptools>=18.5 in /usr/local/lib/python3.7/dist-packages (from ipython>=1.0->ipython-sql) (57.4.0)',\n",
              " 'Requirement already satisfied: backcall in /usr/local/lib/python3.7/dist-packages (from ipython>=1.0->ipython-sql) (0.2.0)',\n",
              " 'Requirement already satisfied: pexpect in /usr/local/lib/python3.7/dist-packages (from ipython>=1.0->ipython-sql) (4.8.0)',\n",
              " 'Collecting jedi>=0.10',\n",
              " '  Downloading jedi-0.18.1-py2.py3-none-any.whl (1.6 MB)',\n",
              " '\\x1b[?25l',\n",
              " '\\x1b[K     |▏                               | 10 kB 5.0 MB/s eta 0:00:01',\n",
              " '\\x1b[K     |▍                               | 20 kB 2.4 MB/s eta 0:00:01',\n",
              " '\\x1b[K     |▋                               | 30 kB 3.4 MB/s eta 0:00:01',\n",
              " '\\x1b[K     |▉                               | 40 kB 1.5 MB/s eta 0:00:01',\n",
              " '\\x1b[K     |█                               | 51 kB 1.7 MB/s eta 0:00:01',\n",
              " '\\x1b[K     |█▎                              | 61 kB 2.0 MB/s eta 0:00:01',\n",
              " '\\x1b[K     |█▌                              | 71 kB 2.1 MB/s eta 0:00:01',\n",
              " '\\x1b[K     |█▊                              | 81 kB 2.4 MB/s eta 0:00:01',\n",
              " '\\x1b[K     |█▉                              | 92 kB 2.5 MB/s eta 0:00:01',\n",
              " '\\x1b[K     |██                              | 102 kB 2.0 MB/s eta 0:00:01',\n",
              " '\\x1b[K     |██▎                             | 112 kB 2.0 MB/s eta 0:00:01',\n",
              " '\\x1b[K     |██▌                             | 122 kB 2.0 MB/s eta 0:00:01',\n",
              " '\\x1b[K     |██▊                             | 133 kB 2.0 MB/s eta 0:00:01',\n",
              " '\\x1b[K     |███                             | 143 kB 2.0 MB/s eta 0:00:01',\n",
              " '\\x1b[K     |███▏                            | 153 kB 2.0 MB/s eta 0:00:01',\n",
              " '\\x1b[K     |███▍                            | 163 kB 2.0 MB/s eta 0:00:01',\n",
              " '\\x1b[K     |███▌                            | 174 kB 2.0 MB/s eta 0:00:01',\n",
              " '\\x1b[K     |███▊                            | 184 kB 2.0 MB/s eta 0:00:01',\n",
              " '\\x1b[K     |████                            | 194 kB 2.0 MB/s eta 0:00:01',\n",
              " '\\x1b[K     |████▏                           | 204 kB 2.0 MB/s eta 0:00:01',\n",
              " '\\x1b[K     |████▍                           | 215 kB 2.0 MB/s eta 0:00:01',\n",
              " '\\x1b[K     |████▋                           | 225 kB 2.0 MB/s eta 0:00:01',\n",
              " '\\x1b[K     |████▉                           | 235 kB 2.0 MB/s eta 0:00:01',\n",
              " '\\x1b[K     |█████                           | 245 kB 2.0 MB/s eta 0:00:01',\n",
              " '\\x1b[K     |█████▎                          | 256 kB 2.0 MB/s eta 0:00:01',\n",
              " '\\x1b[K     |█████▍                          | 266 kB 2.0 MB/s eta 0:00:01',\n",
              " '\\x1b[K     |█████▋                          | 276 kB 2.0 MB/s eta 0:00:01',\n",
              " '\\x1b[K     |█████▉                          | 286 kB 2.0 MB/s eta 0:00:01',\n",
              " '\\x1b[K     |██████                          | 296 kB 2.0 MB/s eta 0:00:01',\n",
              " '\\x1b[K     |██████▎                         | 307 kB 2.0 MB/s eta 0:00:01',\n",
              " '\\x1b[K     |██████▌                         | 317 kB 2.0 MB/s eta 0:00:01',\n",
              " '\\x1b[K     |██████▊                         | 327 kB 2.0 MB/s eta 0:00:01',\n",
              " '\\x1b[K     |███████                         | 337 kB 2.0 MB/s eta 0:00:01',\n",
              " '\\x1b[K     |███████                         | 348 kB 2.0 MB/s eta 0:00:01',\n",
              " '\\x1b[K     |███████▎                        | 358 kB 2.0 MB/s eta 0:00:01',\n",
              " '\\x1b[K     |███████▌                        | 368 kB 2.0 MB/s eta 0:00:01',\n",
              " '\\x1b[K     |███████▊                        | 378 kB 2.0 MB/s eta 0:00:01',\n",
              " '\\x1b[K     |████████                        | 389 kB 2.0 MB/s eta 0:00:01',\n",
              " '\\x1b[K     |████████▏                       | 399 kB 2.0 MB/s eta 0:00:01',\n",
              " '\\x1b[K     |████████▍                       | 409 kB 2.0 MB/s eta 0:00:01',\n",
              " '\\x1b[K     |████████▋                       | 419 kB 2.0 MB/s eta 0:00:01',\n",
              " '\\x1b[K     |████████▉                       | 430 kB 2.0 MB/s eta 0:00:01',\n",
              " '\\x1b[K     |█████████                       | 440 kB 2.0 MB/s eta 0:00:01',\n",
              " '\\x1b[K     |█████████▏                      | 450 kB 2.0 MB/s eta 0:00:01',\n",
              " '\\x1b[K     |█████████▍                      | 460 kB 2.0 MB/s eta 0:00:01',\n",
              " '\\x1b[K     |█████████▋                      | 471 kB 2.0 MB/s eta 0:00:01',\n",
              " '\\x1b[K     |█████████▉                      | 481 kB 2.0 MB/s eta 0:00:01',\n",
              " '\\x1b[K     |██████████                      | 491 kB 2.0 MB/s eta 0:00:01',\n",
              " '\\x1b[K     |██████████▎                     | 501 kB 2.0 MB/s eta 0:00:01',\n",
              " '\\x1b[K     |██████████▌                     | 512 kB 2.0 MB/s eta 0:00:01',\n",
              " '\\x1b[K     |██████████▋                     | 522 kB 2.0 MB/s eta 0:00:01',\n",
              " '\\x1b[K     |██████████▉                     | 532 kB 2.0 MB/s eta 0:00:01',\n",
              " '\\x1b[K     |███████████                     | 542 kB 2.0 MB/s eta 0:00:01',\n",
              " '\\x1b[K     |███████████▎                    | 552 kB 2.0 MB/s eta 0:00:01',\n",
              " '\\x1b[K     |███████████▌                    | 563 kB 2.0 MB/s eta 0:00:01',\n",
              " '\\x1b[K     |███████████▊                    | 573 kB 2.0 MB/s eta 0:00:01',\n",
              " '\\x1b[K     |████████████                    | 583 kB 2.0 MB/s eta 0:00:01',\n",
              " '\\x1b[K     |████████████▏                   | 593 kB 2.0 MB/s eta 0:00:01',\n",
              " '\\x1b[K     |████████████▍                   | 604 kB 2.0 MB/s eta 0:00:01',\n",
              " '\\x1b[K     |████████████▌                   | 614 kB 2.0 MB/s eta 0:00:01',\n",
              " '\\x1b[K     |████████████▊                   | 624 kB 2.0 MB/s eta 0:00:01',\n",
              " '\\x1b[K     |█████████████                   | 634 kB 2.0 MB/s eta 0:00:01',\n",
              " '\\x1b[K     |█████████████▏                  | 645 kB 2.0 MB/s eta 0:00:01',\n",
              " '\\x1b[K     |█████████████▍                  | 655 kB 2.0 MB/s eta 0:00:01',\n",
              " '\\x1b[K     |█████████████▋                  | 665 kB 2.0 MB/s eta 0:00:01',\n",
              " '\\x1b[K     |█████████████▉                  | 675 kB 2.0 MB/s eta 0:00:01',\n",
              " '\\x1b[K     |██████████████                  | 686 kB 2.0 MB/s eta 0:00:01',\n",
              " '\\x1b[K     |██████████████▏                 | 696 kB 2.0 MB/s eta 0:00:01',\n",
              " '\\x1b[K     |██████████████▍                 | 706 kB 2.0 MB/s eta 0:00:01',\n",
              " '\\x1b[K     |██████████████▋                 | 716 kB 2.0 MB/s eta 0:00:01',\n",
              " '\\x1b[K     |██████████████▉                 | 727 kB 2.0 MB/s eta 0:00:01',\n",
              " '\\x1b[K     |███████████████                 | 737 kB 2.0 MB/s eta 0:00:01',\n",
              " '\\x1b[K     |███████████████▎                | 747 kB 2.0 MB/s eta 0:00:01',\n",
              " '\\x1b[K     |███████████████▌                | 757 kB 2.0 MB/s eta 0:00:01',\n",
              " '\\x1b[K     |███████████████▊                | 768 kB 2.0 MB/s eta 0:00:01',\n",
              " '\\x1b[K     |████████████████                | 778 kB 2.0 MB/s eta 0:00:01',\n",
              " '\\x1b[K     |████████████████                | 788 kB 2.0 MB/s eta 0:00:01',\n",
              " '\\x1b[K     |████████████████▎               | 798 kB 2.0 MB/s eta 0:00:01',\n",
              " '\\x1b[K     |████████████████▌               | 808 kB 2.0 MB/s eta 0:00:01',\n",
              " '\\x1b[K     |████████████████▊               | 819 kB 2.0 MB/s eta 0:00:01',\n",
              " '\\x1b[K     |█████████████████               | 829 kB 2.0 MB/s eta 0:00:01',\n",
              " '\\x1b[K     |█████████████████▏              | 839 kB 2.0 MB/s eta 0:00:01',\n",
              " '\\x1b[K     |█████████████████▍              | 849 kB 2.0 MB/s eta 0:00:01',\n",
              " '\\x1b[K     |█████████████████▋              | 860 kB 2.0 MB/s eta 0:00:01',\n",
              " '\\x1b[K     |█████████████████▊              | 870 kB 2.0 MB/s eta 0:00:01',\n",
              " '\\x1b[K     |██████████████████              | 880 kB 2.0 MB/s eta 0:00:01',\n",
              " '\\x1b[K     |██████████████████▏             | 890 kB 2.0 MB/s eta 0:00:01',\n",
              " '\\x1b[K     |██████████████████▍             | 901 kB 2.0 MB/s eta 0:00:01',\n",
              " '\\x1b[K     |██████████████████▋             | 911 kB 2.0 MB/s eta 0:00:01',\n",
              " '\\x1b[K     |██████████████████▉             | 921 kB 2.0 MB/s eta 0:00:01',\n",
              " '\\x1b[K     |███████████████████             | 931 kB 2.0 MB/s eta 0:00:01',\n",
              " '\\x1b[K     |███████████████████▎            | 942 kB 2.0 MB/s eta 0:00:01',\n",
              " '\\x1b[K     |███████████████████▌            | 952 kB 2.0 MB/s eta 0:00:01',\n",
              " '\\x1b[K     |███████████████████▋            | 962 kB 2.0 MB/s eta 0:00:01',\n",
              " '\\x1b[K     |███████████████████▉            | 972 kB 2.0 MB/s eta 0:00:01',\n",
              " '\\x1b[K     |████████████████████            | 983 kB 2.0 MB/s eta 0:00:01',\n",
              " '\\x1b[K     |████████████████████▎           | 993 kB 2.0 MB/s eta 0:00:01',\n",
              " '\\x1b[K     |████████████████████▌           | 1.0 MB 2.0 MB/s eta 0:00:01',\n",
              " '\\x1b[K     |████████████████████▊           | 1.0 MB 2.0 MB/s eta 0:00:01',\n",
              " '\\x1b[K     |█████████████████████           | 1.0 MB 2.0 MB/s eta 0:00:01',\n",
              " '\\x1b[K     |█████████████████████▏          | 1.0 MB 2.0 MB/s eta 0:00:01',\n",
              " '\\x1b[K     |█████████████████████▎          | 1.0 MB 2.0 MB/s eta 0:00:01',\n",
              " '\\x1b[K     |█████████████████████▌          | 1.1 MB 2.0 MB/s eta 0:00:01',\n",
              " '\\x1b[K     |█████████████████████▊          | 1.1 MB 2.0 MB/s eta 0:00:01',\n",
              " '\\x1b[K     |██████████████████████          | 1.1 MB 2.0 MB/s eta 0:00:01',\n",
              " '\\x1b[K     |██████████████████████▏         | 1.1 MB 2.0 MB/s eta 0:00:01',\n",
              " '\\x1b[K     |██████████████████████▍         | 1.1 MB 2.0 MB/s eta 0:00:01',\n",
              " '\\x1b[K     |██████████████████████▋         | 1.1 MB 2.0 MB/s eta 0:00:01',\n",
              " '\\x1b[K     |██████████████████████▉         | 1.1 MB 2.0 MB/s eta 0:00:01',\n",
              " '\\x1b[K     |███████████████████████         | 1.1 MB 2.0 MB/s eta 0:00:01',\n",
              " '\\x1b[K     |███████████████████████▏        | 1.1 MB 2.0 MB/s eta 0:00:01',\n",
              " '\\x1b[K     |███████████████████████▍        | 1.1 MB 2.0 MB/s eta 0:00:01',\n",
              " '\\x1b[K     |███████████████████████▋        | 1.2 MB 2.0 MB/s eta 0:00:01',\n",
              " '\\x1b[K     |███████████████████████▉        | 1.2 MB 2.0 MB/s eta 0:00:01',\n",
              " '\\x1b[K     |████████████████████████        | 1.2 MB 2.0 MB/s eta 0:00:01',\n",
              " '\\x1b[K     |████████████████████████▎       | 1.2 MB 2.0 MB/s eta 0:00:01',\n",
              " '\\x1b[K     |████████████████████████▌       | 1.2 MB 2.0 MB/s eta 0:00:01',\n",
              " '\\x1b[K     |████████████████████████▊       | 1.2 MB 2.0 MB/s eta 0:00:01',\n",
              " '\\x1b[K     |████████████████████████▉       | 1.2 MB 2.0 MB/s eta 0:00:01',\n",
              " '\\x1b[K     |█████████████████████████       | 1.2 MB 2.0 MB/s eta 0:00:01',\n",
              " '\\x1b[K     |█████████████████████████▎      | 1.2 MB 2.0 MB/s eta 0:00:01',\n",
              " '\\x1b[K     |█████████████████████████▌      | 1.2 MB 2.0 MB/s eta 0:00:01',\n",
              " '\\x1b[K     |█████████████████████████▊      | 1.3 MB 2.0 MB/s eta 0:00:01',\n",
              " '\\x1b[K     |██████████████████████████      | 1.3 MB 2.0 MB/s eta 0:00:01',\n",
              " '\\x1b[K     |██████████████████████████▏     | 1.3 MB 2.0 MB/s eta 0:00:01',\n",
              " '\\x1b[K     |██████████████████████████▍     | 1.3 MB 2.0 MB/s eta 0:00:01',\n",
              " '\\x1b[K     |██████████████████████████▌     | 1.3 MB 2.0 MB/s eta 0:00:01',\n",
              " '\\x1b[K     |██████████████████████████▊     | 1.3 MB 2.0 MB/s eta 0:00:01',\n",
              " '\\x1b[K     |███████████████████████████     | 1.3 MB 2.0 MB/s eta 0:00:01',\n",
              " '\\x1b[K     |███████████████████████████▏    | 1.3 MB 2.0 MB/s eta 0:00:01',\n",
              " '\\x1b[K     |███████████████████████████▍    | 1.3 MB 2.0 MB/s eta 0:00:01',\n",
              " '\\x1b[K     |███████████████████████████▋    | 1.4 MB 2.0 MB/s eta 0:00:01',\n",
              " '\\x1b[K     |███████████████████████████▉    | 1.4 MB 2.0 MB/s eta 0:00:01',\n",
              " '\\x1b[K     |████████████████████████████    | 1.4 MB 2.0 MB/s eta 0:00:01',\n",
              " '\\x1b[K     |████████████████████████████▎   | 1.4 MB 2.0 MB/s eta 0:00:01',\n",
              " '\\x1b[K     |████████████████████████████▍   | 1.4 MB 2.0 MB/s eta 0:00:01',\n",
              " '\\x1b[K     |████████████████████████████▋   | 1.4 MB 2.0 MB/s eta 0:00:01',\n",
              " '\\x1b[K     |████████████████████████████▉   | 1.4 MB 2.0 MB/s eta 0:00:01',\n",
              " '\\x1b[K     |█████████████████████████████   | 1.4 MB 2.0 MB/s eta 0:00:01',\n",
              " '\\x1b[K     |█████████████████████████████▎  | 1.4 MB 2.0 MB/s eta 0:00:01',\n",
              " '\\x1b[K     |█████████████████████████████▌  | 1.4 MB 2.0 MB/s eta 0:00:01',\n",
              " '\\x1b[K     |█████████████████████████████▊  | 1.5 MB 2.0 MB/s eta 0:00:01',\n",
              " '\\x1b[K     |██████████████████████████████  | 1.5 MB 2.0 MB/s eta 0:00:01',\n",
              " '\\x1b[K     |██████████████████████████████  | 1.5 MB 2.0 MB/s eta 0:00:01',\n",
              " '\\x1b[K     |██████████████████████████████▎ | 1.5 MB 2.0 MB/s eta 0:00:01',\n",
              " '\\x1b[K     |██████████████████████████████▌ | 1.5 MB 2.0 MB/s eta 0:00:01',\n",
              " '\\x1b[K     |██████████████████████████████▊ | 1.5 MB 2.0 MB/s eta 0:00:01',\n",
              " '\\x1b[K     |███████████████████████████████ | 1.5 MB 2.0 MB/s eta 0:00:01',\n",
              " '\\x1b[K     |███████████████████████████████▏| 1.5 MB 2.0 MB/s eta 0:00:01',\n",
              " '\\x1b[K     |███████████████████████████████▍| 1.5 MB 2.0 MB/s eta 0:00:01',\n",
              " '\\x1b[K     |███████████████████████████████▋| 1.5 MB 2.0 MB/s eta 0:00:01',\n",
              " '\\x1b[K     |███████████████████████████████▉| 1.6 MB 2.0 MB/s eta 0:00:01',\n",
              " '\\x1b[K     |████████████████████████████████| 1.6 MB 2.0 MB/s eta 0:00:01',\n",
              " '\\x1b[K     |████████████████████████████████| 1.6 MB 2.0 MB/s ',\n",
              " '\\x1b[?25hRequirement already satisfied: decorator in /usr/local/lib/python3.7/dist-packages (from ipython>=1.0->ipython-sql) (4.4.2)',\n",
              " 'Requirement already satisfied: prompt-toolkit<2.1.0,>=2.0.0 in /usr/local/lib/python3.7/dist-packages (from ipython>=1.0->ipython-sql) (2.0.10)',\n",
              " 'Requirement already satisfied: pickleshare in /usr/local/lib/python3.7/dist-packages (from ipython>=1.0->ipython-sql) (0.7.5)',\n",
              " 'Requirement already satisfied: pygments in /usr/local/lib/python3.7/dist-packages (from ipython>=1.0->ipython-sql) (2.6.1)',\n",
              " 'Requirement already satisfied: parso<0.9.0,>=0.8.0 in /usr/local/lib/python3.7/dist-packages (from jedi>=0.10->ipython>=1.0->ipython-sql) (0.8.3)',\n",
              " 'Requirement already satisfied: wcwidth in /usr/local/lib/python3.7/dist-packages (from prompt-toolkit<2.1.0,>=2.0.0->ipython>=1.0->ipython-sql) (0.2.5)',\n",
              " 'Requirement already satisfied: importlib-metadata in /usr/local/lib/python3.7/dist-packages (from sqlalchemy>=0.6.7->ipython-sql) (4.12.0)',\n",
              " 'Requirement already satisfied: greenlet!=0.4.17 in /usr/local/lib/python3.7/dist-packages (from sqlalchemy>=0.6.7->ipython-sql) (1.1.3)',\n",
              " 'Requirement already satisfied: typing-extensions>=3.6.4 in /usr/local/lib/python3.7/dist-packages (from importlib-metadata->sqlalchemy>=0.6.7->ipython-sql) (4.1.1)',\n",
              " 'Requirement already satisfied: zipp>=0.5 in /usr/local/lib/python3.7/dist-packages (from importlib-metadata->sqlalchemy>=0.6.7->ipython-sql) (3.8.1)',\n",
              " 'Requirement already satisfied: ptyprocess>=0.5 in /usr/local/lib/python3.7/dist-packages (from pexpect->ipython>=1.0->ipython-sql) (0.7.0)',\n",
              " 'Installing collected packages: jedi',\n",
              " 'Successfully installed jedi-0.18.1']"
            ]
          },
          "metadata": {},
          "execution_count": 4
        }
      ],
      "source": [
        "%%!\n",
        "pip install --trusted-host pypi.org ipython-sql"
      ]
    },
    {
      "cell_type": "code",
      "source": [
        "%load_ext sql"
      ],
      "metadata": {
        "id": "uUJgeD91G4Av"
      },
      "execution_count": 5,
      "outputs": []
    },
    {
      "cell_type": "code",
      "source": [
        "%sql sqlite:////content/drive/MyDrive/veriler/database/databases_application.db"
      ],
      "metadata": {
        "colab": {
          "base_uri": "https://localhost:8080/",
          "height": 36
        },
        "id": "pPcJHLg1G-3w",
        "outputId": "866d4701-c37d-4c77-81c3-e467b6df2946"
      },
      "execution_count": 6,
      "outputs": [
        {
          "output_type": "execute_result",
          "data": {
            "text/plain": [
              "'Connected: @/content/drive/MyDrive/veriler/database/databases_application.db'"
            ],
            "application/vnd.google.colaboratory.intrinsic+json": {
              "type": "string"
            }
          },
          "metadata": {},
          "execution_count": 6
        }
      ]
    },
    {
      "cell_type": "code",
      "source": [
        "%%sql\n",
        "SELECT * FROM Customers LIMIT 3;"
      ],
      "metadata": {
        "id": "aHR8ZtccHL2U"
      },
      "execution_count": null,
      "outputs": []
    },
    {
      "cell_type": "markdown",
      "source": [
        "# manuel tablo oluşturmak"
      ],
      "metadata": {
        "id": "9aGWUyhMHkuu"
      }
    },
    {
      "cell_type": "code",
      "source": [
        "%%sql\n",
        "CREATE TABLE yeni_tablo (isimler varchar(20),soyisim varchar(20))"
      ],
      "metadata": {
        "id": "Vrbu2ba8HVt8"
      },
      "execution_count": null,
      "outputs": []
    },
    {
      "cell_type": "code",
      "source": [
        "%%sql\n",
        "SELECT * FROM yeni_tablo"
      ],
      "metadata": {
        "id": "o37RZlHiJErr"
      },
      "execution_count": null,
      "outputs": []
    },
    {
      "cell_type": "code",
      "source": [
        "%%sql\n",
        "INSERT INTO yeni_tablo values(\"abdulkadir\",\"demirci\")"
      ],
      "metadata": {
        "id": "sCPBGZ10KIho"
      },
      "execution_count": null,
      "outputs": []
    },
    {
      "cell_type": "code",
      "source": [
        "%%sql\n",
        "INSERT INTO yeni_tablo values(\"abdulgafur\",\"demir\")"
      ],
      "metadata": {
        "id": "HvgPgHCtKWQa"
      },
      "execution_count": null,
      "outputs": []
    },
    {
      "cell_type": "code",
      "source": [
        "%%sql\n",
        "SELECT * FROM yeni_tablo"
      ],
      "metadata": {
        "id": "9v92esoIKhF9"
      },
      "execution_count": null,
      "outputs": []
    },
    {
      "cell_type": "code",
      "source": [
        "# tüm tabloların isimlerine ulaşmak\n",
        "%%sql\n",
        "SELECT name FROM sqlite_master WHERE type= \"table\""
      ],
      "metadata": {
        "id": "c3t_RzbyWZXv"
      },
      "execution_count": null,
      "outputs": []
    },
    {
      "cell_type": "code",
      "source": [
        "%%sql\n",
        "SELECT name FROM sqlite_master WHERE type=\"table\""
      ],
      "metadata": {
        "id": "20D2YyPUWkG9"
      },
      "execution_count": null,
      "outputs": []
    },
    {
      "cell_type": "code",
      "source": [
        "%%sql\n",
        "SELECT * FROM Customers WHERE 1=0;"
      ],
      "metadata": {
        "id": "uf3a9lMmoPae"
      },
      "execution_count": null,
      "outputs": []
    },
    {
      "cell_type": "code",
      "source": [
        "%%sql\n",
        "SELECT * FROM Customers WHERE 12=1; "
      ],
      "metadata": {
        "id": "iSEX7PD4ofbj"
      },
      "execution_count": null,
      "outputs": []
    },
    {
      "cell_type": "code",
      "source": [
        "%%sql\n",
        "SELECT * FROM Customers LIMIT 1;"
      ],
      "metadata": {
        "id": "pUabYpyyop1G"
      },
      "execution_count": null,
      "outputs": []
    },
    {
      "cell_type": "code",
      "source": [
        "%%sql\n",
        "SELECT City,Country,CustomerID FROM Customers LIMIT 3;"
      ],
      "metadata": {
        "id": "gBWOg6QGpBuq"
      },
      "execution_count": null,
      "outputs": []
    },
    {
      "cell_type": "markdown",
      "source": [
        "# BAZI MATEMATİKSEL İŞLEMLER"
      ],
      "metadata": {
        "id": "pvkoSkgdpxkn"
      }
    },
    {
      "cell_type": "code",
      "source": [
        "%%sql\n",
        "SELECT * FROM Products where 1=0;"
      ],
      "metadata": {
        "colab": {
          "base_uri": "https://localhost:8080/",
          "height": 74
        },
        "id": "5jrNy63mqIhd",
        "outputId": "5143e461-ec0f-4a2b-e32d-17922c04505b"
      },
      "execution_count": 69,
      "outputs": [
        {
          "output_type": "stream",
          "name": "stdout",
          "text": [
            " * sqlite:////content/drive/MyDrive/veriler/database/databases_application.db\n",
            "Done.\n"
          ]
        },
        {
          "output_type": "execute_result",
          "data": {
            "text/plain": [
              "[]"
            ],
            "text/html": [
              "<table>\n",
              "    <thead>\n",
              "        <tr>\n",
              "            <th>ProductID</th>\n",
              "            <th>ProductName</th>\n",
              "            <th>SupplierID</th>\n",
              "            <th>CategoryID</th>\n",
              "            <th>Unit</th>\n",
              "            <th>Price</th>\n",
              "        </tr>\n",
              "    </thead>\n",
              "    <tbody>\n",
              "    </tbody>\n",
              "</table>"
            ]
          },
          "metadata": {},
          "execution_count": 69
        }
      ]
    },
    {
      "cell_type": "code",
      "source": [
        "%%sql\n",
        "SELECT Price,Price*2,Price*3-100 FROM Products LIMIT 10;"
      ],
      "metadata": {
        "id": "zSs9g0_upVS9"
      },
      "execution_count": null,
      "outputs": []
    },
    {
      "cell_type": "markdown",
      "source": [
        "# alias ( takma ad deişkene isim vermek)"
      ],
      "metadata": {
        "id": "NKFkW9OIqXcO"
      }
    },
    {
      "cell_type": "code",
      "source": [
        "%%sql\n",
        "SELECT Price AS ilk_fiyat, Price*2 AS ikinci_fiyat, Price*3-100 AS son_fiyat FROM Products LIMIT 5;"
      ],
      "metadata": {
        "id": "6t1EDJVGqE_Q"
      },
      "execution_count": null,
      "outputs": []
    },
    {
      "cell_type": "markdown",
      "source": [
        "# count (SAYDIRMAK)"
      ],
      "metadata": {
        "id": "AjG6u_nUq6j5"
      }
    },
    {
      "cell_type": "code",
      "source": [
        "%%sql\n",
        "SELECT name FROM sqlite_master"
      ],
      "metadata": {
        "id": "maeb2O_1rHIk"
      },
      "execution_count": null,
      "outputs": []
    },
    {
      "cell_type": "code",
      "source": [
        "%%sql\n",
        "SELECT COUNT(*) FROM Orders "
      ],
      "metadata": {
        "id": "aTYDfvqeqyYk"
      },
      "execution_count": null,
      "outputs": []
    },
    {
      "cell_type": "code",
      "source": [
        "%%sql\n",
        "SELECT COUNT(*) AS adet FROM Employees;"
      ],
      "metadata": {
        "id": "m712lsj5rRwc"
      },
      "execution_count": null,
      "outputs": []
    },
    {
      "cell_type": "markdown",
      "source": [
        "# order by (order by desc) sıralamak"
      ],
      "metadata": {
        "id": "3cyQC7WGruLG"
      }
    },
    {
      "cell_type": "code",
      "source": [
        "%%sql\n",
        "SELECT * FROM Products ORDER BY Price LIMIT 10;"
      ],
      "metadata": {
        "colab": {
          "base_uri": "https://localhost:8080/",
          "height": 280
        },
        "id": "s5YByVd-rbhh",
        "outputId": "89ef4dc2-05bc-4f4b-cb21-463aa6275bbb"
      },
      "execution_count": 76,
      "outputs": [
        {
          "output_type": "stream",
          "name": "stdout",
          "text": [
            " * sqlite:////content/drive/MyDrive/veriler/database/databases_application.db\n",
            "Done.\n"
          ]
        },
        {
          "output_type": "execute_result",
          "data": {
            "text/plain": [
              "[(13, 'Konbu', 6, 8, '2 kg box', 6),\n",
              " (52, 'Filo Mix', 24, 5, '16 - 2 kg boxes', 7),\n",
              " (23, 'Tunnbröd', 9, 5, '12 - 250 g pkgs.', 9),\n",
              " (3, 'Aniseed Syrup', 1, 2, '12 - 550 ml bottles', 10),\n",
              " (21, \"Sir Rodney's Scones\", 8, 3, '24 pkgs. x 4 pieces', 10),\n",
              " (74, 'Longlife Tofu', 4, 7, '5 kg pkg.', 10),\n",
              " (46, 'Spegesild', 21, 8, '4 - 450 g glasses', 12),\n",
              " (58, 'Escargots de Bourgogne', 27, 8, '24 pieces', 13),\n",
              " (77, 'Original Frankfurter grüne Soße', 12, 2, '12 boxes', 13),\n",
              " (25, 'NuNuCa Nuß-Nougat-Creme', 11, 3, '20 - 450 g glasses', 14)]"
            ],
            "text/html": [
              "<table>\n",
              "    <thead>\n",
              "        <tr>\n",
              "            <th>ProductID</th>\n",
              "            <th>ProductName</th>\n",
              "            <th>SupplierID</th>\n",
              "            <th>CategoryID</th>\n",
              "            <th>Unit</th>\n",
              "            <th>Price</th>\n",
              "        </tr>\n",
              "    </thead>\n",
              "    <tbody>\n",
              "        <tr>\n",
              "            <td>13</td>\n",
              "            <td>Konbu</td>\n",
              "            <td>6</td>\n",
              "            <td>8</td>\n",
              "            <td>2 kg box</td>\n",
              "            <td>6</td>\n",
              "        </tr>\n",
              "        <tr>\n",
              "            <td>52</td>\n",
              "            <td>Filo Mix</td>\n",
              "            <td>24</td>\n",
              "            <td>5</td>\n",
              "            <td>16 - 2 kg boxes</td>\n",
              "            <td>7</td>\n",
              "        </tr>\n",
              "        <tr>\n",
              "            <td>23</td>\n",
              "            <td>Tunnbröd</td>\n",
              "            <td>9</td>\n",
              "            <td>5</td>\n",
              "            <td>12 - 250 g pkgs.</td>\n",
              "            <td>9</td>\n",
              "        </tr>\n",
              "        <tr>\n",
              "            <td>3</td>\n",
              "            <td>Aniseed Syrup</td>\n",
              "            <td>1</td>\n",
              "            <td>2</td>\n",
              "            <td>12 - 550 ml bottles</td>\n",
              "            <td>10</td>\n",
              "        </tr>\n",
              "        <tr>\n",
              "            <td>21</td>\n",
              "            <td>Sir Rodney&#x27;s Scones</td>\n",
              "            <td>8</td>\n",
              "            <td>3</td>\n",
              "            <td>24 pkgs. x 4 pieces</td>\n",
              "            <td>10</td>\n",
              "        </tr>\n",
              "        <tr>\n",
              "            <td>74</td>\n",
              "            <td>Longlife Tofu</td>\n",
              "            <td>4</td>\n",
              "            <td>7</td>\n",
              "            <td>5 kg pkg.</td>\n",
              "            <td>10</td>\n",
              "        </tr>\n",
              "        <tr>\n",
              "            <td>46</td>\n",
              "            <td>Spegesild</td>\n",
              "            <td>21</td>\n",
              "            <td>8</td>\n",
              "            <td>4 - 450 g glasses</td>\n",
              "            <td>12</td>\n",
              "        </tr>\n",
              "        <tr>\n",
              "            <td>58</td>\n",
              "            <td>Escargots de Bourgogne</td>\n",
              "            <td>27</td>\n",
              "            <td>8</td>\n",
              "            <td>24 pieces</td>\n",
              "            <td>13</td>\n",
              "        </tr>\n",
              "        <tr>\n",
              "            <td>77</td>\n",
              "            <td>Original Frankfurter grüne Soße</td>\n",
              "            <td>12</td>\n",
              "            <td>2</td>\n",
              "            <td>12 boxes</td>\n",
              "            <td>13</td>\n",
              "        </tr>\n",
              "        <tr>\n",
              "            <td>25</td>\n",
              "            <td>NuNuCa Nuß-Nougat-Creme</td>\n",
              "            <td>11</td>\n",
              "            <td>3</td>\n",
              "            <td>20 - 450 g glasses</td>\n",
              "            <td>14</td>\n",
              "        </tr>\n",
              "    </tbody>\n",
              "</table>"
            ]
          },
          "metadata": {},
          "execution_count": 76
        }
      ]
    },
    {
      "cell_type": "code",
      "source": [
        "%%sql\n",
        "SELECT * FROM Products WHERE 1=0;"
      ],
      "metadata": {
        "colab": {
          "base_uri": "https://localhost:8080/",
          "height": 74
        },
        "id": "RlWXwUICtLcK",
        "outputId": "5e04d439-42a2-43bb-b41d-8b1213743609"
      },
      "execution_count": 77,
      "outputs": [
        {
          "output_type": "stream",
          "name": "stdout",
          "text": [
            " * sqlite:////content/drive/MyDrive/veriler/database/databases_application.db\n",
            "Done.\n"
          ]
        },
        {
          "output_type": "execute_result",
          "data": {
            "text/plain": [
              "[]"
            ],
            "text/html": [
              "<table>\n",
              "    <thead>\n",
              "        <tr>\n",
              "            <th>ProductID</th>\n",
              "            <th>ProductName</th>\n",
              "            <th>SupplierID</th>\n",
              "            <th>CategoryID</th>\n",
              "            <th>Unit</th>\n",
              "            <th>Price</th>\n",
              "        </tr>\n",
              "    </thead>\n",
              "    <tbody>\n",
              "    </tbody>\n",
              "</table>"
            ]
          },
          "metadata": {},
          "execution_count": 77
        }
      ]
    },
    {
      "cell_type": "code",
      "source": [
        "%%sql\n",
        "SELECT * FROM Products LIMIT 3;"
      ],
      "metadata": {
        "colab": {
          "base_uri": "https://localhost:8080/",
          "height": 135
        },
        "id": "wHpWJ-FbtVTf",
        "outputId": "492d8c6e-3989-4d8e-e028-6be3124f708d"
      },
      "execution_count": 78,
      "outputs": [
        {
          "output_type": "stream",
          "name": "stdout",
          "text": [
            " * sqlite:////content/drive/MyDrive/veriler/database/databases_application.db\n",
            "Done.\n"
          ]
        },
        {
          "output_type": "execute_result",
          "data": {
            "text/plain": [
              "[(1, 'Chais', 1, 1, '10 boxes x 20 bags', 18),\n",
              " (2, 'Chang', 1, 1, '24 - 12 oz bottles', 19),\n",
              " (3, 'Aniseed Syrup', 1, 2, '12 - 550 ml bottles', 10)]"
            ],
            "text/html": [
              "<table>\n",
              "    <thead>\n",
              "        <tr>\n",
              "            <th>ProductID</th>\n",
              "            <th>ProductName</th>\n",
              "            <th>SupplierID</th>\n",
              "            <th>CategoryID</th>\n",
              "            <th>Unit</th>\n",
              "            <th>Price</th>\n",
              "        </tr>\n",
              "    </thead>\n",
              "    <tbody>\n",
              "        <tr>\n",
              "            <td>1</td>\n",
              "            <td>Chais</td>\n",
              "            <td>1</td>\n",
              "            <td>1</td>\n",
              "            <td>10 boxes x 20 bags</td>\n",
              "            <td>18</td>\n",
              "        </tr>\n",
              "        <tr>\n",
              "            <td>2</td>\n",
              "            <td>Chang</td>\n",
              "            <td>1</td>\n",
              "            <td>1</td>\n",
              "            <td>24 - 12 oz bottles</td>\n",
              "            <td>19</td>\n",
              "        </tr>\n",
              "        <tr>\n",
              "            <td>3</td>\n",
              "            <td>Aniseed Syrup</td>\n",
              "            <td>1</td>\n",
              "            <td>2</td>\n",
              "            <td>12 - 550 ml bottles</td>\n",
              "            <td>10</td>\n",
              "        </tr>\n",
              "    </tbody>\n",
              "</table>"
            ]
          },
          "metadata": {},
          "execution_count": 78
        }
      ]
    },
    {
      "cell_type": "code",
      "source": [
        "%%sql\n",
        "SELECT * FROM Products ORDER BY DESC Price LIMIT 4;"
      ],
      "metadata": {
        "colab": {
          "base_uri": "https://localhost:8080/"
        },
        "id": "4TUR78XEsB8a",
        "outputId": "b68def8b-f4f3-4953-89a3-0e872f23ada7"
      },
      "execution_count": 80,
      "outputs": [
        {
          "output_type": "stream",
          "name": "stdout",
          "text": [
            " * sqlite:////content/drive/MyDrive/veriler/database/databases_application.db\n",
            "(sqlite3.OperationalError) near \"Price\": syntax error\n",
            "[SQL: SELECT * FROM Products ORDER BY DESC Price LIMIT 4;]\n",
            "(Background on this error at: https://sqlalche.me/e/14/e3q8)\n"
          ]
        }
      ]
    },
    {
      "cell_type": "code",
      "source": [
        "%%sql\n",
        "SELECT * FROM Customers WHERE Country=\"UK\";"
      ],
      "metadata": {
        "colab": {
          "base_uri": "https://localhost:8080/",
          "height": 218
        },
        "id": "0HmXqaj_sPWe",
        "outputId": "f52577e4-f2fb-4937-d3b9-39162e433d87"
      },
      "execution_count": 81,
      "outputs": [
        {
          "output_type": "stream",
          "name": "stdout",
          "text": [
            " * sqlite:////content/drive/MyDrive/veriler/database/databases_application.db\n",
            "Done.\n"
          ]
        },
        {
          "output_type": "execute_result",
          "data": {
            "text/plain": [
              "[(4, 'Around the Horn', 'Thomas Hardy', '120 Hanover Sq.', 'London', 'WA1 1DP', 'UK'),\n",
              " (11, \"B's Beverages\", 'Victoria Ashworth', 'Fauntleroy Circus', 'London', 'EC2 5NT', 'UK'),\n",
              " (16, 'Consolidated Holdings', 'Elizabeth Brown', 'Berkeley Gardens 12 Brewery', 'London', 'WX1 6LT', 'UK'),\n",
              " (19, 'Eastern Connection', 'Ann Devon', '35 King George', 'London', 'WX3 6FW', 'UK'),\n",
              " (38, 'Island Trading', 'Helen Bennett', 'Garden House Crowther Way', 'Cowes', 'PO31 7PJ', 'UK'),\n",
              " (53, 'North/South', 'Simon Crowther', 'South House 300 Queensbridge', 'London', 'SW7 1RZ', 'UK'),\n",
              " (72, 'Seven Seas Imports', 'Hari Kumar', '90 Wadhurst Rd.', 'London', 'OX15 4NB', 'UK')]"
            ],
            "text/html": [
              "<table>\n",
              "    <thead>\n",
              "        <tr>\n",
              "            <th>CustomerID</th>\n",
              "            <th>CustomerName</th>\n",
              "            <th>ContactName</th>\n",
              "            <th>Address</th>\n",
              "            <th>City</th>\n",
              "            <th>PostalCode</th>\n",
              "            <th>Country</th>\n",
              "        </tr>\n",
              "    </thead>\n",
              "    <tbody>\n",
              "        <tr>\n",
              "            <td>4</td>\n",
              "            <td>Around the Horn</td>\n",
              "            <td>Thomas Hardy</td>\n",
              "            <td>120 Hanover Sq.</td>\n",
              "            <td>London</td>\n",
              "            <td>WA1 1DP</td>\n",
              "            <td>UK</td>\n",
              "        </tr>\n",
              "        <tr>\n",
              "            <td>11</td>\n",
              "            <td>B&#x27;s Beverages</td>\n",
              "            <td>Victoria Ashworth</td>\n",
              "            <td>Fauntleroy Circus</td>\n",
              "            <td>London</td>\n",
              "            <td>EC2 5NT</td>\n",
              "            <td>UK</td>\n",
              "        </tr>\n",
              "        <tr>\n",
              "            <td>16</td>\n",
              "            <td>Consolidated Holdings</td>\n",
              "            <td>Elizabeth Brown</td>\n",
              "            <td>Berkeley Gardens 12 Brewery</td>\n",
              "            <td>London</td>\n",
              "            <td>WX1 6LT</td>\n",
              "            <td>UK</td>\n",
              "        </tr>\n",
              "        <tr>\n",
              "            <td>19</td>\n",
              "            <td>Eastern Connection</td>\n",
              "            <td>Ann Devon</td>\n",
              "            <td>35 King George</td>\n",
              "            <td>London</td>\n",
              "            <td>WX3 6FW</td>\n",
              "            <td>UK</td>\n",
              "        </tr>\n",
              "        <tr>\n",
              "            <td>38</td>\n",
              "            <td>Island Trading</td>\n",
              "            <td>Helen Bennett</td>\n",
              "            <td>Garden House Crowther Way</td>\n",
              "            <td>Cowes</td>\n",
              "            <td>PO31 7PJ</td>\n",
              "            <td>UK</td>\n",
              "        </tr>\n",
              "        <tr>\n",
              "            <td>53</td>\n",
              "            <td>North/South</td>\n",
              "            <td>Simon Crowther</td>\n",
              "            <td>South House 300 Queensbridge</td>\n",
              "            <td>London</td>\n",
              "            <td>SW7 1RZ</td>\n",
              "            <td>UK</td>\n",
              "        </tr>\n",
              "        <tr>\n",
              "            <td>72</td>\n",
              "            <td>Seven Seas Imports</td>\n",
              "            <td>Hari Kumar</td>\n",
              "            <td>90 Wadhurst Rd.</td>\n",
              "            <td>London</td>\n",
              "            <td>OX15 4NB</td>\n",
              "            <td>UK</td>\n",
              "        </tr>\n",
              "    </tbody>\n",
              "</table>"
            ]
          },
          "metadata": {},
          "execution_count": 81
        }
      ]
    },
    {
      "cell_type": "code",
      "source": [
        "%%sql\n",
        "SELECT * FROM Customers WHERE NOT Country=\"UK\" ;"
      ],
      "metadata": {
        "id": "4SgZSdOpyakR"
      },
      "execution_count": null,
      "outputs": []
    },
    {
      "cell_type": "markdown",
      "source": [
        "# and or kullanımı"
      ],
      "metadata": {
        "id": "tuIq2NYfFa6L"
      }
    },
    {
      "cell_type": "code",
      "source": [
        "%%sql\n",
        "SELECT * FROM Customers WHERE Country=\"USA\" AND (City=\"Seatle\" OR City=\"Portland\");"
      ],
      "metadata": {
        "colab": {
          "base_uri": "https://localhost:8080/",
          "height": 115
        },
        "id": "ssoEjXJ_yoUi",
        "outputId": "2a4429bc-d80f-4aa8-b517-2cbb0947055c"
      },
      "execution_count": 87,
      "outputs": [
        {
          "output_type": "stream",
          "name": "stdout",
          "text": [
            " * sqlite:////content/drive/MyDrive/veriler/database/databases_application.db\n",
            "Done.\n"
          ]
        },
        {
          "output_type": "execute_result",
          "data": {
            "text/plain": [
              "[(48, 'Lonesome Pine Restaurant', 'Fran Wilson', '89 Chiaroscuro Rd.', 'Portland', '97219', 'USA'),\n",
              " (77, 'The Big Cheese', 'Liz Nixon', '89 Jefferson Way Suite 2', 'Portland', '97201', 'USA')]"
            ],
            "text/html": [
              "<table>\n",
              "    <thead>\n",
              "        <tr>\n",
              "            <th>CustomerID</th>\n",
              "            <th>CustomerName</th>\n",
              "            <th>ContactName</th>\n",
              "            <th>Address</th>\n",
              "            <th>City</th>\n",
              "            <th>PostalCode</th>\n",
              "            <th>Country</th>\n",
              "        </tr>\n",
              "    </thead>\n",
              "    <tbody>\n",
              "        <tr>\n",
              "            <td>48</td>\n",
              "            <td>Lonesome Pine Restaurant</td>\n",
              "            <td>Fran Wilson</td>\n",
              "            <td>89 Chiaroscuro Rd.</td>\n",
              "            <td>Portland</td>\n",
              "            <td>97219</td>\n",
              "            <td>USA</td>\n",
              "        </tr>\n",
              "        <tr>\n",
              "            <td>77</td>\n",
              "            <td>The Big Cheese</td>\n",
              "            <td>Liz Nixon</td>\n",
              "            <td>89 Jefferson Way Suite 2</td>\n",
              "            <td>Portland</td>\n",
              "            <td>97201</td>\n",
              "            <td>USA</td>\n",
              "        </tr>\n",
              "    </tbody>\n",
              "</table>"
            ]
          },
          "metadata": {},
          "execution_count": 87
        }
      ]
    },
    {
      "cell_type": "markdown",
      "source": [
        "# in ve not in kullanımı\n"
      ],
      "metadata": {
        "id": "5Ksmm-uNFebl"
      }
    },
    {
      "cell_type": "code",
      "source": [
        "%%sql\n",
        "SELECT COUNT(*) FROM Customers;"
      ],
      "metadata": {
        "colab": {
          "base_uri": "https://localhost:8080/",
          "height": 94
        },
        "id": "yudRf4mlGcSV",
        "outputId": "d9930d45-95c2-4a3c-a3a1-81e10174a7a5"
      },
      "execution_count": 90,
      "outputs": [
        {
          "output_type": "stream",
          "name": "stdout",
          "text": [
            " * sqlite:////content/drive/MyDrive/veriler/database/databases_application.db\n",
            "Done.\n"
          ]
        },
        {
          "output_type": "execute_result",
          "data": {
            "text/plain": [
              "[(91,)]"
            ],
            "text/html": [
              "<table>\n",
              "    <thead>\n",
              "        <tr>\n",
              "            <th>COUNT(*)</th>\n",
              "        </tr>\n",
              "    </thead>\n",
              "    <tbody>\n",
              "        <tr>\n",
              "            <td>91</td>\n",
              "        </tr>\n",
              "    </tbody>\n",
              "</table>"
            ]
          },
          "metadata": {},
          "execution_count": 90
        }
      ]
    },
    {
      "cell_type": "code",
      "source": [
        "%%sql\n",
        "SELECT * FROM Customers WHERE CustomerID in (1,5,88,77); "
      ],
      "metadata": {
        "colab": {
          "base_uri": "https://localhost:8080/",
          "height": 156
        },
        "id": "p7YZgSJ7Fd7e",
        "outputId": "cc4f285a-2ed9-4e2f-9d2a-4263eec20577"
      },
      "execution_count": 91,
      "outputs": [
        {
          "output_type": "stream",
          "name": "stdout",
          "text": [
            " * sqlite:////content/drive/MyDrive/veriler/database/databases_application.db\n",
            "Done.\n"
          ]
        },
        {
          "output_type": "execute_result",
          "data": {
            "text/plain": [
              "[(1, 'Alfreds Futterkiste', 'Maria Anders', 'Obere Str. 57', 'Berlin', '12209', 'Germany'),\n",
              " (5, 'Berglunds snabbköp', 'Christina Berglund', 'Berguvsvägen 8', 'Luleå', 'S-958 22', 'Sweden'),\n",
              " (77, 'The Big Cheese', 'Liz Nixon', '89 Jefferson Way Suite 2', 'Portland', '97201', 'USA'),\n",
              " (88, 'Wellington Importadora', 'Paula Parente', 'Rua do Mercado, 12', 'Resende', '08737-363', 'Brazil')]"
            ],
            "text/html": [
              "<table>\n",
              "    <thead>\n",
              "        <tr>\n",
              "            <th>CustomerID</th>\n",
              "            <th>CustomerName</th>\n",
              "            <th>ContactName</th>\n",
              "            <th>Address</th>\n",
              "            <th>City</th>\n",
              "            <th>PostalCode</th>\n",
              "            <th>Country</th>\n",
              "        </tr>\n",
              "    </thead>\n",
              "    <tbody>\n",
              "        <tr>\n",
              "            <td>1</td>\n",
              "            <td>Alfreds Futterkiste</td>\n",
              "            <td>Maria Anders</td>\n",
              "            <td>Obere Str. 57</td>\n",
              "            <td>Berlin</td>\n",
              "            <td>12209</td>\n",
              "            <td>Germany</td>\n",
              "        </tr>\n",
              "        <tr>\n",
              "            <td>5</td>\n",
              "            <td>Berglunds snabbköp</td>\n",
              "            <td>Christina Berglund</td>\n",
              "            <td>Berguvsvägen 8</td>\n",
              "            <td>Luleå</td>\n",
              "            <td>S-958 22</td>\n",
              "            <td>Sweden</td>\n",
              "        </tr>\n",
              "        <tr>\n",
              "            <td>77</td>\n",
              "            <td>The Big Cheese</td>\n",
              "            <td>Liz Nixon</td>\n",
              "            <td>89 Jefferson Way Suite 2</td>\n",
              "            <td>Portland</td>\n",
              "            <td>97201</td>\n",
              "            <td>USA</td>\n",
              "        </tr>\n",
              "        <tr>\n",
              "            <td>88</td>\n",
              "            <td>Wellington Importadora</td>\n",
              "            <td>Paula Parente</td>\n",
              "            <td>Rua do Mercado, 12</td>\n",
              "            <td>Resende</td>\n",
              "            <td>08737-363</td>\n",
              "            <td>Brazil</td>\n",
              "        </tr>\n",
              "    </tbody>\n",
              "</table>"
            ]
          },
          "metadata": {},
          "execution_count": 91
        }
      ]
    },
    {
      "cell_type": "code",
      "source": [
        "%%sql\n",
        "SELECT * FROM Customers WHERE Country = \"USA\" AND City IN (\"Eugene\",\"Portland\",\"Elgin\");"
      ],
      "metadata": {
        "colab": {
          "base_uri": "https://localhost:8080/",
          "height": 156
        },
        "id": "e_eK1jm7GaNi",
        "outputId": "2ddae8f0-f06b-4ae9-d01c-09b92b4a9642"
      },
      "execution_count": 92,
      "outputs": [
        {
          "output_type": "stream",
          "name": "stdout",
          "text": [
            " * sqlite:////content/drive/MyDrive/veriler/database/databases_application.db\n",
            "Done.\n"
          ]
        },
        {
          "output_type": "execute_result",
          "data": {
            "text/plain": [
              "[(32, 'Great Lakes Food Market', 'Howard Snyder', '2732 Baker Blvd.', 'Eugene', '97403', 'USA'),\n",
              " (36, 'Hungry Coyote Import Store', 'Yoshi Latimer', 'City Center Plaza 516 Main St.', 'Elgin', '97827', 'USA'),\n",
              " (48, 'Lonesome Pine Restaurant', 'Fran Wilson', '89 Chiaroscuro Rd.', 'Portland', '97219', 'USA'),\n",
              " (77, 'The Big Cheese', 'Liz Nixon', '89 Jefferson Way Suite 2', 'Portland', '97201', 'USA')]"
            ],
            "text/html": [
              "<table>\n",
              "    <thead>\n",
              "        <tr>\n",
              "            <th>CustomerID</th>\n",
              "            <th>CustomerName</th>\n",
              "            <th>ContactName</th>\n",
              "            <th>Address</th>\n",
              "            <th>City</th>\n",
              "            <th>PostalCode</th>\n",
              "            <th>Country</th>\n",
              "        </tr>\n",
              "    </thead>\n",
              "    <tbody>\n",
              "        <tr>\n",
              "            <td>32</td>\n",
              "            <td>Great Lakes Food Market</td>\n",
              "            <td>Howard Snyder</td>\n",
              "            <td>2732 Baker Blvd.</td>\n",
              "            <td>Eugene</td>\n",
              "            <td>97403</td>\n",
              "            <td>USA</td>\n",
              "        </tr>\n",
              "        <tr>\n",
              "            <td>36</td>\n",
              "            <td>Hungry Coyote Import Store</td>\n",
              "            <td>Yoshi Latimer</td>\n",
              "            <td>City Center Plaza 516 Main St.</td>\n",
              "            <td>Elgin</td>\n",
              "            <td>97827</td>\n",
              "            <td>USA</td>\n",
              "        </tr>\n",
              "        <tr>\n",
              "            <td>48</td>\n",
              "            <td>Lonesome Pine Restaurant</td>\n",
              "            <td>Fran Wilson</td>\n",
              "            <td>89 Chiaroscuro Rd.</td>\n",
              "            <td>Portland</td>\n",
              "            <td>97219</td>\n",
              "            <td>USA</td>\n",
              "        </tr>\n",
              "        <tr>\n",
              "            <td>77</td>\n",
              "            <td>The Big Cheese</td>\n",
              "            <td>Liz Nixon</td>\n",
              "            <td>89 Jefferson Way Suite 2</td>\n",
              "            <td>Portland</td>\n",
              "            <td>97201</td>\n",
              "            <td>USA</td>\n",
              "        </tr>\n",
              "    </tbody>\n",
              "</table>"
            ]
          },
          "metadata": {},
          "execution_count": 92
        }
      ]
    },
    {
      "cell_type": "code",
      "source": [
        "%%sql\n",
        "SELECT * FROM Customers WHERE Country = \"USA\" AND City not IN (\"Eugene\",\"Portland\",\"Elgin\");"
      ],
      "metadata": {
        "colab": {
          "base_uri": "https://localhost:8080/",
          "height": 259
        },
        "id": "Zqj6Rvt-G9Wb",
        "outputId": "cc3a6bcd-343c-4ff3-e2eb-286de2bc34b5"
      },
      "execution_count": 93,
      "outputs": [
        {
          "output_type": "stream",
          "name": "stdout",
          "text": [
            " * sqlite:////content/drive/MyDrive/veriler/database/databases_application.db\n",
            "Done.\n"
          ]
        },
        {
          "output_type": "execute_result",
          "data": {
            "text/plain": [
              "[(43, 'Lazy K Kountry Store', 'John Steel', '12 Orchestra Terrace', 'Walla Walla', '99362', 'USA'),\n",
              " (45, \"Let's Stop N Shop\", 'Jaime Yorres', '87 Polk St. Suite 5', 'San Francisco', '94117', 'USA'),\n",
              " (55, 'Old World Delicatessen', 'Rene Phillips', '2743 Bering St.', 'Anchorage', '99508', 'USA'),\n",
              " (65, 'Rattlesnake Canyon Grocery', 'Paula Wilson', '2817 Milton Dr.', 'Albuquerque', '87110', 'USA'),\n",
              " (71, 'Save-a-lot Markets', 'Jose Pavarotti', '187 Suffolk Ln.', 'Boise', '83720', 'USA'),\n",
              " (75, 'Split Rail Beer & Ale', 'Art Braunschweiger', 'P.O. Box 555', 'Lander', '82520', 'USA'),\n",
              " (78, 'The Cracker Box', 'Liu Wong', '55 Grizzly Peak Rd.', 'Butte', '59801', 'USA'),\n",
              " (82, \"Trail's Head Gourmet Provisioners\", 'Helvetius Nagy', '722 DaVinci Blvd.', 'Kirkland', '98034', 'USA'),\n",
              " (89, 'White Clover Markets', 'Karl Jablonski', '305 - 14th Ave. S. Suite 3B', 'Seattle', '98128', 'USA')]"
            ],
            "text/html": [
              "<table>\n",
              "    <thead>\n",
              "        <tr>\n",
              "            <th>CustomerID</th>\n",
              "            <th>CustomerName</th>\n",
              "            <th>ContactName</th>\n",
              "            <th>Address</th>\n",
              "            <th>City</th>\n",
              "            <th>PostalCode</th>\n",
              "            <th>Country</th>\n",
              "        </tr>\n",
              "    </thead>\n",
              "    <tbody>\n",
              "        <tr>\n",
              "            <td>43</td>\n",
              "            <td>Lazy K Kountry Store</td>\n",
              "            <td>John Steel</td>\n",
              "            <td>12 Orchestra Terrace</td>\n",
              "            <td>Walla Walla</td>\n",
              "            <td>99362</td>\n",
              "            <td>USA</td>\n",
              "        </tr>\n",
              "        <tr>\n",
              "            <td>45</td>\n",
              "            <td>Let&#x27;s Stop N Shop</td>\n",
              "            <td>Jaime Yorres</td>\n",
              "            <td>87 Polk St. Suite 5</td>\n",
              "            <td>San Francisco</td>\n",
              "            <td>94117</td>\n",
              "            <td>USA</td>\n",
              "        </tr>\n",
              "        <tr>\n",
              "            <td>55</td>\n",
              "            <td>Old World Delicatessen</td>\n",
              "            <td>Rene Phillips</td>\n",
              "            <td>2743 Bering St.</td>\n",
              "            <td>Anchorage</td>\n",
              "            <td>99508</td>\n",
              "            <td>USA</td>\n",
              "        </tr>\n",
              "        <tr>\n",
              "            <td>65</td>\n",
              "            <td>Rattlesnake Canyon Grocery</td>\n",
              "            <td>Paula Wilson</td>\n",
              "            <td>2817 Milton Dr.</td>\n",
              "            <td>Albuquerque</td>\n",
              "            <td>87110</td>\n",
              "            <td>USA</td>\n",
              "        </tr>\n",
              "        <tr>\n",
              "            <td>71</td>\n",
              "            <td>Save-a-lot Markets</td>\n",
              "            <td>Jose Pavarotti</td>\n",
              "            <td>187 Suffolk Ln.</td>\n",
              "            <td>Boise</td>\n",
              "            <td>83720</td>\n",
              "            <td>USA</td>\n",
              "        </tr>\n",
              "        <tr>\n",
              "            <td>75</td>\n",
              "            <td>Split Rail Beer &amp; Ale</td>\n",
              "            <td>Art Braunschweiger</td>\n",
              "            <td>P.O. Box 555</td>\n",
              "            <td>Lander</td>\n",
              "            <td>82520</td>\n",
              "            <td>USA</td>\n",
              "        </tr>\n",
              "        <tr>\n",
              "            <td>78</td>\n",
              "            <td>The Cracker Box</td>\n",
              "            <td>Liu Wong</td>\n",
              "            <td>55 Grizzly Peak Rd.</td>\n",
              "            <td>Butte</td>\n",
              "            <td>59801</td>\n",
              "            <td>USA</td>\n",
              "        </tr>\n",
              "        <tr>\n",
              "            <td>82</td>\n",
              "            <td>Trail&#x27;s Head Gourmet Provisioners</td>\n",
              "            <td>Helvetius Nagy</td>\n",
              "            <td>722 DaVinci Blvd.</td>\n",
              "            <td>Kirkland</td>\n",
              "            <td>98034</td>\n",
              "            <td>USA</td>\n",
              "        </tr>\n",
              "        <tr>\n",
              "            <td>89</td>\n",
              "            <td>White Clover Markets</td>\n",
              "            <td>Karl Jablonski</td>\n",
              "            <td>305 - 14th Ave. S. Suite 3B</td>\n",
              "            <td>Seattle</td>\n",
              "            <td>98128</td>\n",
              "            <td>USA</td>\n",
              "        </tr>\n",
              "    </tbody>\n",
              "</table>"
            ]
          },
          "metadata": {},
          "execution_count": 93
        }
      ]
    },
    {
      "cell_type": "markdown",
      "source": [
        "# like kullanımı\n"
      ],
      "metadata": {
        "id": "3Wv914H2HSEG"
      }
    },
    {
      "cell_type": "markdown",
      "source": [
        "\n",
        "\n",
        "1.   **\"a%\"** :     *a ile başlayan*\n",
        "2.   **\"%a\"** :     *a ile biten*\n",
        "3.   **\"%or%\"**:    *içinde or geçen*\n",
        "4.   **\"_r%\"** :    *2.sırasında r olan*\n",
        "5.   **\"a%o\"** :    *a ile başlayıp o ile biten*\n",
        "6.   **\"a%%\"** :    *a ile başlayan en az 3 harfli*\n",
        "\n"
      ],
      "metadata": {
        "id": "PTaKjYh0IXWV"
      }
    },
    {
      "cell_type": "code",
      "source": [
        "%%sql\n",
        "SELECT * FROM Customers WHERE CustomerName LIKE \"a%\" ;"
      ],
      "metadata": {
        "colab": {
          "base_uri": "https://localhost:8080/",
          "height": 156
        },
        "id": "9YqiMJszHFMZ",
        "outputId": "4728664d-467d-4287-9abc-60782d3fead5"
      },
      "execution_count": 96,
      "outputs": [
        {
          "output_type": "stream",
          "name": "stdout",
          "text": [
            " * sqlite:////content/drive/MyDrive/veriler/database/databases_application.db\n",
            "Done.\n"
          ]
        },
        {
          "output_type": "execute_result",
          "data": {
            "text/plain": [
              "[(1, 'Alfreds Futterkiste', 'Maria Anders', 'Obere Str. 57', 'Berlin', '12209', 'Germany'),\n",
              " (2, 'Ana Trujillo Emparedados y helados', 'Ana Trujillo', 'Avda. de la Constitución 2222', 'México D.F.', '5021', 'Mexico'),\n",
              " (3, 'Antonio Moreno Taquería', 'Antonio Moreno', 'Mataderos 2312', 'México D.F.', '5023', 'Mexico'),\n",
              " (4, 'Around the Horn', 'Thomas Hardy', '120 Hanover Sq.', 'London', 'WA1 1DP', 'UK')]"
            ],
            "text/html": [
              "<table>\n",
              "    <thead>\n",
              "        <tr>\n",
              "            <th>CustomerID</th>\n",
              "            <th>CustomerName</th>\n",
              "            <th>ContactName</th>\n",
              "            <th>Address</th>\n",
              "            <th>City</th>\n",
              "            <th>PostalCode</th>\n",
              "            <th>Country</th>\n",
              "        </tr>\n",
              "    </thead>\n",
              "    <tbody>\n",
              "        <tr>\n",
              "            <td>1</td>\n",
              "            <td>Alfreds Futterkiste</td>\n",
              "            <td>Maria Anders</td>\n",
              "            <td>Obere Str. 57</td>\n",
              "            <td>Berlin</td>\n",
              "            <td>12209</td>\n",
              "            <td>Germany</td>\n",
              "        </tr>\n",
              "        <tr>\n",
              "            <td>2</td>\n",
              "            <td>Ana Trujillo Emparedados y helados</td>\n",
              "            <td>Ana Trujillo</td>\n",
              "            <td>Avda. de la Constitución 2222</td>\n",
              "            <td>México D.F.</td>\n",
              "            <td>5021</td>\n",
              "            <td>Mexico</td>\n",
              "        </tr>\n",
              "        <tr>\n",
              "            <td>3</td>\n",
              "            <td>Antonio Moreno Taquería</td>\n",
              "            <td>Antonio Moreno</td>\n",
              "            <td>Mataderos 2312</td>\n",
              "            <td>México D.F.</td>\n",
              "            <td>5023</td>\n",
              "            <td>Mexico</td>\n",
              "        </tr>\n",
              "        <tr>\n",
              "            <td>4</td>\n",
              "            <td>Around the Horn</td>\n",
              "            <td>Thomas Hardy</td>\n",
              "            <td>120 Hanover Sq.</td>\n",
              "            <td>London</td>\n",
              "            <td>WA1 1DP</td>\n",
              "            <td>UK</td>\n",
              "        </tr>\n",
              "    </tbody>\n",
              "</table>"
            ]
          },
          "metadata": {},
          "execution_count": 96
        }
      ]
    },
    {
      "cell_type": "code",
      "source": [
        "%%sql\n",
        "SELECT * FROM Customers WHERE CustomerName LIKE \"%lo\" ;"
      ],
      "metadata": {
        "colab": {
          "base_uri": "https://localhost:8080/",
          "height": 94
        },
        "id": "aC9-MLxPJspa",
        "outputId": "eb96fa64-bc81-4073-fbf3-bc4e33489e79"
      },
      "execution_count": 100,
      "outputs": [
        {
          "output_type": "stream",
          "name": "stdout",
          "text": [
            " * sqlite:////content/drive/MyDrive/veriler/database/databases_application.db\n",
            "Done.\n"
          ]
        },
        {
          "output_type": "execute_result",
          "data": {
            "text/plain": [
              "[(69, 'Romero y tomillo', 'Alejandra Camino', 'Gran Vía, 1', 'Madrid', '28001', 'Spain')]"
            ],
            "text/html": [
              "<table>\n",
              "    <thead>\n",
              "        <tr>\n",
              "            <th>CustomerID</th>\n",
              "            <th>CustomerName</th>\n",
              "            <th>ContactName</th>\n",
              "            <th>Address</th>\n",
              "            <th>City</th>\n",
              "            <th>PostalCode</th>\n",
              "            <th>Country</th>\n",
              "        </tr>\n",
              "    </thead>\n",
              "    <tbody>\n",
              "        <tr>\n",
              "            <td>69</td>\n",
              "            <td>Romero y tomillo</td>\n",
              "            <td>Alejandra Camino</td>\n",
              "            <td>Gran Vía, 1</td>\n",
              "            <td>Madrid</td>\n",
              "            <td>28001</td>\n",
              "            <td>Spain</td>\n",
              "        </tr>\n",
              "    </tbody>\n",
              "</table>"
            ]
          },
          "metadata": {},
          "execution_count": 100
        }
      ]
    },
    {
      "cell_type": "code",
      "source": [
        "%%sql\n",
        "SELECT * FROM Customers WHERE CustomerName LIKE \"%OR%\" AND Country LIKE \"%O\";"
      ],
      "metadata": {
        "colab": {
          "base_uri": "https://localhost:8080/",
          "height": 115
        },
        "id": "CP-GQo21K8eC",
        "outputId": "f2300fbe-eb8c-4639-e195-4ad9610ac664"
      },
      "execution_count": 101,
      "outputs": [
        {
          "output_type": "stream",
          "name": "stdout",
          "text": [
            " * sqlite:////content/drive/MyDrive/veriler/database/databases_application.db\n",
            "Done.\n"
          ]
        },
        {
          "output_type": "execute_result",
          "data": {
            "text/plain": [
              "[(3, 'Antonio Moreno Taquería', 'Antonio Moreno', 'Mataderos 2312', 'México D.F.', '5023', 'Mexico'),\n",
              " (80, 'Tortuga Restaurante', 'Miguel Angel Paolino', 'Avda. Azteca 123', 'México D.F.', '5033', 'Mexico')]"
            ],
            "text/html": [
              "<table>\n",
              "    <thead>\n",
              "        <tr>\n",
              "            <th>CustomerID</th>\n",
              "            <th>CustomerName</th>\n",
              "            <th>ContactName</th>\n",
              "            <th>Address</th>\n",
              "            <th>City</th>\n",
              "            <th>PostalCode</th>\n",
              "            <th>Country</th>\n",
              "        </tr>\n",
              "    </thead>\n",
              "    <tbody>\n",
              "        <tr>\n",
              "            <td>3</td>\n",
              "            <td>Antonio Moreno Taquería</td>\n",
              "            <td>Antonio Moreno</td>\n",
              "            <td>Mataderos 2312</td>\n",
              "            <td>México D.F.</td>\n",
              "            <td>5023</td>\n",
              "            <td>Mexico</td>\n",
              "        </tr>\n",
              "        <tr>\n",
              "            <td>80</td>\n",
              "            <td>Tortuga Restaurante</td>\n",
              "            <td>Miguel Angel Paolino</td>\n",
              "            <td>Avda. Azteca 123</td>\n",
              "            <td>México D.F.</td>\n",
              "            <td>5033</td>\n",
              "            <td>Mexico</td>\n",
              "        </tr>\n",
              "    </tbody>\n",
              "</table>"
            ]
          },
          "metadata": {},
          "execution_count": 101
        }
      ]
    },
    {
      "cell_type": "markdown",
      "source": [
        "# BETWEEN VE NOT BETWEEN KULLANIMI"
      ],
      "metadata": {
        "id": "2XE9qwprL9ly"
      }
    },
    {
      "cell_type": "code",
      "source": [
        "%%sql\n",
        "SELECT * FROM  Products WHERE Price BETWEEN 10 AND 20 LIMIT 10;"
      ],
      "metadata": {
        "colab": {
          "base_uri": "https://localhost:8080/",
          "height": 280
        },
        "id": "Hefb_1fWLLzA",
        "outputId": "5cc5b3be-e6f7-4de8-8bbf-b35efb77c84d"
      },
      "execution_count": 103,
      "outputs": [
        {
          "output_type": "stream",
          "name": "stdout",
          "text": [
            " * sqlite:////content/drive/MyDrive/veriler/database/databases_application.db\n",
            "Done.\n"
          ]
        },
        {
          "output_type": "execute_result",
          "data": {
            "text/plain": [
              "[(1, 'Chais', 1, 1, '10 boxes x 20 bags', 18),\n",
              " (2, 'Chang', 1, 1, '24 - 12 oz bottles', 19),\n",
              " (3, 'Aniseed Syrup', 1, 2, '12 - 550 ml bottles', 10),\n",
              " (16, 'Pavlova', 7, 3, '32 - 500 g boxes', 17),\n",
              " (21, \"Sir Rodney's Scones\", 8, 3, '24 pkgs. x 4 pieces', 10),\n",
              " (25, 'NuNuCa Nuß-Nougat-Creme', 11, 3, '20 - 450 g glasses', 14),\n",
              " (34, 'Sasquatch Ale', 16, 1, '24 - 12 oz bottles', 14),\n",
              " (35, 'Steeleye Stout', 16, 1, '24 - 12 oz bottles', 18),\n",
              " (36, 'Inlagd Sill', 17, 8, '24 - 250 g jars', 19),\n",
              " (39, 'Chartreuse verte', 18, 1, '750 cc per bottle', 18)]"
            ],
            "text/html": [
              "<table>\n",
              "    <thead>\n",
              "        <tr>\n",
              "            <th>ProductID</th>\n",
              "            <th>ProductName</th>\n",
              "            <th>SupplierID</th>\n",
              "            <th>CategoryID</th>\n",
              "            <th>Unit</th>\n",
              "            <th>Price</th>\n",
              "        </tr>\n",
              "    </thead>\n",
              "    <tbody>\n",
              "        <tr>\n",
              "            <td>1</td>\n",
              "            <td>Chais</td>\n",
              "            <td>1</td>\n",
              "            <td>1</td>\n",
              "            <td>10 boxes x 20 bags</td>\n",
              "            <td>18</td>\n",
              "        </tr>\n",
              "        <tr>\n",
              "            <td>2</td>\n",
              "            <td>Chang</td>\n",
              "            <td>1</td>\n",
              "            <td>1</td>\n",
              "            <td>24 - 12 oz bottles</td>\n",
              "            <td>19</td>\n",
              "        </tr>\n",
              "        <tr>\n",
              "            <td>3</td>\n",
              "            <td>Aniseed Syrup</td>\n",
              "            <td>1</td>\n",
              "            <td>2</td>\n",
              "            <td>12 - 550 ml bottles</td>\n",
              "            <td>10</td>\n",
              "        </tr>\n",
              "        <tr>\n",
              "            <td>16</td>\n",
              "            <td>Pavlova</td>\n",
              "            <td>7</td>\n",
              "            <td>3</td>\n",
              "            <td>32 - 500 g boxes</td>\n",
              "            <td>17</td>\n",
              "        </tr>\n",
              "        <tr>\n",
              "            <td>21</td>\n",
              "            <td>Sir Rodney&#x27;s Scones</td>\n",
              "            <td>8</td>\n",
              "            <td>3</td>\n",
              "            <td>24 pkgs. x 4 pieces</td>\n",
              "            <td>10</td>\n",
              "        </tr>\n",
              "        <tr>\n",
              "            <td>25</td>\n",
              "            <td>NuNuCa Nuß-Nougat-Creme</td>\n",
              "            <td>11</td>\n",
              "            <td>3</td>\n",
              "            <td>20 - 450 g glasses</td>\n",
              "            <td>14</td>\n",
              "        </tr>\n",
              "        <tr>\n",
              "            <td>34</td>\n",
              "            <td>Sasquatch Ale</td>\n",
              "            <td>16</td>\n",
              "            <td>1</td>\n",
              "            <td>24 - 12 oz bottles</td>\n",
              "            <td>14</td>\n",
              "        </tr>\n",
              "        <tr>\n",
              "            <td>35</td>\n",
              "            <td>Steeleye Stout</td>\n",
              "            <td>16</td>\n",
              "            <td>1</td>\n",
              "            <td>24 - 12 oz bottles</td>\n",
              "            <td>18</td>\n",
              "        </tr>\n",
              "        <tr>\n",
              "            <td>36</td>\n",
              "            <td>Inlagd Sill</td>\n",
              "            <td>17</td>\n",
              "            <td>8</td>\n",
              "            <td>24 - 250 g jars</td>\n",
              "            <td>19</td>\n",
              "        </tr>\n",
              "        <tr>\n",
              "            <td>39</td>\n",
              "            <td>Chartreuse verte</td>\n",
              "            <td>18</td>\n",
              "            <td>1</td>\n",
              "            <td>750 cc per bottle</td>\n",
              "            <td>18</td>\n",
              "        </tr>\n",
              "    </tbody>\n",
              "</table>"
            ]
          },
          "metadata": {},
          "execution_count": 103
        }
      ]
    },
    {
      "cell_type": "code",
      "source": [
        "%%sql\n",
        "SELECT * FROM Products WHERE Price NOT BETWEEN 10 AND 20 LIMIT 10;"
      ],
      "metadata": {
        "colab": {
          "base_uri": "https://localhost:8080/",
          "height": 280
        },
        "id": "Rf5jO5aQMMvS",
        "outputId": "abecf0f4-17cf-41e9-8be4-eb83a5de91dc"
      },
      "execution_count": 104,
      "outputs": [
        {
          "output_type": "stream",
          "name": "stdout",
          "text": [
            " * sqlite:////content/drive/MyDrive/veriler/database/databases_application.db\n",
            "Done.\n"
          ]
        },
        {
          "output_type": "execute_result",
          "data": {
            "text/plain": [
              "[(4, \"Chef Anton's Cajun Seasoning\", 2, 2, '48 - 6 oz jars', 22),\n",
              " (5, \"Chef Anton's Gumbo Mix\", 2, 2, '36 boxes', 21),\n",
              " (6, \"Grandma's Boysenberry Spread\", 3, 2, '12 - 8 oz jars', 25),\n",
              " (7, \"Uncle Bob's Organic Dried Pears\", 3, 7, '12 - 1 lb pkgs.', 30),\n",
              " (8, 'Northwoods Cranberry Sauce', 3, 2, '12 - 12 oz jars', 40),\n",
              " (9, 'Mishi Kobe Niku', 4, 6, '18 - 500 g pkgs.', 97),\n",
              " (10, 'Ikura', 4, 8, '12 - 200 ml jars', 31),\n",
              " (11, 'Queso Cabrales', 5, 4, '1 kg pkg.', 21),\n",
              " (12, 'Queso Manchego La Pastora', 5, 4, '10 - 500 g pkgs.', 38),\n",
              " (13, 'Konbu', 6, 8, '2 kg box', 6)]"
            ],
            "text/html": [
              "<table>\n",
              "    <thead>\n",
              "        <tr>\n",
              "            <th>ProductID</th>\n",
              "            <th>ProductName</th>\n",
              "            <th>SupplierID</th>\n",
              "            <th>CategoryID</th>\n",
              "            <th>Unit</th>\n",
              "            <th>Price</th>\n",
              "        </tr>\n",
              "    </thead>\n",
              "    <tbody>\n",
              "        <tr>\n",
              "            <td>4</td>\n",
              "            <td>Chef Anton&#x27;s Cajun Seasoning</td>\n",
              "            <td>2</td>\n",
              "            <td>2</td>\n",
              "            <td>48 - 6 oz jars</td>\n",
              "            <td>22</td>\n",
              "        </tr>\n",
              "        <tr>\n",
              "            <td>5</td>\n",
              "            <td>Chef Anton&#x27;s Gumbo Mix</td>\n",
              "            <td>2</td>\n",
              "            <td>2</td>\n",
              "            <td>36 boxes</td>\n",
              "            <td>21</td>\n",
              "        </tr>\n",
              "        <tr>\n",
              "            <td>6</td>\n",
              "            <td>Grandma&#x27;s Boysenberry Spread</td>\n",
              "            <td>3</td>\n",
              "            <td>2</td>\n",
              "            <td>12 - 8 oz jars</td>\n",
              "            <td>25</td>\n",
              "        </tr>\n",
              "        <tr>\n",
              "            <td>7</td>\n",
              "            <td>Uncle Bob&#x27;s Organic Dried Pears</td>\n",
              "            <td>3</td>\n",
              "            <td>7</td>\n",
              "            <td>12 - 1 lb pkgs.</td>\n",
              "            <td>30</td>\n",
              "        </tr>\n",
              "        <tr>\n",
              "            <td>8</td>\n",
              "            <td>Northwoods Cranberry Sauce</td>\n",
              "            <td>3</td>\n",
              "            <td>2</td>\n",
              "            <td>12 - 12 oz jars</td>\n",
              "            <td>40</td>\n",
              "        </tr>\n",
              "        <tr>\n",
              "            <td>9</td>\n",
              "            <td>Mishi Kobe Niku</td>\n",
              "            <td>4</td>\n",
              "            <td>6</td>\n",
              "            <td>18 - 500 g pkgs.</td>\n",
              "            <td>97</td>\n",
              "        </tr>\n",
              "        <tr>\n",
              "            <td>10</td>\n",
              "            <td>Ikura</td>\n",
              "            <td>4</td>\n",
              "            <td>8</td>\n",
              "            <td>12 - 200 ml jars</td>\n",
              "            <td>31</td>\n",
              "        </tr>\n",
              "        <tr>\n",
              "            <td>11</td>\n",
              "            <td>Queso Cabrales</td>\n",
              "            <td>5</td>\n",
              "            <td>4</td>\n",
              "            <td>1 kg pkg.</td>\n",
              "            <td>21</td>\n",
              "        </tr>\n",
              "        <tr>\n",
              "            <td>12</td>\n",
              "            <td>Queso Manchego La Pastora</td>\n",
              "            <td>5</td>\n",
              "            <td>4</td>\n",
              "            <td>10 - 500 g pkgs.</td>\n",
              "            <td>38</td>\n",
              "        </tr>\n",
              "        <tr>\n",
              "            <td>13</td>\n",
              "            <td>Konbu</td>\n",
              "            <td>6</td>\n",
              "            <td>8</td>\n",
              "            <td>2 kg box</td>\n",
              "            <td>6</td>\n",
              "        </tr>\n",
              "    </tbody>\n",
              "</table>"
            ]
          },
          "metadata": {},
          "execution_count": 104
        }
      ]
    },
    {
      "cell_type": "code",
      "source": [
        "%%sql\n",
        "SELECT * FROM Products wHERE ( Price BETWEEN 10 AND 20 ) AND ( CategoryID NOT IN ( 2, 4, 1 ) );"
      ],
      "metadata": {
        "colab": {
          "base_uri": "https://localhost:8080/",
          "height": 321
        },
        "id": "5A-zoiPaMdh4",
        "outputId": "59183b70-30f2-47e4-d0ab-d87a0d872f62"
      },
      "execution_count": 107,
      "outputs": [
        {
          "output_type": "stream",
          "name": "stdout",
          "text": [
            " * sqlite:////content/drive/MyDrive/veriler/database/databases_application.db\n",
            "Done.\n"
          ]
        },
        {
          "output_type": "execute_result",
          "data": {
            "text/plain": [
              "[(16, 'Pavlova', 7, 3, '32 - 500 g boxes', 17),\n",
              " (21, \"Sir Rodney's Scones\", 8, 3, '24 pkgs. x 4 pieces', 10),\n",
              " (25, 'NuNuCa Nuß-Nougat-Creme', 11, 3, '20 - 450 g glasses', 14),\n",
              " (36, 'Inlagd Sill', 17, 8, '24 - 250 g jars', 19),\n",
              " (42, 'Singaporean Hokkien Fried Mee', 20, 5, '32 - 1 kg pkgs.', 14),\n",
              " (46, 'Spegesild', 21, 8, '4 - 450 g glasses', 12),\n",
              " (49, 'Maxilaku', 23, 3, '24 - 50 g pkgs.', 20),\n",
              " (50, 'Valkoinen suklaa', 23, 3, '12 - 100 g bars', 16),\n",
              " (54, 'Tourtière', 25, 6, '16 pies', 16),\n",
              " (58, 'Escargots de Bourgogne', 27, 8, '24 pieces', 13),\n",
              " (73, 'Röd Kaviar', 17, 8, '24 - 150 g jars', 15),\n",
              " (74, 'Longlife Tofu', 4, 7, '5 kg pkg.', 10)]"
            ],
            "text/html": [
              "<table>\n",
              "    <thead>\n",
              "        <tr>\n",
              "            <th>ProductID</th>\n",
              "            <th>ProductName</th>\n",
              "            <th>SupplierID</th>\n",
              "            <th>CategoryID</th>\n",
              "            <th>Unit</th>\n",
              "            <th>Price</th>\n",
              "        </tr>\n",
              "    </thead>\n",
              "    <tbody>\n",
              "        <tr>\n",
              "            <td>16</td>\n",
              "            <td>Pavlova</td>\n",
              "            <td>7</td>\n",
              "            <td>3</td>\n",
              "            <td>32 - 500 g boxes</td>\n",
              "            <td>17</td>\n",
              "        </tr>\n",
              "        <tr>\n",
              "            <td>21</td>\n",
              "            <td>Sir Rodney&#x27;s Scones</td>\n",
              "            <td>8</td>\n",
              "            <td>3</td>\n",
              "            <td>24 pkgs. x 4 pieces</td>\n",
              "            <td>10</td>\n",
              "        </tr>\n",
              "        <tr>\n",
              "            <td>25</td>\n",
              "            <td>NuNuCa Nuß-Nougat-Creme</td>\n",
              "            <td>11</td>\n",
              "            <td>3</td>\n",
              "            <td>20 - 450 g glasses</td>\n",
              "            <td>14</td>\n",
              "        </tr>\n",
              "        <tr>\n",
              "            <td>36</td>\n",
              "            <td>Inlagd Sill</td>\n",
              "            <td>17</td>\n",
              "            <td>8</td>\n",
              "            <td>24 - 250 g jars</td>\n",
              "            <td>19</td>\n",
              "        </tr>\n",
              "        <tr>\n",
              "            <td>42</td>\n",
              "            <td>Singaporean Hokkien Fried Mee</td>\n",
              "            <td>20</td>\n",
              "            <td>5</td>\n",
              "            <td>32 - 1 kg pkgs.</td>\n",
              "            <td>14</td>\n",
              "        </tr>\n",
              "        <tr>\n",
              "            <td>46</td>\n",
              "            <td>Spegesild</td>\n",
              "            <td>21</td>\n",
              "            <td>8</td>\n",
              "            <td>4 - 450 g glasses</td>\n",
              "            <td>12</td>\n",
              "        </tr>\n",
              "        <tr>\n",
              "            <td>49</td>\n",
              "            <td>Maxilaku</td>\n",
              "            <td>23</td>\n",
              "            <td>3</td>\n",
              "            <td>24 - 50 g pkgs.</td>\n",
              "            <td>20</td>\n",
              "        </tr>\n",
              "        <tr>\n",
              "            <td>50</td>\n",
              "            <td>Valkoinen suklaa</td>\n",
              "            <td>23</td>\n",
              "            <td>3</td>\n",
              "            <td>12 - 100 g bars</td>\n",
              "            <td>16</td>\n",
              "        </tr>\n",
              "        <tr>\n",
              "            <td>54</td>\n",
              "            <td>Tourtière</td>\n",
              "            <td>25</td>\n",
              "            <td>6</td>\n",
              "            <td>16 pies</td>\n",
              "            <td>16</td>\n",
              "        </tr>\n",
              "        <tr>\n",
              "            <td>58</td>\n",
              "            <td>Escargots de Bourgogne</td>\n",
              "            <td>27</td>\n",
              "            <td>8</td>\n",
              "            <td>24 pieces</td>\n",
              "            <td>13</td>\n",
              "        </tr>\n",
              "        <tr>\n",
              "            <td>73</td>\n",
              "            <td>Röd Kaviar</td>\n",
              "            <td>17</td>\n",
              "            <td>8</td>\n",
              "            <td>24 - 150 g jars</td>\n",
              "            <td>15</td>\n",
              "        </tr>\n",
              "        <tr>\n",
              "            <td>74</td>\n",
              "            <td>Longlife Tofu</td>\n",
              "            <td>4</td>\n",
              "            <td>7</td>\n",
              "            <td>5 kg pkg.</td>\n",
              "            <td>10</td>\n",
              "        </tr>\n",
              "    </tbody>\n",
              "</table>"
            ]
          },
          "metadata": {},
          "execution_count": 107
        }
      ]
    },
    {
      "cell_type": "code",
      "source": [
        "%%sql\n",
        "SELECT ProductName FROM Products wHERE ( Price BETWEEN 10 AND 20 ) AND ( CategoryID NOT IN ( 2, 4, 1 ) );"
      ],
      "metadata": {
        "colab": {
          "base_uri": "https://localhost:8080/",
          "height": 321
        },
        "id": "3VY53qDPM6J2",
        "outputId": "7ab4f84e-5611-48cc-c922-39b27fcf17c9"
      },
      "execution_count": 108,
      "outputs": [
        {
          "output_type": "stream",
          "name": "stdout",
          "text": [
            " * sqlite:////content/drive/MyDrive/veriler/database/databases_application.db\n",
            "Done.\n"
          ]
        },
        {
          "output_type": "execute_result",
          "data": {
            "text/plain": [
              "[('Pavlova',),\n",
              " (\"Sir Rodney's Scones\",),\n",
              " ('NuNuCa Nuß-Nougat-Creme',),\n",
              " ('Inlagd Sill',),\n",
              " ('Singaporean Hokkien Fried Mee',),\n",
              " ('Spegesild',),\n",
              " ('Maxilaku',),\n",
              " ('Valkoinen suklaa',),\n",
              " ('Tourtière',),\n",
              " ('Escargots de Bourgogne',),\n",
              " ('Röd Kaviar',),\n",
              " ('Longlife Tofu',)]"
            ],
            "text/html": [
              "<table>\n",
              "    <thead>\n",
              "        <tr>\n",
              "            <th>ProductName</th>\n",
              "        </tr>\n",
              "    </thead>\n",
              "    <tbody>\n",
              "        <tr>\n",
              "            <td>Pavlova</td>\n",
              "        </tr>\n",
              "        <tr>\n",
              "            <td>Sir Rodney&#x27;s Scones</td>\n",
              "        </tr>\n",
              "        <tr>\n",
              "            <td>NuNuCa Nuß-Nougat-Creme</td>\n",
              "        </tr>\n",
              "        <tr>\n",
              "            <td>Inlagd Sill</td>\n",
              "        </tr>\n",
              "        <tr>\n",
              "            <td>Singaporean Hokkien Fried Mee</td>\n",
              "        </tr>\n",
              "        <tr>\n",
              "            <td>Spegesild</td>\n",
              "        </tr>\n",
              "        <tr>\n",
              "            <td>Maxilaku</td>\n",
              "        </tr>\n",
              "        <tr>\n",
              "            <td>Valkoinen suklaa</td>\n",
              "        </tr>\n",
              "        <tr>\n",
              "            <td>Tourtière</td>\n",
              "        </tr>\n",
              "        <tr>\n",
              "            <td>Escargots de Bourgogne</td>\n",
              "        </tr>\n",
              "        <tr>\n",
              "            <td>Röd Kaviar</td>\n",
              "        </tr>\n",
              "        <tr>\n",
              "            <td>Longlife Tofu</td>\n",
              "        </tr>\n",
              "    </tbody>\n",
              "</table>"
            ]
          },
          "metadata": {},
          "execution_count": 108
        }
      ]
    },
    {
      "cell_type": "code",
      "source": [
        "%%sql\n",
        "SELECT * FROM Products WHERE ProductName NOT BETWEEN \"Pavlova\" AND \"NuNuCa Nuß-Nougat-Creme\" ORDER BY Price;"
      ],
      "metadata": {
        "colab": {
          "base_uri": "https://localhost:8080/",
          "height": 1000
        },
        "id": "UjAbAMVDNmeO",
        "outputId": "71d91c0d-9bd0-48a7-8a7f-f0e81f9080dc"
      },
      "execution_count": 111,
      "outputs": [
        {
          "output_type": "stream",
          "name": "stdout",
          "text": [
            " * sqlite:////content/drive/MyDrive/veriler/database/databases_application.db\n",
            "Done.\n"
          ]
        },
        {
          "output_type": "execute_result",
          "data": {
            "text/plain": [
              "[(13, 'Konbu', 6, 8, '2 kg box', 6),\n",
              " (52, 'Filo Mix', 24, 5, '16 - 2 kg boxes', 7),\n",
              " (23, 'Tunnbröd', 9, 5, '12 - 250 g pkgs.', 9),\n",
              " (3, 'Aniseed Syrup', 1, 2, '12 - 550 ml bottles', 10),\n",
              " (21, \"Sir Rodney's Scones\", 8, 3, '24 pkgs. x 4 pieces', 10),\n",
              " (74, 'Longlife Tofu', 4, 7, '5 kg pkg.', 10),\n",
              " (46, 'Spegesild', 21, 8, '4 - 450 g glasses', 12),\n",
              " (58, 'Escargots de Bourgogne', 27, 8, '24 pieces', 13),\n",
              " (77, 'Original Frankfurter grüne Soße', 12, 2, '12 boxes', 13),\n",
              " (25, 'NuNuCa Nuß-Nougat-Creme', 11, 3, '20 - 450 g glasses', 14),\n",
              " (34, 'Sasquatch Ale', 16, 1, '24 - 12 oz bottles', 14),\n",
              " (42, 'Singaporean Hokkien Fried Mee', 20, 5, '32 - 1 kg pkgs.', 14),\n",
              " (67, 'Laughing Lumberjack Lager', 16, 1, '24 - 12 oz bottles', 14),\n",
              " (70, 'Outback Lager', 7, 1, '24 - 355 ml bottles', 15),\n",
              " (73, 'Röd Kaviar', 17, 8, '24 - 150 g jars', 15),\n",
              " (50, 'Valkoinen suklaa', 23, 3, '12 - 100 g bars', 16),\n",
              " (54, 'Tourtière', 25, 6, '16 pies', 16),\n",
              " (16, 'Pavlova', 7, 3, '32 - 500 g boxes', 17),\n",
              " (66, 'Louisiana Hot Spiced Okra', 2, 2, '24 - 8 oz jars', 17),\n",
              " (1, 'Chais', 1, 1, '10 boxes x 20 bags', 18),\n",
              " (35, 'Steeleye Stout', 16, 1, '24 - 12 oz bottles', 18),\n",
              " (39, 'Chartreuse verte', 18, 1, '750 cc per bottle', 18),\n",
              " (76, 'Lakkalikööri', 23, 1, '500 ml', 18),\n",
              " (2, 'Chang', 1, 1, '24 - 12 oz bottles', 19),\n",
              " (36, 'Inlagd Sill', 17, 8, '24 - 250 g jars', 19),\n",
              " (44, 'Gula Malacca', 20, 2, '20 - 2 kg bags', 19),\n",
              " (49, 'Maxilaku', 23, 3, '24 - 50 g pkgs.', 20),\n",
              " (5, \"Chef Anton's Gumbo Mix\", 2, 2, '36 boxes', 21),\n",
              " (11, 'Queso Cabrales', 5, 4, '1 kg pkg.', 21),\n",
              " (22, \"Gustaf's Knäckebröd\", 9, 5, '24 - 500 g pkgs.', 21),\n",
              " (71, 'Fløtemysost', 15, 4, '10 - 500 g pkgs.', 21),\n",
              " (4, \"Chef Anton's Cajun Seasoning\", 2, 2, '48 - 6 oz jars', 22),\n",
              " (14, 'Tofu', 6, 7, '40 - 100 g pkgs.', 23),\n",
              " (41, \"Jack's New England Clam Chowder\", 19, 8, '12 - 12 oz cans', 23),\n",
              " (55, 'Pâté chinois', 25, 6, '24 boxes x 2 pies', 24),\n",
              " (6, \"Grandma's Boysenberry Spread\", 3, 2, '12 - 8 oz jars', 25),\n",
              " (30, 'Nord-Ost Matjeshering', 13, 8, '10 - 200 g glasses', 25),\n",
              " (37, 'Gravad lax', 17, 8, '12 - 500 g pkgs.', 26),\n",
              " (48, 'Chocolade', 22, 3, '10 pkgs.', 27),\n",
              " (75, 'Rhönbräu Klosterbier', 12, 1, '24 - 0.5 l bottles', 27),\n",
              " (7, \"Uncle Bob's Organic Dried Pears\", 3, 7, '12 - 1 lb pkgs.', 30),\n",
              " (10, 'Ikura', 4, 8, '12 - 200 ml jars', 31),\n",
              " (26, 'Gumbär Gummibärchen', 11, 3, '100 - 250 g bags', 31),\n",
              " (32, 'Mascarpone Fabioli', 14, 4, '24 - 200 g pkgs.', 32),\n",
              " (53, 'Perth Pasties', 24, 6, '48 pieces', 32),\n",
              " (64, 'Wimmers gute Semmelknödel', 12, 5, '20 bags x 4 pieces', 33),\n",
              " (60, 'Camembert Pierrot', 28, 4, '15 - 300 g rounds', 34),\n",
              " (72, 'Mozzarella di Giovanni', 14, 4, '24 - 200 g pkgs.', 34),\n",
              " (69, 'Gudbrandsdalsost', 15, 4, '10 kg pkg.', 36),\n",
              " (12, 'Queso Manchego La Pastora', 5, 4, '10 - 500 g pkgs.', 38),\n",
              " (56, 'Gnocchi di nonna Alice', 26, 5, '24 - 250 g pkgs.', 38),\n",
              " (17, 'Alice Mutton', 7, 6, '20 - 1 kg tins', 39),\n",
              " (8, 'Northwoods Cranberry Sauce', 3, 2, '12 - 12 oz jars', 40),\n",
              " (15, 'Genen Shouyu', 6, 2, '24 - 250 ml bottles', 43),\n",
              " (19, 'Teatime Chocolate Biscuits', 8, 3, '10 boxes x 12 pieces', 43),\n",
              " (24, 'Guaraná Fantástica', 10, 1, '12 - 355 ml cans', 43),\n",
              " (27, 'Schoggi Schokolade', 11, 3, '100 - 100 g pieces', 43),\n",
              " (33, 'Geitost', 15, 4, '500 g', 43),\n",
              " (40, 'Boston Crab Meat', 19, 8, '24 - 4 oz tins', 43),\n",
              " (45, 'Røgede sild', 21, 8, '1k pkg.', 43),\n",
              " (47, 'Zaanse koeken', 22, 3, '10 - 4 oz boxes', 43),\n",
              " (57, 'Ravioli Angelo', 26, 5, '24 - 250 g pkgs.', 43),\n",
              " (61, \"Sirop d'érable\", 29, 2, '24 - 500 ml bottles', 43),\n",
              " (63, 'Vegie-spread', 7, 2, '15 - 625 g jars', 43),\n",
              " (65, 'Louisiana Fiery Hot Pepper Sauce', 2, 2, '32 - 8 oz bottles', 43),\n",
              " (28, 'Rössle Sauerkraut', 12, 7, '25 - 825 g cans', 45),\n",
              " (68, 'Scottish Longbreads', 8, 3, '10 boxes x 8 pieces', 45),\n",
              " (43, 'Ipoh Coffee', 20, 1, '16 - 500 g tins', 46),\n",
              " (62, 'Tarte au sucre', 29, 3, '48 pies', 49),\n",
              " (51, 'Manjimup Dried Apples', 24, 7, '50 - 300 g pkgs.', 53),\n",
              " (59, 'Raclette Courdavault', 28, 4, '5 kg pkg.', 55),\n",
              " (18, 'Carnarvon Tigers', 7, 8, '16 kg pkg.', 62),\n",
              " (20, \"Sir Rodney's Marmalade\", 8, 3, '30 gift boxes', 81),\n",
              " (9, 'Mishi Kobe Niku', 4, 6, '18 - 500 g pkgs.', 97),\n",
              " (29, 'Thüringer Rostbratwurst', 12, 6, '50 bags x 30 sausgs.', 123),\n",
              " (38, 'Côte de Blaye', 18, 1, '12 - 75 cl bottles', 263),\n",
              " (31, 'Gorgonzola Telino', 14, 4, '12 - 100 g pkgs', 435)]"
            ],
            "text/html": [
              "<table>\n",
              "    <thead>\n",
              "        <tr>\n",
              "            <th>ProductID</th>\n",
              "            <th>ProductName</th>\n",
              "            <th>SupplierID</th>\n",
              "            <th>CategoryID</th>\n",
              "            <th>Unit</th>\n",
              "            <th>Price</th>\n",
              "        </tr>\n",
              "    </thead>\n",
              "    <tbody>\n",
              "        <tr>\n",
              "            <td>13</td>\n",
              "            <td>Konbu</td>\n",
              "            <td>6</td>\n",
              "            <td>8</td>\n",
              "            <td>2 kg box</td>\n",
              "            <td>6</td>\n",
              "        </tr>\n",
              "        <tr>\n",
              "            <td>52</td>\n",
              "            <td>Filo Mix</td>\n",
              "            <td>24</td>\n",
              "            <td>5</td>\n",
              "            <td>16 - 2 kg boxes</td>\n",
              "            <td>7</td>\n",
              "        </tr>\n",
              "        <tr>\n",
              "            <td>23</td>\n",
              "            <td>Tunnbröd</td>\n",
              "            <td>9</td>\n",
              "            <td>5</td>\n",
              "            <td>12 - 250 g pkgs.</td>\n",
              "            <td>9</td>\n",
              "        </tr>\n",
              "        <tr>\n",
              "            <td>3</td>\n",
              "            <td>Aniseed Syrup</td>\n",
              "            <td>1</td>\n",
              "            <td>2</td>\n",
              "            <td>12 - 550 ml bottles</td>\n",
              "            <td>10</td>\n",
              "        </tr>\n",
              "        <tr>\n",
              "            <td>21</td>\n",
              "            <td>Sir Rodney&#x27;s Scones</td>\n",
              "            <td>8</td>\n",
              "            <td>3</td>\n",
              "            <td>24 pkgs. x 4 pieces</td>\n",
              "            <td>10</td>\n",
              "        </tr>\n",
              "        <tr>\n",
              "            <td>74</td>\n",
              "            <td>Longlife Tofu</td>\n",
              "            <td>4</td>\n",
              "            <td>7</td>\n",
              "            <td>5 kg pkg.</td>\n",
              "            <td>10</td>\n",
              "        </tr>\n",
              "        <tr>\n",
              "            <td>46</td>\n",
              "            <td>Spegesild</td>\n",
              "            <td>21</td>\n",
              "            <td>8</td>\n",
              "            <td>4 - 450 g glasses</td>\n",
              "            <td>12</td>\n",
              "        </tr>\n",
              "        <tr>\n",
              "            <td>58</td>\n",
              "            <td>Escargots de Bourgogne</td>\n",
              "            <td>27</td>\n",
              "            <td>8</td>\n",
              "            <td>24 pieces</td>\n",
              "            <td>13</td>\n",
              "        </tr>\n",
              "        <tr>\n",
              "            <td>77</td>\n",
              "            <td>Original Frankfurter grüne Soße</td>\n",
              "            <td>12</td>\n",
              "            <td>2</td>\n",
              "            <td>12 boxes</td>\n",
              "            <td>13</td>\n",
              "        </tr>\n",
              "        <tr>\n",
              "            <td>25</td>\n",
              "            <td>NuNuCa Nuß-Nougat-Creme</td>\n",
              "            <td>11</td>\n",
              "            <td>3</td>\n",
              "            <td>20 - 450 g glasses</td>\n",
              "            <td>14</td>\n",
              "        </tr>\n",
              "        <tr>\n",
              "            <td>34</td>\n",
              "            <td>Sasquatch Ale</td>\n",
              "            <td>16</td>\n",
              "            <td>1</td>\n",
              "            <td>24 - 12 oz bottles</td>\n",
              "            <td>14</td>\n",
              "        </tr>\n",
              "        <tr>\n",
              "            <td>42</td>\n",
              "            <td>Singaporean Hokkien Fried Mee</td>\n",
              "            <td>20</td>\n",
              "            <td>5</td>\n",
              "            <td>32 - 1 kg pkgs.</td>\n",
              "            <td>14</td>\n",
              "        </tr>\n",
              "        <tr>\n",
              "            <td>67</td>\n",
              "            <td>Laughing Lumberjack Lager</td>\n",
              "            <td>16</td>\n",
              "            <td>1</td>\n",
              "            <td>24 - 12 oz bottles</td>\n",
              "            <td>14</td>\n",
              "        </tr>\n",
              "        <tr>\n",
              "            <td>70</td>\n",
              "            <td>Outback Lager</td>\n",
              "            <td>7</td>\n",
              "            <td>1</td>\n",
              "            <td>24 - 355 ml bottles</td>\n",
              "            <td>15</td>\n",
              "        </tr>\n",
              "        <tr>\n",
              "            <td>73</td>\n",
              "            <td>Röd Kaviar</td>\n",
              "            <td>17</td>\n",
              "            <td>8</td>\n",
              "            <td>24 - 150 g jars</td>\n",
              "            <td>15</td>\n",
              "        </tr>\n",
              "        <tr>\n",
              "            <td>50</td>\n",
              "            <td>Valkoinen suklaa</td>\n",
              "            <td>23</td>\n",
              "            <td>3</td>\n",
              "            <td>12 - 100 g bars</td>\n",
              "            <td>16</td>\n",
              "        </tr>\n",
              "        <tr>\n",
              "            <td>54</td>\n",
              "            <td>Tourtière</td>\n",
              "            <td>25</td>\n",
              "            <td>6</td>\n",
              "            <td>16 pies</td>\n",
              "            <td>16</td>\n",
              "        </tr>\n",
              "        <tr>\n",
              "            <td>16</td>\n",
              "            <td>Pavlova</td>\n",
              "            <td>7</td>\n",
              "            <td>3</td>\n",
              "            <td>32 - 500 g boxes</td>\n",
              "            <td>17</td>\n",
              "        </tr>\n",
              "        <tr>\n",
              "            <td>66</td>\n",
              "            <td>Louisiana Hot Spiced Okra</td>\n",
              "            <td>2</td>\n",
              "            <td>2</td>\n",
              "            <td>24 - 8 oz jars</td>\n",
              "            <td>17</td>\n",
              "        </tr>\n",
              "        <tr>\n",
              "            <td>1</td>\n",
              "            <td>Chais</td>\n",
              "            <td>1</td>\n",
              "            <td>1</td>\n",
              "            <td>10 boxes x 20 bags</td>\n",
              "            <td>18</td>\n",
              "        </tr>\n",
              "        <tr>\n",
              "            <td>35</td>\n",
              "            <td>Steeleye Stout</td>\n",
              "            <td>16</td>\n",
              "            <td>1</td>\n",
              "            <td>24 - 12 oz bottles</td>\n",
              "            <td>18</td>\n",
              "        </tr>\n",
              "        <tr>\n",
              "            <td>39</td>\n",
              "            <td>Chartreuse verte</td>\n",
              "            <td>18</td>\n",
              "            <td>1</td>\n",
              "            <td>750 cc per bottle</td>\n",
              "            <td>18</td>\n",
              "        </tr>\n",
              "        <tr>\n",
              "            <td>76</td>\n",
              "            <td>Lakkalikööri</td>\n",
              "            <td>23</td>\n",
              "            <td>1</td>\n",
              "            <td>500 ml</td>\n",
              "            <td>18</td>\n",
              "        </tr>\n",
              "        <tr>\n",
              "            <td>2</td>\n",
              "            <td>Chang</td>\n",
              "            <td>1</td>\n",
              "            <td>1</td>\n",
              "            <td>24 - 12 oz bottles</td>\n",
              "            <td>19</td>\n",
              "        </tr>\n",
              "        <tr>\n",
              "            <td>36</td>\n",
              "            <td>Inlagd Sill</td>\n",
              "            <td>17</td>\n",
              "            <td>8</td>\n",
              "            <td>24 - 250 g jars</td>\n",
              "            <td>19</td>\n",
              "        </tr>\n",
              "        <tr>\n",
              "            <td>44</td>\n",
              "            <td>Gula Malacca</td>\n",
              "            <td>20</td>\n",
              "            <td>2</td>\n",
              "            <td>20 - 2 kg bags</td>\n",
              "            <td>19</td>\n",
              "        </tr>\n",
              "        <tr>\n",
              "            <td>49</td>\n",
              "            <td>Maxilaku</td>\n",
              "            <td>23</td>\n",
              "            <td>3</td>\n",
              "            <td>24 - 50 g pkgs.</td>\n",
              "            <td>20</td>\n",
              "        </tr>\n",
              "        <tr>\n",
              "            <td>5</td>\n",
              "            <td>Chef Anton&#x27;s Gumbo Mix</td>\n",
              "            <td>2</td>\n",
              "            <td>2</td>\n",
              "            <td>36 boxes</td>\n",
              "            <td>21</td>\n",
              "        </tr>\n",
              "        <tr>\n",
              "            <td>11</td>\n",
              "            <td>Queso Cabrales</td>\n",
              "            <td>5</td>\n",
              "            <td>4</td>\n",
              "            <td>1 kg pkg.</td>\n",
              "            <td>21</td>\n",
              "        </tr>\n",
              "        <tr>\n",
              "            <td>22</td>\n",
              "            <td>Gustaf&#x27;s Knäckebröd</td>\n",
              "            <td>9</td>\n",
              "            <td>5</td>\n",
              "            <td>24 - 500 g pkgs.</td>\n",
              "            <td>21</td>\n",
              "        </tr>\n",
              "        <tr>\n",
              "            <td>71</td>\n",
              "            <td>Fløtemysost</td>\n",
              "            <td>15</td>\n",
              "            <td>4</td>\n",
              "            <td>10 - 500 g pkgs.</td>\n",
              "            <td>21</td>\n",
              "        </tr>\n",
              "        <tr>\n",
              "            <td>4</td>\n",
              "            <td>Chef Anton&#x27;s Cajun Seasoning</td>\n",
              "            <td>2</td>\n",
              "            <td>2</td>\n",
              "            <td>48 - 6 oz jars</td>\n",
              "            <td>22</td>\n",
              "        </tr>\n",
              "        <tr>\n",
              "            <td>14</td>\n",
              "            <td>Tofu</td>\n",
              "            <td>6</td>\n",
              "            <td>7</td>\n",
              "            <td>40 - 100 g pkgs.</td>\n",
              "            <td>23</td>\n",
              "        </tr>\n",
              "        <tr>\n",
              "            <td>41</td>\n",
              "            <td>Jack&#x27;s New England Clam Chowder</td>\n",
              "            <td>19</td>\n",
              "            <td>8</td>\n",
              "            <td>12 - 12 oz cans</td>\n",
              "            <td>23</td>\n",
              "        </tr>\n",
              "        <tr>\n",
              "            <td>55</td>\n",
              "            <td>Pâté chinois</td>\n",
              "            <td>25</td>\n",
              "            <td>6</td>\n",
              "            <td>24 boxes x 2 pies</td>\n",
              "            <td>24</td>\n",
              "        </tr>\n",
              "        <tr>\n",
              "            <td>6</td>\n",
              "            <td>Grandma&#x27;s Boysenberry Spread</td>\n",
              "            <td>3</td>\n",
              "            <td>2</td>\n",
              "            <td>12 - 8 oz jars</td>\n",
              "            <td>25</td>\n",
              "        </tr>\n",
              "        <tr>\n",
              "            <td>30</td>\n",
              "            <td>Nord-Ost Matjeshering</td>\n",
              "            <td>13</td>\n",
              "            <td>8</td>\n",
              "            <td>10 - 200 g glasses</td>\n",
              "            <td>25</td>\n",
              "        </tr>\n",
              "        <tr>\n",
              "            <td>37</td>\n",
              "            <td>Gravad lax</td>\n",
              "            <td>17</td>\n",
              "            <td>8</td>\n",
              "            <td>12 - 500 g pkgs.</td>\n",
              "            <td>26</td>\n",
              "        </tr>\n",
              "        <tr>\n",
              "            <td>48</td>\n",
              "            <td>Chocolade</td>\n",
              "            <td>22</td>\n",
              "            <td>3</td>\n",
              "            <td>10 pkgs.</td>\n",
              "            <td>27</td>\n",
              "        </tr>\n",
              "        <tr>\n",
              "            <td>75</td>\n",
              "            <td>Rhönbräu Klosterbier</td>\n",
              "            <td>12</td>\n",
              "            <td>1</td>\n",
              "            <td>24 - 0.5 l bottles</td>\n",
              "            <td>27</td>\n",
              "        </tr>\n",
              "        <tr>\n",
              "            <td>7</td>\n",
              "            <td>Uncle Bob&#x27;s Organic Dried Pears</td>\n",
              "            <td>3</td>\n",
              "            <td>7</td>\n",
              "            <td>12 - 1 lb pkgs.</td>\n",
              "            <td>30</td>\n",
              "        </tr>\n",
              "        <tr>\n",
              "            <td>10</td>\n",
              "            <td>Ikura</td>\n",
              "            <td>4</td>\n",
              "            <td>8</td>\n",
              "            <td>12 - 200 ml jars</td>\n",
              "            <td>31</td>\n",
              "        </tr>\n",
              "        <tr>\n",
              "            <td>26</td>\n",
              "            <td>Gumbär Gummibärchen</td>\n",
              "            <td>11</td>\n",
              "            <td>3</td>\n",
              "            <td>100 - 250 g bags</td>\n",
              "            <td>31</td>\n",
              "        </tr>\n",
              "        <tr>\n",
              "            <td>32</td>\n",
              "            <td>Mascarpone Fabioli</td>\n",
              "            <td>14</td>\n",
              "            <td>4</td>\n",
              "            <td>24 - 200 g pkgs.</td>\n",
              "            <td>32</td>\n",
              "        </tr>\n",
              "        <tr>\n",
              "            <td>53</td>\n",
              "            <td>Perth Pasties</td>\n",
              "            <td>24</td>\n",
              "            <td>6</td>\n",
              "            <td>48 pieces</td>\n",
              "            <td>32</td>\n",
              "        </tr>\n",
              "        <tr>\n",
              "            <td>64</td>\n",
              "            <td>Wimmers gute Semmelknödel</td>\n",
              "            <td>12</td>\n",
              "            <td>5</td>\n",
              "            <td>20 bags x 4 pieces</td>\n",
              "            <td>33</td>\n",
              "        </tr>\n",
              "        <tr>\n",
              "            <td>60</td>\n",
              "            <td>Camembert Pierrot</td>\n",
              "            <td>28</td>\n",
              "            <td>4</td>\n",
              "            <td>15 - 300 g rounds</td>\n",
              "            <td>34</td>\n",
              "        </tr>\n",
              "        <tr>\n",
              "            <td>72</td>\n",
              "            <td>Mozzarella di Giovanni</td>\n",
              "            <td>14</td>\n",
              "            <td>4</td>\n",
              "            <td>24 - 200 g pkgs.</td>\n",
              "            <td>34</td>\n",
              "        </tr>\n",
              "        <tr>\n",
              "            <td>69</td>\n",
              "            <td>Gudbrandsdalsost</td>\n",
              "            <td>15</td>\n",
              "            <td>4</td>\n",
              "            <td>10 kg pkg.</td>\n",
              "            <td>36</td>\n",
              "        </tr>\n",
              "        <tr>\n",
              "            <td>12</td>\n",
              "            <td>Queso Manchego La Pastora</td>\n",
              "            <td>5</td>\n",
              "            <td>4</td>\n",
              "            <td>10 - 500 g pkgs.</td>\n",
              "            <td>38</td>\n",
              "        </tr>\n",
              "        <tr>\n",
              "            <td>56</td>\n",
              "            <td>Gnocchi di nonna Alice</td>\n",
              "            <td>26</td>\n",
              "            <td>5</td>\n",
              "            <td>24 - 250 g pkgs.</td>\n",
              "            <td>38</td>\n",
              "        </tr>\n",
              "        <tr>\n",
              "            <td>17</td>\n",
              "            <td>Alice Mutton</td>\n",
              "            <td>7</td>\n",
              "            <td>6</td>\n",
              "            <td>20 - 1 kg tins</td>\n",
              "            <td>39</td>\n",
              "        </tr>\n",
              "        <tr>\n",
              "            <td>8</td>\n",
              "            <td>Northwoods Cranberry Sauce</td>\n",
              "            <td>3</td>\n",
              "            <td>2</td>\n",
              "            <td>12 - 12 oz jars</td>\n",
              "            <td>40</td>\n",
              "        </tr>\n",
              "        <tr>\n",
              "            <td>15</td>\n",
              "            <td>Genen Shouyu</td>\n",
              "            <td>6</td>\n",
              "            <td>2</td>\n",
              "            <td>24 - 250 ml bottles</td>\n",
              "            <td>43</td>\n",
              "        </tr>\n",
              "        <tr>\n",
              "            <td>19</td>\n",
              "            <td>Teatime Chocolate Biscuits</td>\n",
              "            <td>8</td>\n",
              "            <td>3</td>\n",
              "            <td>10 boxes x 12 pieces</td>\n",
              "            <td>43</td>\n",
              "        </tr>\n",
              "        <tr>\n",
              "            <td>24</td>\n",
              "            <td>Guaraná Fantástica</td>\n",
              "            <td>10</td>\n",
              "            <td>1</td>\n",
              "            <td>12 - 355 ml cans</td>\n",
              "            <td>43</td>\n",
              "        </tr>\n",
              "        <tr>\n",
              "            <td>27</td>\n",
              "            <td>Schoggi Schokolade</td>\n",
              "            <td>11</td>\n",
              "            <td>3</td>\n",
              "            <td>100 - 100 g pieces</td>\n",
              "            <td>43</td>\n",
              "        </tr>\n",
              "        <tr>\n",
              "            <td>33</td>\n",
              "            <td>Geitost</td>\n",
              "            <td>15</td>\n",
              "            <td>4</td>\n",
              "            <td>500 g</td>\n",
              "            <td>43</td>\n",
              "        </tr>\n",
              "        <tr>\n",
              "            <td>40</td>\n",
              "            <td>Boston Crab Meat</td>\n",
              "            <td>19</td>\n",
              "            <td>8</td>\n",
              "            <td>24 - 4 oz tins</td>\n",
              "            <td>43</td>\n",
              "        </tr>\n",
              "        <tr>\n",
              "            <td>45</td>\n",
              "            <td>Røgede sild</td>\n",
              "            <td>21</td>\n",
              "            <td>8</td>\n",
              "            <td>1k pkg.</td>\n",
              "            <td>43</td>\n",
              "        </tr>\n",
              "        <tr>\n",
              "            <td>47</td>\n",
              "            <td>Zaanse koeken</td>\n",
              "            <td>22</td>\n",
              "            <td>3</td>\n",
              "            <td>10 - 4 oz boxes</td>\n",
              "            <td>43</td>\n",
              "        </tr>\n",
              "        <tr>\n",
              "            <td>57</td>\n",
              "            <td>Ravioli Angelo</td>\n",
              "            <td>26</td>\n",
              "            <td>5</td>\n",
              "            <td>24 - 250 g pkgs.</td>\n",
              "            <td>43</td>\n",
              "        </tr>\n",
              "        <tr>\n",
              "            <td>61</td>\n",
              "            <td>Sirop d&#x27;érable</td>\n",
              "            <td>29</td>\n",
              "            <td>2</td>\n",
              "            <td>24 - 500 ml bottles</td>\n",
              "            <td>43</td>\n",
              "        </tr>\n",
              "        <tr>\n",
              "            <td>63</td>\n",
              "            <td>Vegie-spread</td>\n",
              "            <td>7</td>\n",
              "            <td>2</td>\n",
              "            <td>15 - 625 g jars</td>\n",
              "            <td>43</td>\n",
              "        </tr>\n",
              "        <tr>\n",
              "            <td>65</td>\n",
              "            <td>Louisiana Fiery Hot Pepper Sauce</td>\n",
              "            <td>2</td>\n",
              "            <td>2</td>\n",
              "            <td>32 - 8 oz bottles</td>\n",
              "            <td>43</td>\n",
              "        </tr>\n",
              "        <tr>\n",
              "            <td>28</td>\n",
              "            <td>Rössle Sauerkraut</td>\n",
              "            <td>12</td>\n",
              "            <td>7</td>\n",
              "            <td>25 - 825 g cans</td>\n",
              "            <td>45</td>\n",
              "        </tr>\n",
              "        <tr>\n",
              "            <td>68</td>\n",
              "            <td>Scottish Longbreads</td>\n",
              "            <td>8</td>\n",
              "            <td>3</td>\n",
              "            <td>10 boxes x 8 pieces</td>\n",
              "            <td>45</td>\n",
              "        </tr>\n",
              "        <tr>\n",
              "            <td>43</td>\n",
              "            <td>Ipoh Coffee</td>\n",
              "            <td>20</td>\n",
              "            <td>1</td>\n",
              "            <td>16 - 500 g tins</td>\n",
              "            <td>46</td>\n",
              "        </tr>\n",
              "        <tr>\n",
              "            <td>62</td>\n",
              "            <td>Tarte au sucre</td>\n",
              "            <td>29</td>\n",
              "            <td>3</td>\n",
              "            <td>48 pies</td>\n",
              "            <td>49</td>\n",
              "        </tr>\n",
              "        <tr>\n",
              "            <td>51</td>\n",
              "            <td>Manjimup Dried Apples</td>\n",
              "            <td>24</td>\n",
              "            <td>7</td>\n",
              "            <td>50 - 300 g pkgs.</td>\n",
              "            <td>53</td>\n",
              "        </tr>\n",
              "        <tr>\n",
              "            <td>59</td>\n",
              "            <td>Raclette Courdavault</td>\n",
              "            <td>28</td>\n",
              "            <td>4</td>\n",
              "            <td>5 kg pkg.</td>\n",
              "            <td>55</td>\n",
              "        </tr>\n",
              "        <tr>\n",
              "            <td>18</td>\n",
              "            <td>Carnarvon Tigers</td>\n",
              "            <td>7</td>\n",
              "            <td>8</td>\n",
              "            <td>16 kg pkg.</td>\n",
              "            <td>62</td>\n",
              "        </tr>\n",
              "        <tr>\n",
              "            <td>20</td>\n",
              "            <td>Sir Rodney&#x27;s Marmalade</td>\n",
              "            <td>8</td>\n",
              "            <td>3</td>\n",
              "            <td>30 gift boxes</td>\n",
              "            <td>81</td>\n",
              "        </tr>\n",
              "        <tr>\n",
              "            <td>9</td>\n",
              "            <td>Mishi Kobe Niku</td>\n",
              "            <td>4</td>\n",
              "            <td>6</td>\n",
              "            <td>18 - 500 g pkgs.</td>\n",
              "            <td>97</td>\n",
              "        </tr>\n",
              "        <tr>\n",
              "            <td>29</td>\n",
              "            <td>Thüringer Rostbratwurst</td>\n",
              "            <td>12</td>\n",
              "            <td>6</td>\n",
              "            <td>50 bags x 30 sausgs.</td>\n",
              "            <td>123</td>\n",
              "        </tr>\n",
              "        <tr>\n",
              "            <td>38</td>\n",
              "            <td>Côte de Blaye</td>\n",
              "            <td>18</td>\n",
              "            <td>1</td>\n",
              "            <td>12 - 75 cl bottles</td>\n",
              "            <td>263</td>\n",
              "        </tr>\n",
              "        <tr>\n",
              "            <td>31</td>\n",
              "            <td>Gorgonzola Telino</td>\n",
              "            <td>14</td>\n",
              "            <td>4</td>\n",
              "            <td>12 - 100 g pkgs</td>\n",
              "            <td>435</td>\n",
              "        </tr>\n",
              "    </tbody>\n",
              "</table>"
            ]
          },
          "metadata": {},
          "execution_count": 111
        }
      ]
    },
    {
      "cell_type": "markdown",
      "source": [
        "# AGGREGATİON ve gruplama İŞLEMLERİ"
      ],
      "metadata": {
        "id": "BUMPdoDHfLVy"
      }
    },
    {
      "cell_type": "code",
      "source": [
        "%%sql\n",
        "SELECT COUNT(Price),SUM(Price),MIN(Price),MAX(Price),AVG(Price) FROM Products;"
      ],
      "metadata": {
        "colab": {
          "base_uri": "https://localhost:8080/",
          "height": 94
        },
        "id": "IAWBDrFROCZU",
        "outputId": "fe1d229c-232c-4ad5-980e-be8bae30a53c"
      },
      "execution_count": 7,
      "outputs": [
        {
          "output_type": "stream",
          "name": "stdout",
          "text": [
            " * sqlite:////content/drive/MyDrive/veriler/database/databases_application.db\n",
            "Done.\n"
          ]
        },
        {
          "output_type": "execute_result",
          "data": {
            "text/plain": [
              "[(77, 3015, 6, 435, 39.15584415584416)]"
            ],
            "text/html": [
              "<table>\n",
              "    <thead>\n",
              "        <tr>\n",
              "            <th>COUNT(Price)</th>\n",
              "            <th>SUM(Price)</th>\n",
              "            <th>MIN(Price)</th>\n",
              "            <th>MAX(Price)</th>\n",
              "            <th>AVG(Price)</th>\n",
              "        </tr>\n",
              "    </thead>\n",
              "    <tbody>\n",
              "        <tr>\n",
              "            <td>77</td>\n",
              "            <td>3015</td>\n",
              "            <td>6</td>\n",
              "            <td>435</td>\n",
              "            <td>39.15584415584416</td>\n",
              "        </tr>\n",
              "    </tbody>\n",
              "</table>"
            ]
          },
          "metadata": {},
          "execution_count": 7
        }
      ]
    },
    {
      "cell_type": "code",
      "source": [
        "%%sql\n",
        "SELECT COUNT(CustomerID),Country FROM Customers GROUP BY Country ORDER BY COUNT(CustomerID) DESC ;"
      ],
      "metadata": {
        "colab": {
          "base_uri": "https://localhost:8080/",
          "height": 506
        },
        "id": "icML1xhsglLX",
        "outputId": "dc75c03e-c016-4777-e4ce-3d9725562116"
      },
      "execution_count": 10,
      "outputs": [
        {
          "output_type": "stream",
          "name": "stdout",
          "text": [
            " * sqlite:////content/drive/MyDrive/veriler/database/databases_application.db\n",
            "Done.\n"
          ]
        },
        {
          "output_type": "execute_result",
          "data": {
            "text/plain": [
              "[(13, 'USA'),\n",
              " (11, 'France'),\n",
              " (11, 'Germany'),\n",
              " (9, 'Brazil'),\n",
              " (7, 'UK'),\n",
              " (5, 'Mexico'),\n",
              " (5, 'Spain'),\n",
              " (4, 'Venezuela'),\n",
              " (3, 'Argentina'),\n",
              " (3, 'Canada'),\n",
              " (3, 'Italy'),\n",
              " (2, 'Austria'),\n",
              " (2, 'Belgium'),\n",
              " (2, 'Denmark'),\n",
              " (2, 'Finland'),\n",
              " (2, 'Portugal'),\n",
              " (2, 'Sweden'),\n",
              " (2, 'Switzerland'),\n",
              " (1, 'Ireland'),\n",
              " (1, 'Norway'),\n",
              " (1, 'Poland')]"
            ],
            "text/html": [
              "<table>\n",
              "    <thead>\n",
              "        <tr>\n",
              "            <th>COUNT(CustomerID)</th>\n",
              "            <th>Country</th>\n",
              "        </tr>\n",
              "    </thead>\n",
              "    <tbody>\n",
              "        <tr>\n",
              "            <td>13</td>\n",
              "            <td>USA</td>\n",
              "        </tr>\n",
              "        <tr>\n",
              "            <td>11</td>\n",
              "            <td>France</td>\n",
              "        </tr>\n",
              "        <tr>\n",
              "            <td>11</td>\n",
              "            <td>Germany</td>\n",
              "        </tr>\n",
              "        <tr>\n",
              "            <td>9</td>\n",
              "            <td>Brazil</td>\n",
              "        </tr>\n",
              "        <tr>\n",
              "            <td>7</td>\n",
              "            <td>UK</td>\n",
              "        </tr>\n",
              "        <tr>\n",
              "            <td>5</td>\n",
              "            <td>Mexico</td>\n",
              "        </tr>\n",
              "        <tr>\n",
              "            <td>5</td>\n",
              "            <td>Spain</td>\n",
              "        </tr>\n",
              "        <tr>\n",
              "            <td>4</td>\n",
              "            <td>Venezuela</td>\n",
              "        </tr>\n",
              "        <tr>\n",
              "            <td>3</td>\n",
              "            <td>Argentina</td>\n",
              "        </tr>\n",
              "        <tr>\n",
              "            <td>3</td>\n",
              "            <td>Canada</td>\n",
              "        </tr>\n",
              "        <tr>\n",
              "            <td>3</td>\n",
              "            <td>Italy</td>\n",
              "        </tr>\n",
              "        <tr>\n",
              "            <td>2</td>\n",
              "            <td>Austria</td>\n",
              "        </tr>\n",
              "        <tr>\n",
              "            <td>2</td>\n",
              "            <td>Belgium</td>\n",
              "        </tr>\n",
              "        <tr>\n",
              "            <td>2</td>\n",
              "            <td>Denmark</td>\n",
              "        </tr>\n",
              "        <tr>\n",
              "            <td>2</td>\n",
              "            <td>Finland</td>\n",
              "        </tr>\n",
              "        <tr>\n",
              "            <td>2</td>\n",
              "            <td>Portugal</td>\n",
              "        </tr>\n",
              "        <tr>\n",
              "            <td>2</td>\n",
              "            <td>Sweden</td>\n",
              "        </tr>\n",
              "        <tr>\n",
              "            <td>2</td>\n",
              "            <td>Switzerland</td>\n",
              "        </tr>\n",
              "        <tr>\n",
              "            <td>1</td>\n",
              "            <td>Ireland</td>\n",
              "        </tr>\n",
              "        <tr>\n",
              "            <td>1</td>\n",
              "            <td>Norway</td>\n",
              "        </tr>\n",
              "        <tr>\n",
              "            <td>1</td>\n",
              "            <td>Poland</td>\n",
              "        </tr>\n",
              "    </tbody>\n",
              "</table>"
            ]
          },
          "metadata": {},
          "execution_count": 10
        }
      ]
    },
    {
      "cell_type": "code",
      "source": [
        "%%sql\n",
        "SELECT * FROM Categories LIMIT 3;"
      ],
      "metadata": {
        "colab": {
          "base_uri": "https://localhost:8080/",
          "height": 135
        },
        "id": "YR7xmL2Akqa4",
        "outputId": "9a29eb9c-65cd-4cf3-cd79-c62137b44894"
      },
      "execution_count": 13,
      "outputs": [
        {
          "output_type": "stream",
          "name": "stdout",
          "text": [
            " * sqlite:////content/drive/MyDrive/veriler/database/databases_application.db\n",
            "Done.\n"
          ]
        },
        {
          "output_type": "execute_result",
          "data": {
            "text/plain": [
              "[(1, 'Beverages', 'Soft drinks, coffees, teas, beers, and ales'),\n",
              " (2, 'Condiments', 'Sweet and savory sauces, relishes, spreads, and seasonings'),\n",
              " (3, 'Confections', 'Desserts, candies, and sweet breads')]"
            ],
            "text/html": [
              "<table>\n",
              "    <thead>\n",
              "        <tr>\n",
              "            <th>CategoryID</th>\n",
              "            <th>CategoryName</th>\n",
              "            <th>Description</th>\n",
              "        </tr>\n",
              "    </thead>\n",
              "    <tbody>\n",
              "        <tr>\n",
              "            <td>1</td>\n",
              "            <td>Beverages</td>\n",
              "            <td>Soft drinks, coffees, teas, beers, and ales</td>\n",
              "        </tr>\n",
              "        <tr>\n",
              "            <td>2</td>\n",
              "            <td>Condiments</td>\n",
              "            <td>Sweet and savory sauces, relishes, spreads, and seasonings</td>\n",
              "        </tr>\n",
              "        <tr>\n",
              "            <td>3</td>\n",
              "            <td>Confections</td>\n",
              "            <td>Desserts, candies, and sweet breads</td>\n",
              "        </tr>\n",
              "    </tbody>\n",
              "</table>"
            ]
          },
          "metadata": {},
          "execution_count": 13
        }
      ]
    },
    {
      "cell_type": "code",
      "source": [
        "%%sql\n",
        "SELECT CategoryID, AVG(Price) AS ortalama_fiyat FROM Products GROUP BY CategoryID ORDER BY ortalama_fiyat DESC;"
      ],
      "metadata": {
        "colab": {
          "base_uri": "https://localhost:8080/",
          "height": 238
        },
        "id": "UygL5GGCglDx",
        "outputId": "90791466-23cf-4d33-f159-f3216962fa48"
      },
      "execution_count": 11,
      "outputs": [
        {
          "output_type": "stream",
          "name": "stdout",
          "text": [
            " * sqlite:////content/drive/MyDrive/veriler/database/databases_application.db\n",
            "Done.\n"
          ]
        },
        {
          "output_type": "execute_result",
          "data": {
            "text/plain": [
              "[(4, 74.9),\n",
              " (6, 55.166666666666664),\n",
              " (1, 42.75),\n",
              " (3, 33.76923076923077),\n",
              " (7, 32.2),\n",
              " (2, 28.25),\n",
              " (8, 26.5),\n",
              " (5, 23.571428571428573)]"
            ],
            "text/html": [
              "<table>\n",
              "    <thead>\n",
              "        <tr>\n",
              "            <th>CategoryID</th>\n",
              "            <th>ortalama_fiyat</th>\n",
              "        </tr>\n",
              "    </thead>\n",
              "    <tbody>\n",
              "        <tr>\n",
              "            <td>4</td>\n",
              "            <td>74.9</td>\n",
              "        </tr>\n",
              "        <tr>\n",
              "            <td>6</td>\n",
              "            <td>55.166666666666664</td>\n",
              "        </tr>\n",
              "        <tr>\n",
              "            <td>1</td>\n",
              "            <td>42.75</td>\n",
              "        </tr>\n",
              "        <tr>\n",
              "            <td>3</td>\n",
              "            <td>33.76923076923077</td>\n",
              "        </tr>\n",
              "        <tr>\n",
              "            <td>7</td>\n",
              "            <td>32.2</td>\n",
              "        </tr>\n",
              "        <tr>\n",
              "            <td>2</td>\n",
              "            <td>28.25</td>\n",
              "        </tr>\n",
              "        <tr>\n",
              "            <td>8</td>\n",
              "            <td>26.5</td>\n",
              "        </tr>\n",
              "        <tr>\n",
              "            <td>5</td>\n",
              "            <td>23.571428571428573</td>\n",
              "        </tr>\n",
              "    </tbody>\n",
              "</table>"
            ]
          },
          "metadata": {},
          "execution_count": 11
        }
      ]
    },
    {
      "cell_type": "markdown",
      "source": [
        "# left outer joın"
      ],
      "metadata": {
        "id": "fVzqRV3UpOQE"
      }
    },
    {
      "cell_type": "code",
      "source": [
        "%%sql\n",
        "SELECT * FROM Categories LIMIT 3;"
      ],
      "metadata": {
        "colab": {
          "base_uri": "https://localhost:8080/",
          "height": 135
        },
        "id": "b8IGLQuLpVoO",
        "outputId": "387560f9-d146-4fc6-a855-694c10106da6"
      },
      "execution_count": 21,
      "outputs": [
        {
          "output_type": "stream",
          "name": "stdout",
          "text": [
            " * sqlite:////content/drive/MyDrive/veriler/database/databases_application.db\n",
            "Done.\n"
          ]
        },
        {
          "output_type": "execute_result",
          "data": {
            "text/plain": [
              "[(1, 'Beverages', 'Soft drinks, coffees, teas, beers, and ales'),\n",
              " (2, 'Condiments', 'Sweet and savory sauces, relishes, spreads, and seasonings'),\n",
              " (3, 'Confections', 'Desserts, candies, and sweet breads')]"
            ],
            "text/html": [
              "<table>\n",
              "    <thead>\n",
              "        <tr>\n",
              "            <th>CategoryID</th>\n",
              "            <th>CategoryName</th>\n",
              "            <th>Description</th>\n",
              "        </tr>\n",
              "    </thead>\n",
              "    <tbody>\n",
              "        <tr>\n",
              "            <td>1</td>\n",
              "            <td>Beverages</td>\n",
              "            <td>Soft drinks, coffees, teas, beers, and ales</td>\n",
              "        </tr>\n",
              "        <tr>\n",
              "            <td>2</td>\n",
              "            <td>Condiments</td>\n",
              "            <td>Sweet and savory sauces, relishes, spreads, and seasonings</td>\n",
              "        </tr>\n",
              "        <tr>\n",
              "            <td>3</td>\n",
              "            <td>Confections</td>\n",
              "            <td>Desserts, candies, and sweet breads</td>\n",
              "        </tr>\n",
              "    </tbody>\n",
              "</table>"
            ]
          },
          "metadata": {},
          "execution_count": 21
        }
      ]
    },
    {
      "cell_type": "code",
      "source": [
        "%%sql\n",
        "SELECT * FROM Products LIMIT 3;"
      ],
      "metadata": {
        "colab": {
          "base_uri": "https://localhost:8080/",
          "height": 135
        },
        "id": "svBE1iDLpeEe",
        "outputId": "8c48ee3c-d7a3-470f-ae3a-208266f3658c"
      },
      "execution_count": 16,
      "outputs": [
        {
          "output_type": "stream",
          "name": "stdout",
          "text": [
            " * sqlite:////content/drive/MyDrive/veriler/database/databases_application.db\n",
            "Done.\n"
          ]
        },
        {
          "output_type": "execute_result",
          "data": {
            "text/plain": [
              "[(1, 'Chais', 1, 1, '10 boxes x 20 bags', 18),\n",
              " (2, 'Chang', 1, 1, '24 - 12 oz bottles', 19),\n",
              " (3, 'Aniseed Syrup', 1, 2, '12 - 550 ml bottles', 10)]"
            ],
            "text/html": [
              "<table>\n",
              "    <thead>\n",
              "        <tr>\n",
              "            <th>ProductID</th>\n",
              "            <th>ProductName</th>\n",
              "            <th>SupplierID</th>\n",
              "            <th>CategoryID</th>\n",
              "            <th>Unit</th>\n",
              "            <th>Price</th>\n",
              "        </tr>\n",
              "    </thead>\n",
              "    <tbody>\n",
              "        <tr>\n",
              "            <td>1</td>\n",
              "            <td>Chais</td>\n",
              "            <td>1</td>\n",
              "            <td>1</td>\n",
              "            <td>10 boxes x 20 bags</td>\n",
              "            <td>18</td>\n",
              "        </tr>\n",
              "        <tr>\n",
              "            <td>2</td>\n",
              "            <td>Chang</td>\n",
              "            <td>1</td>\n",
              "            <td>1</td>\n",
              "            <td>24 - 12 oz bottles</td>\n",
              "            <td>19</td>\n",
              "        </tr>\n",
              "        <tr>\n",
              "            <td>3</td>\n",
              "            <td>Aniseed Syrup</td>\n",
              "            <td>1</td>\n",
              "            <td>2</td>\n",
              "            <td>12 - 550 ml bottles</td>\n",
              "            <td>10</td>\n",
              "        </tr>\n",
              "    </tbody>\n",
              "</table>"
            ]
          },
          "metadata": {},
          "execution_count": 16
        }
      ]
    },
    {
      "cell_type": "code",
      "source": [
        "%%sql\n",
        "SELECT * FROM Products as PR LEFT OUTER JOIN Categories AS CA ON PR.CategoryID=CA.CategoryID LIMIT 3;"
      ],
      "metadata": {
        "colab": {
          "base_uri": "https://localhost:8080/",
          "height": 135
        },
        "id": "AoKxQA3GpRw2",
        "outputId": "4fae2e8a-a2a4-4e31-e602-96ded141f9b7"
      },
      "execution_count": 20,
      "outputs": [
        {
          "output_type": "stream",
          "name": "stdout",
          "text": [
            " * sqlite:////content/drive/MyDrive/veriler/database/databases_application.db\n",
            "Done.\n"
          ]
        },
        {
          "output_type": "execute_result",
          "data": {
            "text/plain": [
              "[(1, 'Chais', 1, 1, '10 boxes x 20 bags', 18, 1, 'Beverages', 'Soft drinks, coffees, teas, beers, and ales'),\n",
              " (2, 'Chang', 1, 1, '24 - 12 oz bottles', 19, 1, 'Beverages', 'Soft drinks, coffees, teas, beers, and ales'),\n",
              " (3, 'Aniseed Syrup', 1, 2, '12 - 550 ml bottles', 10, 2, 'Condiments', 'Sweet and savory sauces, relishes, spreads, and seasonings')]"
            ],
            "text/html": [
              "<table>\n",
              "    <thead>\n",
              "        <tr>\n",
              "            <th>ProductID</th>\n",
              "            <th>ProductName</th>\n",
              "            <th>SupplierID</th>\n",
              "            <th>CategoryID</th>\n",
              "            <th>Unit</th>\n",
              "            <th>Price</th>\n",
              "            <th>CategoryID_1</th>\n",
              "            <th>CategoryName</th>\n",
              "            <th>Description</th>\n",
              "        </tr>\n",
              "    </thead>\n",
              "    <tbody>\n",
              "        <tr>\n",
              "            <td>1</td>\n",
              "            <td>Chais</td>\n",
              "            <td>1</td>\n",
              "            <td>1</td>\n",
              "            <td>10 boxes x 20 bags</td>\n",
              "            <td>18</td>\n",
              "            <td>1</td>\n",
              "            <td>Beverages</td>\n",
              "            <td>Soft drinks, coffees, teas, beers, and ales</td>\n",
              "        </tr>\n",
              "        <tr>\n",
              "            <td>2</td>\n",
              "            <td>Chang</td>\n",
              "            <td>1</td>\n",
              "            <td>1</td>\n",
              "            <td>24 - 12 oz bottles</td>\n",
              "            <td>19</td>\n",
              "            <td>1</td>\n",
              "            <td>Beverages</td>\n",
              "            <td>Soft drinks, coffees, teas, beers, and ales</td>\n",
              "        </tr>\n",
              "        <tr>\n",
              "            <td>3</td>\n",
              "            <td>Aniseed Syrup</td>\n",
              "            <td>1</td>\n",
              "            <td>2</td>\n",
              "            <td>12 - 550 ml bottles</td>\n",
              "            <td>10</td>\n",
              "            <td>2</td>\n",
              "            <td>Condiments</td>\n",
              "            <td>Sweet and savory sauces, relishes, spreads, and seasonings</td>\n",
              "        </tr>\n",
              "    </tbody>\n",
              "</table>"
            ]
          },
          "metadata": {},
          "execution_count": 20
        }
      ]
    },
    {
      "cell_type": "code",
      "source": [
        "%%sql\n",
        "SELECT CA.CategoryID,CA.CategoryName,AVG(PR.Price) AS ort_fiyat FROM Products as PR LEFT OUTER JOIN Categories AS CA ON PR.CategoryID=CA.CategoryID GROUP BY CategoryName ORDER BY ort_fiyat DESC;"
      ],
      "metadata": {
        "colab": {
          "base_uri": "https://localhost:8080/",
          "height": 238
        },
        "id": "N6JwN968qUap",
        "outputId": "86f2f6c4-e26d-44cc-bb77-6fb3a4fb28fd"
      },
      "execution_count": 25,
      "outputs": [
        {
          "output_type": "stream",
          "name": "stdout",
          "text": [
            " * sqlite:////content/drive/MyDrive/veriler/database/databases_application.db\n",
            "Done.\n"
          ]
        },
        {
          "output_type": "execute_result",
          "data": {
            "text/plain": [
              "[(4, 'Dairy Products', 74.9),\n",
              " (6, 'Meat/Poultry', 55.166666666666664),\n",
              " (1, 'Beverages', 42.75),\n",
              " (3, 'Confections', 33.76923076923077),\n",
              " (7, 'Produce', 32.2),\n",
              " (2, 'Condiments', 28.25),\n",
              " (8, 'Seafood', 26.5),\n",
              " (5, 'Grains/Cereals', 23.571428571428573)]"
            ],
            "text/html": [
              "<table>\n",
              "    <thead>\n",
              "        <tr>\n",
              "            <th>CategoryID</th>\n",
              "            <th>CategoryName</th>\n",
              "            <th>ort_fiyat</th>\n",
              "        </tr>\n",
              "    </thead>\n",
              "    <tbody>\n",
              "        <tr>\n",
              "            <td>4</td>\n",
              "            <td>Dairy Products</td>\n",
              "            <td>74.9</td>\n",
              "        </tr>\n",
              "        <tr>\n",
              "            <td>6</td>\n",
              "            <td>Meat/Poultry</td>\n",
              "            <td>55.166666666666664</td>\n",
              "        </tr>\n",
              "        <tr>\n",
              "            <td>1</td>\n",
              "            <td>Beverages</td>\n",
              "            <td>42.75</td>\n",
              "        </tr>\n",
              "        <tr>\n",
              "            <td>3</td>\n",
              "            <td>Confections</td>\n",
              "            <td>33.76923076923077</td>\n",
              "        </tr>\n",
              "        <tr>\n",
              "            <td>7</td>\n",
              "            <td>Produce</td>\n",
              "            <td>32.2</td>\n",
              "        </tr>\n",
              "        <tr>\n",
              "            <td>2</td>\n",
              "            <td>Condiments</td>\n",
              "            <td>28.25</td>\n",
              "        </tr>\n",
              "        <tr>\n",
              "            <td>8</td>\n",
              "            <td>Seafood</td>\n",
              "            <td>26.5</td>\n",
              "        </tr>\n",
              "        <tr>\n",
              "            <td>5</td>\n",
              "            <td>Grains/Cereals</td>\n",
              "            <td>23.571428571428573</td>\n",
              "        </tr>\n",
              "    </tbody>\n",
              "</table>"
            ]
          },
          "metadata": {},
          "execution_count": 25
        }
      ]
    },
    {
      "cell_type": "markdown",
      "source": [
        "# inner joın"
      ],
      "metadata": {
        "id": "wmH7ao67tcJX"
      }
    },
    {
      "cell_type": "code",
      "source": [
        "%%sql\n",
        "SELECT * FROM Customers LIMIT 3;"
      ],
      "metadata": {
        "colab": {
          "base_uri": "https://localhost:8080/",
          "height": 135
        },
        "id": "IcM7rprltgY4",
        "outputId": "f9c77ea8-2927-46c8-aa0d-50df71d3bba2"
      },
      "execution_count": 26,
      "outputs": [
        {
          "output_type": "stream",
          "name": "stdout",
          "text": [
            " * sqlite:////content/drive/MyDrive/veriler/database/databases_application.db\n",
            "Done.\n"
          ]
        },
        {
          "output_type": "execute_result",
          "data": {
            "text/plain": [
              "[(1, 'Alfreds Futterkiste', 'Maria Anders', 'Obere Str. 57', 'Berlin', '12209', 'Germany'),\n",
              " (2, 'Ana Trujillo Emparedados y helados', 'Ana Trujillo', 'Avda. de la Constitución 2222', 'México D.F.', '5021', 'Mexico'),\n",
              " (3, 'Antonio Moreno Taquería', 'Antonio Moreno', 'Mataderos 2312', 'México D.F.', '5023', 'Mexico')]"
            ],
            "text/html": [
              "<table>\n",
              "    <thead>\n",
              "        <tr>\n",
              "            <th>CustomerID</th>\n",
              "            <th>CustomerName</th>\n",
              "            <th>ContactName</th>\n",
              "            <th>Address</th>\n",
              "            <th>City</th>\n",
              "            <th>PostalCode</th>\n",
              "            <th>Country</th>\n",
              "        </tr>\n",
              "    </thead>\n",
              "    <tbody>\n",
              "        <tr>\n",
              "            <td>1</td>\n",
              "            <td>Alfreds Futterkiste</td>\n",
              "            <td>Maria Anders</td>\n",
              "            <td>Obere Str. 57</td>\n",
              "            <td>Berlin</td>\n",
              "            <td>12209</td>\n",
              "            <td>Germany</td>\n",
              "        </tr>\n",
              "        <tr>\n",
              "            <td>2</td>\n",
              "            <td>Ana Trujillo Emparedados y helados</td>\n",
              "            <td>Ana Trujillo</td>\n",
              "            <td>Avda. de la Constitución 2222</td>\n",
              "            <td>México D.F.</td>\n",
              "            <td>5021</td>\n",
              "            <td>Mexico</td>\n",
              "        </tr>\n",
              "        <tr>\n",
              "            <td>3</td>\n",
              "            <td>Antonio Moreno Taquería</td>\n",
              "            <td>Antonio Moreno</td>\n",
              "            <td>Mataderos 2312</td>\n",
              "            <td>México D.F.</td>\n",
              "            <td>5023</td>\n",
              "            <td>Mexico</td>\n",
              "        </tr>\n",
              "    </tbody>\n",
              "</table>"
            ]
          },
          "metadata": {},
          "execution_count": 26
        }
      ]
    },
    {
      "cell_type": "code",
      "source": [
        "%%sql\n",
        "SELECT * FROM Orders LIMIT 3;"
      ],
      "metadata": {
        "colab": {
          "base_uri": "https://localhost:8080/",
          "height": 135
        },
        "id": "0lVbZ7aMtgWg",
        "outputId": "48dd6c57-d31c-4075-de15-30711bd115a5"
      },
      "execution_count": 27,
      "outputs": [
        {
          "output_type": "stream",
          "name": "stdout",
          "text": [
            " * sqlite:////content/drive/MyDrive/veriler/database/databases_application.db\n",
            "Done.\n"
          ]
        },
        {
          "output_type": "execute_result",
          "data": {
            "text/plain": [
              "[(10248, 90, 5, '4.07.1996', 3),\n",
              " (10249, 81, 6, '5.07.1996', 1),\n",
              " (10250, 34, 4, '8.07.1996', 2)]"
            ],
            "text/html": [
              "<table>\n",
              "    <thead>\n",
              "        <tr>\n",
              "            <th>OrderID</th>\n",
              "            <th>CustomerID</th>\n",
              "            <th>EmployeeID</th>\n",
              "            <th>OrderDate</th>\n",
              "            <th>ShipperID</th>\n",
              "        </tr>\n",
              "    </thead>\n",
              "    <tbody>\n",
              "        <tr>\n",
              "            <td>10248</td>\n",
              "            <td>90</td>\n",
              "            <td>5</td>\n",
              "            <td>4.07.1996</td>\n",
              "            <td>3</td>\n",
              "        </tr>\n",
              "        <tr>\n",
              "            <td>10249</td>\n",
              "            <td>81</td>\n",
              "            <td>6</td>\n",
              "            <td>5.07.1996</td>\n",
              "            <td>1</td>\n",
              "        </tr>\n",
              "        <tr>\n",
              "            <td>10250</td>\n",
              "            <td>34</td>\n",
              "            <td>4</td>\n",
              "            <td>8.07.1996</td>\n",
              "            <td>2</td>\n",
              "        </tr>\n",
              "    </tbody>\n",
              "</table>"
            ]
          },
          "metadata": {},
          "execution_count": 27
        }
      ]
    },
    {
      "cell_type": "code",
      "source": [
        "%%sql\n",
        "SELECT* FROM Orders AS ORD INNER JOIN Customers AS CU ON ORD.CustomerID=CU.CustomerID LIMIT 2; "
      ],
      "metadata": {
        "colab": {
          "base_uri": "https://localhost:8080/",
          "height": 115
        },
        "id": "9hxLhzEBxIUB",
        "outputId": "a543d610-7a50-464d-dd85-542ecb8d66ae"
      },
      "execution_count": 39,
      "outputs": [
        {
          "output_type": "stream",
          "name": "stdout",
          "text": [
            " * sqlite:////content/drive/MyDrive/veriler/database/databases_application.db\n",
            "Done.\n"
          ]
        },
        {
          "output_type": "execute_result",
          "data": {
            "text/plain": [
              "[(10248, 90, 5, '4.07.1996', 3, 90, 'Wilman Kala', 'Matti Karttunen', 'Keskuskatu 45', 'Helsinki', '21240', 'Finland'),\n",
              " (10249, 81, 6, '5.07.1996', 1, 81, 'Tradição Hipermercados', 'Anabela Domingues', 'Av. Inês de Castro, 414', 'São Paulo', '05634-030', 'Brazil')]"
            ],
            "text/html": [
              "<table>\n",
              "    <thead>\n",
              "        <tr>\n",
              "            <th>OrderID</th>\n",
              "            <th>CustomerID</th>\n",
              "            <th>EmployeeID</th>\n",
              "            <th>OrderDate</th>\n",
              "            <th>ShipperID</th>\n",
              "            <th>CustomerID_1</th>\n",
              "            <th>CustomerName</th>\n",
              "            <th>ContactName</th>\n",
              "            <th>Address</th>\n",
              "            <th>City</th>\n",
              "            <th>PostalCode</th>\n",
              "            <th>Country</th>\n",
              "        </tr>\n",
              "    </thead>\n",
              "    <tbody>\n",
              "        <tr>\n",
              "            <td>10248</td>\n",
              "            <td>90</td>\n",
              "            <td>5</td>\n",
              "            <td>4.07.1996</td>\n",
              "            <td>3</td>\n",
              "            <td>90</td>\n",
              "            <td>Wilman Kala</td>\n",
              "            <td>Matti Karttunen</td>\n",
              "            <td>Keskuskatu 45</td>\n",
              "            <td>Helsinki</td>\n",
              "            <td>21240</td>\n",
              "            <td>Finland</td>\n",
              "        </tr>\n",
              "        <tr>\n",
              "            <td>10249</td>\n",
              "            <td>81</td>\n",
              "            <td>6</td>\n",
              "            <td>5.07.1996</td>\n",
              "            <td>1</td>\n",
              "            <td>81</td>\n",
              "            <td>Tradição Hipermercados</td>\n",
              "            <td>Anabela Domingues</td>\n",
              "            <td>Av. Inês de Castro, 414</td>\n",
              "            <td>São Paulo</td>\n",
              "            <td>05634-030</td>\n",
              "            <td>Brazil</td>\n",
              "        </tr>\n",
              "    </tbody>\n",
              "</table>"
            ]
          },
          "metadata": {},
          "execution_count": 39
        }
      ]
    },
    {
      "cell_type": "code",
      "source": [
        "%%sql\n",
        "SELECT* FROM Orders AS ORD LEFT OUTER JOIN Customers AS CU ON ORD.CustomerID=CU.CustomerID LIMIT 2;"
      ],
      "metadata": {
        "colab": {
          "base_uri": "https://localhost:8080/",
          "height": 115
        },
        "id": "h8ibK9fs6iHv",
        "outputId": "f43409dd-9d23-447a-91bc-42f3f242418b"
      },
      "execution_count": 40,
      "outputs": [
        {
          "output_type": "stream",
          "name": "stdout",
          "text": [
            " * sqlite:////content/drive/MyDrive/veriler/database/databases_application.db\n",
            "Done.\n"
          ]
        },
        {
          "output_type": "execute_result",
          "data": {
            "text/plain": [
              "[(10248, 90, 5, '4.07.1996', 3, 90, 'Wilman Kala', 'Matti Karttunen', 'Keskuskatu 45', 'Helsinki', '21240', 'Finland'),\n",
              " (10249, 81, 6, '5.07.1996', 1, 81, 'Tradição Hipermercados', 'Anabela Domingues', 'Av. Inês de Castro, 414', 'São Paulo', '05634-030', 'Brazil')]"
            ],
            "text/html": [
              "<table>\n",
              "    <thead>\n",
              "        <tr>\n",
              "            <th>OrderID</th>\n",
              "            <th>CustomerID</th>\n",
              "            <th>EmployeeID</th>\n",
              "            <th>OrderDate</th>\n",
              "            <th>ShipperID</th>\n",
              "            <th>CustomerID_1</th>\n",
              "            <th>CustomerName</th>\n",
              "            <th>ContactName</th>\n",
              "            <th>Address</th>\n",
              "            <th>City</th>\n",
              "            <th>PostalCode</th>\n",
              "            <th>Country</th>\n",
              "        </tr>\n",
              "    </thead>\n",
              "    <tbody>\n",
              "        <tr>\n",
              "            <td>10248</td>\n",
              "            <td>90</td>\n",
              "            <td>5</td>\n",
              "            <td>4.07.1996</td>\n",
              "            <td>3</td>\n",
              "            <td>90</td>\n",
              "            <td>Wilman Kala</td>\n",
              "            <td>Matti Karttunen</td>\n",
              "            <td>Keskuskatu 45</td>\n",
              "            <td>Helsinki</td>\n",
              "            <td>21240</td>\n",
              "            <td>Finland</td>\n",
              "        </tr>\n",
              "        <tr>\n",
              "            <td>10249</td>\n",
              "            <td>81</td>\n",
              "            <td>6</td>\n",
              "            <td>5.07.1996</td>\n",
              "            <td>1</td>\n",
              "            <td>81</td>\n",
              "            <td>Tradição Hipermercados</td>\n",
              "            <td>Anabela Domingues</td>\n",
              "            <td>Av. Inês de Castro, 414</td>\n",
              "            <td>São Paulo</td>\n",
              "            <td>05634-030</td>\n",
              "            <td>Brazil</td>\n",
              "        </tr>\n",
              "    </tbody>\n",
              "</table>"
            ]
          },
          "metadata": {},
          "execution_count": 40
        }
      ]
    },
    {
      "cell_type": "code",
      "source": [
        "%%sql\n",
        "SELECT ORD.OrderID,CU.CustomerName FROM Orders AS ORD INNER JOIN Customers AS CU ON ORD.CustomerID=CU.CustomerID ;"
      ],
      "metadata": {
        "colab": {
          "base_uri": "https://localhost:8080/",
          "height": 1000
        },
        "id": "2CIz2uEjtgT_",
        "outputId": "2cc8866d-387e-4a18-8f92-8d88310608bd"
      },
      "execution_count": 31,
      "outputs": [
        {
          "output_type": "stream",
          "name": "stdout",
          "text": [
            " * sqlite:////content/drive/MyDrive/veriler/database/databases_application.db\n",
            "Done.\n"
          ]
        },
        {
          "output_type": "execute_result",
          "data": {
            "text/plain": [
              "[(10248, 'Wilman Kala'),\n",
              " (10249, 'Tradição Hipermercados'),\n",
              " (10250, 'Hanari Carnes'),\n",
              " (10251, 'Victuailles en stock'),\n",
              " (10252, 'Suprêmes délices'),\n",
              " (10253, 'Hanari Carnes'),\n",
              " (10254, 'Chop-suey Chinese'),\n",
              " (10255, 'Richter Supermarkt'),\n",
              " (10256, 'Wellington Importadora'),\n",
              " (10257, 'HILARIÓN-Abastos'),\n",
              " (10258, 'Ernst Handel'),\n",
              " (10259, 'Centro comercial Moctezuma'),\n",
              " (10260, 'Old World Delicatessen'),\n",
              " (10261, 'Que Delícia'),\n",
              " (10262, 'Rattlesnake Canyon Grocery'),\n",
              " (10263, 'Ernst Handel'),\n",
              " (10264, 'Folk och fä HB'),\n",
              " (10265, 'Blondel père et fils'),\n",
              " (10266, 'Wartian Herkku'),\n",
              " (10267, 'Frankenversand'),\n",
              " (10268, 'GROSELLA-Restaurante'),\n",
              " (10269, 'White Clover Markets'),\n",
              " (10270, 'Wartian Herkku'),\n",
              " (10271, 'Split Rail Beer & Ale'),\n",
              " (10272, 'Rattlesnake Canyon Grocery'),\n",
              " (10273, 'QUICK-Stop'),\n",
              " (10274, 'Vins et alcools Chevalier'),\n",
              " (10275, 'Magazzini Alimentari Riuniti'),\n",
              " (10276, 'Tortuga Restaurante'),\n",
              " (10277, 'Morgenstern Gesundkost'),\n",
              " (10278, 'Berglunds snabbköp'),\n",
              " (10279, 'Lehmanns Marktstand'),\n",
              " (10280, 'Berglunds snabbköp'),\n",
              " (10281, 'Romero y tomillo'),\n",
              " (10282, 'Romero y tomillo'),\n",
              " (10283, 'LILA-Supermercado'),\n",
              " (10284, 'Lehmanns Marktstand'),\n",
              " (10285, 'QUICK-Stop'),\n",
              " (10286, 'QUICK-Stop'),\n",
              " (10287, 'Ricardo Adocicados'),\n",
              " (10288, 'Reggiani Caseifici'),\n",
              " (10289, \"B's Beverages\"),\n",
              " (10290, 'Comércio Mineiro'),\n",
              " (10291, 'Que Delícia'),\n",
              " (10292, 'Tradição Hipermercados'),\n",
              " (10293, 'Tortuga Restaurante'),\n",
              " (10294, 'Rattlesnake Canyon Grocery'),\n",
              " (10295, 'Vins et alcools Chevalier'),\n",
              " (10296, 'LILA-Supermercado'),\n",
              " (10297, 'Blondel père et fils'),\n",
              " (10298, 'Hungry Owl All-Night Grocers'),\n",
              " (10299, 'Ricardo Adocicados'),\n",
              " (10300, 'Magazzini Alimentari Riuniti'),\n",
              " (10301, 'Die Wandernde Kuh'),\n",
              " (10302, 'Suprêmes délices'),\n",
              " (10303, 'Godos Cocina Típica'),\n",
              " (10304, 'Tortuga Restaurante'),\n",
              " (10305, 'Old World Delicatessen'),\n",
              " (10306, 'Romero y tomillo'),\n",
              " (10307, 'Lonesome Pine Restaurant'),\n",
              " (10308, 'Ana Trujillo Emparedados y helados'),\n",
              " (10309, 'Hungry Owl All-Night Grocers'),\n",
              " (10310, 'The Big Cheese'),\n",
              " (10311, 'Du monde entier'),\n",
              " (10312, 'Die Wandernde Kuh'),\n",
              " (10313, 'QUICK-Stop'),\n",
              " (10314, 'Rattlesnake Canyon Grocery'),\n",
              " (10315, 'Island Trading'),\n",
              " (10316, 'Rattlesnake Canyon Grocery'),\n",
              " (10317, 'Lonesome Pine Restaurant'),\n",
              " (10318, 'Island Trading'),\n",
              " (10319, 'Tortuga Restaurante'),\n",
              " (10320, 'Wartian Herkku'),\n",
              " (10321, 'Island Trading'),\n",
              " (10322, 'Pericles Comidas clásicas'),\n",
              " (10323, 'Königlich Essen'),\n",
              " (10324, 'Save-a-lot Markets'),\n",
              " (10325, 'Königlich Essen'),\n",
              " (10326, 'Bólido Comidas preparadas'),\n",
              " (10327, 'Folk och fä HB'),\n",
              " (10328, 'Furia Bacalhau e Frutos do Mar'),\n",
              " (10329, 'Split Rail Beer & Ale'),\n",
              " (10330, 'LILA-Supermercado'),\n",
              " (10331, \"Bon app'\"),\n",
              " (10332, 'Mère Paillarde'),\n",
              " (10333, 'Wartian Herkku'),\n",
              " (10334, 'Victuailles en stock'),\n",
              " (10335, 'Hungry Owl All-Night Grocers'),\n",
              " (10336, 'Princesa Isabel Vinhoss'),\n",
              " (10337, 'Frankenversand'),\n",
              " (10338, 'Old World Delicatessen'),\n",
              " (10339, 'Mère Paillarde'),\n",
              " (10340, \"Bon app'\"),\n",
              " (10341, 'Simons bistro'),\n",
              " (10342, 'Frankenversand'),\n",
              " (10343, 'Lehmanns Marktstand'),\n",
              " (10344, 'White Clover Markets'),\n",
              " (10345, 'QUICK-Stop'),\n",
              " (10346, 'Rattlesnake Canyon Grocery'),\n",
              " (10347, 'Familia Arquibaldo'),\n",
              " (10348, 'Die Wandernde Kuh'),\n",
              " (10349, 'Split Rail Beer & Ale'),\n",
              " (10350, \"La maison d'Asie\"),\n",
              " (10351, 'Ernst Handel'),\n",
              " (10352, 'Furia Bacalhau e Frutos do Mar'),\n",
              " (10353, 'Piccolo und mehr'),\n",
              " (10354, 'Pericles Comidas clásicas'),\n",
              " (10355, 'Around the Horn'),\n",
              " (10356, 'Die Wandernde Kuh'),\n",
              " (10357, 'LILA-Supermercado'),\n",
              " (10358, \"La maison d'Asie\"),\n",
              " (10359, 'Seven Seas Imports'),\n",
              " (10360, 'Blondel père et fils'),\n",
              " (10361, 'QUICK-Stop'),\n",
              " (10362, \"Bon app'\"),\n",
              " (10363, 'Drachenblut Delikatessend'),\n",
              " (10364, 'Eastern Connection'),\n",
              " (10365, 'Antonio Moreno Taquería'),\n",
              " (10366, 'Galería del gastrónomo'),\n",
              " (10367, 'Vaffeljernet'),\n",
              " (10368, 'Ernst Handel'),\n",
              " (10369, 'Split Rail Beer & Ale'),\n",
              " (10370, 'Chop-suey Chinese'),\n",
              " (10371, \"La maison d'Asie\"),\n",
              " (10372, 'Queen Cozinha'),\n",
              " (10373, 'Hungry Owl All-Night Grocers'),\n",
              " (10374, 'Wolski'),\n",
              " (10375, 'Hungry Coyote Import Store'),\n",
              " (10376, 'Mère Paillarde'),\n",
              " (10377, 'Seven Seas Imports'),\n",
              " (10378, 'Folk och fä HB'),\n",
              " (10379, 'Que Delícia'),\n",
              " (10380, 'Hungry Owl All-Night Grocers'),\n",
              " (10381, 'LILA-Supermercado'),\n",
              " (10382, 'Ernst Handel'),\n",
              " (10383, 'Around the Horn'),\n",
              " (10384, 'Berglunds snabbköp'),\n",
              " (10385, 'Split Rail Beer & Ale'),\n",
              " (10386, 'Familia Arquibaldo'),\n",
              " (10387, 'Santé Gourmet'),\n",
              " (10388, 'Seven Seas Imports'),\n",
              " (10389, 'Bottom-Dollar Marketse'),\n",
              " (10390, 'Ernst Handel'),\n",
              " (10391, 'Drachenblut Delikatessend'),\n",
              " (10392, 'Piccolo und mehr'),\n",
              " (10393, 'Save-a-lot Markets'),\n",
              " (10394, 'Hungry Coyote Import Store'),\n",
              " (10395, 'HILARIÓN-Abastos'),\n",
              " (10396, 'Frankenversand'),\n",
              " (10397, 'Princesa Isabel Vinhoss'),\n",
              " (10398, 'Save-a-lot Markets'),\n",
              " (10399, 'Vaffeljernet'),\n",
              " (10400, 'Eastern Connection'),\n",
              " (10401, 'Rattlesnake Canyon Grocery'),\n",
              " (10402, 'Ernst Handel'),\n",
              " (10403, 'Ernst Handel'),\n",
              " (10404, 'Magazzini Alimentari Riuniti'),\n",
              " (10405, 'LINO-Delicateses'),\n",
              " (10406, 'Queen Cozinha'),\n",
              " (10407, 'Ottilies Käseladen'),\n",
              " (10408, 'Folies gourmandes'),\n",
              " (10409, 'Océano Atlántico Ltda.'),\n",
              " (10410, 'Bottom-Dollar Marketse'),\n",
              " (10411, 'Bottom-Dollar Marketse'),\n",
              " (10412, 'Wartian Herkku'),\n",
              " (10413, \"La maison d'Asie\"),\n",
              " (10414, 'Familia Arquibaldo'),\n",
              " (10415, 'Hungry Coyote Import Store'),\n",
              " (10416, 'Wartian Herkku'),\n",
              " (10417, 'Simons bistro'),\n",
              " (10418, 'QUICK-Stop'),\n",
              " (10419, 'Richter Supermarkt'),\n",
              " (10420, 'Wellington Importadora'),\n",
              " (10421, 'Que Delícia'),\n",
              " (10422, 'Franchi S.p.A.'),\n",
              " (10423, 'Gourmet Lanchonetes'),\n",
              " (10424, 'Mère Paillarde'),\n",
              " (10425, \"La maison d'Asie\"),\n",
              " (10426, 'Galería del gastrónomo'),\n",
              " (10427, 'Piccolo und mehr'),\n",
              " (10428, 'Reggiani Caseifici'),\n",
              " (10429, 'Hungry Owl All-Night Grocers'),\n",
              " (10430, 'Ernst Handel'),\n",
              " (10431, 'Bottom-Dollar Marketse'),\n",
              " (10432, 'Split Rail Beer & Ale'),\n",
              " (10433, 'Princesa Isabel Vinhoss'),\n",
              " (10434, 'Folk och fä HB'),\n",
              " (10435, 'Consolidated Holdings'),\n",
              " (10436, 'Blondel père et fils'),\n",
              " (10437, 'Wartian Herkku'),\n",
              " (10438, 'Toms Spezialitäten'),\n",
              " (10439, 'Mère Paillarde'),\n",
              " (10440, 'Save-a-lot Markets'),\n",
              " (10441, 'Old World Delicatessen'),\n",
              " (10442, 'Ernst Handel'),\n",
              " (10443, 'Reggiani Caseifici')]"
            ],
            "text/html": [
              "<table>\n",
              "    <thead>\n",
              "        <tr>\n",
              "            <th>OrderID</th>\n",
              "            <th>CustomerName</th>\n",
              "        </tr>\n",
              "    </thead>\n",
              "    <tbody>\n",
              "        <tr>\n",
              "            <td>10248</td>\n",
              "            <td>Wilman Kala</td>\n",
              "        </tr>\n",
              "        <tr>\n",
              "            <td>10249</td>\n",
              "            <td>Tradição Hipermercados</td>\n",
              "        </tr>\n",
              "        <tr>\n",
              "            <td>10250</td>\n",
              "            <td>Hanari Carnes</td>\n",
              "        </tr>\n",
              "        <tr>\n",
              "            <td>10251</td>\n",
              "            <td>Victuailles en stock</td>\n",
              "        </tr>\n",
              "        <tr>\n",
              "            <td>10252</td>\n",
              "            <td>Suprêmes délices</td>\n",
              "        </tr>\n",
              "        <tr>\n",
              "            <td>10253</td>\n",
              "            <td>Hanari Carnes</td>\n",
              "        </tr>\n",
              "        <tr>\n",
              "            <td>10254</td>\n",
              "            <td>Chop-suey Chinese</td>\n",
              "        </tr>\n",
              "        <tr>\n",
              "            <td>10255</td>\n",
              "            <td>Richter Supermarkt</td>\n",
              "        </tr>\n",
              "        <tr>\n",
              "            <td>10256</td>\n",
              "            <td>Wellington Importadora</td>\n",
              "        </tr>\n",
              "        <tr>\n",
              "            <td>10257</td>\n",
              "            <td>HILARIÓN-Abastos</td>\n",
              "        </tr>\n",
              "        <tr>\n",
              "            <td>10258</td>\n",
              "            <td>Ernst Handel</td>\n",
              "        </tr>\n",
              "        <tr>\n",
              "            <td>10259</td>\n",
              "            <td>Centro comercial Moctezuma</td>\n",
              "        </tr>\n",
              "        <tr>\n",
              "            <td>10260</td>\n",
              "            <td>Old World Delicatessen</td>\n",
              "        </tr>\n",
              "        <tr>\n",
              "            <td>10261</td>\n",
              "            <td>Que Delícia</td>\n",
              "        </tr>\n",
              "        <tr>\n",
              "            <td>10262</td>\n",
              "            <td>Rattlesnake Canyon Grocery</td>\n",
              "        </tr>\n",
              "        <tr>\n",
              "            <td>10263</td>\n",
              "            <td>Ernst Handel</td>\n",
              "        </tr>\n",
              "        <tr>\n",
              "            <td>10264</td>\n",
              "            <td>Folk och fä HB</td>\n",
              "        </tr>\n",
              "        <tr>\n",
              "            <td>10265</td>\n",
              "            <td>Blondel père et fils</td>\n",
              "        </tr>\n",
              "        <tr>\n",
              "            <td>10266</td>\n",
              "            <td>Wartian Herkku</td>\n",
              "        </tr>\n",
              "        <tr>\n",
              "            <td>10267</td>\n",
              "            <td>Frankenversand</td>\n",
              "        </tr>\n",
              "        <tr>\n",
              "            <td>10268</td>\n",
              "            <td>GROSELLA-Restaurante</td>\n",
              "        </tr>\n",
              "        <tr>\n",
              "            <td>10269</td>\n",
              "            <td>White Clover Markets</td>\n",
              "        </tr>\n",
              "        <tr>\n",
              "            <td>10270</td>\n",
              "            <td>Wartian Herkku</td>\n",
              "        </tr>\n",
              "        <tr>\n",
              "            <td>10271</td>\n",
              "            <td>Split Rail Beer &amp; Ale</td>\n",
              "        </tr>\n",
              "        <tr>\n",
              "            <td>10272</td>\n",
              "            <td>Rattlesnake Canyon Grocery</td>\n",
              "        </tr>\n",
              "        <tr>\n",
              "            <td>10273</td>\n",
              "            <td>QUICK-Stop</td>\n",
              "        </tr>\n",
              "        <tr>\n",
              "            <td>10274</td>\n",
              "            <td>Vins et alcools Chevalier</td>\n",
              "        </tr>\n",
              "        <tr>\n",
              "            <td>10275</td>\n",
              "            <td>Magazzini Alimentari Riuniti</td>\n",
              "        </tr>\n",
              "        <tr>\n",
              "            <td>10276</td>\n",
              "            <td>Tortuga Restaurante</td>\n",
              "        </tr>\n",
              "        <tr>\n",
              "            <td>10277</td>\n",
              "            <td>Morgenstern Gesundkost</td>\n",
              "        </tr>\n",
              "        <tr>\n",
              "            <td>10278</td>\n",
              "            <td>Berglunds snabbköp</td>\n",
              "        </tr>\n",
              "        <tr>\n",
              "            <td>10279</td>\n",
              "            <td>Lehmanns Marktstand</td>\n",
              "        </tr>\n",
              "        <tr>\n",
              "            <td>10280</td>\n",
              "            <td>Berglunds snabbköp</td>\n",
              "        </tr>\n",
              "        <tr>\n",
              "            <td>10281</td>\n",
              "            <td>Romero y tomillo</td>\n",
              "        </tr>\n",
              "        <tr>\n",
              "            <td>10282</td>\n",
              "            <td>Romero y tomillo</td>\n",
              "        </tr>\n",
              "        <tr>\n",
              "            <td>10283</td>\n",
              "            <td>LILA-Supermercado</td>\n",
              "        </tr>\n",
              "        <tr>\n",
              "            <td>10284</td>\n",
              "            <td>Lehmanns Marktstand</td>\n",
              "        </tr>\n",
              "        <tr>\n",
              "            <td>10285</td>\n",
              "            <td>QUICK-Stop</td>\n",
              "        </tr>\n",
              "        <tr>\n",
              "            <td>10286</td>\n",
              "            <td>QUICK-Stop</td>\n",
              "        </tr>\n",
              "        <tr>\n",
              "            <td>10287</td>\n",
              "            <td>Ricardo Adocicados</td>\n",
              "        </tr>\n",
              "        <tr>\n",
              "            <td>10288</td>\n",
              "            <td>Reggiani Caseifici</td>\n",
              "        </tr>\n",
              "        <tr>\n",
              "            <td>10289</td>\n",
              "            <td>B&#x27;s Beverages</td>\n",
              "        </tr>\n",
              "        <tr>\n",
              "            <td>10290</td>\n",
              "            <td>Comércio Mineiro</td>\n",
              "        </tr>\n",
              "        <tr>\n",
              "            <td>10291</td>\n",
              "            <td>Que Delícia</td>\n",
              "        </tr>\n",
              "        <tr>\n",
              "            <td>10292</td>\n",
              "            <td>Tradição Hipermercados</td>\n",
              "        </tr>\n",
              "        <tr>\n",
              "            <td>10293</td>\n",
              "            <td>Tortuga Restaurante</td>\n",
              "        </tr>\n",
              "        <tr>\n",
              "            <td>10294</td>\n",
              "            <td>Rattlesnake Canyon Grocery</td>\n",
              "        </tr>\n",
              "        <tr>\n",
              "            <td>10295</td>\n",
              "            <td>Vins et alcools Chevalier</td>\n",
              "        </tr>\n",
              "        <tr>\n",
              "            <td>10296</td>\n",
              "            <td>LILA-Supermercado</td>\n",
              "        </tr>\n",
              "        <tr>\n",
              "            <td>10297</td>\n",
              "            <td>Blondel père et fils</td>\n",
              "        </tr>\n",
              "        <tr>\n",
              "            <td>10298</td>\n",
              "            <td>Hungry Owl All-Night Grocers</td>\n",
              "        </tr>\n",
              "        <tr>\n",
              "            <td>10299</td>\n",
              "            <td>Ricardo Adocicados</td>\n",
              "        </tr>\n",
              "        <tr>\n",
              "            <td>10300</td>\n",
              "            <td>Magazzini Alimentari Riuniti</td>\n",
              "        </tr>\n",
              "        <tr>\n",
              "            <td>10301</td>\n",
              "            <td>Die Wandernde Kuh</td>\n",
              "        </tr>\n",
              "        <tr>\n",
              "            <td>10302</td>\n",
              "            <td>Suprêmes délices</td>\n",
              "        </tr>\n",
              "        <tr>\n",
              "            <td>10303</td>\n",
              "            <td>Godos Cocina Típica</td>\n",
              "        </tr>\n",
              "        <tr>\n",
              "            <td>10304</td>\n",
              "            <td>Tortuga Restaurante</td>\n",
              "        </tr>\n",
              "        <tr>\n",
              "            <td>10305</td>\n",
              "            <td>Old World Delicatessen</td>\n",
              "        </tr>\n",
              "        <tr>\n",
              "            <td>10306</td>\n",
              "            <td>Romero y tomillo</td>\n",
              "        </tr>\n",
              "        <tr>\n",
              "            <td>10307</td>\n",
              "            <td>Lonesome Pine Restaurant</td>\n",
              "        </tr>\n",
              "        <tr>\n",
              "            <td>10308</td>\n",
              "            <td>Ana Trujillo Emparedados y helados</td>\n",
              "        </tr>\n",
              "        <tr>\n",
              "            <td>10309</td>\n",
              "            <td>Hungry Owl All-Night Grocers</td>\n",
              "        </tr>\n",
              "        <tr>\n",
              "            <td>10310</td>\n",
              "            <td>The Big Cheese</td>\n",
              "        </tr>\n",
              "        <tr>\n",
              "            <td>10311</td>\n",
              "            <td>Du monde entier</td>\n",
              "        </tr>\n",
              "        <tr>\n",
              "            <td>10312</td>\n",
              "            <td>Die Wandernde Kuh</td>\n",
              "        </tr>\n",
              "        <tr>\n",
              "            <td>10313</td>\n",
              "            <td>QUICK-Stop</td>\n",
              "        </tr>\n",
              "        <tr>\n",
              "            <td>10314</td>\n",
              "            <td>Rattlesnake Canyon Grocery</td>\n",
              "        </tr>\n",
              "        <tr>\n",
              "            <td>10315</td>\n",
              "            <td>Island Trading</td>\n",
              "        </tr>\n",
              "        <tr>\n",
              "            <td>10316</td>\n",
              "            <td>Rattlesnake Canyon Grocery</td>\n",
              "        </tr>\n",
              "        <tr>\n",
              "            <td>10317</td>\n",
              "            <td>Lonesome Pine Restaurant</td>\n",
              "        </tr>\n",
              "        <tr>\n",
              "            <td>10318</td>\n",
              "            <td>Island Trading</td>\n",
              "        </tr>\n",
              "        <tr>\n",
              "            <td>10319</td>\n",
              "            <td>Tortuga Restaurante</td>\n",
              "        </tr>\n",
              "        <tr>\n",
              "            <td>10320</td>\n",
              "            <td>Wartian Herkku</td>\n",
              "        </tr>\n",
              "        <tr>\n",
              "            <td>10321</td>\n",
              "            <td>Island Trading</td>\n",
              "        </tr>\n",
              "        <tr>\n",
              "            <td>10322</td>\n",
              "            <td>Pericles Comidas clásicas</td>\n",
              "        </tr>\n",
              "        <tr>\n",
              "            <td>10323</td>\n",
              "            <td>Königlich Essen</td>\n",
              "        </tr>\n",
              "        <tr>\n",
              "            <td>10324</td>\n",
              "            <td>Save-a-lot Markets</td>\n",
              "        </tr>\n",
              "        <tr>\n",
              "            <td>10325</td>\n",
              "            <td>Königlich Essen</td>\n",
              "        </tr>\n",
              "        <tr>\n",
              "            <td>10326</td>\n",
              "            <td>Bólido Comidas preparadas</td>\n",
              "        </tr>\n",
              "        <tr>\n",
              "            <td>10327</td>\n",
              "            <td>Folk och fä HB</td>\n",
              "        </tr>\n",
              "        <tr>\n",
              "            <td>10328</td>\n",
              "            <td>Furia Bacalhau e Frutos do Mar</td>\n",
              "        </tr>\n",
              "        <tr>\n",
              "            <td>10329</td>\n",
              "            <td>Split Rail Beer &amp; Ale</td>\n",
              "        </tr>\n",
              "        <tr>\n",
              "            <td>10330</td>\n",
              "            <td>LILA-Supermercado</td>\n",
              "        </tr>\n",
              "        <tr>\n",
              "            <td>10331</td>\n",
              "            <td>Bon app&#x27;</td>\n",
              "        </tr>\n",
              "        <tr>\n",
              "            <td>10332</td>\n",
              "            <td>Mère Paillarde</td>\n",
              "        </tr>\n",
              "        <tr>\n",
              "            <td>10333</td>\n",
              "            <td>Wartian Herkku</td>\n",
              "        </tr>\n",
              "        <tr>\n",
              "            <td>10334</td>\n",
              "            <td>Victuailles en stock</td>\n",
              "        </tr>\n",
              "        <tr>\n",
              "            <td>10335</td>\n",
              "            <td>Hungry Owl All-Night Grocers</td>\n",
              "        </tr>\n",
              "        <tr>\n",
              "            <td>10336</td>\n",
              "            <td>Princesa Isabel Vinhoss</td>\n",
              "        </tr>\n",
              "        <tr>\n",
              "            <td>10337</td>\n",
              "            <td>Frankenversand</td>\n",
              "        </tr>\n",
              "        <tr>\n",
              "            <td>10338</td>\n",
              "            <td>Old World Delicatessen</td>\n",
              "        </tr>\n",
              "        <tr>\n",
              "            <td>10339</td>\n",
              "            <td>Mère Paillarde</td>\n",
              "        </tr>\n",
              "        <tr>\n",
              "            <td>10340</td>\n",
              "            <td>Bon app&#x27;</td>\n",
              "        </tr>\n",
              "        <tr>\n",
              "            <td>10341</td>\n",
              "            <td>Simons bistro</td>\n",
              "        </tr>\n",
              "        <tr>\n",
              "            <td>10342</td>\n",
              "            <td>Frankenversand</td>\n",
              "        </tr>\n",
              "        <tr>\n",
              "            <td>10343</td>\n",
              "            <td>Lehmanns Marktstand</td>\n",
              "        </tr>\n",
              "        <tr>\n",
              "            <td>10344</td>\n",
              "            <td>White Clover Markets</td>\n",
              "        </tr>\n",
              "        <tr>\n",
              "            <td>10345</td>\n",
              "            <td>QUICK-Stop</td>\n",
              "        </tr>\n",
              "        <tr>\n",
              "            <td>10346</td>\n",
              "            <td>Rattlesnake Canyon Grocery</td>\n",
              "        </tr>\n",
              "        <tr>\n",
              "            <td>10347</td>\n",
              "            <td>Familia Arquibaldo</td>\n",
              "        </tr>\n",
              "        <tr>\n",
              "            <td>10348</td>\n",
              "            <td>Die Wandernde Kuh</td>\n",
              "        </tr>\n",
              "        <tr>\n",
              "            <td>10349</td>\n",
              "            <td>Split Rail Beer &amp; Ale</td>\n",
              "        </tr>\n",
              "        <tr>\n",
              "            <td>10350</td>\n",
              "            <td>La maison d&#x27;Asie</td>\n",
              "        </tr>\n",
              "        <tr>\n",
              "            <td>10351</td>\n",
              "            <td>Ernst Handel</td>\n",
              "        </tr>\n",
              "        <tr>\n",
              "            <td>10352</td>\n",
              "            <td>Furia Bacalhau e Frutos do Mar</td>\n",
              "        </tr>\n",
              "        <tr>\n",
              "            <td>10353</td>\n",
              "            <td>Piccolo und mehr</td>\n",
              "        </tr>\n",
              "        <tr>\n",
              "            <td>10354</td>\n",
              "            <td>Pericles Comidas clásicas</td>\n",
              "        </tr>\n",
              "        <tr>\n",
              "            <td>10355</td>\n",
              "            <td>Around the Horn</td>\n",
              "        </tr>\n",
              "        <tr>\n",
              "            <td>10356</td>\n",
              "            <td>Die Wandernde Kuh</td>\n",
              "        </tr>\n",
              "        <tr>\n",
              "            <td>10357</td>\n",
              "            <td>LILA-Supermercado</td>\n",
              "        </tr>\n",
              "        <tr>\n",
              "            <td>10358</td>\n",
              "            <td>La maison d&#x27;Asie</td>\n",
              "        </tr>\n",
              "        <tr>\n",
              "            <td>10359</td>\n",
              "            <td>Seven Seas Imports</td>\n",
              "        </tr>\n",
              "        <tr>\n",
              "            <td>10360</td>\n",
              "            <td>Blondel père et fils</td>\n",
              "        </tr>\n",
              "        <tr>\n",
              "            <td>10361</td>\n",
              "            <td>QUICK-Stop</td>\n",
              "        </tr>\n",
              "        <tr>\n",
              "            <td>10362</td>\n",
              "            <td>Bon app&#x27;</td>\n",
              "        </tr>\n",
              "        <tr>\n",
              "            <td>10363</td>\n",
              "            <td>Drachenblut Delikatessend</td>\n",
              "        </tr>\n",
              "        <tr>\n",
              "            <td>10364</td>\n",
              "            <td>Eastern Connection</td>\n",
              "        </tr>\n",
              "        <tr>\n",
              "            <td>10365</td>\n",
              "            <td>Antonio Moreno Taquería</td>\n",
              "        </tr>\n",
              "        <tr>\n",
              "            <td>10366</td>\n",
              "            <td>Galería del gastrónomo</td>\n",
              "        </tr>\n",
              "        <tr>\n",
              "            <td>10367</td>\n",
              "            <td>Vaffeljernet</td>\n",
              "        </tr>\n",
              "        <tr>\n",
              "            <td>10368</td>\n",
              "            <td>Ernst Handel</td>\n",
              "        </tr>\n",
              "        <tr>\n",
              "            <td>10369</td>\n",
              "            <td>Split Rail Beer &amp; Ale</td>\n",
              "        </tr>\n",
              "        <tr>\n",
              "            <td>10370</td>\n",
              "            <td>Chop-suey Chinese</td>\n",
              "        </tr>\n",
              "        <tr>\n",
              "            <td>10371</td>\n",
              "            <td>La maison d&#x27;Asie</td>\n",
              "        </tr>\n",
              "        <tr>\n",
              "            <td>10372</td>\n",
              "            <td>Queen Cozinha</td>\n",
              "        </tr>\n",
              "        <tr>\n",
              "            <td>10373</td>\n",
              "            <td>Hungry Owl All-Night Grocers</td>\n",
              "        </tr>\n",
              "        <tr>\n",
              "            <td>10374</td>\n",
              "            <td>Wolski</td>\n",
              "        </tr>\n",
              "        <tr>\n",
              "            <td>10375</td>\n",
              "            <td>Hungry Coyote Import Store</td>\n",
              "        </tr>\n",
              "        <tr>\n",
              "            <td>10376</td>\n",
              "            <td>Mère Paillarde</td>\n",
              "        </tr>\n",
              "        <tr>\n",
              "            <td>10377</td>\n",
              "            <td>Seven Seas Imports</td>\n",
              "        </tr>\n",
              "        <tr>\n",
              "            <td>10378</td>\n",
              "            <td>Folk och fä HB</td>\n",
              "        </tr>\n",
              "        <tr>\n",
              "            <td>10379</td>\n",
              "            <td>Que Delícia</td>\n",
              "        </tr>\n",
              "        <tr>\n",
              "            <td>10380</td>\n",
              "            <td>Hungry Owl All-Night Grocers</td>\n",
              "        </tr>\n",
              "        <tr>\n",
              "            <td>10381</td>\n",
              "            <td>LILA-Supermercado</td>\n",
              "        </tr>\n",
              "        <tr>\n",
              "            <td>10382</td>\n",
              "            <td>Ernst Handel</td>\n",
              "        </tr>\n",
              "        <tr>\n",
              "            <td>10383</td>\n",
              "            <td>Around the Horn</td>\n",
              "        </tr>\n",
              "        <tr>\n",
              "            <td>10384</td>\n",
              "            <td>Berglunds snabbköp</td>\n",
              "        </tr>\n",
              "        <tr>\n",
              "            <td>10385</td>\n",
              "            <td>Split Rail Beer &amp; Ale</td>\n",
              "        </tr>\n",
              "        <tr>\n",
              "            <td>10386</td>\n",
              "            <td>Familia Arquibaldo</td>\n",
              "        </tr>\n",
              "        <tr>\n",
              "            <td>10387</td>\n",
              "            <td>Santé Gourmet</td>\n",
              "        </tr>\n",
              "        <tr>\n",
              "            <td>10388</td>\n",
              "            <td>Seven Seas Imports</td>\n",
              "        </tr>\n",
              "        <tr>\n",
              "            <td>10389</td>\n",
              "            <td>Bottom-Dollar Marketse</td>\n",
              "        </tr>\n",
              "        <tr>\n",
              "            <td>10390</td>\n",
              "            <td>Ernst Handel</td>\n",
              "        </tr>\n",
              "        <tr>\n",
              "            <td>10391</td>\n",
              "            <td>Drachenblut Delikatessend</td>\n",
              "        </tr>\n",
              "        <tr>\n",
              "            <td>10392</td>\n",
              "            <td>Piccolo und mehr</td>\n",
              "        </tr>\n",
              "        <tr>\n",
              "            <td>10393</td>\n",
              "            <td>Save-a-lot Markets</td>\n",
              "        </tr>\n",
              "        <tr>\n",
              "            <td>10394</td>\n",
              "            <td>Hungry Coyote Import Store</td>\n",
              "        </tr>\n",
              "        <tr>\n",
              "            <td>10395</td>\n",
              "            <td>HILARIÓN-Abastos</td>\n",
              "        </tr>\n",
              "        <tr>\n",
              "            <td>10396</td>\n",
              "            <td>Frankenversand</td>\n",
              "        </tr>\n",
              "        <tr>\n",
              "            <td>10397</td>\n",
              "            <td>Princesa Isabel Vinhoss</td>\n",
              "        </tr>\n",
              "        <tr>\n",
              "            <td>10398</td>\n",
              "            <td>Save-a-lot Markets</td>\n",
              "        </tr>\n",
              "        <tr>\n",
              "            <td>10399</td>\n",
              "            <td>Vaffeljernet</td>\n",
              "        </tr>\n",
              "        <tr>\n",
              "            <td>10400</td>\n",
              "            <td>Eastern Connection</td>\n",
              "        </tr>\n",
              "        <tr>\n",
              "            <td>10401</td>\n",
              "            <td>Rattlesnake Canyon Grocery</td>\n",
              "        </tr>\n",
              "        <tr>\n",
              "            <td>10402</td>\n",
              "            <td>Ernst Handel</td>\n",
              "        </tr>\n",
              "        <tr>\n",
              "            <td>10403</td>\n",
              "            <td>Ernst Handel</td>\n",
              "        </tr>\n",
              "        <tr>\n",
              "            <td>10404</td>\n",
              "            <td>Magazzini Alimentari Riuniti</td>\n",
              "        </tr>\n",
              "        <tr>\n",
              "            <td>10405</td>\n",
              "            <td>LINO-Delicateses</td>\n",
              "        </tr>\n",
              "        <tr>\n",
              "            <td>10406</td>\n",
              "            <td>Queen Cozinha</td>\n",
              "        </tr>\n",
              "        <tr>\n",
              "            <td>10407</td>\n",
              "            <td>Ottilies Käseladen</td>\n",
              "        </tr>\n",
              "        <tr>\n",
              "            <td>10408</td>\n",
              "            <td>Folies gourmandes</td>\n",
              "        </tr>\n",
              "        <tr>\n",
              "            <td>10409</td>\n",
              "            <td>Océano Atlántico Ltda.</td>\n",
              "        </tr>\n",
              "        <tr>\n",
              "            <td>10410</td>\n",
              "            <td>Bottom-Dollar Marketse</td>\n",
              "        </tr>\n",
              "        <tr>\n",
              "            <td>10411</td>\n",
              "            <td>Bottom-Dollar Marketse</td>\n",
              "        </tr>\n",
              "        <tr>\n",
              "            <td>10412</td>\n",
              "            <td>Wartian Herkku</td>\n",
              "        </tr>\n",
              "        <tr>\n",
              "            <td>10413</td>\n",
              "            <td>La maison d&#x27;Asie</td>\n",
              "        </tr>\n",
              "        <tr>\n",
              "            <td>10414</td>\n",
              "            <td>Familia Arquibaldo</td>\n",
              "        </tr>\n",
              "        <tr>\n",
              "            <td>10415</td>\n",
              "            <td>Hungry Coyote Import Store</td>\n",
              "        </tr>\n",
              "        <tr>\n",
              "            <td>10416</td>\n",
              "            <td>Wartian Herkku</td>\n",
              "        </tr>\n",
              "        <tr>\n",
              "            <td>10417</td>\n",
              "            <td>Simons bistro</td>\n",
              "        </tr>\n",
              "        <tr>\n",
              "            <td>10418</td>\n",
              "            <td>QUICK-Stop</td>\n",
              "        </tr>\n",
              "        <tr>\n",
              "            <td>10419</td>\n",
              "            <td>Richter Supermarkt</td>\n",
              "        </tr>\n",
              "        <tr>\n",
              "            <td>10420</td>\n",
              "            <td>Wellington Importadora</td>\n",
              "        </tr>\n",
              "        <tr>\n",
              "            <td>10421</td>\n",
              "            <td>Que Delícia</td>\n",
              "        </tr>\n",
              "        <tr>\n",
              "            <td>10422</td>\n",
              "            <td>Franchi S.p.A.</td>\n",
              "        </tr>\n",
              "        <tr>\n",
              "            <td>10423</td>\n",
              "            <td>Gourmet Lanchonetes</td>\n",
              "        </tr>\n",
              "        <tr>\n",
              "            <td>10424</td>\n",
              "            <td>Mère Paillarde</td>\n",
              "        </tr>\n",
              "        <tr>\n",
              "            <td>10425</td>\n",
              "            <td>La maison d&#x27;Asie</td>\n",
              "        </tr>\n",
              "        <tr>\n",
              "            <td>10426</td>\n",
              "            <td>Galería del gastrónomo</td>\n",
              "        </tr>\n",
              "        <tr>\n",
              "            <td>10427</td>\n",
              "            <td>Piccolo und mehr</td>\n",
              "        </tr>\n",
              "        <tr>\n",
              "            <td>10428</td>\n",
              "            <td>Reggiani Caseifici</td>\n",
              "        </tr>\n",
              "        <tr>\n",
              "            <td>10429</td>\n",
              "            <td>Hungry Owl All-Night Grocers</td>\n",
              "        </tr>\n",
              "        <tr>\n",
              "            <td>10430</td>\n",
              "            <td>Ernst Handel</td>\n",
              "        </tr>\n",
              "        <tr>\n",
              "            <td>10431</td>\n",
              "            <td>Bottom-Dollar Marketse</td>\n",
              "        </tr>\n",
              "        <tr>\n",
              "            <td>10432</td>\n",
              "            <td>Split Rail Beer &amp; Ale</td>\n",
              "        </tr>\n",
              "        <tr>\n",
              "            <td>10433</td>\n",
              "            <td>Princesa Isabel Vinhoss</td>\n",
              "        </tr>\n",
              "        <tr>\n",
              "            <td>10434</td>\n",
              "            <td>Folk och fä HB</td>\n",
              "        </tr>\n",
              "        <tr>\n",
              "            <td>10435</td>\n",
              "            <td>Consolidated Holdings</td>\n",
              "        </tr>\n",
              "        <tr>\n",
              "            <td>10436</td>\n",
              "            <td>Blondel père et fils</td>\n",
              "        </tr>\n",
              "        <tr>\n",
              "            <td>10437</td>\n",
              "            <td>Wartian Herkku</td>\n",
              "        </tr>\n",
              "        <tr>\n",
              "            <td>10438</td>\n",
              "            <td>Toms Spezialitäten</td>\n",
              "        </tr>\n",
              "        <tr>\n",
              "            <td>10439</td>\n",
              "            <td>Mère Paillarde</td>\n",
              "        </tr>\n",
              "        <tr>\n",
              "            <td>10440</td>\n",
              "            <td>Save-a-lot Markets</td>\n",
              "        </tr>\n",
              "        <tr>\n",
              "            <td>10441</td>\n",
              "            <td>Old World Delicatessen</td>\n",
              "        </tr>\n",
              "        <tr>\n",
              "            <td>10442</td>\n",
              "            <td>Ernst Handel</td>\n",
              "        </tr>\n",
              "        <tr>\n",
              "            <td>10443</td>\n",
              "            <td>Reggiani Caseifici</td>\n",
              "        </tr>\n",
              "    </tbody>\n",
              "</table>"
            ]
          },
          "metadata": {},
          "execution_count": 31
        }
      ]
    },
    {
      "cell_type": "code",
      "source": [
        "%%sql\n",
        "SELECT COUNT(*) FROM (SELECT ORD.OrderID,CU.CustomerName FROM Orders AS ORD INNER JOIN Customers AS CU ON ORD.CustomerID=CU.CustomerID);"
      ],
      "metadata": {
        "colab": {
          "base_uri": "https://localhost:8080/",
          "height": 94
        },
        "id": "D2I9uEG3tgRY",
        "outputId": "d134caaf-b798-4bbb-d932-a6a4890b9335"
      },
      "execution_count": 32,
      "outputs": [
        {
          "output_type": "stream",
          "name": "stdout",
          "text": [
            " * sqlite:////content/drive/MyDrive/veriler/database/databases_application.db\n",
            "Done.\n"
          ]
        },
        {
          "output_type": "execute_result",
          "data": {
            "text/plain": [
              "[(196,)]"
            ],
            "text/html": [
              "<table>\n",
              "    <thead>\n",
              "        <tr>\n",
              "            <th>COUNT(*)</th>\n",
              "        </tr>\n",
              "    </thead>\n",
              "    <tbody>\n",
              "        <tr>\n",
              "            <td>196</td>\n",
              "        </tr>\n",
              "    </tbody>\n",
              "</table>"
            ]
          },
          "metadata": {},
          "execution_count": 32
        }
      ]
    },
    {
      "cell_type": "markdown",
      "source": [
        "AMA BİLİYORUZ Kİ BİZİM 91 MUŞTERİMİZ VAR BAZILARI BİRDEN FAZLASİPARİŞ VERMİŞ"
      ],
      "metadata": {
        "id": "zHPVQadov1Hg"
      }
    },
    {
      "cell_type": "code",
      "source": [
        "%%sql\n",
        "SELECT COUNT(*) FROM Customers "
      ],
      "metadata": {
        "colab": {
          "base_uri": "https://localhost:8080/",
          "height": 94
        },
        "id": "8KzButXFtgOc",
        "outputId": "d2d5679b-9bfd-41c0-8807-0c380a6a7504"
      },
      "execution_count": 33,
      "outputs": [
        {
          "output_type": "stream",
          "name": "stdout",
          "text": [
            " * sqlite:////content/drive/MyDrive/veriler/database/databases_application.db\n",
            "Done.\n"
          ]
        },
        {
          "output_type": "execute_result",
          "data": {
            "text/plain": [
              "[(91,)]"
            ],
            "text/html": [
              "<table>\n",
              "    <thead>\n",
              "        <tr>\n",
              "            <th>COUNT(*)</th>\n",
              "        </tr>\n",
              "    </thead>\n",
              "    <tbody>\n",
              "        <tr>\n",
              "            <td>91</td>\n",
              "        </tr>\n",
              "    </tbody>\n",
              "</table>"
            ]
          },
          "metadata": {},
          "execution_count": 33
        }
      ]
    },
    {
      "cell_type": "markdown",
      "source": [
        "hangi müşteri kaç adet sipariş vermiş onu bulalım"
      ],
      "metadata": {
        "id": "CxjK5l1iwIOd"
      }
    },
    {
      "cell_type": "code",
      "source": [
        "%%sql\n",
        "SELECT CU.CustomerName, COUNT(ORD.OrderID) FROM Customers AS CU INNER JOIN Orders AS ORD ON ORD.CustomerID=CU.CustomerID GROUP BY CU.CustomerName;"
      ],
      "metadata": {
        "colab": {
          "base_uri": "https://localhost:8080/",
          "height": 1000
        },
        "id": "SIes27eGwNB9",
        "outputId": "3d56ea53-a0e9-4bf8-f1d9-137ceac2b8a3"
      },
      "execution_count": 37,
      "outputs": [
        {
          "output_type": "stream",
          "name": "stdout",
          "text": [
            " * sqlite:////content/drive/MyDrive/veriler/database/databases_application.db\n",
            "Done.\n"
          ]
        },
        {
          "output_type": "execute_result",
          "data": {
            "text/plain": [
              "[('Ana Trujillo Emparedados y helados', 1),\n",
              " ('Antonio Moreno Taquería', 1),\n",
              " ('Around the Horn', 2),\n",
              " (\"B's Beverages\", 1),\n",
              " ('Berglunds snabbköp', 3),\n",
              " ('Blondel père et fils', 4),\n",
              " (\"Bon app'\", 3),\n",
              " ('Bottom-Dollar Marketse', 4),\n",
              " ('Bólido Comidas preparadas', 1),\n",
              " ('Centro comercial Moctezuma', 1),\n",
              " ('Chop-suey Chinese', 2),\n",
              " ('Comércio Mineiro', 1),\n",
              " ('Consolidated Holdings', 1),\n",
              " ('Die Wandernde Kuh', 4),\n",
              " ('Drachenblut Delikatessend', 2),\n",
              " ('Du monde entier', 1),\n",
              " ('Eastern Connection', 2),\n",
              " ('Ernst Handel', 10),\n",
              " ('Familia Arquibaldo', 3),\n",
              " ('Folies gourmandes', 1),\n",
              " ('Folk och fä HB', 4),\n",
              " ('Franchi S.p.A.', 1),\n",
              " ('Frankenversand', 4),\n",
              " ('Furia Bacalhau e Frutos do Mar', 2),\n",
              " ('GROSELLA-Restaurante', 1),\n",
              " ('Galería del gastrónomo', 2),\n",
              " ('Godos Cocina Típica', 1),\n",
              " ('Gourmet Lanchonetes', 1),\n",
              " ('HILARIÓN-Abastos', 2),\n",
              " ('Hanari Carnes', 2),\n",
              " ('Hungry Coyote Import Store', 3),\n",
              " ('Hungry Owl All-Night Grocers', 6),\n",
              " ('Island Trading', 3),\n",
              " ('Königlich Essen', 2),\n",
              " ('LILA-Supermercado', 5),\n",
              " ('LINO-Delicateses', 1),\n",
              " (\"La maison d'Asie\", 5),\n",
              " ('Lehmanns Marktstand', 3),\n",
              " ('Lonesome Pine Restaurant', 2),\n",
              " ('Magazzini Alimentari Riuniti', 3),\n",
              " ('Morgenstern Gesundkost', 1),\n",
              " ('Mère Paillarde', 5),\n",
              " ('Océano Atlántico Ltda.', 1),\n",
              " ('Old World Delicatessen', 4),\n",
              " ('Ottilies Käseladen', 1),\n",
              " ('Pericles Comidas clásicas', 2),\n",
              " ('Piccolo und mehr', 3),\n",
              " ('Princesa Isabel Vinhoss', 3),\n",
              " ('QUICK-Stop', 7),\n",
              " ('Que Delícia', 4),\n",
              " ('Queen Cozinha', 2),\n",
              " ('Rattlesnake Canyon Grocery', 7),\n",
              " ('Reggiani Caseifici', 3),\n",
              " ('Ricardo Adocicados', 2),\n",
              " ('Richter Supermarkt', 2),\n",
              " ('Romero y tomillo', 3),\n",
              " ('Santé Gourmet', 1),\n",
              " ('Save-a-lot Markets', 4),\n",
              " ('Seven Seas Imports', 3),\n",
              " ('Simons bistro', 2),\n",
              " ('Split Rail Beer & Ale', 6),\n",
              " ('Suprêmes délices', 2),\n",
              " ('The Big Cheese', 1),\n",
              " ('Toms Spezialitäten', 1),\n",
              " ('Tortuga Restaurante', 4),\n",
              " ('Tradição Hipermercados', 2),\n",
              " ('Vaffeljernet', 2),\n",
              " ('Victuailles en stock', 2),\n",
              " ('Vins et alcools Chevalier', 2),\n",
              " ('Wartian Herkku', 7),\n",
              " ('Wellington Importadora', 2),\n",
              " ('White Clover Markets', 2),\n",
              " ('Wilman Kala', 1),\n",
              " ('Wolski', 1)]"
            ],
            "text/html": [
              "<table>\n",
              "    <thead>\n",
              "        <tr>\n",
              "            <th>CustomerName</th>\n",
              "            <th>COUNT(ORD.OrderID)</th>\n",
              "        </tr>\n",
              "    </thead>\n",
              "    <tbody>\n",
              "        <tr>\n",
              "            <td>Ana Trujillo Emparedados y helados</td>\n",
              "            <td>1</td>\n",
              "        </tr>\n",
              "        <tr>\n",
              "            <td>Antonio Moreno Taquería</td>\n",
              "            <td>1</td>\n",
              "        </tr>\n",
              "        <tr>\n",
              "            <td>Around the Horn</td>\n",
              "            <td>2</td>\n",
              "        </tr>\n",
              "        <tr>\n",
              "            <td>B&#x27;s Beverages</td>\n",
              "            <td>1</td>\n",
              "        </tr>\n",
              "        <tr>\n",
              "            <td>Berglunds snabbköp</td>\n",
              "            <td>3</td>\n",
              "        </tr>\n",
              "        <tr>\n",
              "            <td>Blondel père et fils</td>\n",
              "            <td>4</td>\n",
              "        </tr>\n",
              "        <tr>\n",
              "            <td>Bon app&#x27;</td>\n",
              "            <td>3</td>\n",
              "        </tr>\n",
              "        <tr>\n",
              "            <td>Bottom-Dollar Marketse</td>\n",
              "            <td>4</td>\n",
              "        </tr>\n",
              "        <tr>\n",
              "            <td>Bólido Comidas preparadas</td>\n",
              "            <td>1</td>\n",
              "        </tr>\n",
              "        <tr>\n",
              "            <td>Centro comercial Moctezuma</td>\n",
              "            <td>1</td>\n",
              "        </tr>\n",
              "        <tr>\n",
              "            <td>Chop-suey Chinese</td>\n",
              "            <td>2</td>\n",
              "        </tr>\n",
              "        <tr>\n",
              "            <td>Comércio Mineiro</td>\n",
              "            <td>1</td>\n",
              "        </tr>\n",
              "        <tr>\n",
              "            <td>Consolidated Holdings</td>\n",
              "            <td>1</td>\n",
              "        </tr>\n",
              "        <tr>\n",
              "            <td>Die Wandernde Kuh</td>\n",
              "            <td>4</td>\n",
              "        </tr>\n",
              "        <tr>\n",
              "            <td>Drachenblut Delikatessend</td>\n",
              "            <td>2</td>\n",
              "        </tr>\n",
              "        <tr>\n",
              "            <td>Du monde entier</td>\n",
              "            <td>1</td>\n",
              "        </tr>\n",
              "        <tr>\n",
              "            <td>Eastern Connection</td>\n",
              "            <td>2</td>\n",
              "        </tr>\n",
              "        <tr>\n",
              "            <td>Ernst Handel</td>\n",
              "            <td>10</td>\n",
              "        </tr>\n",
              "        <tr>\n",
              "            <td>Familia Arquibaldo</td>\n",
              "            <td>3</td>\n",
              "        </tr>\n",
              "        <tr>\n",
              "            <td>Folies gourmandes</td>\n",
              "            <td>1</td>\n",
              "        </tr>\n",
              "        <tr>\n",
              "            <td>Folk och fä HB</td>\n",
              "            <td>4</td>\n",
              "        </tr>\n",
              "        <tr>\n",
              "            <td>Franchi S.p.A.</td>\n",
              "            <td>1</td>\n",
              "        </tr>\n",
              "        <tr>\n",
              "            <td>Frankenversand</td>\n",
              "            <td>4</td>\n",
              "        </tr>\n",
              "        <tr>\n",
              "            <td>Furia Bacalhau e Frutos do Mar</td>\n",
              "            <td>2</td>\n",
              "        </tr>\n",
              "        <tr>\n",
              "            <td>GROSELLA-Restaurante</td>\n",
              "            <td>1</td>\n",
              "        </tr>\n",
              "        <tr>\n",
              "            <td>Galería del gastrónomo</td>\n",
              "            <td>2</td>\n",
              "        </tr>\n",
              "        <tr>\n",
              "            <td>Godos Cocina Típica</td>\n",
              "            <td>1</td>\n",
              "        </tr>\n",
              "        <tr>\n",
              "            <td>Gourmet Lanchonetes</td>\n",
              "            <td>1</td>\n",
              "        </tr>\n",
              "        <tr>\n",
              "            <td>HILARIÓN-Abastos</td>\n",
              "            <td>2</td>\n",
              "        </tr>\n",
              "        <tr>\n",
              "            <td>Hanari Carnes</td>\n",
              "            <td>2</td>\n",
              "        </tr>\n",
              "        <tr>\n",
              "            <td>Hungry Coyote Import Store</td>\n",
              "            <td>3</td>\n",
              "        </tr>\n",
              "        <tr>\n",
              "            <td>Hungry Owl All-Night Grocers</td>\n",
              "            <td>6</td>\n",
              "        </tr>\n",
              "        <tr>\n",
              "            <td>Island Trading</td>\n",
              "            <td>3</td>\n",
              "        </tr>\n",
              "        <tr>\n",
              "            <td>Königlich Essen</td>\n",
              "            <td>2</td>\n",
              "        </tr>\n",
              "        <tr>\n",
              "            <td>LILA-Supermercado</td>\n",
              "            <td>5</td>\n",
              "        </tr>\n",
              "        <tr>\n",
              "            <td>LINO-Delicateses</td>\n",
              "            <td>1</td>\n",
              "        </tr>\n",
              "        <tr>\n",
              "            <td>La maison d&#x27;Asie</td>\n",
              "            <td>5</td>\n",
              "        </tr>\n",
              "        <tr>\n",
              "            <td>Lehmanns Marktstand</td>\n",
              "            <td>3</td>\n",
              "        </tr>\n",
              "        <tr>\n",
              "            <td>Lonesome Pine Restaurant</td>\n",
              "            <td>2</td>\n",
              "        </tr>\n",
              "        <tr>\n",
              "            <td>Magazzini Alimentari Riuniti</td>\n",
              "            <td>3</td>\n",
              "        </tr>\n",
              "        <tr>\n",
              "            <td>Morgenstern Gesundkost</td>\n",
              "            <td>1</td>\n",
              "        </tr>\n",
              "        <tr>\n",
              "            <td>Mère Paillarde</td>\n",
              "            <td>5</td>\n",
              "        </tr>\n",
              "        <tr>\n",
              "            <td>Océano Atlántico Ltda.</td>\n",
              "            <td>1</td>\n",
              "        </tr>\n",
              "        <tr>\n",
              "            <td>Old World Delicatessen</td>\n",
              "            <td>4</td>\n",
              "        </tr>\n",
              "        <tr>\n",
              "            <td>Ottilies Käseladen</td>\n",
              "            <td>1</td>\n",
              "        </tr>\n",
              "        <tr>\n",
              "            <td>Pericles Comidas clásicas</td>\n",
              "            <td>2</td>\n",
              "        </tr>\n",
              "        <tr>\n",
              "            <td>Piccolo und mehr</td>\n",
              "            <td>3</td>\n",
              "        </tr>\n",
              "        <tr>\n",
              "            <td>Princesa Isabel Vinhoss</td>\n",
              "            <td>3</td>\n",
              "        </tr>\n",
              "        <tr>\n",
              "            <td>QUICK-Stop</td>\n",
              "            <td>7</td>\n",
              "        </tr>\n",
              "        <tr>\n",
              "            <td>Que Delícia</td>\n",
              "            <td>4</td>\n",
              "        </tr>\n",
              "        <tr>\n",
              "            <td>Queen Cozinha</td>\n",
              "            <td>2</td>\n",
              "        </tr>\n",
              "        <tr>\n",
              "            <td>Rattlesnake Canyon Grocery</td>\n",
              "            <td>7</td>\n",
              "        </tr>\n",
              "        <tr>\n",
              "            <td>Reggiani Caseifici</td>\n",
              "            <td>3</td>\n",
              "        </tr>\n",
              "        <tr>\n",
              "            <td>Ricardo Adocicados</td>\n",
              "            <td>2</td>\n",
              "        </tr>\n",
              "        <tr>\n",
              "            <td>Richter Supermarkt</td>\n",
              "            <td>2</td>\n",
              "        </tr>\n",
              "        <tr>\n",
              "            <td>Romero y tomillo</td>\n",
              "            <td>3</td>\n",
              "        </tr>\n",
              "        <tr>\n",
              "            <td>Santé Gourmet</td>\n",
              "            <td>1</td>\n",
              "        </tr>\n",
              "        <tr>\n",
              "            <td>Save-a-lot Markets</td>\n",
              "            <td>4</td>\n",
              "        </tr>\n",
              "        <tr>\n",
              "            <td>Seven Seas Imports</td>\n",
              "            <td>3</td>\n",
              "        </tr>\n",
              "        <tr>\n",
              "            <td>Simons bistro</td>\n",
              "            <td>2</td>\n",
              "        </tr>\n",
              "        <tr>\n",
              "            <td>Split Rail Beer &amp; Ale</td>\n",
              "            <td>6</td>\n",
              "        </tr>\n",
              "        <tr>\n",
              "            <td>Suprêmes délices</td>\n",
              "            <td>2</td>\n",
              "        </tr>\n",
              "        <tr>\n",
              "            <td>The Big Cheese</td>\n",
              "            <td>1</td>\n",
              "        </tr>\n",
              "        <tr>\n",
              "            <td>Toms Spezialitäten</td>\n",
              "            <td>1</td>\n",
              "        </tr>\n",
              "        <tr>\n",
              "            <td>Tortuga Restaurante</td>\n",
              "            <td>4</td>\n",
              "        </tr>\n",
              "        <tr>\n",
              "            <td>Tradição Hipermercados</td>\n",
              "            <td>2</td>\n",
              "        </tr>\n",
              "        <tr>\n",
              "            <td>Vaffeljernet</td>\n",
              "            <td>2</td>\n",
              "        </tr>\n",
              "        <tr>\n",
              "            <td>Victuailles en stock</td>\n",
              "            <td>2</td>\n",
              "        </tr>\n",
              "        <tr>\n",
              "            <td>Vins et alcools Chevalier</td>\n",
              "            <td>2</td>\n",
              "        </tr>\n",
              "        <tr>\n",
              "            <td>Wartian Herkku</td>\n",
              "            <td>7</td>\n",
              "        </tr>\n",
              "        <tr>\n",
              "            <td>Wellington Importadora</td>\n",
              "            <td>2</td>\n",
              "        </tr>\n",
              "        <tr>\n",
              "            <td>White Clover Markets</td>\n",
              "            <td>2</td>\n",
              "        </tr>\n",
              "        <tr>\n",
              "            <td>Wilman Kala</td>\n",
              "            <td>1</td>\n",
              "        </tr>\n",
              "        <tr>\n",
              "            <td>Wolski</td>\n",
              "            <td>1</td>\n",
              "        </tr>\n",
              "    </tbody>\n",
              "</table>"
            ]
          },
          "metadata": {},
          "execution_count": 37
        }
      ]
    },
    {
      "cell_type": "markdown",
      "source": [
        "# SQL VE PANDAS "
      ],
      "metadata": {
        "id": "VxECsnN6-RSb"
      }
    },
    {
      "cell_type": "code",
      "source": [
        "df = %sql SELECT CU.CustomerName, COUNT(ORD.OrderID) FROM Customers AS CU INNER JOIN Orders AS ORD ON ORD.CustomerID=CU.CustomerID GROUP BY CU.CustomerName;"
      ],
      "metadata": {
        "colab": {
          "base_uri": "https://localhost:8080/"
        },
        "id": "zNMHQ4Cq60Nt",
        "outputId": "8da804c2-ba51-4243-be0c-1129486fd81c"
      },
      "execution_count": 41,
      "outputs": [
        {
          "output_type": "stream",
          "name": "stdout",
          "text": [
            " * sqlite:////content/drive/MyDrive/veriler/database/databases_application.db\n",
            "Done.\n"
          ]
        }
      ]
    },
    {
      "cell_type": "code",
      "source": [
        "type(df)"
      ],
      "metadata": {
        "colab": {
          "base_uri": "https://localhost:8080/"
        },
        "id": "EYZ1ZlqK-dWv",
        "outputId": "7ed9606f-4341-4f85-fcd4-d50e40bfcfb5"
      },
      "execution_count": 42,
      "outputs": [
        {
          "output_type": "execute_result",
          "data": {
            "text/plain": [
              "sql.run.ResultSet"
            ]
          },
          "metadata": {},
          "execution_count": 42
        }
      ]
    },
    {
      "cell_type": "code",
      "source": [
        "import pandas as pd"
      ],
      "metadata": {
        "id": "eZVjDba9-gS_"
      },
      "execution_count": 43,
      "outputs": []
    },
    {
      "cell_type": "code",
      "source": [
        "dff= pd.DataFrame(df,columns=[\"müsteri_adi\",\"siparis_sayisi\"])"
      ],
      "metadata": {
        "id": "PCeDNlpg-iXU"
      },
      "execution_count": 50,
      "outputs": []
    },
    {
      "cell_type": "code",
      "source": [
        "type(dff)"
      ],
      "metadata": {
        "colab": {
          "base_uri": "https://localhost:8080/"
        },
        "id": "26QrIRrZ-yAY",
        "outputId": "4fe501f9-5145-4ea8-f785-5d5e310df78a"
      },
      "execution_count": 51,
      "outputs": [
        {
          "output_type": "execute_result",
          "data": {
            "text/plain": [
              "pandas.core.frame.DataFrame"
            ]
          },
          "metadata": {},
          "execution_count": 51
        }
      ]
    },
    {
      "cell_type": "code",
      "source": [
        "dff.head()"
      ],
      "metadata": {
        "colab": {
          "base_uri": "https://localhost:8080/",
          "height": 206
        },
        "id": "h17E2V6_-viS",
        "outputId": "5fc84e14-5adb-4003-fc8b-f07183d9a23c"
      },
      "execution_count": 52,
      "outputs": [
        {
          "output_type": "execute_result",
          "data": {
            "text/plain": [
              "                          müsteri_adi  siparis_sayisi\n",
              "0  Ana Trujillo Emparedados y helados               1\n",
              "1             Antonio Moreno Taquería               1\n",
              "2                     Around the Horn               2\n",
              "3                       B's Beverages               1\n",
              "4                  Berglunds snabbköp               3"
            ],
            "text/html": [
              "\n",
              "  <div id=\"df-2117bdf5-0d3c-4553-aa0f-bbeaa9971c3f\">\n",
              "    <div class=\"colab-df-container\">\n",
              "      <div>\n",
              "<style scoped>\n",
              "    .dataframe tbody tr th:only-of-type {\n",
              "        vertical-align: middle;\n",
              "    }\n",
              "\n",
              "    .dataframe tbody tr th {\n",
              "        vertical-align: top;\n",
              "    }\n",
              "\n",
              "    .dataframe thead th {\n",
              "        text-align: right;\n",
              "    }\n",
              "</style>\n",
              "<table border=\"1\" class=\"dataframe\">\n",
              "  <thead>\n",
              "    <tr style=\"text-align: right;\">\n",
              "      <th></th>\n",
              "      <th>müsteri_adi</th>\n",
              "      <th>siparis_sayisi</th>\n",
              "    </tr>\n",
              "  </thead>\n",
              "  <tbody>\n",
              "    <tr>\n",
              "      <th>0</th>\n",
              "      <td>Ana Trujillo Emparedados y helados</td>\n",
              "      <td>1</td>\n",
              "    </tr>\n",
              "    <tr>\n",
              "      <th>1</th>\n",
              "      <td>Antonio Moreno Taquería</td>\n",
              "      <td>1</td>\n",
              "    </tr>\n",
              "    <tr>\n",
              "      <th>2</th>\n",
              "      <td>Around the Horn</td>\n",
              "      <td>2</td>\n",
              "    </tr>\n",
              "    <tr>\n",
              "      <th>3</th>\n",
              "      <td>B's Beverages</td>\n",
              "      <td>1</td>\n",
              "    </tr>\n",
              "    <tr>\n",
              "      <th>4</th>\n",
              "      <td>Berglunds snabbköp</td>\n",
              "      <td>3</td>\n",
              "    </tr>\n",
              "  </tbody>\n",
              "</table>\n",
              "</div>\n",
              "      <button class=\"colab-df-convert\" onclick=\"convertToInteractive('df-2117bdf5-0d3c-4553-aa0f-bbeaa9971c3f')\"\n",
              "              title=\"Convert this dataframe to an interactive table.\"\n",
              "              style=\"display:none;\">\n",
              "        \n",
              "  <svg xmlns=\"http://www.w3.org/2000/svg\" height=\"24px\"viewBox=\"0 0 24 24\"\n",
              "       width=\"24px\">\n",
              "    <path d=\"M0 0h24v24H0V0z\" fill=\"none\"/>\n",
              "    <path d=\"M18.56 5.44l.94 2.06.94-2.06 2.06-.94-2.06-.94-.94-2.06-.94 2.06-2.06.94zm-11 1L8.5 8.5l.94-2.06 2.06-.94-2.06-.94L8.5 2.5l-.94 2.06-2.06.94zm10 10l.94 2.06.94-2.06 2.06-.94-2.06-.94-.94-2.06-.94 2.06-2.06.94z\"/><path d=\"M17.41 7.96l-1.37-1.37c-.4-.4-.92-.59-1.43-.59-.52 0-1.04.2-1.43.59L10.3 9.45l-7.72 7.72c-.78.78-.78 2.05 0 2.83L4 21.41c.39.39.9.59 1.41.59.51 0 1.02-.2 1.41-.59l7.78-7.78 2.81-2.81c.8-.78.8-2.07 0-2.86zM5.41 20L4 18.59l7.72-7.72 1.47 1.35L5.41 20z\"/>\n",
              "  </svg>\n",
              "      </button>\n",
              "      \n",
              "  <style>\n",
              "    .colab-df-container {\n",
              "      display:flex;\n",
              "      flex-wrap:wrap;\n",
              "      gap: 12px;\n",
              "    }\n",
              "\n",
              "    .colab-df-convert {\n",
              "      background-color: #E8F0FE;\n",
              "      border: none;\n",
              "      border-radius: 50%;\n",
              "      cursor: pointer;\n",
              "      display: none;\n",
              "      fill: #1967D2;\n",
              "      height: 32px;\n",
              "      padding: 0 0 0 0;\n",
              "      width: 32px;\n",
              "    }\n",
              "\n",
              "    .colab-df-convert:hover {\n",
              "      background-color: #E2EBFA;\n",
              "      box-shadow: 0px 1px 2px rgba(60, 64, 67, 0.3), 0px 1px 3px 1px rgba(60, 64, 67, 0.15);\n",
              "      fill: #174EA6;\n",
              "    }\n",
              "\n",
              "    [theme=dark] .colab-df-convert {\n",
              "      background-color: #3B4455;\n",
              "      fill: #D2E3FC;\n",
              "    }\n",
              "\n",
              "    [theme=dark] .colab-df-convert:hover {\n",
              "      background-color: #434B5C;\n",
              "      box-shadow: 0px 1px 3px 1px rgba(0, 0, 0, 0.15);\n",
              "      filter: drop-shadow(0px 1px 2px rgba(0, 0, 0, 0.3));\n",
              "      fill: #FFFFFF;\n",
              "    }\n",
              "  </style>\n",
              "\n",
              "      <script>\n",
              "        const buttonEl =\n",
              "          document.querySelector('#df-2117bdf5-0d3c-4553-aa0f-bbeaa9971c3f button.colab-df-convert');\n",
              "        buttonEl.style.display =\n",
              "          google.colab.kernel.accessAllowed ? 'block' : 'none';\n",
              "\n",
              "        async function convertToInteractive(key) {\n",
              "          const element = document.querySelector('#df-2117bdf5-0d3c-4553-aa0f-bbeaa9971c3f');\n",
              "          const dataTable =\n",
              "            await google.colab.kernel.invokeFunction('convertToInteractive',\n",
              "                                                     [key], {});\n",
              "          if (!dataTable) return;\n",
              "\n",
              "          const docLinkHtml = 'Like what you see? Visit the ' +\n",
              "            '<a target=\"_blank\" href=https://colab.research.google.com/notebooks/data_table.ipynb>data table notebook</a>'\n",
              "            + ' to learn more about interactive tables.';\n",
              "          element.innerHTML = '';\n",
              "          dataTable['output_type'] = 'display_data';\n",
              "          await google.colab.output.renderOutput(dataTable, element);\n",
              "          const docLink = document.createElement('div');\n",
              "          docLink.innerHTML = docLinkHtml;\n",
              "          element.appendChild(docLink);\n",
              "        }\n",
              "      </script>\n",
              "    </div>\n",
              "  </div>\n",
              "  "
            ]
          },
          "metadata": {},
          "execution_count": 52
        }
      ]
    },
    {
      "cell_type": "code",
      "source": [
        "dff.plot.barh(x=\"müsteri_adi\",y=\"siparis_sayisi\")"
      ],
      "metadata": {
        "colab": {
          "base_uri": "https://localhost:8080/",
          "height": 285
        },
        "id": "tthYGnFK-0hm",
        "outputId": "7096ec65-112c-4c5a-e11b-61465a4b4b14"
      },
      "execution_count": 54,
      "outputs": [
        {
          "output_type": "execute_result",
          "data": {
            "text/plain": [
              "<matplotlib.axes._subplots.AxesSubplot at 0x7f140cf8d990>"
            ]
          },
          "metadata": {},
          "execution_count": 54
        },
        {
          "output_type": "display_data",
          "data": {
            "text/plain": [
              "<Figure size 432x288 with 1 Axes>"
            ],
            "image/png": "[encoded data removed]"
          },
          "metadata": {
            "needs_background": "light"
          }
        }
      ]
    },
    {
      "cell_type": "markdown",
      "source": [
        "başka bir veri daha mantıklı olabilirdi görsel açısından ama amacımız df e dönüştürme kısmını göstermek"
      ],
      "metadata": {
        "id": "xTz8-cOQ_erM"
      }
    },
    {
      "cell_type": "markdown",
      "source": [
        "# sqlite3"
      ],
      "metadata": {
        "id": "aazF-mcg_m3D"
      }
    },
    {
      "cell_type": "code",
      "source": [
        "import pandas as pd"
      ],
      "metadata": {
        "id": "YeO3F3JI_oS6"
      },
      "execution_count": 13,
      "outputs": []
    },
    {
      "cell_type": "code",
      "source": [
        "import sqlite3"
      ],
      "metadata": {
        "id": "Eg6mLPD6_Ahl"
      },
      "execution_count": 1,
      "outputs": []
    },
    {
      "cell_type": "code",
      "source": [
        "conn=sqlite3.connect(\"/content/drive/MyDrive/veriler/database/databases_application.db\")"
      ],
      "metadata": {
        "id": "gQbDvZ94-DAo"
      },
      "execution_count": 7,
      "outputs": []
    },
    {
      "cell_type": "code",
      "source": [
        "?conn"
      ],
      "metadata": {
        "id": "nyPZtvVo--Bb"
      },
      "execution_count": 8,
      "outputs": []
    },
    {
      "cell_type": "code",
      "source": [
        "c=conn.cursor()"
      ],
      "metadata": {
        "id": "aTyAF9Vz-_gA"
      },
      "execution_count": 9,
      "outputs": []
    },
    {
      "cell_type": "code",
      "source": [
        "c"
      ],
      "metadata": {
        "colab": {
          "base_uri": "https://localhost:8080/"
        },
        "id": "cXPMoS3P_Yos",
        "outputId": "7a47dd8b-aaee-46fc-f82d-f54f72c1ac3b"
      },
      "execution_count": 10,
      "outputs": [
        {
          "output_type": "execute_result",
          "data": {
            "text/plain": [
              "<sqlite3.Cursor at 0x7fdf3be21f80>"
            ]
          },
          "metadata": {},
          "execution_count": 10
        }
      ]
    },
    {
      "cell_type": "code",
      "source": [
        "help(pd.read_sql)"
      ],
      "metadata": {
        "id": "fuiiKFMh_Zj2"
      },
      "execution_count": null,
      "outputs": []
    },
    {
      "cell_type": "markdown",
      "source": [
        "pd.read_sql() kullanarak sql sorgularını içine yazıp pandasta çalışabiliyoruz"
      ],
      "metadata": {
        "id": "pbOyiEtEAfrr"
      }
    },
    {
      "cell_type": "code",
      "source": [
        "pd.read_sql(\"\"\"SELECT \n",
        "COUNT(CustomerID) AS must_sayisi,Country \n",
        "FROM Customers \n",
        "GROUP BY Country\n",
        "\"\"\",conn)"
      ],
      "metadata": {
        "colab": {
          "base_uri": "https://localhost:8080/",
          "height": 708
        },
        "id": "spRWkDh0_uY6",
        "outputId": "6288265c-5132-444d-d1d0-f7671bc682f6"
      },
      "execution_count": 21,
      "outputs": [
        {
          "output_type": "execute_result",
          "data": {
            "text/plain": [
              "    must_sayisi      Country\n",
              "0             3    Argentina\n",
              "1             2      Austria\n",
              "2             2      Belgium\n",
              "3             9       Brazil\n",
              "4             3       Canada\n",
              "5             2      Denmark\n",
              "6             2      Finland\n",
              "7            11       France\n",
              "8            11      Germany\n",
              "9             1      Ireland\n",
              "10            3        Italy\n",
              "11            5       Mexico\n",
              "12            1       Norway\n",
              "13            1       Poland\n",
              "14            2     Portugal\n",
              "15            5        Spain\n",
              "16            2       Sweden\n",
              "17            2  Switzerland\n",
              "18            7           UK\n",
              "19           13          USA\n",
              "20            4    Venezuela"
            ],
            "text/html": [
              "\n",
              "  <div id=\"df-ae3e5081-5499-4c5b-886a-d0424aa4fc68\">\n",
              "    <div class=\"colab-df-container\">\n",
              "      <div>\n",
              "<style scoped>\n",
              "    .dataframe tbody tr th:only-of-type {\n",
              "        vertical-align: middle;\n",
              "    }\n",
              "\n",
              "    .dataframe tbody tr th {\n",
              "        vertical-align: top;\n",
              "    }\n",
              "\n",
              "    .dataframe thead th {\n",
              "        text-align: right;\n",
              "    }\n",
              "</style>\n",
              "<table border=\"1\" class=\"dataframe\">\n",
              "  <thead>\n",
              "    <tr style=\"text-align: right;\">\n",
              "      <th></th>\n",
              "      <th>must_sayisi</th>\n",
              "      <th>Country</th>\n",
              "    </tr>\n",
              "  </thead>\n",
              "  <tbody>\n",
              "    <tr>\n",
              "      <th>0</th>\n",
              "      <td>3</td>\n",
              "      <td>Argentina</td>\n",
              "    </tr>\n",
              "    <tr>\n",
              "      <th>1</th>\n",
              "      <td>2</td>\n",
              "      <td>Austria</td>\n",
              "    </tr>\n",
              "    <tr>\n",
              "      <th>2</th>\n",
              "      <td>2</td>\n",
              "      <td>Belgium</td>\n",
              "    </tr>\n",
              "    <tr>\n",
              "      <th>3</th>\n",
              "      <td>9</td>\n",
              "      <td>Brazil</td>\n",
              "    </tr>\n",
              "    <tr>\n",
              "      <th>4</th>\n",
              "      <td>3</td>\n",
              "      <td>Canada</td>\n",
              "    </tr>\n",
              "    <tr>\n",
              "      <th>5</th>\n",
              "      <td>2</td>\n",
              "      <td>Denmark</td>\n",
              "    </tr>\n",
              "    <tr>\n",
              "      <th>6</th>\n",
              "      <td>2</td>\n",
              "      <td>Finland</td>\n",
              "    </tr>\n",
              "    <tr>\n",
              "      <th>7</th>\n",
              "      <td>11</td>\n",
              "      <td>France</td>\n",
              "    </tr>\n",
              "    <tr>\n",
              "      <th>8</th>\n",
              "      <td>11</td>\n",
              "      <td>Germany</td>\n",
              "    </tr>\n",
              "    <tr>\n",
              "      <th>9</th>\n",
              "      <td>1</td>\n",
              "      <td>Ireland</td>\n",
              "    </tr>\n",
              "    <tr>\n",
              "      <th>10</th>\n",
              "      <td>3</td>\n",
              "      <td>Italy</td>\n",
              "    </tr>\n",
              "    <tr>\n",
              "      <th>11</th>\n",
              "      <td>5</td>\n",
              "      <td>Mexico</td>\n",
              "    </tr>\n",
              "    <tr>\n",
              "      <th>12</th>\n",
              "      <td>1</td>\n",
              "      <td>Norway</td>\n",
              "    </tr>\n",
              "    <tr>\n",
              "      <th>13</th>\n",
              "      <td>1</td>\n",
              "      <td>Poland</td>\n",
              "    </tr>\n",
              "    <tr>\n",
              "      <th>14</th>\n",
              "      <td>2</td>\n",
              "      <td>Portugal</td>\n",
              "    </tr>\n",
              "    <tr>\n",
              "      <th>15</th>\n",
              "      <td>5</td>\n",
              "      <td>Spain</td>\n",
              "    </tr>\n",
              "    <tr>\n",
              "      <th>16</th>\n",
              "      <td>2</td>\n",
              "      <td>Sweden</td>\n",
              "    </tr>\n",
              "    <tr>\n",
              "      <th>17</th>\n",
              "      <td>2</td>\n",
              "      <td>Switzerland</td>\n",
              "    </tr>\n",
              "    <tr>\n",
              "      <th>18</th>\n",
              "      <td>7</td>\n",
              "      <td>UK</td>\n",
              "    </tr>\n",
              "    <tr>\n",
              "      <th>19</th>\n",
              "      <td>13</td>\n",
              "      <td>USA</td>\n",
              "    </tr>\n",
              "    <tr>\n",
              "      <th>20</th>\n",
              "      <td>4</td>\n",
              "      <td>Venezuela</td>\n",
              "    </tr>\n",
              "  </tbody>\n",
              "</table>\n",
              "</div>\n",
              "      <button class=\"colab-df-convert\" onclick=\"convertToInteractive('df-ae3e5081-5499-4c5b-886a-d0424aa4fc68')\"\n",
              "              title=\"Convert this dataframe to an interactive table.\"\n",
              "              style=\"display:none;\">\n",
              "        \n",
              "  <svg xmlns=\"http://www.w3.org/2000/svg\" height=\"24px\"viewBox=\"0 0 24 24\"\n",
              "       width=\"24px\">\n",
              "    <path d=\"M0 0h24v24H0V0z\" fill=\"none\"/>\n",
              "    <path d=\"M18.56 5.44l.94 2.06.94-2.06 2.06-.94-2.06-.94-.94-2.06-.94 2.06-2.06.94zm-11 1L8.5 8.5l.94-2.06 2.06-.94-2.06-.94L8.5 2.5l-.94 2.06-2.06.94zm10 10l.94 2.06.94-2.06 2.06-.94-2.06-.94-.94-2.06-.94 2.06-2.06.94z\"/><path d=\"M17.41 7.96l-1.37-1.37c-.4-.4-.92-.59-1.43-.59-.52 0-1.04.2-1.43.59L10.3 9.45l-7.72 7.72c-.78.78-.78 2.05 0 2.83L4 21.41c.39.39.9.59 1.41.59.51 0 1.02-.2 1.41-.59l7.78-7.78 2.81-2.81c.8-.78.8-2.07 0-2.86zM5.41 20L4 18.59l7.72-7.72 1.47 1.35L5.41 20z\"/>\n",
              "  </svg>\n",
              "      </button>\n",
              "      \n",
              "  <style>\n",
              "    .colab-df-container {\n",
              "      display:flex;\n",
              "      flex-wrap:wrap;\n",
              "      gap: 12px;\n",
              "    }\n",
              "\n",
              "    .colab-df-convert {\n",
              "      background-color: #E8F0FE;\n",
              "      border: none;\n",
              "      border-radius: 50%;\n",
              "      cursor: pointer;\n",
              "      display: none;\n",
              "      fill: #1967D2;\n",
              "      height: 32px;\n",
              "      padding: 0 0 0 0;\n",
              "      width: 32px;\n",
              "    }\n",
              "\n",
              "    .colab-df-convert:hover {\n",
              "      background-color: #E2EBFA;\n",
              "      box-shadow: 0px 1px 2px rgba(60, 64, 67, 0.3), 0px 1px 3px 1px rgba(60, 64, 67, 0.15);\n",
              "      fill: #174EA6;\n",
              "    }\n",
              "\n",
              "    [theme=dark] .colab-df-convert {\n",
              "      background-color: #3B4455;\n",
              "      fill: #D2E3FC;\n",
              "    }\n",
              "\n",
              "    [theme=dark] .colab-df-convert:hover {\n",
              "      background-color: #434B5C;\n",
              "      box-shadow: 0px 1px 3px 1px rgba(0, 0, 0, 0.15);\n",
              "      filter: drop-shadow(0px 1px 2px rgba(0, 0, 0, 0.3));\n",
              "      fill: #FFFFFF;\n",
              "    }\n",
              "  </style>\n",
              "\n",
              "      <script>\n",
              "        const buttonEl =\n",
              "          document.querySelector('#df-ae3e5081-5499-4c5b-886a-d0424aa4fc68 button.colab-df-convert');\n",
              "        buttonEl.style.display =\n",
              "          google.colab.kernel.accessAllowed ? 'block' : 'none';\n",
              "\n",
              "        async function convertToInteractive(key) {\n",
              "          const element = document.querySelector('#df-ae3e5081-5499-4c5b-886a-d0424aa4fc68');\n",
              "          const dataTable =\n",
              "            await google.colab.kernel.invokeFunction('convertToInteractive',\n",
              "                                                     [key], {});\n",
              "          if (!dataTable) return;\n",
              "\n",
              "          const docLinkHtml = 'Like what you see? Visit the ' +\n",
              "            '<a target=\"_blank\" href=https://colab.research.google.com/notebooks/data_table.ipynb>data table notebook</a>'\n",
              "            + ' to learn more about interactive tables.';\n",
              "          element.innerHTML = '';\n",
              "          dataTable['output_type'] = 'display_data';\n",
              "          await google.colab.output.renderOutput(dataTable, element);\n",
              "          const docLink = document.createElement('div');\n",
              "          docLink.innerHTML = docLinkHtml;\n",
              "          element.appendChild(docLink);\n",
              "        }\n",
              "      </script>\n",
              "    </div>\n",
              "  </div>\n",
              "  "
            ]
          },
          "metadata": {},
          "execution_count": 21
        }
      ]
    },
    {
      "cell_type": "code",
      "source": [
        "ab=pd.read_sql(\"\"\"SELECT \n",
        "COUNT(CustomerID) AS must_sayisi,Country \n",
        "FROM Customers \n",
        "GROUP BY Country\n",
        "\"\"\",conn)"
      ],
      "metadata": {
        "id": "hSg_Y0aWBBog"
      },
      "execution_count": 22,
      "outputs": []
    },
    {
      "cell_type": "code",
      "source": [
        "type(ab)"
      ],
      "metadata": {
        "colab": {
          "base_uri": "https://localhost:8080/"
        },
        "id": "Gfv7uVzRBjf9",
        "outputId": "9312de4f-b873-429d-d261-2da2d83683cd"
      },
      "execution_count": 23,
      "outputs": [
        {
          "output_type": "execute_result",
          "data": {
            "text/plain": [
              "pandas.core.frame.DataFrame"
            ]
          },
          "metadata": {},
          "execution_count": 23
        }
      ]
    },
    {
      "cell_type": "code",
      "source": [
        "# bağlantı conn.close ile kapatılır"
      ],
      "metadata": {
        "id": "W4vDLlYWBkm_"
      },
      "execution_count": null,
      "outputs": []
    },
    {
      "cell_type": "code",
      "source": [
        "c.execute(\"SELECT * FROM Customers LIMIT 5\")"
      ],
      "metadata": {
        "colab": {
          "base_uri": "https://localhost:8080/"
        },
        "id": "B8ifre4YBwkE",
        "outputId": "84fbb917-d972-413a-9b0c-c00a75c50974"
      },
      "execution_count": 24,
      "outputs": [
        {
          "output_type": "execute_result",
          "data": {
            "text/plain": [
              "<sqlite3.Cursor at 0x7fdf3be21f80>"
            ]
          },
          "metadata": {},
          "execution_count": 24
        }
      ]
    },
    {
      "cell_type": "markdown",
      "source": [
        "KOD ÇALIŞTI BŞR NESNE ÜRETİLDİ ANCAK BUNU GÖZLEMLEMEK İÇİN BUNU FETCH ETMEMİZ LAZIM"
      ],
      "metadata": {
        "id": "DJeJ5T80B6JJ"
      }
    },
    {
      "cell_type": "code",
      "source": [
        "c.fetchone()"
      ],
      "metadata": {
        "colab": {
          "base_uri": "https://localhost:8080/"
        },
        "id": "bTCSMck5B58Z",
        "outputId": "ee703cc2-d6ba-4d16-ff57-c2a38ffe9a9f"
      },
      "execution_count": 25,
      "outputs": [
        {
          "output_type": "execute_result",
          "data": {
            "text/plain": [
              "(1,\n",
              " 'Alfreds Futterkiste',\n",
              " 'Maria Anders',\n",
              " 'Obere Str. 57',\n",
              " 'Berlin',\n",
              " '12209',\n",
              " 'Germany')"
            ]
          },
          "metadata": {},
          "execution_count": 25
        }
      ]
    },
    {
      "cell_type": "code",
      "source": [
        "c.fetchall()"
      ],
      "metadata": {
        "colab": {
          "base_uri": "https://localhost:8080/"
        },
        "id": "m9U0zpsdCYl3",
        "outputId": "f7478ffa-cf7f-4269-81fb-562e1b404c16"
      },
      "execution_count": 26,
      "outputs": [
        {
          "output_type": "execute_result",
          "data": {
            "text/plain": [
              "[(2,\n",
              "  'Ana Trujillo Emparedados y helados',\n",
              "  'Ana Trujillo',\n",
              "  'Avda. de la Constitución 2222',\n",
              "  'México D.F.',\n",
              "  '5021',\n",
              "  'Mexico'),\n",
              " (3,\n",
              "  'Antonio Moreno Taquería',\n",
              "  'Antonio Moreno',\n",
              "  'Mataderos 2312',\n",
              "  'México D.F.',\n",
              "  '5023',\n",
              "  'Mexico'),\n",
              " (4,\n",
              "  'Around the Horn',\n",
              "  'Thomas Hardy',\n",
              "  '120 Hanover Sq.',\n",
              "  'London',\n",
              "  'WA1 1DP',\n",
              "  'UK'),\n",
              " (5,\n",
              "  'Berglunds snabbköp',\n",
              "  'Christina Berglund',\n",
              "  'Berguvsvägen 8',\n",
              "  'Luleå',\n",
              "  'S-958 22',\n",
              "  'Sweden')]"
            ]
          },
          "metadata": {},
          "execution_count": 26
        }
      ]
    },
    {
      "cell_type": "code",
      "source": [
        "for row in c.execute(\"SELECT * FROM Customers LIMIT 5\"):\n",
        "  print(row)"
      ],
      "metadata": {
        "colab": {
          "base_uri": "https://localhost:8080/"
        },
        "id": "ba6ndNpuCcSL",
        "outputId": "e0ee5d65-ce90-43fb-9b2b-98ef40b95da1"
      },
      "execution_count": 27,
      "outputs": [
        {
          "output_type": "stream",
          "name": "stdout",
          "text": [
            "(1, 'Alfreds Futterkiste', 'Maria Anders', 'Obere Str. 57', 'Berlin', '12209', 'Germany')\n",
            "(2, 'Ana Trujillo Emparedados y helados', 'Ana Trujillo', 'Avda. de la Constitución 2222', 'México D.F.', '5021', 'Mexico')\n",
            "(3, 'Antonio Moreno Taquería', 'Antonio Moreno', 'Mataderos 2312', 'México D.F.', '5023', 'Mexico')\n",
            "(4, 'Around the Horn', 'Thomas Hardy', '120 Hanover Sq.', 'London', 'WA1 1DP', 'UK')\n",
            "(5, 'Berglunds snabbköp', 'Christina Berglund', 'Berguvsvägen 8', 'Luleå', 'S-958 22', 'Sweden')\n"
          ]
        }
      ]
    }
  ]
}