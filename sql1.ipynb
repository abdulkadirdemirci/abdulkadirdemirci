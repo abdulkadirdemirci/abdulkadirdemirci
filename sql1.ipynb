{
  "nbformat": 4,
  "nbformat_minor": 0,
  "metadata": {
    "colab": {
      "provenance": [],
      "collapsed_sections": [],
      "mount_file_id": "14PNhtg6raOOFoo2Zi62nSi96oQ8XNT8L",
      "authorship_tag": "ABX9TyMHfDr2oJB6Jh24U9VMPAXc",
      "include_colab_link": true
    },
    "kernelspec": {
      "name": "python3",
      "display_name": "Python 3"
    },
    "language_info": {
      "name": "python"
    }
  },
  "cells": [
    {
      "cell_type": "markdown",
      "metadata": {
        "id": "view-in-github",
        "colab_type": "text"
      },
      "source": [
        "<a href=\"https://colab.research.google.com/github/abdulkadirdemirci/abdulkadirdemirci/blob/main/sql1.ipynb\" target=\"_parent\"><img src=\"https://colab.research.google.com/assets/colab-badge.svg\" alt=\"Open In Colab\"/></a>"
      ]
    },
    {
      "cell_type": "code",
      "execution_count": null,
      "metadata": {
        "id": "enePwZp0Yt0Q"
      },
      "outputs": [],
      "source": [
        "%%!\n",
        "pip install --trusted-host pypi.org ipython-sql"
      ]
    },
    {
      "cell_type": "code",
      "source": [
        "%load_ext sql"
      ],
      "metadata": {
        "id": "uUJgeD91G4Av"
      },
      "execution_count": null,
      "outputs": []
    },
    {
      "cell_type": "code",
      "source": [
        "%sql sqlite:////content/drive/MyDrive/veriler/database/databases_application.db"
      ],
      "metadata": {
        "id": "pPcJHLg1G-3w"
      },
      "execution_count": null,
      "outputs": []
    },
    {
      "cell_type": "code",
      "source": [
        "%%sql\n",
        "SELECT * FROM Customers LIMIT 3;"
      ],
      "metadata": {
        "id": "aHR8ZtccHL2U"
      },
      "execution_count": null,
      "outputs": []
    },
    {
      "cell_type": "markdown",
      "source": [
        "# manuel tablo oluşturmak"
      ],
      "metadata": {
        "id": "9aGWUyhMHkuu"
      }
    },
    {
      "cell_type": "code",
      "source": [
        "%%sql\n",
        "CREATE TABLE yeni_tablo (isimler varchar(20),soyisim varchar(20))"
      ],
      "metadata": {
        "id": "Vrbu2ba8HVt8"
      },
      "execution_count": null,
      "outputs": []
    },
    {
      "cell_type": "code",
      "source": [
        "%%sql\n",
        "SELECT * FROM yeni_tablo"
      ],
      "metadata": {
        "id": "o37RZlHiJErr"
      },
      "execution_count": null,
      "outputs": []
    },
    {
      "cell_type": "code",
      "source": [
        "%%sql\n",
        "INSERT INTO yeni_tablo values(\"abdulkadir\",\"demirci\")"
      ],
      "metadata": {
        "id": "sCPBGZ10KIho"
      },
      "execution_count": null,
      "outputs": []
    },
    {
      "cell_type": "code",
      "source": [
        "%%sql\n",
        "INSERT INTO yeni_tablo values(\"abdulgafur\",\"demir\")"
      ],
      "metadata": {
        "id": "HvgPgHCtKWQa"
      },
      "execution_count": null,
      "outputs": []
    },
    {
      "cell_type": "code",
      "source": [
        "%%sql\n",
        "SELECT * FROM yeni_tablo"
      ],
      "metadata": {
        "id": "9v92esoIKhF9"
      },
      "execution_count": null,
      "outputs": []
    },
    {
      "cell_type": "code",
      "source": [
        "# tüm tabloların isimlerine ulaşmak\n",
        "%%sql\n",
        "SELECT name FROM sqlite_master WHERE type= \"table\""
      ],
      "metadata": {
        "id": "c3t_RzbyWZXv"
      },
      "execution_count": null,
      "outputs": []
    },
    {
      "cell_type": "code",
      "source": [
        "%%sql\n",
        "SELECT name FROM sqlite_master WHERE type=\"table\""
      ],
      "metadata": {
        "id": "20D2YyPUWkG9"
      },
      "execution_count": null,
      "outputs": []
    },
    {
      "cell_type": "code",
      "source": [
        "%%sql\n",
        "SELECT * FROM Customers WHERE 1=0;"
      ],
      "metadata": {
        "id": "uf3a9lMmoPae"
      },
      "execution_count": null,
      "outputs": []
    },
    {
      "cell_type": "code",
      "source": [
        "%%sql\n",
        "SELECT * FROM Customers WHERE 12=1; "
      ],
      "metadata": {
        "id": "iSEX7PD4ofbj"
      },
      "execution_count": null,
      "outputs": []
    },
    {
      "cell_type": "code",
      "source": [
        "%%sql\n",
        "SELECT * FROM Customers LIMIT 1;"
      ],
      "metadata": {
        "id": "pUabYpyyop1G"
      },
      "execution_count": null,
      "outputs": []
    },
    {
      "cell_type": "code",
      "source": [
        "%%sql\n",
        "SELECT City,Country,CustomerID FROM Customers LIMIT 3;"
      ],
      "metadata": {
        "id": "gBWOg6QGpBuq"
      },
      "execution_count": null,
      "outputs": []
    },
    {
      "cell_type": "markdown",
      "source": [
        "# BAZI MATEMATİKSEL İŞLEMLER"
      ],
      "metadata": {
        "id": "pvkoSkgdpxkn"
      }
    },
    {
      "cell_type": "code",
      "source": [
        "%%sql\n",
        "SELECT * FROM Products where 1=0;"
      ],
      "metadata": {
        "colab": {
          "base_uri": "https://localhost:8080/",
          "height": 74
        },
        "id": "5jrNy63mqIhd",
        "outputId": "5143e461-ec0f-4a2b-e32d-17922c04505b"
      },
      "execution_count": 69,
      "outputs": [
        {
          "output_type": "stream",
          "name": "stdout",
          "text": [
            " * sqlite:////content/drive/MyDrive/veriler/database/databases_application.db\n",
            "Done.\n"
          ]
        },
        {
          "output_type": "execute_result",
          "data": {
            "text/plain": [
              "[]"
            ],
            "text/html": [
              "<table>\n",
              "    <thead>\n",
              "        <tr>\n",
              "            <th>ProductID</th>\n",
              "            <th>ProductName</th>\n",
              "            <th>SupplierID</th>\n",
              "            <th>CategoryID</th>\n",
              "            <th>Unit</th>\n",
              "            <th>Price</th>\n",
              "        </tr>\n",
              "    </thead>\n",
              "    <tbody>\n",
              "    </tbody>\n",
              "</table>"
            ]
          },
          "metadata": {},
          "execution_count": 69
        }
      ]
    },
    {
      "cell_type": "code",
      "source": [
        "%%sql\n",
        "SELECT Price,Price*2,Price*3-100 FROM Products LIMIT 10;"
      ],
      "metadata": {
        "id": "zSs9g0_upVS9"
      },
      "execution_count": null,
      "outputs": []
    },
    {
      "cell_type": "markdown",
      "source": [
        "# alias ( takma ad deişkene isim vermek)"
      ],
      "metadata": {
        "id": "NKFkW9OIqXcO"
      }
    },
    {
      "cell_type": "code",
      "source": [
        "%%sql\n",
        "SELECT Price AS ilk_fiyat, Price*2 AS ikinci_fiyat, Price*3-100 AS son_fiyat FROM Products LIMIT 5;"
      ],
      "metadata": {
        "id": "6t1EDJVGqE_Q"
      },
      "execution_count": null,
      "outputs": []
    },
    {
      "cell_type": "markdown",
      "source": [
        "# count (SAYDIRMAK)"
      ],
      "metadata": {
        "id": "AjG6u_nUq6j5"
      }
    },
    {
      "cell_type": "code",
      "source": [
        "%%sql\n",
        "SELECT name FROM sqlite_master"
      ],
      "metadata": {
        "id": "maeb2O_1rHIk"
      },
      "execution_count": null,
      "outputs": []
    },
    {
      "cell_type": "code",
      "source": [
        "%%sql\n",
        "SELECT COUNT(*) FROM Orders "
      ],
      "metadata": {
        "id": "aTYDfvqeqyYk"
      },
      "execution_count": null,
      "outputs": []
    },
    {
      "cell_type": "code",
      "source": [
        "%%sql\n",
        "SELECT COUNT(*) AS adet FROM Employees;"
      ],
      "metadata": {
        "id": "m712lsj5rRwc"
      },
      "execution_count": null,
      "outputs": []
    },
    {
      "cell_type": "markdown",
      "source": [
        "# order by (order by desc) sıralamak"
      ],
      "metadata": {
        "id": "3cyQC7WGruLG"
      }
    },
    {
      "cell_type": "code",
      "source": [
        "%%sql\n",
        "SELECT * FROM Products ORDER BY Price LIMIT 10;"
      ],
      "metadata": {
        "colab": {
          "base_uri": "https://localhost:8080/",
          "height": 280
        },
        "id": "s5YByVd-rbhh",
        "outputId": "89ef4dc2-05bc-4f4b-cb21-463aa6275bbb"
      },
      "execution_count": 76,
      "outputs": [
        {
          "output_type": "stream",
          "name": "stdout",
          "text": [
            " * sqlite:////content/drive/MyDrive/veriler/database/databases_application.db\n",
            "Done.\n"
          ]
        },
        {
          "output_type": "execute_result",
          "data": {
            "text/plain": [
              "[(13, 'Konbu', 6, 8, '2 kg box', 6),\n",
              " (52, 'Filo Mix', 24, 5, '16 - 2 kg boxes', 7),\n",
              " (23, 'Tunnbröd', 9, 5, '12 - 250 g pkgs.', 9),\n",
              " (3, 'Aniseed Syrup', 1, 2, '12 - 550 ml bottles', 10),\n",
              " (21, \"Sir Rodney's Scones\", 8, 3, '24 pkgs. x 4 pieces', 10),\n",
              " (74, 'Longlife Tofu', 4, 7, '5 kg pkg.', 10),\n",
              " (46, 'Spegesild', 21, 8, '4 - 450 g glasses', 12),\n",
              " (58, 'Escargots de Bourgogne', 27, 8, '24 pieces', 13),\n",
              " (77, 'Original Frankfurter grüne Soße', 12, 2, '12 boxes', 13),\n",
              " (25, 'NuNuCa Nuß-Nougat-Creme', 11, 3, '20 - 450 g glasses', 14)]"
            ],
            "text/html": [
              "<table>\n",
              "    <thead>\n",
              "        <tr>\n",
              "            <th>ProductID</th>\n",
              "            <th>ProductName</th>\n",
              "            <th>SupplierID</th>\n",
              "            <th>CategoryID</th>\n",
              "            <th>Unit</th>\n",
              "            <th>Price</th>\n",
              "        </tr>\n",
              "    </thead>\n",
              "    <tbody>\n",
              "        <tr>\n",
              "            <td>13</td>\n",
              "            <td>Konbu</td>\n",
              "            <td>6</td>\n",
              "            <td>8</td>\n",
              "            <td>2 kg box</td>\n",
              "            <td>6</td>\n",
              "        </tr>\n",
              "        <tr>\n",
              "            <td>52</td>\n",
              "            <td>Filo Mix</td>\n",
              "            <td>24</td>\n",
              "            <td>5</td>\n",
              "            <td>16 - 2 kg boxes</td>\n",
              "            <td>7</td>\n",
              "        </tr>\n",
              "        <tr>\n",
              "            <td>23</td>\n",
              "            <td>Tunnbröd</td>\n",
              "            <td>9</td>\n",
              "            <td>5</td>\n",
              "            <td>12 - 250 g pkgs.</td>\n",
              "            <td>9</td>\n",
              "        </tr>\n",
              "        <tr>\n",
              "            <td>3</td>\n",
              "            <td>Aniseed Syrup</td>\n",
              "            <td>1</td>\n",
              "            <td>2</td>\n",
              "            <td>12 - 550 ml bottles</td>\n",
              "            <td>10</td>\n",
              "        </tr>\n",
              "        <tr>\n",
              "            <td>21</td>\n",
              "            <td>Sir Rodney&#x27;s Scones</td>\n",
              "            <td>8</td>\n",
              "            <td>3</td>\n",
              "            <td>24 pkgs. x 4 pieces</td>\n",
              "            <td>10</td>\n",
              "        </tr>\n",
              "        <tr>\n",
              "            <td>74</td>\n",
              "            <td>Longlife Tofu</td>\n",
              "            <td>4</td>\n",
              "            <td>7</td>\n",
              "            <td>5 kg pkg.</td>\n",
              "            <td>10</td>\n",
              "        </tr>\n",
              "        <tr>\n",
              "            <td>46</td>\n",
              "            <td>Spegesild</td>\n",
              "            <td>21</td>\n",
              "            <td>8</td>\n",
              "            <td>4 - 450 g glasses</td>\n",
              "            <td>12</td>\n",
              "        </tr>\n",
              "        <tr>\n",
              "            <td>58</td>\n",
              "            <td>Escargots de Bourgogne</td>\n",
              "            <td>27</td>\n",
              "            <td>8</td>\n",
              "            <td>24 pieces</td>\n",
              "            <td>13</td>\n",
              "        </tr>\n",
              "        <tr>\n",
              "            <td>77</td>\n",
              "            <td>Original Frankfurter grüne Soße</td>\n",
              "            <td>12</td>\n",
              "            <td>2</td>\n",
              "            <td>12 boxes</td>\n",
              "            <td>13</td>\n",
              "        </tr>\n",
              "        <tr>\n",
              "            <td>25</td>\n",
              "            <td>NuNuCa Nuß-Nougat-Creme</td>\n",
              "            <td>11</td>\n",
              "            <td>3</td>\n",
              "            <td>20 - 450 g glasses</td>\n",
              "            <td>14</td>\n",
              "        </tr>\n",
              "    </tbody>\n",
              "</table>"
            ]
          },
          "metadata": {},
          "execution_count": 76
        }
      ]
    },
    {
      "cell_type": "code",
      "source": [
        "%%sql\n",
        "SELECT * FROM Products WHERE 1=0;"
      ],
      "metadata": {
        "colab": {
          "base_uri": "https://localhost:8080/",
          "height": 74
        },
        "id": "RlWXwUICtLcK",
        "outputId": "5e04d439-42a2-43bb-b41d-8b1213743609"
      },
      "execution_count": 77,
      "outputs": [
        {
          "output_type": "stream",
          "name": "stdout",
          "text": [
            " * sqlite:////content/drive/MyDrive/veriler/database/databases_application.db\n",
            "Done.\n"
          ]
        },
        {
          "output_type": "execute_result",
          "data": {
            "text/plain": [
              "[]"
            ],
            "text/html": [
              "<table>\n",
              "    <thead>\n",
              "        <tr>\n",
              "            <th>ProductID</th>\n",
              "            <th>ProductName</th>\n",
              "            <th>SupplierID</th>\n",
              "            <th>CategoryID</th>\n",
              "            <th>Unit</th>\n",
              "            <th>Price</th>\n",
              "        </tr>\n",
              "    </thead>\n",
              "    <tbody>\n",
              "    </tbody>\n",
              "</table>"
            ]
          },
          "metadata": {},
          "execution_count": 77
        }
      ]
    },
    {
      "cell_type": "code",
      "source": [
        "%%sql\n",
        "SELECT * FROM Products LIMIT 3;"
      ],
      "metadata": {
        "colab": {
          "base_uri": "https://localhost:8080/",
          "height": 135
        },
        "id": "wHpWJ-FbtVTf",
        "outputId": "492d8c6e-3989-4d8e-e028-6be3124f708d"
      },
      "execution_count": 78,
      "outputs": [
        {
          "output_type": "stream",
          "name": "stdout",
          "text": [
            " * sqlite:////content/drive/MyDrive/veriler/database/databases_application.db\n",
            "Done.\n"
          ]
        },
        {
          "output_type": "execute_result",
          "data": {
            "text/plain": [
              "[(1, 'Chais', 1, 1, '10 boxes x 20 bags', 18),\n",
              " (2, 'Chang', 1, 1, '24 - 12 oz bottles', 19),\n",
              " (3, 'Aniseed Syrup', 1, 2, '12 - 550 ml bottles', 10)]"
            ],
            "text/html": [
              "<table>\n",
              "    <thead>\n",
              "        <tr>\n",
              "            <th>ProductID</th>\n",
              "            <th>ProductName</th>\n",
              "            <th>SupplierID</th>\n",
              "            <th>CategoryID</th>\n",
              "            <th>Unit</th>\n",
              "            <th>Price</th>\n",
              "        </tr>\n",
              "    </thead>\n",
              "    <tbody>\n",
              "        <tr>\n",
              "            <td>1</td>\n",
              "            <td>Chais</td>\n",
              "            <td>1</td>\n",
              "            <td>1</td>\n",
              "            <td>10 boxes x 20 bags</td>\n",
              "            <td>18</td>\n",
              "        </tr>\n",
              "        <tr>\n",
              "            <td>2</td>\n",
              "            <td>Chang</td>\n",
              "            <td>1</td>\n",
              "            <td>1</td>\n",
              "            <td>24 - 12 oz bottles</td>\n",
              "            <td>19</td>\n",
              "        </tr>\n",
              "        <tr>\n",
              "            <td>3</td>\n",
              "            <td>Aniseed Syrup</td>\n",
              "            <td>1</td>\n",
              "            <td>2</td>\n",
              "            <td>12 - 550 ml bottles</td>\n",
              "            <td>10</td>\n",
              "        </tr>\n",
              "    </tbody>\n",
              "</table>"
            ]
          },
          "metadata": {},
          "execution_count": 78
        }
      ]
    },
    {
      "cell_type": "code",
      "source": [
        "%%sql\n",
        "SELECT * FROM Products ORDER BY DESC Price LIMIT 4;"
      ],
      "metadata": {
        "colab": {
          "base_uri": "https://localhost:8080/"
        },
        "id": "4TUR78XEsB8a",
        "outputId": "b68def8b-f4f3-4953-89a3-0e872f23ada7"
      },
      "execution_count": 80,
      "outputs": [
        {
          "output_type": "stream",
          "name": "stdout",
          "text": [
            " * sqlite:////content/drive/MyDrive/veriler/database/databases_application.db\n",
            "(sqlite3.OperationalError) near \"Price\": syntax error\n",
            "[SQL: SELECT * FROM Products ORDER BY DESC Price LIMIT 4;]\n",
            "(Background on this error at: https://sqlalche.me/e/14/e3q8)\n"
          ]
        }
      ]
    },
    {
      "cell_type": "code",
      "source": [
        "%%sql\n",
        "SELECT * FROM Customers WHERE Country=\"UK\";"
      ],
      "metadata": {
        "colab": {
          "base_uri": "https://localhost:8080/",
          "height": 218
        },
        "id": "0HmXqaj_sPWe",
        "outputId": "f52577e4-f2fb-4937-d3b9-39162e433d87"
      },
      "execution_count": 81,
      "outputs": [
        {
          "output_type": "stream",
          "name": "stdout",
          "text": [
            " * sqlite:////content/drive/MyDrive/veriler/database/databases_application.db\n",
            "Done.\n"
          ]
        },
        {
          "output_type": "execute_result",
          "data": {
            "text/plain": [
              "[(4, 'Around the Horn', 'Thomas Hardy', '120 Hanover Sq.', 'London', 'WA1 1DP', 'UK'),\n",
              " (11, \"B's Beverages\", 'Victoria Ashworth', 'Fauntleroy Circus', 'London', 'EC2 5NT', 'UK'),\n",
              " (16, 'Consolidated Holdings', 'Elizabeth Brown', 'Berkeley Gardens 12 Brewery', 'London', 'WX1 6LT', 'UK'),\n",
              " (19, 'Eastern Connection', 'Ann Devon', '35 King George', 'London', 'WX3 6FW', 'UK'),\n",
              " (38, 'Island Trading', 'Helen Bennett', 'Garden House Crowther Way', 'Cowes', 'PO31 7PJ', 'UK'),\n",
              " (53, 'North/South', 'Simon Crowther', 'South House 300 Queensbridge', 'London', 'SW7 1RZ', 'UK'),\n",
              " (72, 'Seven Seas Imports', 'Hari Kumar', '90 Wadhurst Rd.', 'London', 'OX15 4NB', 'UK')]"
            ],
            "text/html": [
              "<table>\n",
              "    <thead>\n",
              "        <tr>\n",
              "            <th>CustomerID</th>\n",
              "            <th>CustomerName</th>\n",
              "            <th>ContactName</th>\n",
              "            <th>Address</th>\n",
              "            <th>City</th>\n",
              "            <th>PostalCode</th>\n",
              "            <th>Country</th>\n",
              "        </tr>\n",
              "    </thead>\n",
              "    <tbody>\n",
              "        <tr>\n",
              "            <td>4</td>\n",
              "            <td>Around the Horn</td>\n",
              "            <td>Thomas Hardy</td>\n",
              "            <td>120 Hanover Sq.</td>\n",
              "            <td>London</td>\n",
              "            <td>WA1 1DP</td>\n",
              "            <td>UK</td>\n",
              "        </tr>\n",
              "        <tr>\n",
              "            <td>11</td>\n",
              "            <td>B&#x27;s Beverages</td>\n",
              "            <td>Victoria Ashworth</td>\n",
              "            <td>Fauntleroy Circus</td>\n",
              "            <td>London</td>\n",
              "            <td>EC2 5NT</td>\n",
              "            <td>UK</td>\n",
              "        </tr>\n",
              "        <tr>\n",
              "            <td>16</td>\n",
              "            <td>Consolidated Holdings</td>\n",
              "            <td>Elizabeth Brown</td>\n",
              "            <td>Berkeley Gardens 12 Brewery</td>\n",
              "            <td>London</td>\n",
              "            <td>WX1 6LT</td>\n",
              "            <td>UK</td>\n",
              "        </tr>\n",
              "        <tr>\n",
              "            <td>19</td>\n",
              "            <td>Eastern Connection</td>\n",
              "            <td>Ann Devon</td>\n",
              "            <td>35 King George</td>\n",
              "            <td>London</td>\n",
              "            <td>WX3 6FW</td>\n",
              "            <td>UK</td>\n",
              "        </tr>\n",
              "        <tr>\n",
              "            <td>38</td>\n",
              "            <td>Island Trading</td>\n",
              "            <td>Helen Bennett</td>\n",
              "            <td>Garden House Crowther Way</td>\n",
              "            <td>Cowes</td>\n",
              "            <td>PO31 7PJ</td>\n",
              "            <td>UK</td>\n",
              "        </tr>\n",
              "        <tr>\n",
              "            <td>53</td>\n",
              "            <td>North/South</td>\n",
              "            <td>Simon Crowther</td>\n",
              "            <td>South House 300 Queensbridge</td>\n",
              "            <td>London</td>\n",
              "            <td>SW7 1RZ</td>\n",
              "            <td>UK</td>\n",
              "        </tr>\n",
              "        <tr>\n",
              "            <td>72</td>\n",
              "            <td>Seven Seas Imports</td>\n",
              "            <td>Hari Kumar</td>\n",
              "            <td>90 Wadhurst Rd.</td>\n",
              "            <td>London</td>\n",
              "            <td>OX15 4NB</td>\n",
              "            <td>UK</td>\n",
              "        </tr>\n",
              "    </tbody>\n",
              "</table>"
            ]
          },
          "metadata": {},
          "execution_count": 81
        }
      ]
    },
    {
      "cell_type": "code",
      "source": [
        "%%sql\n",
        "SELECT * FROM Customers WHERE NOT Country=\"UK\" ;"
      ],
      "metadata": {
        "id": "4SgZSdOpyakR"
      },
      "execution_count": null,
      "outputs": []
    },
    {
      "cell_type": "markdown",
      "source": [
        "# and or kullanımı"
      ],
      "metadata": {
        "id": "tuIq2NYfFa6L"
      }
    },
    {
      "cell_type": "code",
      "source": [
        "%%sql\n",
        "SELECT * FROM Customers WHERE Country=\"USA\" AND (City=\"Seatle\" OR City=\"Portland\");"
      ],
      "metadata": {
        "colab": {
          "base_uri": "https://localhost:8080/",
          "height": 115
        },
        "id": "ssoEjXJ_yoUi",
        "outputId": "2a4429bc-d80f-4aa8-b517-2cbb0947055c"
      },
      "execution_count": 87,
      "outputs": [
        {
          "output_type": "stream",
          "name": "stdout",
          "text": [
            " * sqlite:////content/drive/MyDrive/veriler/database/databases_application.db\n",
            "Done.\n"
          ]
        },
        {
          "output_type": "execute_result",
          "data": {
            "text/plain": [
              "[(48, 'Lonesome Pine Restaurant', 'Fran Wilson', '89 Chiaroscuro Rd.', 'Portland', '97219', 'USA'),\n",
              " (77, 'The Big Cheese', 'Liz Nixon', '89 Jefferson Way Suite 2', 'Portland', '97201', 'USA')]"
            ],
            "text/html": [
              "<table>\n",
              "    <thead>\n",
              "        <tr>\n",
              "            <th>CustomerID</th>\n",
              "            <th>CustomerName</th>\n",
              "            <th>ContactName</th>\n",
              "            <th>Address</th>\n",
              "            <th>City</th>\n",
              "            <th>PostalCode</th>\n",
              "            <th>Country</th>\n",
              "        </tr>\n",
              "    </thead>\n",
              "    <tbody>\n",
              "        <tr>\n",
              "            <td>48</td>\n",
              "            <td>Lonesome Pine Restaurant</td>\n",
              "            <td>Fran Wilson</td>\n",
              "            <td>89 Chiaroscuro Rd.</td>\n",
              "            <td>Portland</td>\n",
              "            <td>97219</td>\n",
              "            <td>USA</td>\n",
              "        </tr>\n",
              "        <tr>\n",
              "            <td>77</td>\n",
              "            <td>The Big Cheese</td>\n",
              "            <td>Liz Nixon</td>\n",
              "            <td>89 Jefferson Way Suite 2</td>\n",
              "            <td>Portland</td>\n",
              "            <td>97201</td>\n",
              "            <td>USA</td>\n",
              "        </tr>\n",
              "    </tbody>\n",
              "</table>"
            ]
          },
          "metadata": {},
          "execution_count": 87
        }
      ]
    },
    {
      "cell_type": "markdown",
      "source": [
        "# in ve not in kullanımı\n"
      ],
      "metadata": {
        "id": "5Ksmm-uNFebl"
      }
    },
    {
      "cell_type": "code",
      "source": [
        "%%sql\n",
        "SELECT COUNT(*) FROM Customers;"
      ],
      "metadata": {
        "colab": {
          "base_uri": "https://localhost:8080/",
          "height": 94
        },
        "id": "yudRf4mlGcSV",
        "outputId": "d9930d45-95c2-4a3c-a3a1-81e10174a7a5"
      },
      "execution_count": 90,
      "outputs": [
        {
          "output_type": "stream",
          "name": "stdout",
          "text": [
            " * sqlite:////content/drive/MyDrive/veriler/database/databases_application.db\n",
            "Done.\n"
          ]
        },
        {
          "output_type": "execute_result",
          "data": {
            "text/plain": [
              "[(91,)]"
            ],
            "text/html": [
              "<table>\n",
              "    <thead>\n",
              "        <tr>\n",
              "            <th>COUNT(*)</th>\n",
              "        </tr>\n",
              "    </thead>\n",
              "    <tbody>\n",
              "        <tr>\n",
              "            <td>91</td>\n",
              "        </tr>\n",
              "    </tbody>\n",
              "</table>"
            ]
          },
          "metadata": {},
          "execution_count": 90
        }
      ]
    },
    {
      "cell_type": "code",
      "source": [
        "%%sql\n",
        "SELECT * FROM Customers WHERE CustomerID in (1,5,88,77); "
      ],
      "metadata": {
        "colab": {
          "base_uri": "https://localhost:8080/",
          "height": 156
        },
        "id": "p7YZgSJ7Fd7e",
        "outputId": "cc4f285a-2ed9-4e2f-9d2a-4263eec20577"
      },
      "execution_count": 91,
      "outputs": [
        {
          "output_type": "stream",
          "name": "stdout",
          "text": [
            " * sqlite:////content/drive/MyDrive/veriler/database/databases_application.db\n",
            "Done.\n"
          ]
        },
        {
          "output_type": "execute_result",
          "data": {
            "text/plain": [
              "[(1, 'Alfreds Futterkiste', 'Maria Anders', 'Obere Str. 57', 'Berlin', '12209', 'Germany'),\n",
              " (5, 'Berglunds snabbköp', 'Christina Berglund', 'Berguvsvägen 8', 'Luleå', 'S-958 22', 'Sweden'),\n",
              " (77, 'The Big Cheese', 'Liz Nixon', '89 Jefferson Way Suite 2', 'Portland', '97201', 'USA'),\n",
              " (88, 'Wellington Importadora', 'Paula Parente', 'Rua do Mercado, 12', 'Resende', '08737-363', 'Brazil')]"
            ],
            "text/html": [
              "<table>\n",
              "    <thead>\n",
              "        <tr>\n",
              "            <th>CustomerID</th>\n",
              "            <th>CustomerName</th>\n",
              "            <th>ContactName</th>\n",
              "            <th>Address</th>\n",
              "            <th>City</th>\n",
              "            <th>PostalCode</th>\n",
              "            <th>Country</th>\n",
              "        </tr>\n",
              "    </thead>\n",
              "    <tbody>\n",
              "        <tr>\n",
              "            <td>1</td>\n",
              "            <td>Alfreds Futterkiste</td>\n",
              "            <td>Maria Anders</td>\n",
              "            <td>Obere Str. 57</td>\n",
              "            <td>Berlin</td>\n",
              "            <td>12209</td>\n",
              "            <td>Germany</td>\n",
              "        </tr>\n",
              "        <tr>\n",
              "            <td>5</td>\n",
              "            <td>Berglunds snabbköp</td>\n",
              "            <td>Christina Berglund</td>\n",
              "            <td>Berguvsvägen 8</td>\n",
              "            <td>Luleå</td>\n",
              "            <td>S-958 22</td>\n",
              "            <td>Sweden</td>\n",
              "        </tr>\n",
              "        <tr>\n",
              "            <td>77</td>\n",
              "            <td>The Big Cheese</td>\n",
              "            <td>Liz Nixon</td>\n",
              "            <td>89 Jefferson Way Suite 2</td>\n",
              "            <td>Portland</td>\n",
              "            <td>97201</td>\n",
              "            <td>USA</td>\n",
              "        </tr>\n",
              "        <tr>\n",
              "            <td>88</td>\n",
              "            <td>Wellington Importadora</td>\n",
              "            <td>Paula Parente</td>\n",
              "            <td>Rua do Mercado, 12</td>\n",
              "            <td>Resende</td>\n",
              "            <td>08737-363</td>\n",
              "            <td>Brazil</td>\n",
              "        </tr>\n",
              "    </tbody>\n",
              "</table>"
            ]
          },
          "metadata": {},
          "execution_count": 91
        }
      ]
    },
    {
      "cell_type": "code",
      "source": [
        "%%sql\n",
        "SELECT * FROM Customers WHERE Country = \"USA\" AND City IN (\"Eugene\",\"Portland\",\"Elgin\");"
      ],
      "metadata": {
        "colab": {
          "base_uri": "https://localhost:8080/",
          "height": 156
        },
        "id": "e_eK1jm7GaNi",
        "outputId": "2ddae8f0-f06b-4ae9-d01c-09b92b4a9642"
      },
      "execution_count": 92,
      "outputs": [
        {
          "output_type": "stream",
          "name": "stdout",
          "text": [
            " * sqlite:////content/drive/MyDrive/veriler/database/databases_application.db\n",
            "Done.\n"
          ]
        },
        {
          "output_type": "execute_result",
          "data": {
            "text/plain": [
              "[(32, 'Great Lakes Food Market', 'Howard Snyder', '2732 Baker Blvd.', 'Eugene', '97403', 'USA'),\n",
              " (36, 'Hungry Coyote Import Store', 'Yoshi Latimer', 'City Center Plaza 516 Main St.', 'Elgin', '97827', 'USA'),\n",
              " (48, 'Lonesome Pine Restaurant', 'Fran Wilson', '89 Chiaroscuro Rd.', 'Portland', '97219', 'USA'),\n",
              " (77, 'The Big Cheese', 'Liz Nixon', '89 Jefferson Way Suite 2', 'Portland', '97201', 'USA')]"
            ],
            "text/html": [
              "<table>\n",
              "    <thead>\n",
              "        <tr>\n",
              "            <th>CustomerID</th>\n",
              "            <th>CustomerName</th>\n",
              "            <th>ContactName</th>\n",
              "            <th>Address</th>\n",
              "            <th>City</th>\n",
              "            <th>PostalCode</th>\n",
              "            <th>Country</th>\n",
              "        </tr>\n",
              "    </thead>\n",
              "    <tbody>\n",
              "        <tr>\n",
              "            <td>32</td>\n",
              "            <td>Great Lakes Food Market</td>\n",
              "            <td>Howard Snyder</td>\n",
              "            <td>2732 Baker Blvd.</td>\n",
              "            <td>Eugene</td>\n",
              "            <td>97403</td>\n",
              "            <td>USA</td>\n",
              "        </tr>\n",
              "        <tr>\n",
              "            <td>36</td>\n",
              "            <td>Hungry Coyote Import Store</td>\n",
              "            <td>Yoshi Latimer</td>\n",
              "            <td>City Center Plaza 516 Main St.</td>\n",
              "            <td>Elgin</td>\n",
              "            <td>97827</td>\n",
              "            <td>USA</td>\n",
              "        </tr>\n",
              "        <tr>\n",
              "            <td>48</td>\n",
              "            <td>Lonesome Pine Restaurant</td>\n",
              "            <td>Fran Wilson</td>\n",
              "            <td>89 Chiaroscuro Rd.</td>\n",
              "            <td>Portland</td>\n",
              "            <td>97219</td>\n",
              "            <td>USA</td>\n",
              "        </tr>\n",
              "        <tr>\n",
              "            <td>77</td>\n",
              "            <td>The Big Cheese</td>\n",
              "            <td>Liz Nixon</td>\n",
              "            <td>89 Jefferson Way Suite 2</td>\n",
              "            <td>Portland</td>\n",
              "            <td>97201</td>\n",
              "            <td>USA</td>\n",
              "        </tr>\n",
              "    </tbody>\n",
              "</table>"
            ]
          },
          "metadata": {},
          "execution_count": 92
        }
      ]
    },
    {
      "cell_type": "code",
      "source": [
        "%%sql\n",
        "SELECT * FROM Customers WHERE Country = \"USA\" AND City not IN (\"Eugene\",\"Portland\",\"Elgin\");"
      ],
      "metadata": {
        "colab": {
          "base_uri": "https://localhost:8080/",
          "height": 259
        },
        "id": "Zqj6Rvt-G9Wb",
        "outputId": "cc3a6bcd-343c-4ff3-e2eb-286de2bc34b5"
      },
      "execution_count": 93,
      "outputs": [
        {
          "output_type": "stream",
          "name": "stdout",
          "text": [
            " * sqlite:////content/drive/MyDrive/veriler/database/databases_application.db\n",
            "Done.\n"
          ]
        },
        {
          "output_type": "execute_result",
          "data": {
            "text/plain": [
              "[(43, 'Lazy K Kountry Store', 'John Steel', '12 Orchestra Terrace', 'Walla Walla', '99362', 'USA'),\n",
              " (45, \"Let's Stop N Shop\", 'Jaime Yorres', '87 Polk St. Suite 5', 'San Francisco', '94117', 'USA'),\n",
              " (55, 'Old World Delicatessen', 'Rene Phillips', '2743 Bering St.', 'Anchorage', '99508', 'USA'),\n",
              " (65, 'Rattlesnake Canyon Grocery', 'Paula Wilson', '2817 Milton Dr.', 'Albuquerque', '87110', 'USA'),\n",
              " (71, 'Save-a-lot Markets', 'Jose Pavarotti', '187 Suffolk Ln.', 'Boise', '83720', 'USA'),\n",
              " (75, 'Split Rail Beer & Ale', 'Art Braunschweiger', 'P.O. Box 555', 'Lander', '82520', 'USA'),\n",
              " (78, 'The Cracker Box', 'Liu Wong', '55 Grizzly Peak Rd.', 'Butte', '59801', 'USA'),\n",
              " (82, \"Trail's Head Gourmet Provisioners\", 'Helvetius Nagy', '722 DaVinci Blvd.', 'Kirkland', '98034', 'USA'),\n",
              " (89, 'White Clover Markets', 'Karl Jablonski', '305 - 14th Ave. S. Suite 3B', 'Seattle', '98128', 'USA')]"
            ],
            "text/html": [
              "<table>\n",
              "    <thead>\n",
              "        <tr>\n",
              "            <th>CustomerID</th>\n",
              "            <th>CustomerName</th>\n",
              "            <th>ContactName</th>\n",
              "            <th>Address</th>\n",
              "            <th>City</th>\n",
              "            <th>PostalCode</th>\n",
              "            <th>Country</th>\n",
              "        </tr>\n",
              "    </thead>\n",
              "    <tbody>\n",
              "        <tr>\n",
              "            <td>43</td>\n",
              "            <td>Lazy K Kountry Store</td>\n",
              "            <td>John Steel</td>\n",
              "            <td>12 Orchestra Terrace</td>\n",
              "            <td>Walla Walla</td>\n",
              "            <td>99362</td>\n",
              "            <td>USA</td>\n",
              "        </tr>\n",
              "        <tr>\n",
              "            <td>45</td>\n",
              "            <td>Let&#x27;s Stop N Shop</td>\n",
              "            <td>Jaime Yorres</td>\n",
              "            <td>87 Polk St. Suite 5</td>\n",
              "            <td>San Francisco</td>\n",
              "            <td>94117</td>\n",
              "            <td>USA</td>\n",
              "        </tr>\n",
              "        <tr>\n",
              "            <td>55</td>\n",
              "            <td>Old World Delicatessen</td>\n",
              "            <td>Rene Phillips</td>\n",
              "            <td>2743 Bering St.</td>\n",
              "            <td>Anchorage</td>\n",
              "            <td>99508</td>\n",
              "            <td>USA</td>\n",
              "        </tr>\n",
              "        <tr>\n",
              "            <td>65</td>\n",
              "            <td>Rattlesnake Canyon Grocery</td>\n",
              "            <td>Paula Wilson</td>\n",
              "            <td>2817 Milton Dr.</td>\n",
              "            <td>Albuquerque</td>\n",
              "            <td>87110</td>\n",
              "            <td>USA</td>\n",
              "        </tr>\n",
              "        <tr>\n",
              "            <td>71</td>\n",
              "            <td>Save-a-lot Markets</td>\n",
              "            <td>Jose Pavarotti</td>\n",
              "            <td>187 Suffolk Ln.</td>\n",
              "            <td>Boise</td>\n",
              "            <td>83720</td>\n",
              "            <td>USA</td>\n",
              "        </tr>\n",
              "        <tr>\n",
              "            <td>75</td>\n",
              "            <td>Split Rail Beer &amp; Ale</td>\n",
              "            <td>Art Braunschweiger</td>\n",
              "            <td>P.O. Box 555</td>\n",
              "            <td>Lander</td>\n",
              "            <td>82520</td>\n",
              "            <td>USA</td>\n",
              "        </tr>\n",
              "        <tr>\n",
              "            <td>78</td>\n",
              "            <td>The Cracker Box</td>\n",
              "            <td>Liu Wong</td>\n",
              "            <td>55 Grizzly Peak Rd.</td>\n",
              "            <td>Butte</td>\n",
              "            <td>59801</td>\n",
              "            <td>USA</td>\n",
              "        </tr>\n",
              "        <tr>\n",
              "            <td>82</td>\n",
              "            <td>Trail&#x27;s Head Gourmet Provisioners</td>\n",
              "            <td>Helvetius Nagy</td>\n",
              "            <td>722 DaVinci Blvd.</td>\n",
              "            <td>Kirkland</td>\n",
              "            <td>98034</td>\n",
              "            <td>USA</td>\n",
              "        </tr>\n",
              "        <tr>\n",
              "            <td>89</td>\n",
              "            <td>White Clover Markets</td>\n",
              "            <td>Karl Jablonski</td>\n",
              "            <td>305 - 14th Ave. S. Suite 3B</td>\n",
              "            <td>Seattle</td>\n",
              "            <td>98128</td>\n",
              "            <td>USA</td>\n",
              "        </tr>\n",
              "    </tbody>\n",
              "</table>"
            ]
          },
          "metadata": {},
          "execution_count": 93
        }
      ]
    },
    {
      "cell_type": "markdown",
      "source": [
        "# like kullanımı\n"
      ],
      "metadata": {
        "id": "3Wv914H2HSEG"
      }
    },
    {
      "cell_type": "markdown",
      "source": [
        "\n",
        "\n",
        "1.   **\"a%\"** :     *a ile başlayan*\n",
        "2.   **\"%a\"** :     *a ile biten*\n",
        "3.   **\"%or%\"**:    *içinde or geçen*\n",
        "4.   **\"_r%\"** :    *2.sırasında r olan*\n",
        "5.   **\"a%o\"** :    *a ile başlayıp o ile biten*\n",
        "6.   **\"a%%\"** :    *a ile başlayan en az 3 harfli*\n",
        "\n"
      ],
      "metadata": {
        "id": "PTaKjYh0IXWV"
      }
    },
    {
      "cell_type": "code",
      "source": [
        "%%sql\n",
        "SELECT * FROM Customers WHERE CustomerName LIKE \"a%\" ;"
      ],
      "metadata": {
        "colab": {
          "base_uri": "https://localhost:8080/",
          "height": 156
        },
        "id": "9YqiMJszHFMZ",
        "outputId": "4728664d-467d-4287-9abc-60782d3fead5"
      },
      "execution_count": 96,
      "outputs": [
        {
          "output_type": "stream",
          "name": "stdout",
          "text": [
            " * sqlite:////content/drive/MyDrive/veriler/database/databases_application.db\n",
            "Done.\n"
          ]
        },
        {
          "output_type": "execute_result",
          "data": {
            "text/plain": [
              "[(1, 'Alfreds Futterkiste', 'Maria Anders', 'Obere Str. 57', 'Berlin', '12209', 'Germany'),\n",
              " (2, 'Ana Trujillo Emparedados y helados', 'Ana Trujillo', 'Avda. de la Constitución 2222', 'México D.F.', '5021', 'Mexico'),\n",
              " (3, 'Antonio Moreno Taquería', 'Antonio Moreno', 'Mataderos 2312', 'México D.F.', '5023', 'Mexico'),\n",
              " (4, 'Around the Horn', 'Thomas Hardy', '120 Hanover Sq.', 'London', 'WA1 1DP', 'UK')]"
            ],
            "text/html": [
              "<table>\n",
              "    <thead>\n",
              "        <tr>\n",
              "            <th>CustomerID</th>\n",
              "            <th>CustomerName</th>\n",
              "            <th>ContactName</th>\n",
              "            <th>Address</th>\n",
              "            <th>City</th>\n",
              "            <th>PostalCode</th>\n",
              "            <th>Country</th>\n",
              "        </tr>\n",
              "    </thead>\n",
              "    <tbody>\n",
              "        <tr>\n",
              "            <td>1</td>\n",
              "            <td>Alfreds Futterkiste</td>\n",
              "            <td>Maria Anders</td>\n",
              "            <td>Obere Str. 57</td>\n",
              "            <td>Berlin</td>\n",
              "            <td>12209</td>\n",
              "            <td>Germany</td>\n",
              "        </tr>\n",
              "        <tr>\n",
              "            <td>2</td>\n",
              "            <td>Ana Trujillo Emparedados y helados</td>\n",
              "            <td>Ana Trujillo</td>\n",
              "            <td>Avda. de la Constitución 2222</td>\n",
              "            <td>México D.F.</td>\n",
              "            <td>5021</td>\n",
              "            <td>Mexico</td>\n",
              "        </tr>\n",
              "        <tr>\n",
              "            <td>3</td>\n",
              "            <td>Antonio Moreno Taquería</td>\n",
              "            <td>Antonio Moreno</td>\n",
              "            <td>Mataderos 2312</td>\n",
              "            <td>México D.F.</td>\n",
              "            <td>5023</td>\n",
              "            <td>Mexico</td>\n",
              "        </tr>\n",
              "        <tr>\n",
              "            <td>4</td>\n",
              "            <td>Around the Horn</td>\n",
              "            <td>Thomas Hardy</td>\n",
              "            <td>120 Hanover Sq.</td>\n",
              "            <td>London</td>\n",
              "            <td>WA1 1DP</td>\n",
              "            <td>UK</td>\n",
              "        </tr>\n",
              "    </tbody>\n",
              "</table>"
            ]
          },
          "metadata": {},
          "execution_count": 96
        }
      ]
    },
    {
      "cell_type": "code",
      "source": [
        "%%sql\n",
        "SELECT * FROM Customers WHERE CustomerName LIKE \"%lo\" ;"
      ],
      "metadata": {
        "colab": {
          "base_uri": "https://localhost:8080/",
          "height": 94
        },
        "id": "aC9-MLxPJspa",
        "outputId": "eb96fa64-bc81-4073-fbf3-bc4e33489e79"
      },
      "execution_count": 100,
      "outputs": [
        {
          "output_type": "stream",
          "name": "stdout",
          "text": [
            " * sqlite:////content/drive/MyDrive/veriler/database/databases_application.db\n",
            "Done.\n"
          ]
        },
        {
          "output_type": "execute_result",
          "data": {
            "text/plain": [
              "[(69, 'Romero y tomillo', 'Alejandra Camino', 'Gran Vía, 1', 'Madrid', '28001', 'Spain')]"
            ],
            "text/html": [
              "<table>\n",
              "    <thead>\n",
              "        <tr>\n",
              "            <th>CustomerID</th>\n",
              "            <th>CustomerName</th>\n",
              "            <th>ContactName</th>\n",
              "            <th>Address</th>\n",
              "            <th>City</th>\n",
              "            <th>PostalCode</th>\n",
              "            <th>Country</th>\n",
              "        </tr>\n",
              "    </thead>\n",
              "    <tbody>\n",
              "        <tr>\n",
              "            <td>69</td>\n",
              "            <td>Romero y tomillo</td>\n",
              "            <td>Alejandra Camino</td>\n",
              "            <td>Gran Vía, 1</td>\n",
              "            <td>Madrid</td>\n",
              "            <td>28001</td>\n",
              "            <td>Spain</td>\n",
              "        </tr>\n",
              "    </tbody>\n",
              "</table>"
            ]
          },
          "metadata": {},
          "execution_count": 100
        }
      ]
    },
    {
      "cell_type": "code",
      "source": [
        "%%sql\n",
        "SELECT * FROM Customers WHERE CustomerName LIKE \"%OR%\" AND Country LIKE \"%O\";"
      ],
      "metadata": {
        "colab": {
          "base_uri": "https://localhost:8080/",
          "height": 115
        },
        "id": "CP-GQo21K8eC",
        "outputId": "f2300fbe-eb8c-4639-e195-4ad9610ac664"
      },
      "execution_count": 101,
      "outputs": [
        {
          "output_type": "stream",
          "name": "stdout",
          "text": [
            " * sqlite:////content/drive/MyDrive/veriler/database/databases_application.db\n",
            "Done.\n"
          ]
        },
        {
          "output_type": "execute_result",
          "data": {
            "text/plain": [
              "[(3, 'Antonio Moreno Taquería', 'Antonio Moreno', 'Mataderos 2312', 'México D.F.', '5023', 'Mexico'),\n",
              " (80, 'Tortuga Restaurante', 'Miguel Angel Paolino', 'Avda. Azteca 123', 'México D.F.', '5033', 'Mexico')]"
            ],
            "text/html": [
              "<table>\n",
              "    <thead>\n",
              "        <tr>\n",
              "            <th>CustomerID</th>\n",
              "            <th>CustomerName</th>\n",
              "            <th>ContactName</th>\n",
              "            <th>Address</th>\n",
              "            <th>City</th>\n",
              "            <th>PostalCode</th>\n",
              "            <th>Country</th>\n",
              "        </tr>\n",
              "    </thead>\n",
              "    <tbody>\n",
              "        <tr>\n",
              "            <td>3</td>\n",
              "            <td>Antonio Moreno Taquería</td>\n",
              "            <td>Antonio Moreno</td>\n",
              "            <td>Mataderos 2312</td>\n",
              "            <td>México D.F.</td>\n",
              "            <td>5023</td>\n",
              "            <td>Mexico</td>\n",
              "        </tr>\n",
              "        <tr>\n",
              "            <td>80</td>\n",
              "            <td>Tortuga Restaurante</td>\n",
              "            <td>Miguel Angel Paolino</td>\n",
              "            <td>Avda. Azteca 123</td>\n",
              "            <td>México D.F.</td>\n",
              "            <td>5033</td>\n",
              "            <td>Mexico</td>\n",
              "        </tr>\n",
              "    </tbody>\n",
              "</table>"
            ]
          },
          "metadata": {},
          "execution_count": 101
        }
      ]
    },
    {
      "cell_type": "markdown",
      "source": [
        "# BETWEEN VE NOT BETWEEN KULLANIMI"
      ],
      "metadata": {
        "id": "2XE9qwprL9ly"
      }
    },
    {
      "cell_type": "code",
      "source": [
        "%%sql\n",
        "SELECT * FROM  Products WHERE Price BETWEEN 10 AND 20 LIMIT 10;"
      ],
      "metadata": {
        "colab": {
          "base_uri": "https://localhost:8080/",
          "height": 280
        },
        "id": "Hefb_1fWLLzA",
        "outputId": "5cc5b3be-e6f7-4de8-8bbf-b35efb77c84d"
      },
      "execution_count": 103,
      "outputs": [
        {
          "output_type": "stream",
          "name": "stdout",
          "text": [
            " * sqlite:////content/drive/MyDrive/veriler/database/databases_application.db\n",
            "Done.\n"
          ]
        },
        {
          "output_type": "execute_result",
          "data": {
            "text/plain": [
              "[(1, 'Chais', 1, 1, '10 boxes x 20 bags', 18),\n",
              " (2, 'Chang', 1, 1, '24 - 12 oz bottles', 19),\n",
              " (3, 'Aniseed Syrup', 1, 2, '12 - 550 ml bottles', 10),\n",
              " (16, 'Pavlova', 7, 3, '32 - 500 g boxes', 17),\n",
              " (21, \"Sir Rodney's Scones\", 8, 3, '24 pkgs. x 4 pieces', 10),\n",
              " (25, 'NuNuCa Nuß-Nougat-Creme', 11, 3, '20 - 450 g glasses', 14),\n",
              " (34, 'Sasquatch Ale', 16, 1, '24 - 12 oz bottles', 14),\n",
              " (35, 'Steeleye Stout', 16, 1, '24 - 12 oz bottles', 18),\n",
              " (36, 'Inlagd Sill', 17, 8, '24 - 250 g jars', 19),\n",
              " (39, 'Chartreuse verte', 18, 1, '750 cc per bottle', 18)]"
            ],
            "text/html": [
              "<table>\n",
              "    <thead>\n",
              "        <tr>\n",
              "            <th>ProductID</th>\n",
              "            <th>ProductName</th>\n",
              "            <th>SupplierID</th>\n",
              "            <th>CategoryID</th>\n",
              "            <th>Unit</th>\n",
              "            <th>Price</th>\n",
              "        </tr>\n",
              "    </thead>\n",
              "    <tbody>\n",
              "        <tr>\n",
              "            <td>1</td>\n",
              "            <td>Chais</td>\n",
              "            <td>1</td>\n",
              "            <td>1</td>\n",
              "            <td>10 boxes x 20 bags</td>\n",
              "            <td>18</td>\n",
              "        </tr>\n",
              "        <tr>\n",
              "            <td>2</td>\n",
              "            <td>Chang</td>\n",
              "            <td>1</td>\n",
              "            <td>1</td>\n",
              "            <td>24 - 12 oz bottles</td>\n",
              "            <td>19</td>\n",
              "        </tr>\n",
              "        <tr>\n",
              "            <td>3</td>\n",
              "            <td>Aniseed Syrup</td>\n",
              "            <td>1</td>\n",
              "            <td>2</td>\n",
              "            <td>12 - 550 ml bottles</td>\n",
              "            <td>10</td>\n",
              "        </tr>\n",
              "        <tr>\n",
              "            <td>16</td>\n",
              "            <td>Pavlova</td>\n",
              "            <td>7</td>\n",
              "            <td>3</td>\n",
              "            <td>32 - 500 g boxes</td>\n",
              "            <td>17</td>\n",
              "        </tr>\n",
              "        <tr>\n",
              "            <td>21</td>\n",
              "            <td>Sir Rodney&#x27;s Scones</td>\n",
              "            <td>8</td>\n",
              "            <td>3</td>\n",
              "            <td>24 pkgs. x 4 pieces</td>\n",
              "            <td>10</td>\n",
              "        </tr>\n",
              "        <tr>\n",
              "            <td>25</td>\n",
              "            <td>NuNuCa Nuß-Nougat-Creme</td>\n",
              "            <td>11</td>\n",
              "            <td>3</td>\n",
              "            <td>20 - 450 g glasses</td>\n",
              "            <td>14</td>\n",
              "        </tr>\n",
              "        <tr>\n",
              "            <td>34</td>\n",
              "            <td>Sasquatch Ale</td>\n",
              "            <td>16</td>\n",
              "            <td>1</td>\n",
              "            <td>24 - 12 oz bottles</td>\n",
              "            <td>14</td>\n",
              "        </tr>\n",
              "        <tr>\n",
              "            <td>35</td>\n",
              "            <td>Steeleye Stout</td>\n",
              "            <td>16</td>\n",
              "            <td>1</td>\n",
              "            <td>24 - 12 oz bottles</td>\n",
              "            <td>18</td>\n",
              "        </tr>\n",
              "        <tr>\n",
              "            <td>36</td>\n",
              "            <td>Inlagd Sill</td>\n",
              "            <td>17</td>\n",
              "            <td>8</td>\n",
              "            <td>24 - 250 g jars</td>\n",
              "            <td>19</td>\n",
              "        </tr>\n",
              "        <tr>\n",
              "            <td>39</td>\n",
              "            <td>Chartreuse verte</td>\n",
              "            <td>18</td>\n",
              "            <td>1</td>\n",
              "            <td>750 cc per bottle</td>\n",
              "            <td>18</td>\n",
              "        </tr>\n",
              "    </tbody>\n",
              "</table>"
            ]
          },
          "metadata": {},
          "execution_count": 103
        }
      ]
    },
    {
      "cell_type": "code",
      "source": [
        "%%sql\n",
        "SELECT * FROM Products WHERE Price NOT BETWEEN 10 AND 20 LIMIT 10;"
      ],
      "metadata": {
        "colab": {
          "base_uri": "https://localhost:8080/",
          "height": 280
        },
        "id": "Rf5jO5aQMMvS",
        "outputId": "abecf0f4-17cf-41e9-8be4-eb83a5de91dc"
      },
      "execution_count": 104,
      "outputs": [
        {
          "output_type": "stream",
          "name": "stdout",
          "text": [
            " * sqlite:////content/drive/MyDrive/veriler/database/databases_application.db\n",
            "Done.\n"
          ]
        },
        {
          "output_type": "execute_result",
          "data": {
            "text/plain": [
              "[(4, \"Chef Anton's Cajun Seasoning\", 2, 2, '48 - 6 oz jars', 22),\n",
              " (5, \"Chef Anton's Gumbo Mix\", 2, 2, '36 boxes', 21),\n",
              " (6, \"Grandma's Boysenberry Spread\", 3, 2, '12 - 8 oz jars', 25),\n",
              " (7, \"Uncle Bob's Organic Dried Pears\", 3, 7, '12 - 1 lb pkgs.', 30),\n",
              " (8, 'Northwoods Cranberry Sauce', 3, 2, '12 - 12 oz jars', 40),\n",
              " (9, 'Mishi Kobe Niku', 4, 6, '18 - 500 g pkgs.', 97),\n",
              " (10, 'Ikura', 4, 8, '12 - 200 ml jars', 31),\n",
              " (11, 'Queso Cabrales', 5, 4, '1 kg pkg.', 21),\n",
              " (12, 'Queso Manchego La Pastora', 5, 4, '10 - 500 g pkgs.', 38),\n",
              " (13, 'Konbu', 6, 8, '2 kg box', 6)]"
            ],
            "text/html": [
              "<table>\n",
              "    <thead>\n",
              "        <tr>\n",
              "            <th>ProductID</th>\n",
              "            <th>ProductName</th>\n",
              "            <th>SupplierID</th>\n",
              "            <th>CategoryID</th>\n",
              "            <th>Unit</th>\n",
              "            <th>Price</th>\n",
              "        </tr>\n",
              "    </thead>\n",
              "    <tbody>\n",
              "        <tr>\n",
              "            <td>4</td>\n",
              "            <td>Chef Anton&#x27;s Cajun Seasoning</td>\n",
              "            <td>2</td>\n",
              "            <td>2</td>\n",
              "            <td>48 - 6 oz jars</td>\n",
              "            <td>22</td>\n",
              "        </tr>\n",
              "        <tr>\n",
              "            <td>5</td>\n",
              "            <td>Chef Anton&#x27;s Gumbo Mix</td>\n",
              "            <td>2</td>\n",
              "            <td>2</td>\n",
              "            <td>36 boxes</td>\n",
              "            <td>21</td>\n",
              "        </tr>\n",
              "        <tr>\n",
              "            <td>6</td>\n",
              "            <td>Grandma&#x27;s Boysenberry Spread</td>\n",
              "            <td>3</td>\n",
              "            <td>2</td>\n",
              "            <td>12 - 8 oz jars</td>\n",
              "            <td>25</td>\n",
              "        </tr>\n",
              "        <tr>\n",
              "            <td>7</td>\n",
              "            <td>Uncle Bob&#x27;s Organic Dried Pears</td>\n",
              "            <td>3</td>\n",
              "            <td>7</td>\n",
              "            <td>12 - 1 lb pkgs.</td>\n",
              "            <td>30</td>\n",
              "        </tr>\n",
              "        <tr>\n",
              "            <td>8</td>\n",
              "            <td>Northwoods Cranberry Sauce</td>\n",
              "            <td>3</td>\n",
              "            <td>2</td>\n",
              "            <td>12 - 12 oz jars</td>\n",
              "            <td>40</td>\n",
              "        </tr>\n",
              "        <tr>\n",
              "            <td>9</td>\n",
              "            <td>Mishi Kobe Niku</td>\n",
              "            <td>4</td>\n",
              "            <td>6</td>\n",
              "            <td>18 - 500 g pkgs.</td>\n",
              "            <td>97</td>\n",
              "        </tr>\n",
              "        <tr>\n",
              "            <td>10</td>\n",
              "            <td>Ikura</td>\n",
              "            <td>4</td>\n",
              "            <td>8</td>\n",
              "            <td>12 - 200 ml jars</td>\n",
              "            <td>31</td>\n",
              "        </tr>\n",
              "        <tr>\n",
              "            <td>11</td>\n",
              "            <td>Queso Cabrales</td>\n",
              "            <td>5</td>\n",
              "            <td>4</td>\n",
              "            <td>1 kg pkg.</td>\n",
              "            <td>21</td>\n",
              "        </tr>\n",
              "        <tr>\n",
              "            <td>12</td>\n",
              "            <td>Queso Manchego La Pastora</td>\n",
              "            <td>5</td>\n",
              "            <td>4</td>\n",
              "            <td>10 - 500 g pkgs.</td>\n",
              "            <td>38</td>\n",
              "        </tr>\n",
              "        <tr>\n",
              "            <td>13</td>\n",
              "            <td>Konbu</td>\n",
              "            <td>6</td>\n",
              "            <td>8</td>\n",
              "            <td>2 kg box</td>\n",
              "            <td>6</td>\n",
              "        </tr>\n",
              "    </tbody>\n",
              "</table>"
            ]
          },
          "metadata": {},
          "execution_count": 104
        }
      ]
    },
    {
      "cell_type": "code",
      "source": [
        "%%sql\n",
        "SELECT * FROM Products wHERE ( Price BETWEEN 10 AND 20 ) AND ( CategoryID NOT IN ( 2, 4, 1 ) );"
      ],
      "metadata": {
        "colab": {
          "base_uri": "https://localhost:8080/",
          "height": 321
        },
        "id": "5A-zoiPaMdh4",
        "outputId": "59183b70-30f2-47e4-d0ab-d87a0d872f62"
      },
      "execution_count": 107,
      "outputs": [
        {
          "output_type": "stream",
          "name": "stdout",
          "text": [
            " * sqlite:////content/drive/MyDrive/veriler/database/databases_application.db\n",
            "Done.\n"
          ]
        },
        {
          "output_type": "execute_result",
          "data": {
            "text/plain": [
              "[(16, 'Pavlova', 7, 3, '32 - 500 g boxes', 17),\n",
              " (21, \"Sir Rodney's Scones\", 8, 3, '24 pkgs. x 4 pieces', 10),\n",
              " (25, 'NuNuCa Nuß-Nougat-Creme', 11, 3, '20 - 450 g glasses', 14),\n",
              " (36, 'Inlagd Sill', 17, 8, '24 - 250 g jars', 19),\n",
              " (42, 'Singaporean Hokkien Fried Mee', 20, 5, '32 - 1 kg pkgs.', 14),\n",
              " (46, 'Spegesild', 21, 8, '4 - 450 g glasses', 12),\n",
              " (49, 'Maxilaku', 23, 3, '24 - 50 g pkgs.', 20),\n",
              " (50, 'Valkoinen suklaa', 23, 3, '12 - 100 g bars', 16),\n",
              " (54, 'Tourtière', 25, 6, '16 pies', 16),\n",
              " (58, 'Escargots de Bourgogne', 27, 8, '24 pieces', 13),\n",
              " (73, 'Röd Kaviar', 17, 8, '24 - 150 g jars', 15),\n",
              " (74, 'Longlife Tofu', 4, 7, '5 kg pkg.', 10)]"
            ],
            "text/html": [
              "<table>\n",
              "    <thead>\n",
              "        <tr>\n",
              "            <th>ProductID</th>\n",
              "            <th>ProductName</th>\n",
              "            <th>SupplierID</th>\n",
              "            <th>CategoryID</th>\n",
              "            <th>Unit</th>\n",
              "            <th>Price</th>\n",
              "        </tr>\n",
              "    </thead>\n",
              "    <tbody>\n",
              "        <tr>\n",
              "            <td>16</td>\n",
              "            <td>Pavlova</td>\n",
              "            <td>7</td>\n",
              "            <td>3</td>\n",
              "            <td>32 - 500 g boxes</td>\n",
              "            <td>17</td>\n",
              "        </tr>\n",
              "        <tr>\n",
              "            <td>21</td>\n",
              "            <td>Sir Rodney&#x27;s Scones</td>\n",
              "            <td>8</td>\n",
              "            <td>3</td>\n",
              "            <td>24 pkgs. x 4 pieces</td>\n",
              "            <td>10</td>\n",
              "        </tr>\n",
              "        <tr>\n",
              "            <td>25</td>\n",
              "            <td>NuNuCa Nuß-Nougat-Creme</td>\n",
              "            <td>11</td>\n",
              "            <td>3</td>\n",
              "            <td>20 - 450 g glasses</td>\n",
              "            <td>14</td>\n",
              "        </tr>\n",
              "        <tr>\n",
              "            <td>36</td>\n",
              "            <td>Inlagd Sill</td>\n",
              "            <td>17</td>\n",
              "            <td>8</td>\n",
              "            <td>24 - 250 g jars</td>\n",
              "            <td>19</td>\n",
              "        </tr>\n",
              "        <tr>\n",
              "            <td>42</td>\n",
              "            <td>Singaporean Hokkien Fried Mee</td>\n",
              "            <td>20</td>\n",
              "            <td>5</td>\n",
              "            <td>32 - 1 kg pkgs.</td>\n",
              "            <td>14</td>\n",
              "        </tr>\n",
              "        <tr>\n",
              "            <td>46</td>\n",
              "            <td>Spegesild</td>\n",
              "            <td>21</td>\n",
              "            <td>8</td>\n",
              "            <td>4 - 450 g glasses</td>\n",
              "            <td>12</td>\n",
              "        </tr>\n",
              "        <tr>\n",
              "            <td>49</td>\n",
              "            <td>Maxilaku</td>\n",
              "            <td>23</td>\n",
              "            <td>3</td>\n",
              "            <td>24 - 50 g pkgs.</td>\n",
              "            <td>20</td>\n",
              "        </tr>\n",
              "        <tr>\n",
              "            <td>50</td>\n",
              "            <td>Valkoinen suklaa</td>\n",
              "            <td>23</td>\n",
              "            <td>3</td>\n",
              "            <td>12 - 100 g bars</td>\n",
              "            <td>16</td>\n",
              "        </tr>\n",
              "        <tr>\n",
              "            <td>54</td>\n",
              "            <td>Tourtière</td>\n",
              "            <td>25</td>\n",
              "            <td>6</td>\n",
              "            <td>16 pies</td>\n",
              "            <td>16</td>\n",
              "        </tr>\n",
              "        <tr>\n",
              "            <td>58</td>\n",
              "            <td>Escargots de Bourgogne</td>\n",
              "            <td>27</td>\n",
              "            <td>8</td>\n",
              "            <td>24 pieces</td>\n",
              "            <td>13</td>\n",
              "        </tr>\n",
              "        <tr>\n",
              "            <td>73</td>\n",
              "            <td>Röd Kaviar</td>\n",
              "            <td>17</td>\n",
              "            <td>8</td>\n",
              "            <td>24 - 150 g jars</td>\n",
              "            <td>15</td>\n",
              "        </tr>\n",
              "        <tr>\n",
              "            <td>74</td>\n",
              "            <td>Longlife Tofu</td>\n",
              "            <td>4</td>\n",
              "            <td>7</td>\n",
              "            <td>5 kg pkg.</td>\n",
              "            <td>10</td>\n",
              "        </tr>\n",
              "    </tbody>\n",
              "</table>"
            ]
          },
          "metadata": {},
          "execution_count": 107
        }
      ]
    },
    {
      "cell_type": "code",
      "source": [
        "%%sql\n",
        "SELECT ProductName FROM Products wHERE ( Price BETWEEN 10 AND 20 ) AND ( CategoryID NOT IN ( 2, 4, 1 ) );"
      ],
      "metadata": {
        "colab": {
          "base_uri": "https://localhost:8080/",
          "height": 321
        },
        "id": "3VY53qDPM6J2",
        "outputId": "7ab4f84e-5611-48cc-c922-39b27fcf17c9"
      },
      "execution_count": 108,
      "outputs": [
        {
          "output_type": "stream",
          "name": "stdout",
          "text": [
            " * sqlite:////content/drive/MyDrive/veriler/database/databases_application.db\n",
            "Done.\n"
          ]
        },
        {
          "output_type": "execute_result",
          "data": {
            "text/plain": [
              "[('Pavlova',),\n",
              " (\"Sir Rodney's Scones\",),\n",
              " ('NuNuCa Nuß-Nougat-Creme',),\n",
              " ('Inlagd Sill',),\n",
              " ('Singaporean Hokkien Fried Mee',),\n",
              " ('Spegesild',),\n",
              " ('Maxilaku',),\n",
              " ('Valkoinen suklaa',),\n",
              " ('Tourtière',),\n",
              " ('Escargots de Bourgogne',),\n",
              " ('Röd Kaviar',),\n",
              " ('Longlife Tofu',)]"
            ],
            "text/html": [
              "<table>\n",
              "    <thead>\n",
              "        <tr>\n",
              "            <th>ProductName</th>\n",
              "        </tr>\n",
              "    </thead>\n",
              "    <tbody>\n",
              "        <tr>\n",
              "            <td>Pavlova</td>\n",
              "        </tr>\n",
              "        <tr>\n",
              "            <td>Sir Rodney&#x27;s Scones</td>\n",
              "        </tr>\n",
              "        <tr>\n",
              "            <td>NuNuCa Nuß-Nougat-Creme</td>\n",
              "        </tr>\n",
              "        <tr>\n",
              "            <td>Inlagd Sill</td>\n",
              "        </tr>\n",
              "        <tr>\n",
              "            <td>Singaporean Hokkien Fried Mee</td>\n",
              "        </tr>\n",
              "        <tr>\n",
              "            <td>Spegesild</td>\n",
              "        </tr>\n",
              "        <tr>\n",
              "            <td>Maxilaku</td>\n",
              "        </tr>\n",
              "        <tr>\n",
              "            <td>Valkoinen suklaa</td>\n",
              "        </tr>\n",
              "        <tr>\n",
              "            <td>Tourtière</td>\n",
              "        </tr>\n",
              "        <tr>\n",
              "            <td>Escargots de Bourgogne</td>\n",
              "        </tr>\n",
              "        <tr>\n",
              "            <td>Röd Kaviar</td>\n",
              "        </tr>\n",
              "        <tr>\n",
              "            <td>Longlife Tofu</td>\n",
              "        </tr>\n",
              "    </tbody>\n",
              "</table>"
            ]
          },
          "metadata": {},
          "execution_count": 108
        }
      ]
    },
    {
      "cell_type": "code",
      "source": [
        "%%sql\n",
        "SELECT * FROM Products WHERE ProductName NOT BETWEEN \"Pavlova\" AND \"NuNuCa Nuß-Nougat-Creme\" ORDER BY Price;"
      ],
      "metadata": {
        "colab": {
          "base_uri": "https://localhost:8080/",
          "height": 1000
        },
        "id": "UjAbAMVDNmeO",
        "outputId": "71d91c0d-9bd0-48a7-8a7f-f0e81f9080dc"
      },
      "execution_count": 111,
      "outputs": [
        {
          "output_type": "stream",
          "name": "stdout",
          "text": [
            " * sqlite:////content/drive/MyDrive/veriler/database/databases_application.db\n",
            "Done.\n"
          ]
        },
        {
          "output_type": "execute_result",
          "data": {
            "text/plain": [
              "[(13, 'Konbu', 6, 8, '2 kg box', 6),\n",
              " (52, 'Filo Mix', 24, 5, '16 - 2 kg boxes', 7),\n",
              " (23, 'Tunnbröd', 9, 5, '12 - 250 g pkgs.', 9),\n",
              " (3, 'Aniseed Syrup', 1, 2, '12 - 550 ml bottles', 10),\n",
              " (21, \"Sir Rodney's Scones\", 8, 3, '24 pkgs. x 4 pieces', 10),\n",
              " (74, 'Longlife Tofu', 4, 7, '5 kg pkg.', 10),\n",
              " (46, 'Spegesild', 21, 8, '4 - 450 g glasses', 12),\n",
              " (58, 'Escargots de Bourgogne', 27, 8, '24 pieces', 13),\n",
              " (77, 'Original Frankfurter grüne Soße', 12, 2, '12 boxes', 13),\n",
              " (25, 'NuNuCa Nuß-Nougat-Creme', 11, 3, '20 - 450 g glasses', 14),\n",
              " (34, 'Sasquatch Ale', 16, 1, '24 - 12 oz bottles', 14),\n",
              " (42, 'Singaporean Hokkien Fried Mee', 20, 5, '32 - 1 kg pkgs.', 14),\n",
              " (67, 'Laughing Lumberjack Lager', 16, 1, '24 - 12 oz bottles', 14),\n",
              " (70, 'Outback Lager', 7, 1, '24 - 355 ml bottles', 15),\n",
              " (73, 'Röd Kaviar', 17, 8, '24 - 150 g jars', 15),\n",
              " (50, 'Valkoinen suklaa', 23, 3, '12 - 100 g bars', 16),\n",
              " (54, 'Tourtière', 25, 6, '16 pies', 16),\n",
              " (16, 'Pavlova', 7, 3, '32 - 500 g boxes', 17),\n",
              " (66, 'Louisiana Hot Spiced Okra', 2, 2, '24 - 8 oz jars', 17),\n",
              " (1, 'Chais', 1, 1, '10 boxes x 20 bags', 18),\n",
              " (35, 'Steeleye Stout', 16, 1, '24 - 12 oz bottles', 18),\n",
              " (39, 'Chartreuse verte', 18, 1, '750 cc per bottle', 18),\n",
              " (76, 'Lakkalikööri', 23, 1, '500 ml', 18),\n",
              " (2, 'Chang', 1, 1, '24 - 12 oz bottles', 19),\n",
              " (36, 'Inlagd Sill', 17, 8, '24 - 250 g jars', 19),\n",
              " (44, 'Gula Malacca', 20, 2, '20 - 2 kg bags', 19),\n",
              " (49, 'Maxilaku', 23, 3, '24 - 50 g pkgs.', 20),\n",
              " (5, \"Chef Anton's Gumbo Mix\", 2, 2, '36 boxes', 21),\n",
              " (11, 'Queso Cabrales', 5, 4, '1 kg pkg.', 21),\n",
              " (22, \"Gustaf's Knäckebröd\", 9, 5, '24 - 500 g pkgs.', 21),\n",
              " (71, 'Fløtemysost', 15, 4, '10 - 500 g pkgs.', 21),\n",
              " (4, \"Chef Anton's Cajun Seasoning\", 2, 2, '48 - 6 oz jars', 22),\n",
              " (14, 'Tofu', 6, 7, '40 - 100 g pkgs.', 23),\n",
              " (41, \"Jack's New England Clam Chowder\", 19, 8, '12 - 12 oz cans', 23),\n",
              " (55, 'Pâté chinois', 25, 6, '24 boxes x 2 pies', 24),\n",
              " (6, \"Grandma's Boysenberry Spread\", 3, 2, '12 - 8 oz jars', 25),\n",
              " (30, 'Nord-Ost Matjeshering', 13, 8, '10 - 200 g glasses', 25),\n",
              " (37, 'Gravad lax', 17, 8, '12 - 500 g pkgs.', 26),\n",
              " (48, 'Chocolade', 22, 3, '10 pkgs.', 27),\n",
              " (75, 'Rhönbräu Klosterbier', 12, 1, '24 - 0.5 l bottles', 27),\n",
              " (7, \"Uncle Bob's Organic Dried Pears\", 3, 7, '12 - 1 lb pkgs.', 30),\n",
              " (10, 'Ikura', 4, 8, '12 - 200 ml jars', 31),\n",
              " (26, 'Gumbär Gummibärchen', 11, 3, '100 - 250 g bags', 31),\n",
              " (32, 'Mascarpone Fabioli', 14, 4, '24 - 200 g pkgs.', 32),\n",
              " (53, 'Perth Pasties', 24, 6, '48 pieces', 32),\n",
              " (64, 'Wimmers gute Semmelknödel', 12, 5, '20 bags x 4 pieces', 33),\n",
              " (60, 'Camembert Pierrot', 28, 4, '15 - 300 g rounds', 34),\n",
              " (72, 'Mozzarella di Giovanni', 14, 4, '24 - 200 g pkgs.', 34),\n",
              " (69, 'Gudbrandsdalsost', 15, 4, '10 kg pkg.', 36),\n",
              " (12, 'Queso Manchego La Pastora', 5, 4, '10 - 500 g pkgs.', 38),\n",
              " (56, 'Gnocchi di nonna Alice', 26, 5, '24 - 250 g pkgs.', 38),\n",
              " (17, 'Alice Mutton', 7, 6, '20 - 1 kg tins', 39),\n",
              " (8, 'Northwoods Cranberry Sauce', 3, 2, '12 - 12 oz jars', 40),\n",
              " (15, 'Genen Shouyu', 6, 2, '24 - 250 ml bottles', 43),\n",
              " (19, 'Teatime Chocolate Biscuits', 8, 3, '10 boxes x 12 pieces', 43),\n",
              " (24, 'Guaraná Fantástica', 10, 1, '12 - 355 ml cans', 43),\n",
              " (27, 'Schoggi Schokolade', 11, 3, '100 - 100 g pieces', 43),\n",
              " (33, 'Geitost', 15, 4, '500 g', 43),\n",
              " (40, 'Boston Crab Meat', 19, 8, '24 - 4 oz tins', 43),\n",
              " (45, 'Røgede sild', 21, 8, '1k pkg.', 43),\n",
              " (47, 'Zaanse koeken', 22, 3, '10 - 4 oz boxes', 43),\n",
              " (57, 'Ravioli Angelo', 26, 5, '24 - 250 g pkgs.', 43),\n",
              " (61, \"Sirop d'érable\", 29, 2, '24 - 500 ml bottles', 43),\n",
              " (63, 'Vegie-spread', 7, 2, '15 - 625 g jars', 43),\n",
              " (65, 'Louisiana Fiery Hot Pepper Sauce', 2, 2, '32 - 8 oz bottles', 43),\n",
              " (28, 'Rössle Sauerkraut', 12, 7, '25 - 825 g cans', 45),\n",
              " (68, 'Scottish Longbreads', 8, 3, '10 boxes x 8 pieces', 45),\n",
              " (43, 'Ipoh Coffee', 20, 1, '16 - 500 g tins', 46),\n",
              " (62, 'Tarte au sucre', 29, 3, '48 pies', 49),\n",
              " (51, 'Manjimup Dried Apples', 24, 7, '50 - 300 g pkgs.', 53),\n",
              " (59, 'Raclette Courdavault', 28, 4, '5 kg pkg.', 55),\n",
              " (18, 'Carnarvon Tigers', 7, 8, '16 kg pkg.', 62),\n",
              " (20, \"Sir Rodney's Marmalade\", 8, 3, '30 gift boxes', 81),\n",
              " (9, 'Mishi Kobe Niku', 4, 6, '18 - 500 g pkgs.', 97),\n",
              " (29, 'Thüringer Rostbratwurst', 12, 6, '50 bags x 30 sausgs.', 123),\n",
              " (38, 'Côte de Blaye', 18, 1, '12 - 75 cl bottles', 263),\n",
              " (31, 'Gorgonzola Telino', 14, 4, '12 - 100 g pkgs', 435)]"
            ],
            "text/html": [
              "<table>\n",
              "    <thead>\n",
              "        <tr>\n",
              "            <th>ProductID</th>\n",
              "            <th>ProductName</th>\n",
              "            <th>SupplierID</th>\n",
              "            <th>CategoryID</th>\n",
              "            <th>Unit</th>\n",
              "            <th>Price</th>\n",
              "        </tr>\n",
              "    </thead>\n",
              "    <tbody>\n",
              "        <tr>\n",
              "            <td>13</td>\n",
              "            <td>Konbu</td>\n",
              "            <td>6</td>\n",
              "            <td>8</td>\n",
              "            <td>2 kg box</td>\n",
              "            <td>6</td>\n",
              "        </tr>\n",
              "        <tr>\n",
              "            <td>52</td>\n",
              "            <td>Filo Mix</td>\n",
              "            <td>24</td>\n",
              "            <td>5</td>\n",
              "            <td>16 - 2 kg boxes</td>\n",
              "            <td>7</td>\n",
              "        </tr>\n",
              "        <tr>\n",
              "            <td>23</td>\n",
              "            <td>Tunnbröd</td>\n",
              "            <td>9</td>\n",
              "            <td>5</td>\n",
              "            <td>12 - 250 g pkgs.</td>\n",
              "            <td>9</td>\n",
              "        </tr>\n",
              "        <tr>\n",
              "            <td>3</td>\n",
              "            <td>Aniseed Syrup</td>\n",
              "            <td>1</td>\n",
              "            <td>2</td>\n",
              "            <td>12 - 550 ml bottles</td>\n",
              "            <td>10</td>\n",
              "        </tr>\n",
              "        <tr>\n",
              "            <td>21</td>\n",
              "            <td>Sir Rodney&#x27;s Scones</td>\n",
              "            <td>8</td>\n",
              "            <td>3</td>\n",
              "            <td>24 pkgs. x 4 pieces</td>\n",
              "            <td>10</td>\n",
              "        </tr>\n",
              "        <tr>\n",
              "            <td>74</td>\n",
              "            <td>Longlife Tofu</td>\n",
              "            <td>4</td>\n",
              "            <td>7</td>\n",
              "            <td>5 kg pkg.</td>\n",
              "            <td>10</td>\n",
              "        </tr>\n",
              "        <tr>\n",
              "            <td>46</td>\n",
              "            <td>Spegesild</td>\n",
              "            <td>21</td>\n",
              "            <td>8</td>\n",
              "            <td>4 - 450 g glasses</td>\n",
              "            <td>12</td>\n",
              "        </tr>\n",
              "        <tr>\n",
              "            <td>58</td>\n",
              "            <td>Escargots de Bourgogne</td>\n",
              "            <td>27</td>\n",
              "            <td>8</td>\n",
              "            <td>24 pieces</td>\n",
              "            <td>13</td>\n",
              "        </tr>\n",
              "        <tr>\n",
              "            <td>77</td>\n",
              "            <td>Original Frankfurter grüne Soße</td>\n",
              "            <td>12</td>\n",
              "            <td>2</td>\n",
              "            <td>12 boxes</td>\n",
              "            <td>13</td>\n",
              "        </tr>\n",
              "        <tr>\n",
              "            <td>25</td>\n",
              "            <td>NuNuCa Nuß-Nougat-Creme</td>\n",
              "            <td>11</td>\n",
              "            <td>3</td>\n",
              "            <td>20 - 450 g glasses</td>\n",
              "            <td>14</td>\n",
              "        </tr>\n",
              "        <tr>\n",
              "            <td>34</td>\n",
              "            <td>Sasquatch Ale</td>\n",
              "            <td>16</td>\n",
              "            <td>1</td>\n",
              "            <td>24 - 12 oz bottles</td>\n",
              "            <td>14</td>\n",
              "        </tr>\n",
              "        <tr>\n",
              "            <td>42</td>\n",
              "            <td>Singaporean Hokkien Fried Mee</td>\n",
              "            <td>20</td>\n",
              "            <td>5</td>\n",
              "            <td>32 - 1 kg pkgs.</td>\n",
              "            <td>14</td>\n",
              "        </tr>\n",
              "        <tr>\n",
              "            <td>67</td>\n",
              "            <td>Laughing Lumberjack Lager</td>\n",
              "            <td>16</td>\n",
              "            <td>1</td>\n",
              "            <td>24 - 12 oz bottles</td>\n",
              "            <td>14</td>\n",
              "        </tr>\n",
              "        <tr>\n",
              "            <td>70</td>\n",
              "            <td>Outback Lager</td>\n",
              "            <td>7</td>\n",
              "            <td>1</td>\n",
              "            <td>24 - 355 ml bottles</td>\n",
              "            <td>15</td>\n",
              "        </tr>\n",
              "        <tr>\n",
              "            <td>73</td>\n",
              "            <td>Röd Kaviar</td>\n",
              "            <td>17</td>\n",
              "            <td>8</td>\n",
              "            <td>24 - 150 g jars</td>\n",
              "            <td>15</td>\n",
              "        </tr>\n",
              "        <tr>\n",
              "            <td>50</td>\n",
              "            <td>Valkoinen suklaa</td>\n",
              "            <td>23</td>\n",
              "            <td>3</td>\n",
              "            <td>12 - 100 g bars</td>\n",
              "            <td>16</td>\n",
              "        </tr>\n",
              "        <tr>\n",
              "            <td>54</td>\n",
              "            <td>Tourtière</td>\n",
              "            <td>25</td>\n",
              "            <td>6</td>\n",
              "            <td>16 pies</td>\n",
              "            <td>16</td>\n",
              "        </tr>\n",
              "        <tr>\n",
              "            <td>16</td>\n",
              "            <td>Pavlova</td>\n",
              "            <td>7</td>\n",
              "            <td>3</td>\n",
              "            <td>32 - 500 g boxes</td>\n",
              "            <td>17</td>\n",
              "        </tr>\n",
              "        <tr>\n",
              "            <td>66</td>\n",
              "            <td>Louisiana Hot Spiced Okra</td>\n",
              "            <td>2</td>\n",
              "            <td>2</td>\n",
              "            <td>24 - 8 oz jars</td>\n",
              "            <td>17</td>\n",
              "        </tr>\n",
              "        <tr>\n",
              "            <td>1</td>\n",
              "            <td>Chais</td>\n",
              "            <td>1</td>\n",
              "            <td>1</td>\n",
              "            <td>10 boxes x 20 bags</td>\n",
              "            <td>18</td>\n",
              "        </tr>\n",
              "        <tr>\n",
              "            <td>35</td>\n",
              "            <td>Steeleye Stout</td>\n",
              "            <td>16</td>\n",
              "            <td>1</td>\n",
              "            <td>24 - 12 oz bottles</td>\n",
              "            <td>18</td>\n",
              "        </tr>\n",
              "        <tr>\n",
              "            <td>39</td>\n",
              "            <td>Chartreuse verte</td>\n",
              "            <td>18</td>\n",
              "            <td>1</td>\n",
              "            <td>750 cc per bottle</td>\n",
              "            <td>18</td>\n",
              "        </tr>\n",
              "        <tr>\n",
              "            <td>76</td>\n",
              "            <td>Lakkalikööri</td>\n",
              "            <td>23</td>\n",
              "            <td>1</td>\n",
              "            <td>500 ml</td>\n",
              "            <td>18</td>\n",
              "        </tr>\n",
              "        <tr>\n",
              "            <td>2</td>\n",
              "            <td>Chang</td>\n",
              "            <td>1</td>\n",
              "            <td>1</td>\n",
              "            <td>24 - 12 oz bottles</td>\n",
              "            <td>19</td>\n",
              "        </tr>\n",
              "        <tr>\n",
              "            <td>36</td>\n",
              "            <td>Inlagd Sill</td>\n",
              "            <td>17</td>\n",
              "            <td>8</td>\n",
              "            <td>24 - 250 g jars</td>\n",
              "            <td>19</td>\n",
              "        </tr>\n",
              "        <tr>\n",
              "            <td>44</td>\n",
              "            <td>Gula Malacca</td>\n",
              "            <td>20</td>\n",
              "            <td>2</td>\n",
              "            <td>20 - 2 kg bags</td>\n",
              "            <td>19</td>\n",
              "        </tr>\n",
              "        <tr>\n",
              "            <td>49</td>\n",
              "            <td>Maxilaku</td>\n",
              "            <td>23</td>\n",
              "            <td>3</td>\n",
              "            <td>24 - 50 g pkgs.</td>\n",
              "            <td>20</td>\n",
              "        </tr>\n",
              "        <tr>\n",
              "            <td>5</td>\n",
              "            <td>Chef Anton&#x27;s Gumbo Mix</td>\n",
              "            <td>2</td>\n",
              "            <td>2</td>\n",
              "            <td>36 boxes</td>\n",
              "            <td>21</td>\n",
              "        </tr>\n",
              "        <tr>\n",
              "            <td>11</td>\n",
              "            <td>Queso Cabrales</td>\n",
              "            <td>5</td>\n",
              "            <td>4</td>\n",
              "            <td>1 kg pkg.</td>\n",
              "            <td>21</td>\n",
              "        </tr>\n",
              "        <tr>\n",
              "            <td>22</td>\n",
              "            <td>Gustaf&#x27;s Knäckebröd</td>\n",
              "            <td>9</td>\n",
              "            <td>5</td>\n",
              "            <td>24 - 500 g pkgs.</td>\n",
              "            <td>21</td>\n",
              "        </tr>\n",
              "        <tr>\n",
              "            <td>71</td>\n",
              "            <td>Fløtemysost</td>\n",
              "            <td>15</td>\n",
              "            <td>4</td>\n",
              "            <td>10 - 500 g pkgs.</td>\n",
              "            <td>21</td>\n",
              "        </tr>\n",
              "        <tr>\n",
              "            <td>4</td>\n",
              "            <td>Chef Anton&#x27;s Cajun Seasoning</td>\n",
              "            <td>2</td>\n",
              "            <td>2</td>\n",
              "            <td>48 - 6 oz jars</td>\n",
              "            <td>22</td>\n",
              "        </tr>\n",
              "        <tr>\n",
              "            <td>14</td>\n",
              "            <td>Tofu</td>\n",
              "            <td>6</td>\n",
              "            <td>7</td>\n",
              "            <td>40 - 100 g pkgs.</td>\n",
              "            <td>23</td>\n",
              "        </tr>\n",
              "        <tr>\n",
              "            <td>41</td>\n",
              "            <td>Jack&#x27;s New England Clam Chowder</td>\n",
              "            <td>19</td>\n",
              "            <td>8</td>\n",
              "            <td>12 - 12 oz cans</td>\n",
              "            <td>23</td>\n",
              "        </tr>\n",
              "        <tr>\n",
              "            <td>55</td>\n",
              "            <td>Pâté chinois</td>\n",
              "            <td>25</td>\n",
              "            <td>6</td>\n",
              "            <td>24 boxes x 2 pies</td>\n",
              "            <td>24</td>\n",
              "        </tr>\n",
              "        <tr>\n",
              "            <td>6</td>\n",
              "            <td>Grandma&#x27;s Boysenberry Spread</td>\n",
              "            <td>3</td>\n",
              "            <td>2</td>\n",
              "            <td>12 - 8 oz jars</td>\n",
              "            <td>25</td>\n",
              "        </tr>\n",
              "        <tr>\n",
              "            <td>30</td>\n",
              "            <td>Nord-Ost Matjeshering</td>\n",
              "            <td>13</td>\n",
              "            <td>8</td>\n",
              "            <td>10 - 200 g glasses</td>\n",
              "            <td>25</td>\n",
              "        </tr>\n",
              "        <tr>\n",
              "            <td>37</td>\n",
              "            <td>Gravad lax</td>\n",
              "            <td>17</td>\n",
              "            <td>8</td>\n",
              "            <td>12 - 500 g pkgs.</td>\n",
              "            <td>26</td>\n",
              "        </tr>\n",
              "        <tr>\n",
              "            <td>48</td>\n",
              "            <td>Chocolade</td>\n",
              "            <td>22</td>\n",
              "            <td>3</td>\n",
              "            <td>10 pkgs.</td>\n",
              "            <td>27</td>\n",
              "        </tr>\n",
              "        <tr>\n",
              "            <td>75</td>\n",
              "            <td>Rhönbräu Klosterbier</td>\n",
              "            <td>12</td>\n",
              "            <td>1</td>\n",
              "            <td>24 - 0.5 l bottles</td>\n",
              "            <td>27</td>\n",
              "        </tr>\n",
              "        <tr>\n",
              "            <td>7</td>\n",
              "            <td>Uncle Bob&#x27;s Organic Dried Pears</td>\n",
              "            <td>3</td>\n",
              "            <td>7</td>\n",
              "            <td>12 - 1 lb pkgs.</td>\n",
              "            <td>30</td>\n",
              "        </tr>\n",
              "        <tr>\n",
              "            <td>10</td>\n",
              "            <td>Ikura</td>\n",
              "            <td>4</td>\n",
              "            <td>8</td>\n",
              "            <td>12 - 200 ml jars</td>\n",
              "            <td>31</td>\n",
              "        </tr>\n",
              "        <tr>\n",
              "            <td>26</td>\n",
              "            <td>Gumbär Gummibärchen</td>\n",
              "            <td>11</td>\n",
              "            <td>3</td>\n",
              "            <td>100 - 250 g bags</td>\n",
              "            <td>31</td>\n",
              "        </tr>\n",
              "        <tr>\n",
              "            <td>32</td>\n",
              "            <td>Mascarpone Fabioli</td>\n",
              "            <td>14</td>\n",
              "            <td>4</td>\n",
              "            <td>24 - 200 g pkgs.</td>\n",
              "            <td>32</td>\n",
              "        </tr>\n",
              "        <tr>\n",
              "            <td>53</td>\n",
              "            <td>Perth Pasties</td>\n",
              "            <td>24</td>\n",
              "            <td>6</td>\n",
              "            <td>48 pieces</td>\n",
              "            <td>32</td>\n",
              "        </tr>\n",
              "        <tr>\n",
              "            <td>64</td>\n",
              "            <td>Wimmers gute Semmelknödel</td>\n",
              "            <td>12</td>\n",
              "            <td>5</td>\n",
              "            <td>20 bags x 4 pieces</td>\n",
              "            <td>33</td>\n",
              "        </tr>\n",
              "        <tr>\n",
              "            <td>60</td>\n",
              "            <td>Camembert Pierrot</td>\n",
              "            <td>28</td>\n",
              "            <td>4</td>\n",
              "            <td>15 - 300 g rounds</td>\n",
              "            <td>34</td>\n",
              "        </tr>\n",
              "        <tr>\n",
              "            <td>72</td>\n",
              "            <td>Mozzarella di Giovanni</td>\n",
              "            <td>14</td>\n",
              "            <td>4</td>\n",
              "            <td>24 - 200 g pkgs.</td>\n",
              "            <td>34</td>\n",
              "        </tr>\n",
              "        <tr>\n",
              "            <td>69</td>\n",
              "            <td>Gudbrandsdalsost</td>\n",
              "            <td>15</td>\n",
              "            <td>4</td>\n",
              "            <td>10 kg pkg.</td>\n",
              "            <td>36</td>\n",
              "        </tr>\n",
              "        <tr>\n",
              "            <td>12</td>\n",
              "            <td>Queso Manchego La Pastora</td>\n",
              "            <td>5</td>\n",
              "            <td>4</td>\n",
              "            <td>10 - 500 g pkgs.</td>\n",
              "            <td>38</td>\n",
              "        </tr>\n",
              "        <tr>\n",
              "            <td>56</td>\n",
              "            <td>Gnocchi di nonna Alice</td>\n",
              "            <td>26</td>\n",
              "            <td>5</td>\n",
              "            <td>24 - 250 g pkgs.</td>\n",
              "            <td>38</td>\n",
              "        </tr>\n",
              "        <tr>\n",
              "            <td>17</td>\n",
              "            <td>Alice Mutton</td>\n",
              "            <td>7</td>\n",
              "            <td>6</td>\n",
              "            <td>20 - 1 kg tins</td>\n",
              "            <td>39</td>\n",
              "        </tr>\n",
              "        <tr>\n",
              "            <td>8</td>\n",
              "            <td>Northwoods Cranberry Sauce</td>\n",
              "            <td>3</td>\n",
              "            <td>2</td>\n",
              "            <td>12 - 12 oz jars</td>\n",
              "            <td>40</td>\n",
              "        </tr>\n",
              "        <tr>\n",
              "            <td>15</td>\n",
              "            <td>Genen Shouyu</td>\n",
              "            <td>6</td>\n",
              "            <td>2</td>\n",
              "            <td>24 - 250 ml bottles</td>\n",
              "            <td>43</td>\n",
              "        </tr>\n",
              "        <tr>\n",
              "            <td>19</td>\n",
              "            <td>Teatime Chocolate Biscuits</td>\n",
              "            <td>8</td>\n",
              "            <td>3</td>\n",
              "            <td>10 boxes x 12 pieces</td>\n",
              "            <td>43</td>\n",
              "        </tr>\n",
              "        <tr>\n",
              "            <td>24</td>\n",
              "            <td>Guaraná Fantástica</td>\n",
              "            <td>10</td>\n",
              "            <td>1</td>\n",
              "            <td>12 - 355 ml cans</td>\n",
              "            <td>43</td>\n",
              "        </tr>\n",
              "        <tr>\n",
              "            <td>27</td>\n",
              "            <td>Schoggi Schokolade</td>\n",
              "            <td>11</td>\n",
              "            <td>3</td>\n",
              "            <td>100 - 100 g pieces</td>\n",
              "            <td>43</td>\n",
              "        </tr>\n",
              "        <tr>\n",
              "            <td>33</td>\n",
              "            <td>Geitost</td>\n",
              "            <td>15</td>\n",
              "            <td>4</td>\n",
              "            <td>500 g</td>\n",
              "            <td>43</td>\n",
              "        </tr>\n",
              "        <tr>\n",
              "            <td>40</td>\n",
              "            <td>Boston Crab Meat</td>\n",
              "            <td>19</td>\n",
              "            <td>8</td>\n",
              "            <td>24 - 4 oz tins</td>\n",
              "            <td>43</td>\n",
              "        </tr>\n",
              "        <tr>\n",
              "            <td>45</td>\n",
              "            <td>Røgede sild</td>\n",
              "            <td>21</td>\n",
              "            <td>8</td>\n",
              "            <td>1k pkg.</td>\n",
              "            <td>43</td>\n",
              "        </tr>\n",
              "        <tr>\n",
              "            <td>47</td>\n",
              "            <td>Zaanse koeken</td>\n",
              "            <td>22</td>\n",
              "            <td>3</td>\n",
              "            <td>10 - 4 oz boxes</td>\n",
              "            <td>43</td>\n",
              "        </tr>\n",
              "        <tr>\n",
              "            <td>57</td>\n",
              "            <td>Ravioli Angelo</td>\n",
              "            <td>26</td>\n",
              "            <td>5</td>\n",
              "            <td>24 - 250 g pkgs.</td>\n",
              "            <td>43</td>\n",
              "        </tr>\n",
              "        <tr>\n",
              "            <td>61</td>\n",
              "            <td>Sirop d&#x27;érable</td>\n",
              "            <td>29</td>\n",
              "            <td>2</td>\n",
              "            <td>24 - 500 ml bottles</td>\n",
              "            <td>43</td>\n",
              "        </tr>\n",
              "        <tr>\n",
              "            <td>63</td>\n",
              "            <td>Vegie-spread</td>\n",
              "            <td>7</td>\n",
              "            <td>2</td>\n",
              "            <td>15 - 625 g jars</td>\n",
              "            <td>43</td>\n",
              "        </tr>\n",
              "        <tr>\n",
              "            <td>65</td>\n",
              "            <td>Louisiana Fiery Hot Pepper Sauce</td>\n",
              "            <td>2</td>\n",
              "            <td>2</td>\n",
              "            <td>32 - 8 oz bottles</td>\n",
              "            <td>43</td>\n",
              "        </tr>\n",
              "        <tr>\n",
              "            <td>28</td>\n",
              "            <td>Rössle Sauerkraut</td>\n",
              "            <td>12</td>\n",
              "            <td>7</td>\n",
              "            <td>25 - 825 g cans</td>\n",
              "            <td>45</td>\n",
              "        </tr>\n",
              "        <tr>\n",
              "            <td>68</td>\n",
              "            <td>Scottish Longbreads</td>\n",
              "            <td>8</td>\n",
              "            <td>3</td>\n",
              "            <td>10 boxes x 8 pieces</td>\n",
              "            <td>45</td>\n",
              "        </tr>\n",
              "        <tr>\n",
              "            <td>43</td>\n",
              "            <td>Ipoh Coffee</td>\n",
              "            <td>20</td>\n",
              "            <td>1</td>\n",
              "            <td>16 - 500 g tins</td>\n",
              "            <td>46</td>\n",
              "        </tr>\n",
              "        <tr>\n",
              "            <td>62</td>\n",
              "            <td>Tarte au sucre</td>\n",
              "            <td>29</td>\n",
              "            <td>3</td>\n",
              "            <td>48 pies</td>\n",
              "            <td>49</td>\n",
              "        </tr>\n",
              "        <tr>\n",
              "            <td>51</td>\n",
              "            <td>Manjimup Dried Apples</td>\n",
              "            <td>24</td>\n",
              "            <td>7</td>\n",
              "            <td>50 - 300 g pkgs.</td>\n",
              "            <td>53</td>\n",
              "        </tr>\n",
              "        <tr>\n",
              "            <td>59</td>\n",
              "            <td>Raclette Courdavault</td>\n",
              "            <td>28</td>\n",
              "            <td>4</td>\n",
              "            <td>5 kg pkg.</td>\n",
              "            <td>55</td>\n",
              "        </tr>\n",
              "        <tr>\n",
              "            <td>18</td>\n",
              "            <td>Carnarvon Tigers</td>\n",
              "            <td>7</td>\n",
              "            <td>8</td>\n",
              "            <td>16 kg pkg.</td>\n",
              "            <td>62</td>\n",
              "        </tr>\n",
              "        <tr>\n",
              "            <td>20</td>\n",
              "            <td>Sir Rodney&#x27;s Marmalade</td>\n",
              "            <td>8</td>\n",
              "            <td>3</td>\n",
              "            <td>30 gift boxes</td>\n",
              "            <td>81</td>\n",
              "        </tr>\n",
              "        <tr>\n",
              "            <td>9</td>\n",
              "            <td>Mishi Kobe Niku</td>\n",
              "            <td>4</td>\n",
              "            <td>6</td>\n",
              "            <td>18 - 500 g pkgs.</td>\n",
              "            <td>97</td>\n",
              "        </tr>\n",
              "        <tr>\n",
              "            <td>29</td>\n",
              "            <td>Thüringer Rostbratwurst</td>\n",
              "            <td>12</td>\n",
              "            <td>6</td>\n",
              "            <td>50 bags x 30 sausgs.</td>\n",
              "            <td>123</td>\n",
              "        </tr>\n",
              "        <tr>\n",
              "            <td>38</td>\n",
              "            <td>Côte de Blaye</td>\n",
              "            <td>18</td>\n",
              "            <td>1</td>\n",
              "            <td>12 - 75 cl bottles</td>\n",
              "            <td>263</td>\n",
              "        </tr>\n",
              "        <tr>\n",
              "            <td>31</td>\n",
              "            <td>Gorgonzola Telino</td>\n",
              "            <td>14</td>\n",
              "            <td>4</td>\n",
              "            <td>12 - 100 g pkgs</td>\n",
              "            <td>435</td>\n",
              "        </tr>\n",
              "    </tbody>\n",
              "</table>"
            ]
          },
          "metadata": {},
          "execution_count": 111
        }
      ]
    },
    {
      "cell_type": "code",
      "source": [],
      "metadata": {
        "id": "IAWBDrFROCZU"
      },
      "execution_count": null,
      "outputs": []
    }
  ]
}