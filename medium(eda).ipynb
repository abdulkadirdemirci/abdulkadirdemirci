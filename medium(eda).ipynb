{
  "nbformat": 4,
  "nbformat_minor": 0,
  "metadata": {
    "colab": {
      "name": "medium(eda).ipynb",
      "provenance": [],
      "mount_file_id": "1oCJwcY_oS4F-8Z65L7bftni9F94TD78E",
      "authorship_tag": "ABX9TyOOAbJoVDkioXg6NkELkgVW",
      "include_colab_link": true
    },
    "kernelspec": {
      "name": "python3",
      "display_name": "Python 3"
    },
    "language_info": {
      "name": "python"
    }
  },
  "cells": [
    {
      "cell_type": "markdown",
      "metadata": {
        "id": "view-in-github",
        "colab_type": "text"
      },
      "source": [
        "<a href=\"https://colab.research.google.com/github/abdulkadirdemirci/abdulkadirdemirci/blob/main/medium(eda).ipynb\" target=\"_parent\"><img src=\"https://colab.research.google.com/assets/colab-badge.svg\" alt=\"Open In Colab\"/></a>"
      ]
    },
    {
      "cell_type": "code",
      "execution_count": null,
      "metadata": {
        "id": "90ERVi8w-Owz"
      },
      "outputs": [],
      "source": [
        "import pandas as pd\n",
        "import numpy as np\n",
        "import matplotlib.pyplot as plt\n",
        "import seaborn as sns"
      ]
    },
    {
      "cell_type": "code",
      "source": [
        "crime = pd.read_csv(\"/content/drive/MyDrive/veriler/USArrests.csv\")"
      ],
      "metadata": {
        "id": "CQlxi-Gy_gNF"
      },
      "execution_count": 124,
      "outputs": []
    },
    {
      "cell_type": "code",
      "source": [
        "churn.index"
      ],
      "metadata": {
        "colab": {
          "base_uri": "https://localhost:8080/"
        },
        "id": "6oCEHXvTlbhH",
        "outputId": "9eaf4207-2534-4659-93f8-4bde519eee99"
      },
      "execution_count": 10,
      "outputs": [
        {
          "output_type": "execute_result",
          "data": {
            "text/plain": [
              "RangeIndex(start=0, stop=900, step=1)"
            ]
          },
          "metadata": {},
          "execution_count": 10
        }
      ]
    },
    {
      "cell_type": "code",
      "source": [
        "churn = pd.read_csv(\"/content/drive/MyDrive/veriler/churn.csv\")"
      ],
      "metadata": {
        "id": "5P7UzjHW_gHE"
      },
      "execution_count": 5,
      "outputs": []
    },
    {
      "cell_type": "code",
      "source": [
        "diabets = pd.read_csv(\"/content/drive/MyDrive/veriler/diabetes.csv\")"
      ],
      "metadata": {
        "id": "JG_f0SMv_gEB"
      },
      "execution_count": 27,
      "outputs": []
    },
    {
      "cell_type": "code",
      "source": [
        "def general_info(df,head_num=5,tail_num=5):\n",
        "  print(\"################### HEAD ########################\")\n",
        "  print(df.head(head_num))\n",
        "  print(\"################### TAİL ########################\")\n",
        "  print(df.tail(tail_num))\n",
        "  print(\"################### NUMBER OF COLUMNS ########################\")\n",
        "  print(df.shape[0])\n",
        "  print(\"################### SHAPE ########################\")\n",
        "  print(df.shape[1])\n",
        "  print(\"################### INFO ########################\")\n",
        "  print(df.info());\n",
        "  print(\"################### DESCRİBE ########################\")\n",
        "  print(df.describe().T)\n",
        "  print(\"################### INDEX ########################\")\n",
        "  print(df.index)\n",
        "  print(\"################### COLUMNS ########################\")\n",
        "  print(df.columns)\n",
        "  print(\"################### ISNA ########################\")\n",
        "  print(df.isna().values.any())\n",
        "  print(\"################### ISNULL SUM. ########################\")\n",
        "  print(df.isnull().sum())\n",
        "  print(\"################### uniques ########################\")\n",
        "  for col in df.columns:\n",
        "    if str(df[col].dtypes) in [\"object\",\"category\"]:\n",
        "      print(\"unique degere sahip col_name : \",col)\n",
        "      print(df[col].nunique())"
      ],
      "metadata": {
        "id": "0WB2TGP_Qop6"
      },
      "execution_count": 11,
      "outputs": []
    },
    {
      "cell_type": "code",
      "source": [
        "pd.set_option(\"display.width\",500)\n",
        "pd.set_option(\"display.max_columns\",None)"
      ],
      "metadata": {
        "id": "qFQrIdTfuDdN"
      },
      "execution_count": 14,
      "outputs": []
    },
    {
      "cell_type": "code",
      "source": [
        "general_info(churn,5,7)"
      ],
      "metadata": {
        "id": "b4ZkGXutt3t-"
      },
      "execution_count": null,
      "outputs": []
    },
    {
      "cell_type": "code",
      "source": [
        "dfs = [crime,diabets,churn]"
      ],
      "metadata": {
        "id": "pEWPWQAURkdm"
      },
      "execution_count": null,
      "outputs": []
    },
    {
      "cell_type": "code",
      "source": [
        "pd.set_option(\"display.width\",500)\n",
        "pd.set_option(\"display.max_columns\",None)\n",
        "for df in dfs:\n",
        "  general_info(df,5,6)"
      ],
      "metadata": {
        "id": "f0bz0Q08Rmn4"
      },
      "execution_count": null,
      "outputs": []
    },
    {
      "cell_type": "markdown",
      "source": [
        "**CRİME DATAFRAME** :     **TODO LİST**\n",
        "\n",
        "*    unnamed:0 dan kurtulunacak\n",
        "*    numeric ve categorık degişkenler listesi oluşturulacak\n",
        "*    eyaletlerin murder asssault ve rape oranları urbanpop ile bulunacak\n",
        "*    murder, assault ve rape in eyaletlere göre dagılımları grafıkleştirilecek\n",
        "*    her bir eyaletin murder assaullt ve rpe grafiği çizilecek\n",
        "\n",
        "\n",
        "**CHURN DATAFRAME** : **TODO LİST**\n",
        "\n",
        "\n",
        "*   Unnamed: 0 den kurtulunacak\n",
        "*   her bir kişinin curn=1 olma oranı gösterilecek\n",
        "\n",
        "**DIABET DATAFRAME** : **TODO LİST**\n",
        "\n",
        "\n",
        "*   BMI İNDEXSİNE GÖRE ARALIKLARLA GRUPBY UYGULANACAK\n",
        "*   doğurganlık mıktarının outcomea karsı % incele\n",
        "*   heatmap çizilip yuksek korelasyonlular silinecek\n",
        "\n",
        "\n",
        "\n",
        "\n",
        "\n",
        "\n"
      ],
      "metadata": {
        "id": "2auMC5P9VeXE"
      }
    },
    {
      "cell_type": "markdown",
      "source": [
        "***CRİME DATA***"
      ],
      "metadata": {
        "id": "eSzzpD77a5ar"
      }
    },
    {
      "cell_type": "code",
      "source": [
        "import pandas as pd\n",
        "import numpy as np\n",
        "import seaborn as sns\n",
        "import matplotlib.pyplot as plt"
      ],
      "metadata": {
        "id": "ERJhCuVPjRkU"
      },
      "execution_count": 1,
      "outputs": []
    },
    {
      "cell_type": "code",
      "source": [
        "diabets[\"class_bmı\"] = pd.cut(diabets[\"BMI\"],[0,18.5,25,30,35,60])\n",
        "diabets.groupby(\"class_bmı\")[\"Age\"].mean()"
      ],
      "metadata": {
        "id": "pi6WCvHqjaz_"
      },
      "execution_count": null,
      "outputs": []
    },
    {
      "cell_type": "code",
      "source": [
        "def grouped(data,whats,w_whats,method=\"sum\"):\n",
        "  if method == \"sum\":\n",
        "    print(data.groupby(whats)[w_whats].sum())\n",
        "  elif method == \"mean\":\n",
        "    print(data.groupby(whats)[w_whats].mean())\n",
        "  elif method == \"std\":\n",
        "    print(data.groupby(whats)[w_whats].std())\n"
      ],
      "metadata": {
        "id": "ryNKKiwLuOT7"
      },
      "execution_count": 33,
      "outputs": []
    },
    {
      "cell_type": "code",
      "source": [
        "churn.columns\n",
        "churn.head()"
      ],
      "metadata": {
        "id": "h8MLdhxjRa_T"
      },
      "execution_count": null,
      "outputs": []
    },
    {
      "cell_type": "code",
      "source": [
        "grouped(churn,\"Account_Manager\",[\"Age\",\"Total_Purchase\"],\"mean\")"
      ],
      "metadata": {
        "id": "aiEM2o3XRF6O"
      },
      "execution_count": null,
      "outputs": []
    },
    {
      "cell_type": "code",
      "source": [
        "churn.groupby(\"Account_Manager\").agg({\"Age\":\"mean\",\n",
        "                                      \"Total_Purchase\":\"sum\"})"
      ],
      "metadata": {
        "id": "zzZQli0GTo_g"
      },
      "execution_count": null,
      "outputs": []
    },
    {
      "cell_type": "code",
      "source": [
        "pd.pivot_table(churn,\"Age\",\"Account_Manager\",aggfunc=\"mean\")"
      ],
      "metadata": {
        "id": "utJQgtWiUfZM"
      },
      "execution_count": null,
      "outputs": []
    },
    {
      "cell_type": "code",
      "source": [
        "churn.groupby(\"Account_Manager\").agg({\"Age\":[\"std\",\"mean\"],\n",
        "                                      \"Churn\":\"mean\"})"
      ],
      "metadata": {
        "id": "u-imtoV9Nb49"
      },
      "execution_count": null,
      "outputs": []
    },
    {
      "cell_type": "code",
      "source": [
        "def low_col_names(df):\n",
        "  lowered=[]\n",
        "  for col in df.columns:\n",
        "    lowered.append(str(col).lower())\n",
        "  df.columns=lowered\n"
      ],
      "metadata": {
        "id": "AuKBCXUEbZ8c"
      },
      "execution_count": 18,
      "outputs": []
    },
    {
      "cell_type": "code",
      "source": [
        "def collect_num_vars(df):\n",
        "  num_var = [col for col in df.columns if str(df[col].dtypes) in [\"int64\",\"float64\"] ]\n",
        "  print(num_var)\n",
        "\n",
        "def collect_cat_vars(df,th=10):\n",
        "  cat_var = [col for col in df.columns if (str(df[col].dtypes) in [\"object\",\"category\",\"bool\"]) | (df[col].nunique() < th) ]\n",
        "  print(cat_var)\n"
      ],
      "metadata": {
        "id": "pBIqiagievoi"
      },
      "execution_count": 71,
      "outputs": []
    },
    {
      "cell_type": "code",
      "source": [
        "def graph_of_cat(df,col_name,plot=False):\n",
        "  print(pd.DataFrame({col_name: df[col_name].value_counts(),\n",
        "              \"oran\":100*df[col_name].value_counts()/len(df)}))\n",
        "  print(\"###########################################\")\n",
        "  if plot:\n",
        "    sns.countplot(x=df[col_name],data=df)\n",
        "    plt.title(col_name+\" grafiği\")\n",
        "    plt.show(block=True)"
      ],
      "metadata": {
        "id": "Vlk9sO-AWos8"
      },
      "execution_count": 101,
      "outputs": []
    },
    {
      "cell_type": "code",
      "source": [
        "diabets[\"bmı_class\"]=pd.cut(diabets[\"BMI\"],[0,18,25,30,40,60])"
      ],
      "metadata": {
        "id": "5-rFlVTcgfNK"
      },
      "execution_count": 91,
      "outputs": []
    },
    {
      "cell_type": "code",
      "source": [
        "diabets.head()"
      ],
      "metadata": {
        "colab": {
          "base_uri": "https://localhost:8080/",
          "height": 270
        },
        "id": "669F2Fd7g9jO",
        "outputId": "307d174f-59bc-42e2-fa0e-ea6b643fd9d8"
      },
      "execution_count": 92,
      "outputs": [
        {
          "output_type": "execute_result",
          "data": {
            "text/plain": [
              "   Pregnancies  Glucose  BloodPressure  SkinThickness  Insulin   BMI  DiabetesPedigreeFunction  Age  Outcome bmı_class\n",
              "0            6      148             72             35        0  33.6                     0.627   50        1  (30, 40]\n",
              "1            1       85             66             29        0  26.6                     0.351   31        0  (25, 30]\n",
              "2            8      183             64              0        0  23.3                     0.672   32        1  (18, 25]\n",
              "3            1       89             66             23       94  28.1                     0.167   21        0  (25, 30]\n",
              "4            0      137             40             35      168  43.1                     2.288   33        1  (40, 60]"
            ],
            "text/html": [
              "\n",
              "  <div id=\"df-8168df53-4c2b-45dd-819d-6ffa1a4fd284\">\n",
              "    <div class=\"colab-df-container\">\n",
              "      <div>\n",
              "<style scoped>\n",
              "    .dataframe tbody tr th:only-of-type {\n",
              "        vertical-align: middle;\n",
              "    }\n",
              "\n",
              "    .dataframe tbody tr th {\n",
              "        vertical-align: top;\n",
              "    }\n",
              "\n",
              "    .dataframe thead th {\n",
              "        text-align: right;\n",
              "    }\n",
              "</style>\n",
              "<table border=\"1\" class=\"dataframe\">\n",
              "  <thead>\n",
              "    <tr style=\"text-align: right;\">\n",
              "      <th></th>\n",
              "      <th>Pregnancies</th>\n",
              "      <th>Glucose</th>\n",
              "      <th>BloodPressure</th>\n",
              "      <th>SkinThickness</th>\n",
              "      <th>Insulin</th>\n",
              "      <th>BMI</th>\n",
              "      <th>DiabetesPedigreeFunction</th>\n",
              "      <th>Age</th>\n",
              "      <th>Outcome</th>\n",
              "      <th>bmı_class</th>\n",
              "    </tr>\n",
              "  </thead>\n",
              "  <tbody>\n",
              "    <tr>\n",
              "      <th>0</th>\n",
              "      <td>6</td>\n",
              "      <td>148</td>\n",
              "      <td>72</td>\n",
              "      <td>35</td>\n",
              "      <td>0</td>\n",
              "      <td>33.6</td>\n",
              "      <td>0.627</td>\n",
              "      <td>50</td>\n",
              "      <td>1</td>\n",
              "      <td>(30, 40]</td>\n",
              "    </tr>\n",
              "    <tr>\n",
              "      <th>1</th>\n",
              "      <td>1</td>\n",
              "      <td>85</td>\n",
              "      <td>66</td>\n",
              "      <td>29</td>\n",
              "      <td>0</td>\n",
              "      <td>26.6</td>\n",
              "      <td>0.351</td>\n",
              "      <td>31</td>\n",
              "      <td>0</td>\n",
              "      <td>(25, 30]</td>\n",
              "    </tr>\n",
              "    <tr>\n",
              "      <th>2</th>\n",
              "      <td>8</td>\n",
              "      <td>183</td>\n",
              "      <td>64</td>\n",
              "      <td>0</td>\n",
              "      <td>0</td>\n",
              "      <td>23.3</td>\n",
              "      <td>0.672</td>\n",
              "      <td>32</td>\n",
              "      <td>1</td>\n",
              "      <td>(18, 25]</td>\n",
              "    </tr>\n",
              "    <tr>\n",
              "      <th>3</th>\n",
              "      <td>1</td>\n",
              "      <td>89</td>\n",
              "      <td>66</td>\n",
              "      <td>23</td>\n",
              "      <td>94</td>\n",
              "      <td>28.1</td>\n",
              "      <td>0.167</td>\n",
              "      <td>21</td>\n",
              "      <td>0</td>\n",
              "      <td>(25, 30]</td>\n",
              "    </tr>\n",
              "    <tr>\n",
              "      <th>4</th>\n",
              "      <td>0</td>\n",
              "      <td>137</td>\n",
              "      <td>40</td>\n",
              "      <td>35</td>\n",
              "      <td>168</td>\n",
              "      <td>43.1</td>\n",
              "      <td>2.288</td>\n",
              "      <td>33</td>\n",
              "      <td>1</td>\n",
              "      <td>(40, 60]</td>\n",
              "    </tr>\n",
              "  </tbody>\n",
              "</table>\n",
              "</div>\n",
              "      <button class=\"colab-df-convert\" onclick=\"convertToInteractive('df-8168df53-4c2b-45dd-819d-6ffa1a4fd284')\"\n",
              "              title=\"Convert this dataframe to an interactive table.\"\n",
              "              style=\"display:none;\">\n",
              "        \n",
              "  <svg xmlns=\"http://www.w3.org/2000/svg\" height=\"24px\"viewBox=\"0 0 24 24\"\n",
              "       width=\"24px\">\n",
              "    <path d=\"M0 0h24v24H0V0z\" fill=\"none\"/>\n",
              "    <path d=\"M18.56 5.44l.94 2.06.94-2.06 2.06-.94-2.06-.94-.94-2.06-.94 2.06-2.06.94zm-11 1L8.5 8.5l.94-2.06 2.06-.94-2.06-.94L8.5 2.5l-.94 2.06-2.06.94zm10 10l.94 2.06.94-2.06 2.06-.94-2.06-.94-.94-2.06-.94 2.06-2.06.94z\"/><path d=\"M17.41 7.96l-1.37-1.37c-.4-.4-.92-.59-1.43-.59-.52 0-1.04.2-1.43.59L10.3 9.45l-7.72 7.72c-.78.78-.78 2.05 0 2.83L4 21.41c.39.39.9.59 1.41.59.51 0 1.02-.2 1.41-.59l7.78-7.78 2.81-2.81c.8-.78.8-2.07 0-2.86zM5.41 20L4 18.59l7.72-7.72 1.47 1.35L5.41 20z\"/>\n",
              "  </svg>\n",
              "      </button>\n",
              "      \n",
              "  <style>\n",
              "    .colab-df-container {\n",
              "      display:flex;\n",
              "      flex-wrap:wrap;\n",
              "      gap: 12px;\n",
              "    }\n",
              "\n",
              "    .colab-df-convert {\n",
              "      background-color: #E8F0FE;\n",
              "      border: none;\n",
              "      border-radius: 50%;\n",
              "      cursor: pointer;\n",
              "      display: none;\n",
              "      fill: #1967D2;\n",
              "      height: 32px;\n",
              "      padding: 0 0 0 0;\n",
              "      width: 32px;\n",
              "    }\n",
              "\n",
              "    .colab-df-convert:hover {\n",
              "      background-color: #E2EBFA;\n",
              "      box-shadow: 0px 1px 2px rgba(60, 64, 67, 0.3), 0px 1px 3px 1px rgba(60, 64, 67, 0.15);\n",
              "      fill: #174EA6;\n",
              "    }\n",
              "\n",
              "    [theme=dark] .colab-df-convert {\n",
              "      background-color: #3B4455;\n",
              "      fill: #D2E3FC;\n",
              "    }\n",
              "\n",
              "    [theme=dark] .colab-df-convert:hover {\n",
              "      background-color: #434B5C;\n",
              "      box-shadow: 0px 1px 3px 1px rgba(0, 0, 0, 0.15);\n",
              "      filter: drop-shadow(0px 1px 2px rgba(0, 0, 0, 0.3));\n",
              "      fill: #FFFFFF;\n",
              "    }\n",
              "  </style>\n",
              "\n",
              "      <script>\n",
              "        const buttonEl =\n",
              "          document.querySelector('#df-8168df53-4c2b-45dd-819d-6ffa1a4fd284 button.colab-df-convert');\n",
              "        buttonEl.style.display =\n",
              "          google.colab.kernel.accessAllowed ? 'block' : 'none';\n",
              "\n",
              "        async function convertToInteractive(key) {\n",
              "          const element = document.querySelector('#df-8168df53-4c2b-45dd-819d-6ffa1a4fd284');\n",
              "          const dataTable =\n",
              "            await google.colab.kernel.invokeFunction('convertToInteractive',\n",
              "                                                     [key], {});\n",
              "          if (!dataTable) return;\n",
              "\n",
              "          const docLinkHtml = 'Like what you see? Visit the ' +\n",
              "            '<a target=\"_blank\" href=https://colab.research.google.com/notebooks/data_table.ipynb>data table notebook</a>'\n",
              "            + ' to learn more about interactive tables.';\n",
              "          element.innerHTML = '';\n",
              "          dataTable['output_type'] = 'display_data';\n",
              "          await google.colab.output.renderOutput(dataTable, element);\n",
              "          const docLink = document.createElement('div');\n",
              "          docLink.innerHTML = docLinkHtml;\n",
              "          element.appendChild(docLink);\n",
              "        }\n",
              "      </script>\n",
              "    </div>\n",
              "  </div>\n",
              "  "
            ]
          },
          "metadata": {},
          "execution_count": 92
        }
      ]
    },
    {
      "cell_type": "code",
      "source": [
        "graph_of_cat(churn,\"Account_Manager\",True)"
      ],
      "metadata": {
        "colab": {
          "base_uri": "https://localhost:8080/",
          "height": 348
        },
        "id": "0llr_XeRaiBb",
        "outputId": "2ba23f98-6bea-4ded-d134-33801768f109"
      },
      "execution_count": 69,
      "outputs": [
        {
          "output_type": "stream",
          "name": "stdout",
          "text": [
            "   Account_Manager       oran\n",
            "0              467  51.888889\n",
            "1              433  48.111111\n"
          ]
        },
        {
          "output_type": "display_data",
          "data": {
            "text/plain": [
              "<Figure size 432x288 with 1 Axes>"
            ],
            "image/png": "[encoded data removed]"
          },
          "metadata": {
            "needs_background": "light"
          }
        }
      ]
    },
    {
      "cell_type": "code",
      "source": [
        "collect_cat_vars(churn)"
      ],
      "metadata": {
        "colab": {
          "base_uri": "https://localhost:8080/"
        },
        "id": "xBRV7IRJd9eJ",
        "outputId": "f86229db-4a3e-42f7-d727-057f7ef527d2"
      },
      "execution_count": 72,
      "outputs": [
        {
          "output_type": "stream",
          "name": "stdout",
          "text": [
            "['Names', 'Account_Manager', 'Churn']\n"
          ]
        }
      ]
    },
    {
      "cell_type": "code",
      "source": [
        "cat_var=[ col for col in diabets if (str(diabets[col].dtypes) in [\"object\",\"bool\",\"category\"]) | (diabets[col].nunique() < 10)]\n"
      ],
      "metadata": {
        "id": "UmzjiWsQeBAQ"
      },
      "execution_count": 102,
      "outputs": []
    },
    {
      "cell_type": "code",
      "source": [
        "for col_name in cat_var:\n",
        "  graph_of_cat(diabets,col_name,plot=True)"
      ],
      "metadata": {
        "id": "3mX0tI5of96K"
      },
      "execution_count": null,
      "outputs": []
    },
    {
      "cell_type": "code",
      "source": [
        "crime.index=crime.iloc[:,0]\n",
        "crime.index.name=None\n",
        "crime=crime.iloc[:,1:5]"
      ],
      "metadata": {
        "id": "FBZuERmMmza4"
      },
      "execution_count": 123,
      "outputs": []
    },
    {
      "cell_type": "code",
      "source": [
        "crime.columns=[\"states\",\"murder\",\"assault\",\"urbanPop\",\"rape\"]"
      ],
      "metadata": {
        "id": "xzhTduIeog95"
      },
      "execution_count": 126,
      "outputs": []
    },
    {
      "cell_type": "code",
      "source": [
        "crime.head()"
      ],
      "metadata": {
        "colab": {
          "base_uri": "https://localhost:8080/",
          "height": 206
        },
        "id": "xVJm-OKQkf40",
        "outputId": "677f1a0f-70f6-453a-f77e-91759c6ab592"
      },
      "execution_count": 127,
      "outputs": [
        {
          "output_type": "execute_result",
          "data": {
            "text/plain": [
              "       states  murder  assault  urbanPop  rape\n",
              "0     Alabama    13.2      236        58  21.2\n",
              "1      Alaska    10.0      263        48  44.5\n",
              "2     Arizona     8.1      294        80  31.0\n",
              "3    Arkansas     8.8      190        50  19.5\n",
              "4  California     9.0      276        91  40.6"
            ],
            "text/html": [
              "\n",
              "  <div id=\"df-d69f3247-df0c-4ab3-b2f0-649f94eedb9f\">\n",
              "    <div class=\"colab-df-container\">\n",
              "      <div>\n",
              "<style scoped>\n",
              "    .dataframe tbody tr th:only-of-type {\n",
              "        vertical-align: middle;\n",
              "    }\n",
              "\n",
              "    .dataframe tbody tr th {\n",
              "        vertical-align: top;\n",
              "    }\n",
              "\n",
              "    .dataframe thead th {\n",
              "        text-align: right;\n",
              "    }\n",
              "</style>\n",
              "<table border=\"1\" class=\"dataframe\">\n",
              "  <thead>\n",
              "    <tr style=\"text-align: right;\">\n",
              "      <th></th>\n",
              "      <th>states</th>\n",
              "      <th>murder</th>\n",
              "      <th>assault</th>\n",
              "      <th>urbanPop</th>\n",
              "      <th>rape</th>\n",
              "    </tr>\n",
              "  </thead>\n",
              "  <tbody>\n",
              "    <tr>\n",
              "      <th>0</th>\n",
              "      <td>Alabama</td>\n",
              "      <td>13.2</td>\n",
              "      <td>236</td>\n",
              "      <td>58</td>\n",
              "      <td>21.2</td>\n",
              "    </tr>\n",
              "    <tr>\n",
              "      <th>1</th>\n",
              "      <td>Alaska</td>\n",
              "      <td>10.0</td>\n",
              "      <td>263</td>\n",
              "      <td>48</td>\n",
              "      <td>44.5</td>\n",
              "    </tr>\n",
              "    <tr>\n",
              "      <th>2</th>\n",
              "      <td>Arizona</td>\n",
              "      <td>8.1</td>\n",
              "      <td>294</td>\n",
              "      <td>80</td>\n",
              "      <td>31.0</td>\n",
              "    </tr>\n",
              "    <tr>\n",
              "      <th>3</th>\n",
              "      <td>Arkansas</td>\n",
              "      <td>8.8</td>\n",
              "      <td>190</td>\n",
              "      <td>50</td>\n",
              "      <td>19.5</td>\n",
              "    </tr>\n",
              "    <tr>\n",
              "      <th>4</th>\n",
              "      <td>California</td>\n",
              "      <td>9.0</td>\n",
              "      <td>276</td>\n",
              "      <td>91</td>\n",
              "      <td>40.6</td>\n",
              "    </tr>\n",
              "  </tbody>\n",
              "</table>\n",
              "</div>\n",
              "      <button class=\"colab-df-convert\" onclick=\"convertToInteractive('df-d69f3247-df0c-4ab3-b2f0-649f94eedb9f')\"\n",
              "              title=\"Convert this dataframe to an interactive table.\"\n",
              "              style=\"display:none;\">\n",
              "        \n",
              "  <svg xmlns=\"http://www.w3.org/2000/svg\" height=\"24px\"viewBox=\"0 0 24 24\"\n",
              "       width=\"24px\">\n",
              "    <path d=\"M0 0h24v24H0V0z\" fill=\"none\"/>\n",
              "    <path d=\"M18.56 5.44l.94 2.06.94-2.06 2.06-.94-2.06-.94-.94-2.06-.94 2.06-2.06.94zm-11 1L8.5 8.5l.94-2.06 2.06-.94-2.06-.94L8.5 2.5l-.94 2.06-2.06.94zm10 10l.94 2.06.94-2.06 2.06-.94-2.06-.94-.94-2.06-.94 2.06-2.06.94z\"/><path d=\"M17.41 7.96l-1.37-1.37c-.4-.4-.92-.59-1.43-.59-.52 0-1.04.2-1.43.59L10.3 9.45l-7.72 7.72c-.78.78-.78 2.05 0 2.83L4 21.41c.39.39.9.59 1.41.59.51 0 1.02-.2 1.41-.59l7.78-7.78 2.81-2.81c.8-.78.8-2.07 0-2.86zM5.41 20L4 18.59l7.72-7.72 1.47 1.35L5.41 20z\"/>\n",
              "  </svg>\n",
              "      </button>\n",
              "      \n",
              "  <style>\n",
              "    .colab-df-container {\n",
              "      display:flex;\n",
              "      flex-wrap:wrap;\n",
              "      gap: 12px;\n",
              "    }\n",
              "\n",
              "    .colab-df-convert {\n",
              "      background-color: #E8F0FE;\n",
              "      border: none;\n",
              "      border-radius: 50%;\n",
              "      cursor: pointer;\n",
              "      display: none;\n",
              "      fill: #1967D2;\n",
              "      height: 32px;\n",
              "      padding: 0 0 0 0;\n",
              "      width: 32px;\n",
              "    }\n",
              "\n",
              "    .colab-df-convert:hover {\n",
              "      background-color: #E2EBFA;\n",
              "      box-shadow: 0px 1px 2px rgba(60, 64, 67, 0.3), 0px 1px 3px 1px rgba(60, 64, 67, 0.15);\n",
              "      fill: #174EA6;\n",
              "    }\n",
              "\n",
              "    [theme=dark] .colab-df-convert {\n",
              "      background-color: #3B4455;\n",
              "      fill: #D2E3FC;\n",
              "    }\n",
              "\n",
              "    [theme=dark] .colab-df-convert:hover {\n",
              "      background-color: #434B5C;\n",
              "      box-shadow: 0px 1px 3px 1px rgba(0, 0, 0, 0.15);\n",
              "      filter: drop-shadow(0px 1px 2px rgba(0, 0, 0, 0.3));\n",
              "      fill: #FFFFFF;\n",
              "    }\n",
              "  </style>\n",
              "\n",
              "      <script>\n",
              "        const buttonEl =\n",
              "          document.querySelector('#df-d69f3247-df0c-4ab3-b2f0-649f94eedb9f button.colab-df-convert');\n",
              "        buttonEl.style.display =\n",
              "          google.colab.kernel.accessAllowed ? 'block' : 'none';\n",
              "\n",
              "        async function convertToInteractive(key) {\n",
              "          const element = document.querySelector('#df-d69f3247-df0c-4ab3-b2f0-649f94eedb9f');\n",
              "          const dataTable =\n",
              "            await google.colab.kernel.invokeFunction('convertToInteractive',\n",
              "                                                     [key], {});\n",
              "          if (!dataTable) return;\n",
              "\n",
              "          const docLinkHtml = 'Like what you see? Visit the ' +\n",
              "            '<a target=\"_blank\" href=https://colab.research.google.com/notebooks/data_table.ipynb>data table notebook</a>'\n",
              "            + ' to learn more about interactive tables.';\n",
              "          element.innerHTML = '';\n",
              "          dataTable['output_type'] = 'display_data';\n",
              "          await google.colab.output.renderOutput(dataTable, element);\n",
              "          const docLink = document.createElement('div');\n",
              "          docLink.innerHTML = docLinkHtml;\n",
              "          element.appendChild(docLink);\n",
              "        }\n",
              "      </script>\n",
              "    </div>\n",
              "  </div>\n",
              "  "
            ]
          },
          "metadata": {},
          "execution_count": 127
        }
      ]
    }
  ]
}